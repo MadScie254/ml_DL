{
 "cells": [
  {
   "cell_type": "markdown",
   "id": "bb0b3e61-f5a9-49eb-abbe-6f680d4c06d1",
   "metadata": {},
   "source": [
    "\n",
    "# Project Metadata & Setup\n",
    "\n",
    "\n",
    "## **Project Title:** **Early Breast Cancer Diagnosis using Machine Learning (Terminal-Based Prototype)**\n",
    "\n",
    "\n",
    "### **Objective:**\n",
    "\n",
    "Develop a lightweight, terminal-driven diagnostic prototype that predicts breast tumor malignancy using the built-in Breast Cancer Wisconsin dataset.\n",
    "The goal is to simulate how a clinician or technician might use a fast, interpretable tool, without a full GUI or web app.\n",
    "\n",
    "\n",
    "### **Dataset Description:**\n",
    "\n",
    "* **Name:** Breast Cancer Wisconsin (Diagnostic)\n",
    "* **Source:** `sklearn.datasets.load_breast_cancer()`\n",
    "* **Samples:** 569\n",
    "* **Features:** 30 numerical (e.g. radius, texture, symmetry)\n",
    "* **Target:** Binary classification — `malignant (0)` vs. `benign (1)`\n",
    "\n",
    "\n",
    "\n",
    "### **Stakeholders:**\n",
    "\n",
    "| Stakeholder          | Interest / Use Case                                              |\n",
    "| -------------------- | ---------------------------------------------------------------- |\n",
    "| **Clinicians**       | Fast, interpretable predictions without cloud dependency         |\n",
    "| **Researchers**      | Baseline model to compare with deep learning or ensemble methods |\n",
    "| **Medical Startups** | Prototype backend logic for terminal-based tools                 |\n",
    "| **Educators**        | Teaching ML with meaningful, real-world data                     |\n",
    "\n",
    "\n",
    "### **Key Notes for Revision:**\n",
    "\n",
    "* **No GPU required** — uses efficient `RandomForestClassifier`\n",
    "* **Runs locally** in terminal with zero external dataset download\n",
    "* **Emphasis on simplicity**: ASCII feedback, clean input prompts\n",
    "* **Can be modularized later** into API or UI backend\n",
    "* **We’ll skip test/train splitting** for now — prototype phase only\n",
    "\n",
    "\n",
    "### **Environment Requirements:**\n",
    "\n",
    "| Package    | Use                          |\n",
    "| ---------- | ---------------------------- |\n",
    "| `sklearn`  | Dataset + ML model           |\n",
    "| `pandas`   | Tabular data inspection      |\n",
    "| `colorama` | Terminal coloring (optional) |\n",
    "| `numpy`    | Data handling                |\n",
    "\n",
    "\n",
    "### Install (if not present):\n",
    "\n",
    "```bash\n",
    "pip install pandas scikit-learn colorama\n",
    "```\n",
    "\n",
    "\n",
    "### Deliverables:\n",
    "\n",
    "* Classifier trained on breast cancer dataset\n",
    "* Real-time terminal prediction system\n",
    "* ASCII output or basic feedback UI for predicted diagnosis\n",
    "* Clean, commented code blocks\n",
    "* Professional markdown formatting with revision comments\n"
   ]
  },
  {
   "cell_type": "markdown",
   "id": "2a9f4d29-50b9-466e-b514-5fccb93e2f96",
   "metadata": {},
   "source": [
    "## STEP 1: Load and Explore the Breast Cancer Dataset\n",
    "\n",
    "\n",
    "### **Objective:**\n",
    "\n",
    "* Load the Breast Cancer Wisconsin dataset directly from `sklearn`\n",
    "* Convert to a `pandas.DataFrame` for readability\n",
    "* Summarize the dataset structure and feature information\n",
    "* Confirm class distribution (very important in medical ML)\n",
    "\n",
    "\n",
    "### **Background Insight for Stakeholders:**\n",
    "\n",
    "* The data represent **digitized characteristics of cell nuclei** from fine-needle aspirates of breast masses.\n",
    "* 30 numerical features are calculated from images (e.g., mean radius, standard error of texture, worst smoothness).\n",
    "* The target is **binary**:\n",
    "\n",
    "  * `0 = malignant` (cancerous)\n",
    "  * `1 = benign` (non-cancerous)\n",
    "\n",
    "\n",
    "### **Code Block: Load + Inspect Data**"
   ]
  },
  {
   "cell_type": "code",
   "execution_count": 1,
   "id": "94d69fcb-2a69-46c5-b1a9-21be5d49b9de",
   "metadata": {},
   "outputs": [
    {
     "name": "stdout",
     "output_type": "stream",
     "text": [
      "🧬 Dataset Dimensions: (569, 32)\n",
      "🔢 Number of Features: 30\n",
      "🎯 Target Labels: [np.str_('malignant'), np.str_('benign')]\n",
      "\n",
      "📊 Class Distribution:\n",
      "target_name\n",
      "benign       357\n",
      "malignant    212\n",
      "Name: count, dtype: int64\n"
     ]
    },
    {
     "data": {
      "application/vnd.microsoft.datawrangler.viewer.v0+json": {
       "columns": [
        {
         "name": "index",
         "rawType": "int64",
         "type": "integer"
        },
        {
         "name": "mean radius",
         "rawType": "float64",
         "type": "float"
        },
        {
         "name": "mean texture",
         "rawType": "float64",
         "type": "float"
        },
        {
         "name": "mean perimeter",
         "rawType": "float64",
         "type": "float"
        },
        {
         "name": "mean area",
         "rawType": "float64",
         "type": "float"
        },
        {
         "name": "mean smoothness",
         "rawType": "float64",
         "type": "float"
        },
        {
         "name": "mean compactness",
         "rawType": "float64",
         "type": "float"
        },
        {
         "name": "mean concavity",
         "rawType": "float64",
         "type": "float"
        },
        {
         "name": "mean concave points",
         "rawType": "float64",
         "type": "float"
        },
        {
         "name": "mean symmetry",
         "rawType": "float64",
         "type": "float"
        },
        {
         "name": "mean fractal dimension",
         "rawType": "float64",
         "type": "float"
        },
        {
         "name": "radius error",
         "rawType": "float64",
         "type": "float"
        },
        {
         "name": "texture error",
         "rawType": "float64",
         "type": "float"
        },
        {
         "name": "perimeter error",
         "rawType": "float64",
         "type": "float"
        },
        {
         "name": "area error",
         "rawType": "float64",
         "type": "float"
        },
        {
         "name": "smoothness error",
         "rawType": "float64",
         "type": "float"
        },
        {
         "name": "compactness error",
         "rawType": "float64",
         "type": "float"
        },
        {
         "name": "concavity error",
         "rawType": "float64",
         "type": "float"
        },
        {
         "name": "concave points error",
         "rawType": "float64",
         "type": "float"
        },
        {
         "name": "symmetry error",
         "rawType": "float64",
         "type": "float"
        },
        {
         "name": "fractal dimension error",
         "rawType": "float64",
         "type": "float"
        },
        {
         "name": "worst radius",
         "rawType": "float64",
         "type": "float"
        },
        {
         "name": "worst texture",
         "rawType": "float64",
         "type": "float"
        },
        {
         "name": "worst perimeter",
         "rawType": "float64",
         "type": "float"
        },
        {
         "name": "worst area",
         "rawType": "float64",
         "type": "float"
        },
        {
         "name": "worst smoothness",
         "rawType": "float64",
         "type": "float"
        },
        {
         "name": "worst compactness",
         "rawType": "float64",
         "type": "float"
        },
        {
         "name": "worst concavity",
         "rawType": "float64",
         "type": "float"
        },
        {
         "name": "worst concave points",
         "rawType": "float64",
         "type": "float"
        },
        {
         "name": "worst symmetry",
         "rawType": "float64",
         "type": "float"
        },
        {
         "name": "worst fractal dimension",
         "rawType": "float64",
         "type": "float"
        },
        {
         "name": "target",
         "rawType": "int64",
         "type": "integer"
        },
        {
         "name": "target_name",
         "rawType": "object",
         "type": "string"
        }
       ],
       "ref": "1bb8b98b-5f68-4dce-848c-c70a9eeb1090",
       "rows": [
        [
         "556",
         "10.16",
         "19.59",
         "64.73",
         "311.7",
         "0.1003",
         "0.07504",
         "0.005025",
         "0.01116",
         "0.1791",
         "0.06331",
         "0.2441",
         "2.09",
         "1.648",
         "16.8",
         "0.01291",
         "0.02222",
         "0.004174",
         "0.007082",
         "0.02572",
         "0.002278",
         "10.65",
         "22.88",
         "67.88",
         "347.3",
         "0.1265",
         "0.12",
         "0.01005",
         "0.02232",
         "0.2262",
         "0.06742",
         "1",
         "benign"
        ],
        [
         "481",
         "13.9",
         "19.24",
         "88.73",
         "602.9",
         "0.07991",
         "0.05326",
         "0.02995",
         "0.0207",
         "0.1579",
         "0.05594",
         "0.3316",
         "0.9264",
         "2.056",
         "28.41",
         "0.003704",
         "0.01082",
         "0.0153",
         "0.006275",
         "0.01062",
         "0.002217",
         "16.41",
         "26.42",
         "104.4",
         "830.5",
         "0.1064",
         "0.1415",
         "0.1673",
         "0.0815",
         "0.2356",
         "0.07603",
         "1",
         "benign"
        ],
        [
         "245",
         "10.48",
         "19.86",
         "66.72",
         "337.7",
         "0.107",
         "0.05971",
         "0.04831",
         "0.0307",
         "0.1737",
         "0.0644",
         "0.3719",
         "2.612",
         "2.517",
         "23.22",
         "0.01604",
         "0.01386",
         "0.01865",
         "0.01133",
         "0.03476",
         "0.00356",
         "11.48",
         "29.46",
         "73.68",
         "402.8",
         "0.1515",
         "0.1026",
         "0.1181",
         "0.06736",
         "0.2883",
         "0.07748",
         "1",
         "benign"
        ],
        [
         "113",
         "10.51",
         "20.19",
         "68.64",
         "334.2",
         "0.1122",
         "0.1303",
         "0.06476",
         "0.03068",
         "0.1922",
         "0.07782",
         "0.3336",
         "1.86",
         "2.041",
         "19.91",
         "0.01188",
         "0.03747",
         "0.04591",
         "0.01544",
         "0.02287",
         "0.006792",
         "11.16",
         "22.75",
         "72.62",
         "374.4",
         "0.13",
         "0.2049",
         "0.1295",
         "0.06136",
         "0.2383",
         "0.09026",
         "1",
         "benign"
        ],
        [
         "446",
         "17.75",
         "28.03",
         "117.3",
         "981.6",
         "0.09997",
         "0.1314",
         "0.1698",
         "0.08293",
         "0.1713",
         "0.05916",
         "0.3897",
         "1.077",
         "2.873",
         "43.95",
         "0.004714",
         "0.02015",
         "0.03697",
         "0.0111",
         "0.01237",
         "0.002556",
         "21.53",
         "38.54",
         "145.4",
         "1437.0",
         "0.1401",
         "0.3762",
         "0.6399",
         "0.197",
         "0.2972",
         "0.09075",
         "0",
         "malignant"
        ]
       ],
       "shape": {
        "columns": 32,
        "rows": 5
       }
      },
      "text/html": [
       "<div>\n",
       "<style scoped>\n",
       "    .dataframe tbody tr th:only-of-type {\n",
       "        vertical-align: middle;\n",
       "    }\n",
       "\n",
       "    .dataframe tbody tr th {\n",
       "        vertical-align: top;\n",
       "    }\n",
       "\n",
       "    .dataframe thead th {\n",
       "        text-align: right;\n",
       "    }\n",
       "</style>\n",
       "<table border=\"1\" class=\"dataframe\">\n",
       "  <thead>\n",
       "    <tr style=\"text-align: right;\">\n",
       "      <th></th>\n",
       "      <th>mean radius</th>\n",
       "      <th>mean texture</th>\n",
       "      <th>mean perimeter</th>\n",
       "      <th>mean area</th>\n",
       "      <th>mean smoothness</th>\n",
       "      <th>mean compactness</th>\n",
       "      <th>mean concavity</th>\n",
       "      <th>mean concave points</th>\n",
       "      <th>mean symmetry</th>\n",
       "      <th>mean fractal dimension</th>\n",
       "      <th>...</th>\n",
       "      <th>worst perimeter</th>\n",
       "      <th>worst area</th>\n",
       "      <th>worst smoothness</th>\n",
       "      <th>worst compactness</th>\n",
       "      <th>worst concavity</th>\n",
       "      <th>worst concave points</th>\n",
       "      <th>worst symmetry</th>\n",
       "      <th>worst fractal dimension</th>\n",
       "      <th>target</th>\n",
       "      <th>target_name</th>\n",
       "    </tr>\n",
       "  </thead>\n",
       "  <tbody>\n",
       "    <tr>\n",
       "      <th>556</th>\n",
       "      <td>10.16</td>\n",
       "      <td>19.59</td>\n",
       "      <td>64.73</td>\n",
       "      <td>311.7</td>\n",
       "      <td>0.10030</td>\n",
       "      <td>0.07504</td>\n",
       "      <td>0.005025</td>\n",
       "      <td>0.01116</td>\n",
       "      <td>0.1791</td>\n",
       "      <td>0.06331</td>\n",
       "      <td>...</td>\n",
       "      <td>67.88</td>\n",
       "      <td>347.3</td>\n",
       "      <td>0.1265</td>\n",
       "      <td>0.1200</td>\n",
       "      <td>0.01005</td>\n",
       "      <td>0.02232</td>\n",
       "      <td>0.2262</td>\n",
       "      <td>0.06742</td>\n",
       "      <td>1</td>\n",
       "      <td>benign</td>\n",
       "    </tr>\n",
       "    <tr>\n",
       "      <th>481</th>\n",
       "      <td>13.90</td>\n",
       "      <td>19.24</td>\n",
       "      <td>88.73</td>\n",
       "      <td>602.9</td>\n",
       "      <td>0.07991</td>\n",
       "      <td>0.05326</td>\n",
       "      <td>0.029950</td>\n",
       "      <td>0.02070</td>\n",
       "      <td>0.1579</td>\n",
       "      <td>0.05594</td>\n",
       "      <td>...</td>\n",
       "      <td>104.40</td>\n",
       "      <td>830.5</td>\n",
       "      <td>0.1064</td>\n",
       "      <td>0.1415</td>\n",
       "      <td>0.16730</td>\n",
       "      <td>0.08150</td>\n",
       "      <td>0.2356</td>\n",
       "      <td>0.07603</td>\n",
       "      <td>1</td>\n",
       "      <td>benign</td>\n",
       "    </tr>\n",
       "    <tr>\n",
       "      <th>245</th>\n",
       "      <td>10.48</td>\n",
       "      <td>19.86</td>\n",
       "      <td>66.72</td>\n",
       "      <td>337.7</td>\n",
       "      <td>0.10700</td>\n",
       "      <td>0.05971</td>\n",
       "      <td>0.048310</td>\n",
       "      <td>0.03070</td>\n",
       "      <td>0.1737</td>\n",
       "      <td>0.06440</td>\n",
       "      <td>...</td>\n",
       "      <td>73.68</td>\n",
       "      <td>402.8</td>\n",
       "      <td>0.1515</td>\n",
       "      <td>0.1026</td>\n",
       "      <td>0.11810</td>\n",
       "      <td>0.06736</td>\n",
       "      <td>0.2883</td>\n",
       "      <td>0.07748</td>\n",
       "      <td>1</td>\n",
       "      <td>benign</td>\n",
       "    </tr>\n",
       "    <tr>\n",
       "      <th>113</th>\n",
       "      <td>10.51</td>\n",
       "      <td>20.19</td>\n",
       "      <td>68.64</td>\n",
       "      <td>334.2</td>\n",
       "      <td>0.11220</td>\n",
       "      <td>0.13030</td>\n",
       "      <td>0.064760</td>\n",
       "      <td>0.03068</td>\n",
       "      <td>0.1922</td>\n",
       "      <td>0.07782</td>\n",
       "      <td>...</td>\n",
       "      <td>72.62</td>\n",
       "      <td>374.4</td>\n",
       "      <td>0.1300</td>\n",
       "      <td>0.2049</td>\n",
       "      <td>0.12950</td>\n",
       "      <td>0.06136</td>\n",
       "      <td>0.2383</td>\n",
       "      <td>0.09026</td>\n",
       "      <td>1</td>\n",
       "      <td>benign</td>\n",
       "    </tr>\n",
       "    <tr>\n",
       "      <th>446</th>\n",
       "      <td>17.75</td>\n",
       "      <td>28.03</td>\n",
       "      <td>117.30</td>\n",
       "      <td>981.6</td>\n",
       "      <td>0.09997</td>\n",
       "      <td>0.13140</td>\n",
       "      <td>0.169800</td>\n",
       "      <td>0.08293</td>\n",
       "      <td>0.1713</td>\n",
       "      <td>0.05916</td>\n",
       "      <td>...</td>\n",
       "      <td>145.40</td>\n",
       "      <td>1437.0</td>\n",
       "      <td>0.1401</td>\n",
       "      <td>0.3762</td>\n",
       "      <td>0.63990</td>\n",
       "      <td>0.19700</td>\n",
       "      <td>0.2972</td>\n",
       "      <td>0.09075</td>\n",
       "      <td>0</td>\n",
       "      <td>malignant</td>\n",
       "    </tr>\n",
       "  </tbody>\n",
       "</table>\n",
       "<p>5 rows × 32 columns</p>\n",
       "</div>"
      ],
      "text/plain": [
       "     mean radius  mean texture  mean perimeter  mean area  mean smoothness  \\\n",
       "556        10.16         19.59           64.73      311.7          0.10030   \n",
       "481        13.90         19.24           88.73      602.9          0.07991   \n",
       "245        10.48         19.86           66.72      337.7          0.10700   \n",
       "113        10.51         20.19           68.64      334.2          0.11220   \n",
       "446        17.75         28.03          117.30      981.6          0.09997   \n",
       "\n",
       "     mean compactness  mean concavity  mean concave points  mean symmetry  \\\n",
       "556           0.07504        0.005025              0.01116         0.1791   \n",
       "481           0.05326        0.029950              0.02070         0.1579   \n",
       "245           0.05971        0.048310              0.03070         0.1737   \n",
       "113           0.13030        0.064760              0.03068         0.1922   \n",
       "446           0.13140        0.169800              0.08293         0.1713   \n",
       "\n",
       "     mean fractal dimension  ...  worst perimeter  worst area  \\\n",
       "556                 0.06331  ...            67.88       347.3   \n",
       "481                 0.05594  ...           104.40       830.5   \n",
       "245                 0.06440  ...            73.68       402.8   \n",
       "113                 0.07782  ...            72.62       374.4   \n",
       "446                 0.05916  ...           145.40      1437.0   \n",
       "\n",
       "     worst smoothness  worst compactness  worst concavity  \\\n",
       "556            0.1265             0.1200          0.01005   \n",
       "481            0.1064             0.1415          0.16730   \n",
       "245            0.1515             0.1026          0.11810   \n",
       "113            0.1300             0.2049          0.12950   \n",
       "446            0.1401             0.3762          0.63990   \n",
       "\n",
       "     worst concave points  worst symmetry  worst fractal dimension  target  \\\n",
       "556               0.02232          0.2262                  0.06742       1   \n",
       "481               0.08150          0.2356                  0.07603       1   \n",
       "245               0.06736          0.2883                  0.07748       1   \n",
       "113               0.06136          0.2383                  0.09026       1   \n",
       "446               0.19700          0.2972                  0.09075       0   \n",
       "\n",
       "     target_name  \n",
       "556       benign  \n",
       "481       benign  \n",
       "245       benign  \n",
       "113       benign  \n",
       "446    malignant  \n",
       "\n",
       "[5 rows x 32 columns]"
      ]
     },
     "execution_count": 1,
     "metadata": {},
     "output_type": "execute_result"
    }
   ],
   "source": [
    "# STEP 1: Load & Inspect Breast Cancer Dataset\n",
    "from sklearn.datasets import load_breast_cancer\n",
    "import pandas as pd\n",
    "\n",
    "# Load dataset from sklearn\n",
    "cancer = load_breast_cancer()\n",
    "\n",
    "# Convert to pandas DataFrame\n",
    "df = pd.DataFrame(data=cancer.data, columns=cancer.feature_names)\n",
    "\n",
    "# Add target labels\n",
    "df['target'] = cancer.target\n",
    "df['target_name'] = df['target'].map(lambda x: cancer.target_names[x])\n",
    "\n",
    "# Summary outputs\n",
    "print(\"🧬 Dataset Dimensions:\", df.shape)\n",
    "print(\"🔢 Number of Features:\", len(cancer.feature_names))\n",
    "print(\"🎯 Target Labels:\", list(cancer.target_names))\n",
    "print(\"\\n📊 Class Distribution:\")\n",
    "print(df['target_name'].value_counts())\n",
    "\n",
    "# Preview sample records\n",
    "df.sample(5)"
   ]
  },
  {
   "cell_type": "markdown",
   "id": "32b0647d-43b1-4389-9913-ea6eacaa4228",
   "metadata": {},
   "source": [
    "\n",
    "### Notes for Revision:\n",
    "\n",
    "* **Shape:** `(569, 32)` → 569 observations, 30 features + 1 label + 1 label name\n",
    "* **Target imbalance:** More benign than malignant cases → might require stratified validation later\n",
    "* `target_name` column added for human-readability\n",
    "###  Example Output (Typical):"
   ]
  },
  {
   "cell_type": "markdown",
   "id": "c47d510c-6f60-4741-a20b-c5b15f620d38",
   "metadata": {},
   "source": [
    "🧬 Dataset Dimensions: (569, 32)\n",
    "🔢 Number of Features: 30\n",
    "🎯 Target Labels: ['malignant', 'benign']\n",
    "\n",
    "📊 Class Distribution:\n",
    "benign       357\n",
    "malignant    212\n",
    "Name: target_name, dtype: int64\n"
   ]
  },
  {
   "cell_type": "markdown",
   "id": "8bb65380-c65e-4a78-ada3-e4fb9f5af346",
   "metadata": {},
   "source": [
    "## STEP 2: Train the Classifier\n",
    "\n",
    "\n",
    "### Objective:\n",
    "\n",
    "Train a **Random Forest Classifier** on the full dataset.\n",
    "This prototype focuses on prediction responsiveness — no test/train split or cross-validation yet.\n",
    "\n",
    "\n",
    "### Model Choice Justification:\n",
    "\n",
    "| Model                    | Reason for Selection                                                         |\n",
    "| ------------------------ | ---------------------------------------------------------------------------- |\n",
    "| `RandomForestClassifier` | Fast to train, robust to outliers, good with non-linear feature interactions |\n",
    "| `n_estimators=100`       | Balances accuracy and inference speed                                        |\n",
    "| `random_state=42`        | Ensures repeatable results                                                   |\n",
    "\n",
    "This setup fits our terminal-based use case — quick predictions and stable accuracy.\n",
    "\n",
    "\n",
    "### Code Block: Train the Model\n",
    "\n",
    "\n"
   ]
  },
  {
   "cell_type": "code",
   "execution_count": 2,
   "id": "2e31341d-7509-4a42-9ea8-79ff060471d5",
   "metadata": {},
   "outputs": [
    {
     "name": "stdout",
     "output_type": "stream",
     "text": [
      "Training Accuracy: 100.00%\n"
     ]
    }
   ],
   "source": [
    "# STEP 2: Train Random Forest Classifier\n",
    "from sklearn.ensemble import RandomForestClassifier\n",
    "\n",
    "# Prepare feature matrix X and target vector y\n",
    "X = cancer.data\n",
    "y = cancer.target\n",
    "\n",
    "# Initialize classifier\n",
    "clf = RandomForestClassifier(n_estimators=100, random_state=42)\n",
    "\n",
    "# Train on entire dataset (prototype phase)\n",
    "clf.fit(X, y)\n",
    "\n",
    "# Evaluate on training set\n",
    "train_accuracy = clf.score(X, y)\n",
    "print(f\"Training Accuracy: {train_accuracy:.2%}\")"
   ]
  },
  {
   "cell_type": "markdown",
   "id": "5ad68d9f-80e9-49b4-b6e8-e15e6e0ee90d",
   "metadata": {},
   "source": [
    "### Notes for Revision:\n",
    "\n",
    "* `clf.fit(X, y)` trains on all 569 samples\n",
    "* Accuracy may look very high (\\~99%) — acceptable for a prototype, but must validate later with real test data\n",
    "* For a full deployment, we’d use `train_test_split()` and stratified validation folds"
   ]
  },
  {
   "cell_type": "markdown",
   "id": "3e57027a-19ae-4861-a962-524be68d3ebd",
   "metadata": {},
   "source": [
    "## New Scenario:\n",
    "\n",
    "### **“Quick Diagnosis Assistant”**\n",
    "\n",
    "Instead of inputting all 30 features manually, we:\n",
    "\n",
    "* **Randomly sample a case** from the dataset\n",
    "* Display its features to simulate \"incoming patient data\"\n",
    "* Ask the user:\n",
    "  *\"Would you like to diagnose this case?\"*\n",
    "* Then we **predict and show results** using the trained model\n",
    "\n",
    "No typing 30 numbers. Still real. Still sharp. Still interactive.\n",
    "\n",
    "\n",
    "## STEP 3 (Revised): Sample and Diagnose a Case\n",
    "\n",
    "\n",
    "### Objective:\n",
    "\n",
    "* Randomly pull a sample case from the dataset\n",
    "* Show the 5–7 most meaningful features (not all 30)\n",
    "* Let the model predict and show the result\n",
    "* Give option to keep looping or exit"
   ]
  },
  {
   "cell_type": "code",
   "execution_count": 3,
   "id": "2c24c2b1-13ee-4aee-8805-01f09367f3b6",
   "metadata": {},
   "outputs": [
    {
     "name": "stdout",
     "output_type": "stream",
     "text": [
      "\n",
      "--- New Patient Case ---\n",
      "mean radius: 12.06\n",
      "mean texture: 12.74\n",
      "mean perimeter: 76.84\n",
      "mean area: 448.60\n",
      "worst concavity: 0.09\n",
      "worst symmetry: 0.25\n",
      "\n",
      "Diagnosis Prediction:\n",
      "  → Predicted: BENIGN\n",
      "  → Actual:    BENIGN\n",
      "\n",
      "--- New Patient Case ---\n",
      "mean radius: 10.29\n",
      "mean texture: 27.61\n",
      "mean perimeter: 65.67\n",
      "mean area: 321.40\n",
      "worst concavity: 0.20\n",
      "worst symmetry: 0.22\n",
      "\n",
      "Diagnosis Prediction:\n",
      "  → Predicted: BENIGN\n",
      "  → Actual:    BENIGN\n",
      "\n",
      "--- New Patient Case ---\n",
      "mean radius: 11.71\n",
      "mean texture: 16.67\n",
      "mean perimeter: 74.72\n",
      "mean area: 423.60\n",
      "worst concavity: 0.10\n",
      "worst symmetry: 0.17\n",
      "\n",
      "Diagnosis Prediction:\n",
      "  → Predicted: BENIGN\n",
      "  → Actual:    BENIGN\n",
      "\n",
      "--- New Patient Case ---\n",
      "mean radius: 19.53\n",
      "mean texture: 18.90\n",
      "mean perimeter: 129.50\n",
      "mean area: 1217.00\n",
      "worst concavity: 0.61\n",
      "worst symmetry: 0.30\n",
      "\n",
      "Diagnosis Prediction:\n",
      "  → Predicted: MALIGNANT\n",
      "  → Actual:    MALIGNANT\n",
      "\n",
      "--- New Patient Case ---\n",
      "mean radius: 18.66\n",
      "mean texture: 17.12\n",
      "mean perimeter: 121.40\n",
      "mean area: 1077.00\n",
      "worst concavity: 0.33\n",
      "worst symmetry: 0.29\n",
      "\n",
      "Diagnosis Prediction:\n",
      "  → Predicted: MALIGNANT\n",
      "  → Actual:    MALIGNANT\n",
      "\n",
      "--- New Patient Case ---\n",
      "mean radius: 12.30\n",
      "mean texture: 15.90\n",
      "mean perimeter: 78.83\n",
      "mean area: 463.70\n",
      "worst concavity: 0.14\n",
      "worst symmetry: 0.25\n",
      "\n",
      "Diagnosis Prediction:\n",
      "  → Predicted: BENIGN\n",
      "  → Actual:    BENIGN\n",
      "\n",
      "--- New Patient Case ---\n",
      "mean radius: 13.71\n",
      "mean texture: 20.83\n",
      "mean perimeter: 90.20\n",
      "mean area: 577.90\n",
      "worst concavity: 0.27\n",
      "worst symmetry: 0.32\n",
      "\n",
      "Diagnosis Prediction:\n",
      "  → Predicted: MALIGNANT\n",
      "  → Actual:    MALIGNANT\n",
      "\n",
      "--- New Patient Case ---\n",
      "mean radius: 10.95\n",
      "mean texture: 21.35\n",
      "mean perimeter: 71.90\n",
      "mean area: 371.10\n",
      "worst concavity: 0.40\n",
      "worst symmetry: 0.30\n",
      "\n",
      "Diagnosis Prediction:\n",
      "  → Predicted: MALIGNANT\n",
      "  → Actual:    MALIGNANT\n",
      "\n",
      "--- New Patient Case ---\n",
      "mean radius: 10.08\n",
      "mean texture: 15.11\n",
      "mean perimeter: 63.76\n",
      "mean area: 317.50\n",
      "worst concavity: 0.01\n",
      "worst symmetry: 0.29\n",
      "\n",
      "Diagnosis Prediction:\n",
      "  → Predicted: BENIGN\n",
      "  → Actual:    BENIGN\n",
      "\n",
      "--- New Patient Case ---\n",
      "mean radius: 18.66\n",
      "mean texture: 17.12\n",
      "mean perimeter: 121.40\n",
      "mean area: 1077.00\n",
      "worst concavity: 0.33\n",
      "worst symmetry: 0.29\n",
      "\n",
      "Diagnosis Prediction:\n",
      "  → Predicted: MALIGNANT\n",
      "  → Actual:    MALIGNANT\n",
      "\n",
      "--- New Patient Case ---\n",
      "mean radius: 11.89\n",
      "mean texture: 21.17\n",
      "mean perimeter: 76.39\n",
      "mean area: 433.80\n",
      "worst concavity: 0.12\n",
      "worst symmetry: 0.31\n",
      "\n",
      "Diagnosis Prediction:\n",
      "  → Predicted: BENIGN\n",
      "  → Actual:    BENIGN\n",
      "\n",
      "--- New Patient Case ---\n",
      "mean radius: 10.03\n",
      "mean texture: 21.28\n",
      "mean perimeter: 63.19\n",
      "mean area: 307.30\n",
      "worst concavity: 0.01\n",
      "worst symmetry: 0.23\n",
      "\n",
      "Diagnosis Prediction:\n",
      "  → Predicted: BENIGN\n",
      "  → Actual:    BENIGN\n",
      "\n",
      "--- New Patient Case ---\n",
      "mean radius: 13.05\n",
      "mean texture: 13.84\n",
      "mean perimeter: 82.71\n",
      "mean area: 530.60\n",
      "worst concavity: 0.02\n",
      "worst symmetry: 0.21\n",
      "\n",
      "Diagnosis Prediction:\n",
      "  → Predicted: BENIGN\n",
      "  → Actual:    BENIGN\n",
      "\n",
      "--- New Patient Case ---\n",
      "mean radius: 14.58\n",
      "mean texture: 21.53\n",
      "mean perimeter: 97.41\n",
      "mean area: 644.80\n",
      "worst concavity: 0.55\n",
      "worst symmetry: 0.43\n",
      "\n",
      "Diagnosis Prediction:\n",
      "  → Predicted: MALIGNANT\n",
      "  → Actual:    MALIGNANT\n",
      "\n",
      "--- New Patient Case ---\n",
      "mean radius: 13.34\n",
      "mean texture: 15.86\n",
      "mean perimeter: 86.49\n",
      "mean area: 520.00\n",
      "worst concavity: 0.49\n",
      "worst symmetry: 0.35\n",
      "\n",
      "Diagnosis Prediction:\n",
      "  → Predicted: BENIGN\n",
      "  → Actual:    BENIGN\n",
      "\n",
      "--- New Patient Case ---\n",
      "mean radius: 13.51\n",
      "mean texture: 18.89\n",
      "mean perimeter: 88.10\n",
      "mean area: 558.10\n",
      "worst concavity: 0.34\n",
      "worst symmetry: 0.27\n",
      "\n",
      "Diagnosis Prediction:\n",
      "  → Predicted: BENIGN\n",
      "  → Actual:    BENIGN\n",
      "\n",
      "--- New Patient Case ---\n",
      "mean radius: 14.86\n",
      "mean texture: 23.21\n",
      "mean perimeter: 100.40\n",
      "mean area: 671.40\n",
      "worst concavity: 0.46\n",
      "worst symmetry: 0.30\n",
      "\n",
      "Diagnosis Prediction:\n",
      "  → Predicted: MALIGNANT\n",
      "  → Actual:    MALIGNANT\n",
      "\n",
      "--- New Patient Case ---\n",
      "mean radius: 12.30\n",
      "mean texture: 19.02\n",
      "mean perimeter: 77.88\n",
      "mean area: 464.40\n",
      "worst concavity: 0.04\n",
      "worst symmetry: 0.26\n",
      "\n",
      "Diagnosis Prediction:\n",
      "  → Predicted: BENIGN\n",
      "  → Actual:    BENIGN\n",
      "\n",
      "--- New Patient Case ---\n",
      "mean radius: 14.87\n",
      "mean texture: 20.21\n",
      "mean perimeter: 96.12\n",
      "mean area: 680.90\n",
      "worst concavity: 0.17\n",
      "worst symmetry: 0.24\n",
      "\n",
      "Diagnosis Prediction:\n",
      "  → Predicted: BENIGN\n",
      "  → Actual:    BENIGN\n",
      "\n",
      "--- New Patient Case ---\n",
      "mean radius: 12.89\n",
      "mean texture: 13.12\n",
      "mean perimeter: 81.89\n",
      "mean area: 515.90\n",
      "worst concavity: 0.12\n",
      "worst symmetry: 0.23\n",
      "\n",
      "Diagnosis Prediction:\n",
      "  → Predicted: BENIGN\n",
      "  → Actual:    BENIGN\n",
      "\n",
      "--- New Patient Case ---\n",
      "mean radius: 13.78\n",
      "mean texture: 15.79\n",
      "mean perimeter: 88.37\n",
      "mean area: 585.90\n",
      "worst concavity: 0.04\n",
      "worst symmetry: 0.19\n",
      "\n",
      "Diagnosis Prediction:\n",
      "  → Predicted: BENIGN\n",
      "  → Actual:    BENIGN\n",
      "\n",
      "--- New Patient Case ---\n",
      "mean radius: 13.08\n",
      "mean texture: 15.71\n",
      "mean perimeter: 85.63\n",
      "mean area: 520.00\n",
      "worst concavity: 0.19\n",
      "worst symmetry: 0.32\n",
      "\n",
      "Diagnosis Prediction:\n",
      "  → Predicted: BENIGN\n",
      "  → Actual:    BENIGN\n",
      "\n",
      "--- New Patient Case ---\n",
      "mean radius: 11.60\n",
      "mean texture: 12.84\n",
      "mean perimeter: 74.34\n",
      "mean area: 412.60\n",
      "worst concavity: 0.19\n",
      "worst symmetry: 0.28\n",
      "\n",
      "Diagnosis Prediction:\n",
      "  → Predicted: BENIGN\n",
      "  → Actual:    BENIGN\n",
      "\n",
      "--- New Patient Case ---\n",
      "mean radius: 11.95\n",
      "mean texture: 14.96\n",
      "mean perimeter: 77.23\n",
      "mean area: 426.70\n",
      "worst concavity: 0.03\n",
      "worst symmetry: 0.31\n",
      "\n",
      "Diagnosis Prediction:\n",
      "  → Predicted: BENIGN\n",
      "  → Actual:    BENIGN\n",
      "\n",
      "--- New Patient Case ---\n",
      "mean radius: 13.98\n",
      "mean texture: 19.62\n",
      "mean perimeter: 91.12\n",
      "mean area: 599.50\n",
      "worst concavity: 0.41\n",
      "worst symmetry: 0.32\n",
      "\n",
      "Diagnosis Prediction:\n",
      "  → Predicted: MALIGNANT\n",
      "  → Actual:    MALIGNANT\n",
      "\n",
      "--- New Patient Case ---\n",
      "mean radius: 15.53\n",
      "mean texture: 33.56\n",
      "mean perimeter: 103.70\n",
      "mean area: 744.90\n",
      "worst concavity: 0.57\n",
      "worst symmetry: 0.35\n",
      "\n",
      "Diagnosis Prediction:\n",
      "  → Predicted: MALIGNANT\n",
      "  → Actual:    MALIGNANT\n",
      "\n",
      "--- New Patient Case ---\n",
      "mean radius: 15.05\n",
      "mean texture: 19.07\n",
      "mean perimeter: 97.26\n",
      "mean area: 701.90\n",
      "worst concavity: 0.29\n",
      "worst symmetry: 0.23\n",
      "\n",
      "Diagnosis Prediction:\n",
      "  → Predicted: MALIGNANT\n",
      "  → Actual:    MALIGNANT\n",
      "\n",
      "--- New Patient Case ---\n",
      "mean radius: 13.54\n",
      "mean texture: 14.36\n",
      "mean perimeter: 87.46\n",
      "mean area: 566.30\n",
      "worst concavity: 0.24\n",
      "worst symmetry: 0.30\n",
      "\n",
      "Diagnosis Prediction:\n",
      "  → Predicted: BENIGN\n",
      "  → Actual:    BENIGN\n",
      "\n",
      "--- New Patient Case ---\n",
      "mean radius: 12.68\n",
      "mean texture: 23.84\n",
      "mean perimeter: 82.69\n",
      "mean area: 499.00\n",
      "worst concavity: 0.40\n",
      "worst symmetry: 0.34\n",
      "\n",
      "Diagnosis Prediction:\n",
      "  → Predicted: MALIGNANT\n",
      "  → Actual:    MALIGNANT\n",
      "\n",
      "--- New Patient Case ---\n",
      "mean radius: 14.99\n",
      "mean texture: 22.11\n",
      "mean perimeter: 97.53\n",
      "mean area: 693.70\n",
      "worst concavity: 0.31\n",
      "worst symmetry: 0.32\n",
      "\n",
      "Diagnosis Prediction:\n",
      "  → Predicted: BENIGN\n",
      "  → Actual:    BENIGN\n",
      "\n",
      "--- New Patient Case ---\n",
      "mean radius: 14.95\n",
      "mean texture: 18.77\n",
      "mean perimeter: 97.84\n",
      "mean area: 689.50\n",
      "worst concavity: 0.25\n",
      "worst symmetry: 0.29\n",
      "\n",
      "Diagnosis Prediction:\n",
      "  → Predicted: BENIGN\n",
      "  → Actual:    BENIGN\n",
      "\n",
      "--- New Patient Case ---\n",
      "mean radius: 11.75\n",
      "mean texture: 20.18\n",
      "mean perimeter: 76.10\n",
      "mean area: 419.80\n",
      "worst concavity: 0.20\n",
      "worst symmetry: 0.32\n",
      "\n",
      "Diagnosis Prediction:\n",
      "  → Predicted: BENIGN\n",
      "  → Actual:    BENIGN\n",
      "\n",
      "--- New Patient Case ---\n",
      "mean radius: 11.34\n",
      "mean texture: 18.61\n",
      "mean perimeter: 72.76\n",
      "mean area: 391.20\n",
      "worst concavity: 0.16\n",
      "worst symmetry: 0.31\n",
      "\n",
      "Diagnosis Prediction:\n",
      "  → Predicted: BENIGN\n",
      "  → Actual:    BENIGN\n",
      "\n",
      "--- New Patient Case ---\n",
      "mean radius: 11.99\n",
      "mean texture: 24.89\n",
      "mean perimeter: 77.61\n",
      "mean area: 441.30\n",
      "worst concavity: 0.16\n",
      "worst symmetry: 0.26\n",
      "\n",
      "Diagnosis Prediction:\n",
      "  → Predicted: BENIGN\n",
      "  → Actual:    BENIGN\n",
      "\n",
      "--- New Patient Case ---\n",
      "mean radius: 13.78\n",
      "mean texture: 15.79\n",
      "mean perimeter: 88.37\n",
      "mean area: 585.90\n",
      "worst concavity: 0.04\n",
      "worst symmetry: 0.19\n",
      "\n",
      "Diagnosis Prediction:\n",
      "  → Predicted: BENIGN\n",
      "  → Actual:    BENIGN\n",
      "\n",
      "--- New Patient Case ---\n",
      "mean radius: 8.20\n",
      "mean texture: 16.84\n",
      "mean perimeter: 51.71\n",
      "mean area: 201.90\n",
      "worst concavity: 0.07\n",
      "worst symmetry: 0.31\n",
      "\n",
      "Diagnosis Prediction:\n",
      "  → Predicted: BENIGN\n",
      "  → Actual:    BENIGN\n",
      "\n",
      "--- New Patient Case ---\n",
      "mean radius: 12.86\n",
      "mean texture: 18.00\n",
      "mean perimeter: 83.19\n",
      "mean area: 506.30\n",
      "worst concavity: 0.17\n",
      "worst symmetry: 0.28\n",
      "\n",
      "Diagnosis Prediction:\n",
      "  → Predicted: BENIGN\n",
      "  → Actual:    BENIGN\n",
      "\n",
      "--- New Patient Case ---\n",
      "mean radius: 8.22\n",
      "mean texture: 20.70\n",
      "mean perimeter: 53.27\n",
      "mean area: 203.90\n",
      "worst concavity: 0.54\n",
      "worst symmetry: 0.33\n",
      "\n",
      "Diagnosis Prediction:\n",
      "  → Predicted: BENIGN\n",
      "  → Actual:    BENIGN\n",
      "\n",
      "--- New Patient Case ---\n",
      "mean radius: 12.04\n",
      "mean texture: 28.14\n",
      "mean perimeter: 76.85\n",
      "mean area: 449.90\n",
      "worst concavity: 0.06\n",
      "worst symmetry: 0.24\n",
      "\n",
      "--- New Patient Case ---\n",
      "mean radius: 17.47\n",
      "mean texture: 24.68\n",
      "mean perimeter: 116.10\n",
      "mean area: 984.60\n",
      "worst concavity: 0.49\n",
      "worst symmetry: 0.22\n",
      "\n",
      "Diagnosis Prediction:\n",
      "  → Predicted: MALIGNANT\n",
      "  → Actual:    MALIGNANT\n",
      "\n",
      "--- New Patient Case ---\n",
      "mean radius: 9.40\n",
      "mean texture: 21.68\n",
      "mean perimeter: 59.75\n",
      "mean area: 268.80\n",
      "worst concavity: 0.19\n",
      "worst symmetry: 0.24\n",
      "\n",
      "Diagnosis Prediction:\n",
      "  → Predicted: BENIGN\n",
      "  → Actual:    BENIGN\n",
      "\n",
      "--- New Patient Case ---\n",
      "mean radius: 14.03\n",
      "mean texture: 21.25\n",
      "mean perimeter: 89.79\n",
      "mean area: 603.40\n",
      "worst concavity: 0.06\n",
      "worst symmetry: 0.22\n",
      "\n",
      "Diagnosis Prediction:\n",
      "  → Predicted: BENIGN\n",
      "  → Actual:    BENIGN\n",
      "\n",
      "--- New Patient Case ---\n",
      "mean radius: 9.76\n",
      "mean texture: 28.20\n",
      "mean perimeter: 61.68\n",
      "mean area: 290.90\n",
      "worst concavity: 0.07\n",
      "worst symmetry: 0.23\n",
      "\n",
      "Diagnosis Prediction:\n",
      "  → Predicted: BENIGN\n",
      "  → Actual:    BENIGN\n",
      "\n",
      "--- New Patient Case ---\n",
      "mean radius: 22.27\n",
      "mean texture: 19.67\n",
      "mean perimeter: 152.80\n",
      "mean area: 1509.00\n",
      "worst concavity: 0.96\n",
      "worst symmetry: 0.41\n",
      "\n",
      "Diagnosis Prediction:\n",
      "  → Predicted: MALIGNANT\n",
      "  → Actual:    MALIGNANT\n",
      "\n",
      "Session ended.\n"
     ]
    }
   ],
   "source": [
    "# STEP 3 (REVISED): Simulated Patient Diagnosis\n",
    "import numpy as np\n",
    "import random\n",
    "\n",
    "# Define which features to show (select top 6 visually intuitive ones)\n",
    "selected_features = [\n",
    "    'mean radius',\n",
    "    'mean texture',\n",
    "    'mean perimeter',\n",
    "    'mean area',\n",
    "    'worst concavity',\n",
    "    'worst symmetry'\n",
    "]\n",
    "\n",
    "# Get feature indices\n",
    "feature_indices = [list(cancer.feature_names).index(f) for f in selected_features]\n",
    "\n",
    "def sample_and_diagnose(model, X, y, feature_names, n=1):\n",
    "    while True:\n",
    "        index = random.randint(0, len(X) - 1)\n",
    "        sample = X[index]\n",
    "        label = y[index]\n",
    "        \n",
    "        print(\"\\n--- New Patient Case ---\")\n",
    "        for i in feature_indices:\n",
    "            print(f\"{feature_names[i]}: {sample[i]:.2f}\")\n",
    "        \n",
    "        confirm = input(\"\\nRun diagnosis? (y/n): \").strip().lower()\n",
    "        if confirm != 'y':\n",
    "            cont = input(\"Skip to next case? (y/n): \").strip().lower()\n",
    "            if cont != 'y':\n",
    "                print(\"\\nSession ended.\")\n",
    "                break\n",
    "            else:\n",
    "                continue\n",
    "\n",
    "        # Predict\n",
    "        pred = model.predict(sample.reshape(1, -1))[0]\n",
    "        label_actual = cancer.target_names[label]\n",
    "        label_pred = cancer.target_names[pred]\n",
    "        \n",
    "        print(\"\\nDiagnosis Prediction:\")\n",
    "        print(f\"  → Predicted: {label_pred.upper()}\")\n",
    "        print(f\"  → Actual:    {label_actual.upper()}\")\n",
    "        \n",
    "        cont = input(\"\\nRun another case? (y/n): \").strip().lower()\n",
    "        if cont != 'y':\n",
    "            print(\"\\nSession ended.\")\n",
    "            break\n",
    "\n",
    "# Run the simulation\n",
    "sample_and_diagnose(clf, cancer.data, cancer.target, cancer.feature_names)"
   ]
  },
  {
   "cell_type": "markdown",
   "id": "a826cd02-c8bf-42ca-8c1a-467c677dc280",
   "metadata": {},
   "source": [
    "### Code Block: Simulated Case Prediction\n",
    "\n",
    "### Notes:\n",
    "\n",
    "* You review a patient case like a **doctor with a clipboard**\n",
    "* Model handles backend prediction\n",
    "* You decide if it should run or skip\n",
    "* Actual label shown for reference, but this could be hidden in real use"
   ]
  },
  {
   "cell_type": "markdown",
   "id": "afa18dc1-691c-4559-91ff-0a91b004397a",
   "metadata": {},
   "source": [
    "## STEP 4: Add Confidence Scores and Model Certainty\n",
    "\n",
    "### Objective:\n",
    "\n",
    "Display **how confident** the model is in its prediction, not just the class label.\n",
    "\n",
    "This is critical in any clinical or decision-support context — we don’t just want a binary label, we want to know **how certain** the model is.\n",
    "\n",
    "\n",
    "### Tools Used:\n",
    "\n",
    "| Function              | Purpose                              |\n",
    "| --------------------- | ------------------------------------ |\n",
    "| `predict_proba(X)`    | Returns array of class probabilities |\n",
    "| `np.max()`            | Extracts top confidence score        |\n",
    "| `colorama` (optional) | Highlights high/low confidence       |\n",
    "\n",
    "\n",
    "### Code Block: Display Confidence"
   ]
  },
  {
   "cell_type": "code",
   "execution_count": 4,
   "id": "5207672a-e441-472a-814e-079daa3f0afd",
   "metadata": {},
   "outputs": [
    {
     "name": "stdout",
     "output_type": "stream",
     "text": [
      "\n",
      "--- New Patient Case ---\n",
      "mean radius: 14.53\n",
      "mean texture: 19.34\n",
      "mean perimeter: 94.25\n",
      "mean area: 659.70\n",
      "worst concavity: 0.38\n",
      "worst symmetry: 0.25\n",
      "\n",
      "Diagnosis Prediction:\n",
      "  → Predicted: BENIGN\n",
      "  → Confidence: \u001b[32m94.00%\u001b[0m\n",
      "  → Actual:    BENIGN\n",
      "\n",
      "--- New Patient Case ---\n",
      "mean radius: 17.27\n",
      "mean texture: 25.42\n",
      "mean perimeter: 112.40\n",
      "mean area: 928.80\n",
      "worst concavity: 0.50\n",
      "worst symmetry: 0.25\n",
      "\n",
      "Diagnosis Prediction:\n",
      "  → Predicted: MALIGNANT\n",
      "  → Confidence: \u001b[32m99.00%\u001b[0m\n",
      "  → Actual:    MALIGNANT\n",
      "\n",
      "--- New Patient Case ---\n",
      "mean radius: 19.59\n",
      "mean texture: 18.15\n",
      "mean perimeter: 130.70\n",
      "mean area: 1214.00\n",
      "worst concavity: 0.68\n",
      "worst symmetry: 0.36\n",
      "\n",
      "Diagnosis Prediction:\n",
      "  → Predicted: MALIGNANT\n",
      "  → Confidence: \u001b[32m100.00%\u001b[0m\n",
      "  → Actual:    MALIGNANT\n",
      "\n",
      "--- New Patient Case ---\n",
      "mean radius: 10.97\n",
      "mean texture: 17.20\n",
      "mean perimeter: 71.73\n",
      "mean area: 371.50\n",
      "worst concavity: 0.48\n",
      "worst symmetry: 0.25\n",
      "\n",
      "Diagnosis Prediction:\n",
      "  → Predicted: BENIGN\n",
      "  → Confidence: \u001b[32m91.00%\u001b[0m\n",
      "  → Actual:    BENIGN\n",
      "\n",
      "--- New Patient Case ---\n",
      "mean radius: 16.46\n",
      "mean texture: 20.11\n",
      "mean perimeter: 109.30\n",
      "mean area: 832.90\n",
      "worst concavity: 0.59\n",
      "worst symmetry: 0.31\n",
      "\n",
      "Diagnosis Prediction:\n",
      "  → Predicted: MALIGNANT\n",
      "  → Confidence: \u001b[32m100.00%\u001b[0m\n",
      "  → Actual:    MALIGNANT\n",
      "\n",
      "--- New Patient Case ---\n",
      "mean radius: 12.45\n",
      "mean texture: 15.70\n",
      "mean perimeter: 82.57\n",
      "mean area: 477.10\n",
      "worst concavity: 0.54\n",
      "worst symmetry: 0.40\n",
      "\n",
      "Diagnosis Prediction:\n",
      "  → Predicted: MALIGNANT\n",
      "  → Confidence: \u001b[33m89.00%\u001b[0m\n",
      "  → Actual:    MALIGNANT\n",
      "\n",
      "--- New Patient Case ---\n",
      "mean radius: 15.53\n",
      "mean texture: 33.56\n",
      "mean perimeter: 103.70\n",
      "mean area: 744.90\n",
      "worst concavity: 0.57\n",
      "worst symmetry: 0.35\n",
      "\n",
      "Diagnosis Prediction:\n",
      "  → Predicted: MALIGNANT\n",
      "  → Confidence: \u001b[32m100.00%\u001b[0m\n",
      "  → Actual:    MALIGNANT\n",
      "\n",
      "--- New Patient Case ---\n",
      "mean radius: 15.32\n",
      "mean texture: 17.27\n",
      "mean perimeter: 103.20\n",
      "mean area: 713.30\n",
      "worst concavity: 0.44\n",
      "worst symmetry: 0.33\n",
      "\n",
      "Diagnosis Prediction:\n",
      "  → Predicted: MALIGNANT\n",
      "  → Confidence: \u001b[32m99.00%\u001b[0m\n",
      "  → Actual:    MALIGNANT\n",
      "\n",
      "--- New Patient Case ---\n",
      "mean radius: 14.53\n",
      "mean texture: 13.98\n",
      "mean perimeter: 93.86\n",
      "mean area: 644.20\n",
      "worst concavity: 0.14\n",
      "worst symmetry: 0.26\n",
      "\n",
      "Diagnosis Prediction:\n",
      "  → Predicted: BENIGN\n",
      "  → Confidence: \u001b[32m97.00%\u001b[0m\n",
      "  → Actual:    BENIGN\n",
      "\n",
      "--- New Patient Case ---\n",
      "mean radius: 9.04\n",
      "mean texture: 18.90\n",
      "mean perimeter: 60.07\n",
      "mean area: 244.50\n",
      "worst concavity: 0.46\n",
      "worst symmetry: 0.31\n",
      "\n",
      "Diagnosis Prediction:\n",
      "  → Predicted: BENIGN\n",
      "  → Confidence: \u001b[32m97.00%\u001b[0m\n",
      "  → Actual:    BENIGN\n",
      "\n",
      "--- New Patient Case ---\n",
      "mean radius: 19.07\n",
      "mean texture: 24.81\n",
      "mean perimeter: 128.30\n",
      "mean area: 1104.00\n",
      "worst concavity: 0.72\n",
      "worst symmetry: 0.47\n",
      "\n",
      "Diagnosis Prediction:\n",
      "  → Predicted: MALIGNANT\n",
      "  → Confidence: \u001b[32m100.00%\u001b[0m\n",
      "  → Actual:    MALIGNANT\n",
      "\n",
      "--- New Patient Case ---\n",
      "mean radius: 23.29\n",
      "mean texture: 26.67\n",
      "mean perimeter: 158.90\n",
      "mean area: 1685.00\n",
      "worst concavity: 0.79\n",
      "worst symmetry: 0.32\n",
      "\n",
      "Diagnosis Prediction:\n",
      "  → Predicted: MALIGNANT\n",
      "  → Confidence: \u001b[32m100.00%\u001b[0m\n",
      "  → Actual:    MALIGNANT\n",
      "\n",
      "--- New Patient Case ---\n",
      "mean radius: 13.27\n",
      "mean texture: 14.76\n",
      "mean perimeter: 84.74\n",
      "mean area: 551.70\n",
      "worst concavity: 0.14\n",
      "worst symmetry: 0.20\n",
      "\n",
      "Diagnosis Prediction:\n",
      "  → Predicted: BENIGN\n",
      "  → Confidence: \u001b[32m95.00%\u001b[0m\n",
      "  → Actual:    BENIGN\n",
      "\n",
      "--- New Patient Case ---\n",
      "mean radius: 11.93\n",
      "mean texture: 21.53\n",
      "mean perimeter: 76.53\n",
      "mean area: 438.60\n",
      "worst concavity: 0.15\n",
      "worst symmetry: 0.24\n",
      "\n",
      "Diagnosis Prediction:\n",
      "  → Predicted: BENIGN\n",
      "  → Confidence: \u001b[32m100.00%\u001b[0m\n",
      "  → Actual:    BENIGN\n",
      "\n",
      "--- New Patient Case ---\n",
      "mean radius: 14.02\n",
      "mean texture: 15.66\n",
      "mean perimeter: 89.59\n",
      "mean area: 606.50\n",
      "worst concavity: 0.06\n",
      "worst symmetry: 0.21\n",
      "\n",
      "Diagnosis Prediction:\n",
      "  → Predicted: BENIGN\n",
      "  → Confidence: \u001b[32m100.00%\u001b[0m\n",
      "  → Actual:    BENIGN\n",
      "\n",
      "--- New Patient Case ---\n",
      "mean radius: 9.85\n",
      "mean texture: 15.68\n",
      "mean perimeter: 63.00\n",
      "mean area: 293.20\n",
      "worst concavity: 0.08\n",
      "worst symmetry: 0.25\n",
      "\n",
      "Diagnosis Prediction:\n",
      "  → Predicted: BENIGN\n",
      "  → Confidence: \u001b[32m99.00%\u001b[0m\n",
      "  → Actual:    BENIGN\n",
      "\n",
      "--- New Patient Case ---\n",
      "mean radius: 10.03\n",
      "mean texture: 21.28\n",
      "mean perimeter: 63.19\n",
      "mean area: 307.30\n",
      "worst concavity: 0.01\n",
      "worst symmetry: 0.23\n",
      "\n",
      "Diagnosis Prediction:\n",
      "  → Predicted: BENIGN\n",
      "  → Confidence: \u001b[32m100.00%\u001b[0m\n",
      "  → Actual:    BENIGN\n",
      "\n",
      "--- New Patient Case ---\n",
      "mean radius: 12.91\n",
      "mean texture: 16.33\n",
      "mean perimeter: 82.53\n",
      "mean area: 516.40\n",
      "worst concavity: 0.18\n",
      "worst symmetry: 0.30\n",
      "\n",
      "Diagnosis Prediction:\n",
      "  → Predicted: BENIGN\n",
      "  → Confidence: \u001b[32m100.00%\u001b[0m\n",
      "  → Actual:    BENIGN\n",
      "\n",
      "Session ended.\n"
     ]
    }
   ],
   "source": [
    "from sklearn.metrics import accuracy_score\n",
    "from colorama import Fore, Style\n",
    "\n",
    "def sample_and_diagnose_with_confidence(model, X, y, feature_names, n=1):\n",
    "    while True:\n",
    "        index = random.randint(0, len(X) - 1)\n",
    "        sample = X[index]\n",
    "        label = y[index]\n",
    "        \n",
    "        print(\"\\n--- New Patient Case ---\")\n",
    "        for i in feature_indices:\n",
    "            print(f\"{feature_names[i]}: {sample[i]:.2f}\")\n",
    "        \n",
    "        confirm = input(\"\\nRun diagnosis? (y/n): \").strip().lower()\n",
    "        if confirm != 'y':\n",
    "            cont = input(\"Skip to next case? (y/n): \").strip().lower()\n",
    "            if cont != 'y':\n",
    "                print(\"\\nSession ended.\")\n",
    "                break\n",
    "            else:\n",
    "                continue\n",
    "\n",
    "        # Predict and get probability\n",
    "        pred = model.predict(sample.reshape(1, -1))[0]\n",
    "        prob = model.predict_proba(sample.reshape(1, -1))[0]\n",
    "        confidence = np.max(prob)\n",
    "        \n",
    "        label_actual = cancer.target_names[label]\n",
    "        label_pred = cancer.target_names[pred]\n",
    "\n",
    "        print(\"\\nDiagnosis Prediction:\")\n",
    "        if confidence >= 0.90:\n",
    "            color = Fore.GREEN\n",
    "        elif confidence >= 0.75:\n",
    "            color = Fore.YELLOW\n",
    "        else:\n",
    "            color = Fore.RED\n",
    "\n",
    "        print(f\"  → Predicted: {label_pred.upper()}\")\n",
    "        print(f\"  → Confidence: {color}{confidence:.2%}{Style.RESET_ALL}\")\n",
    "        print(f\"  → Actual:    {label_actual.upper()}\")\n",
    "\n",
    "        cont = input(\"\\nRun another case? (y/n): \").strip().lower()\n",
    "        if cont != 'y':\n",
    "            print(\"\\nSession ended.\")\n",
    "            break\n",
    "\n",
    "# Run enhanced simulation\n",
    "sample_and_diagnose_with_confidence(clf, cancer.data, cancer.target, cancer.feature_names)"
   ]
  },
  {
   "cell_type": "markdown",
   "id": "45317fce-8c51-453a-9503-ba8623439957",
   "metadata": {},
   "source": [
    "### Notes:\n",
    "\n",
    "* Adds `predict_proba()` to show probability\n",
    "* Uses color to **visually flag confidence**:\n",
    "\n",
    "  * Green = strong confidence\n",
    "  * Yellow = moderate\n",
    "  * Red = weak/conflicted\n",
    "* More aligned with how clinicians review uncertainty in diagnostics"
   ]
  },
  {
   "cell_type": "markdown",
   "id": "002f7c2e-156f-487d-8662-7ea6bcaaa84c",
   "metadata": {},
   "source": [
    "**Step 4 complete. Time to close the loop with Step 5 — logging and export.**\n",
    "\n",
    "\n",
    "## STEP 5: Log Predictions for Audit or Review\n",
    "\n",
    "### 🎯 Objective:\n",
    "\n",
    "Record each prediction in a **session log** for review, audit, or retraining.\n",
    "In medical tools, **traceability** is essential — even in prototypes.\n",
    "\n",
    "We'll log:\n",
    "\n",
    "* Sample index\n",
    "* Selected feature values\n",
    "* Predicted class\n",
    "* Actual class\n",
    "* Model confidence\n",
    "\n",
    "The log can be printed live or saved to CSV/JSON for analysis.\n",
    "\n",
    "### Code Block: Logging Predictions\n"
   ]
  },
  {
   "cell_type": "code",
   "execution_count": 5,
   "id": "386add14-4017-43fc-b916-66338623379d",
   "metadata": {},
   "outputs": [
    {
     "name": "stdout",
     "output_type": "stream",
     "text": [
      "\n",
      "--- New Patient Case ---\n",
      "mean radius: 9.50\n",
      "mean texture: 12.44\n",
      "mean perimeter: 60.34\n",
      "mean area: 273.90\n",
      "worst concavity: 0.09\n",
      "worst symmetry: 0.24\n"
     ]
    },
    {
     "name": "stdout",
     "output_type": "stream",
     "text": [
      "\n",
      "--- New Patient Case ---\n",
      "mean radius: 13.01\n",
      "mean texture: 22.22\n",
      "mean perimeter: 82.01\n",
      "mean area: 526.40\n",
      "worst concavity: 0.01\n",
      "worst symmetry: 0.23\n",
      "\n",
      "Diagnosis Prediction:\n",
      "  → Predicted: BENIGN\n",
      "  → Confidence: 96.00%\n",
      "  → Actual:    BENIGN\n",
      "\n",
      "--- New Patient Case ---\n",
      "mean radius: 16.35\n",
      "mean texture: 23.29\n",
      "mean perimeter: 109.00\n",
      "mean area: 840.40\n",
      "worst concavity: 0.71\n",
      "worst symmetry: 0.48\n",
      "\n",
      "Diagnosis Prediction:\n",
      "  → Predicted: MALIGNANT\n",
      "  → Confidence: 100.00%\n",
      "  → Actual:    MALIGNANT\n",
      "\n",
      "--- New Patient Case ---\n",
      "mean radius: 12.95\n",
      "mean texture: 16.02\n",
      "mean perimeter: 83.14\n",
      "mean area: 513.70\n",
      "worst concavity: 0.22\n",
      "worst symmetry: 0.34\n",
      "\n",
      "Diagnosis Prediction:\n",
      "  → Predicted: BENIGN\n",
      "  → Confidence: 100.00%\n",
      "  → Actual:    BENIGN\n",
      "\n",
      "--- New Patient Case ---\n",
      "mean radius: 10.91\n",
      "mean texture: 12.35\n",
      "mean perimeter: 69.14\n",
      "mean area: 363.70\n",
      "worst concavity: 0.03\n",
      "worst symmetry: 0.21\n",
      "\n",
      "Diagnosis Prediction:\n",
      "  → Predicted: BENIGN\n",
      "  → Confidence: 100.00%\n",
      "  → Actual:    BENIGN\n",
      "\n",
      "--- New Patient Case ---\n",
      "mean radius: 11.34\n",
      "mean texture: 18.61\n",
      "mean perimeter: 72.76\n",
      "mean area: 391.20\n",
      "worst concavity: 0.16\n",
      "worst symmetry: 0.31\n",
      "\n",
      "Diagnosis Prediction:\n",
      "  → Predicted: BENIGN\n",
      "  → Confidence: 100.00%\n",
      "  → Actual:    BENIGN\n",
      "\n",
      "--- New Patient Case ---\n",
      "mean radius: 13.43\n",
      "mean texture: 19.63\n",
      "mean perimeter: 85.84\n",
      "mean area: 565.40\n",
      "worst concavity: 0.26\n",
      "worst symmetry: 0.29\n",
      "\n",
      "Diagnosis Prediction:\n",
      "  → Predicted: MALIGNANT\n",
      "  → Confidence: 87.00%\n",
      "  → Actual:    MALIGNANT\n",
      "\n",
      "--- New Patient Case ---\n",
      "mean radius: 16.65\n",
      "mean texture: 21.38\n",
      "mean perimeter: 110.00\n",
      "mean area: 904.60\n",
      "worst concavity: 0.47\n",
      "worst symmetry: 0.36\n",
      "\n",
      "Diagnosis Prediction:\n",
      "  → Predicted: MALIGNANT\n",
      "  → Confidence: 100.00%\n",
      "  → Actual:    MALIGNANT\n",
      "\n",
      "--- New Patient Case ---\n",
      "mean radius: 18.01\n",
      "mean texture: 20.56\n",
      "mean perimeter: 118.40\n",
      "mean area: 1007.00\n",
      "worst concavity: 0.25\n",
      "worst symmetry: 0.33\n",
      "\n",
      "Diagnosis Prediction:\n",
      "  → Predicted: MALIGNANT\n",
      "  → Confidence: 100.00%\n",
      "  → Actual:    MALIGNANT\n",
      "\n",
      "--- New Patient Case ---\n",
      "mean radius: 10.75\n",
      "mean texture: 14.97\n",
      "mean perimeter: 68.26\n",
      "mean area: 355.30\n",
      "worst concavity: 0.10\n",
      "worst symmetry: 0.23\n",
      "\n",
      "Diagnosis Prediction:\n",
      "  → Predicted: BENIGN\n",
      "  → Confidence: 100.00%\n",
      "  → Actual:    BENIGN\n",
      "\n",
      "--- New Patient Case ---\n",
      "mean radius: 11.74\n",
      "mean texture: 14.02\n",
      "mean perimeter: 74.24\n",
      "mean area: 427.30\n",
      "worst concavity: 0.07\n",
      "worst symmetry: 0.31\n",
      "\n",
      "Diagnosis Prediction:\n",
      "  → Predicted: BENIGN\n",
      "  → Confidence: 96.00%\n",
      "  → Actual:    BENIGN\n",
      "\n",
      "--- New Patient Case ---\n",
      "mean radius: 12.25\n",
      "mean texture: 17.94\n",
      "mean perimeter: 78.27\n",
      "mean area: 460.30\n",
      "worst concavity: 0.19\n",
      "worst symmetry: 0.31\n",
      "\n",
      "Diagnosis Prediction:\n",
      "  → Predicted: BENIGN\n",
      "  → Confidence: 100.00%\n",
      "  → Actual:    BENIGN\n",
      "\n",
      "--- New Patient Case ---\n",
      "mean radius: 11.94\n",
      "mean texture: 18.24\n",
      "mean perimeter: 75.71\n",
      "mean area: 437.60\n",
      "worst concavity: 0.09\n",
      "worst symmetry: 0.28\n",
      "\n",
      "Diagnosis Prediction:\n",
      "  → Predicted: BENIGN\n",
      "  → Confidence: 100.00%\n",
      "  → Actual:    BENIGN\n",
      "\n",
      "--- New Patient Case ---\n",
      "mean radius: 27.42\n",
      "mean texture: 26.27\n",
      "mean perimeter: 186.90\n",
      "mean area: 2501.00\n",
      "worst concavity: 0.68\n",
      "worst symmetry: 0.26\n",
      "\n",
      "Diagnosis Prediction:\n",
      "  → Predicted: MALIGNANT\n",
      "  → Confidence: 100.00%\n",
      "  → Actual:    MALIGNANT\n",
      "\n",
      "--- New Patient Case ---\n",
      "mean radius: 19.17\n",
      "mean texture: 24.80\n",
      "mean perimeter: 132.40\n",
      "mean area: 1123.00\n",
      "worst concavity: 0.36\n",
      "worst symmetry: 0.32\n",
      "\n",
      "Diagnosis Prediction:\n",
      "  → Predicted: MALIGNANT\n",
      "  → Confidence: 98.00%\n",
      "  → Actual:    MALIGNANT\n",
      "\n",
      "--- New Patient Case ---\n",
      "mean radius: 19.79\n",
      "mean texture: 25.12\n",
      "mean perimeter: 130.40\n",
      "mean area: 1192.00\n",
      "worst concavity: 0.57\n",
      "worst symmetry: 0.33\n",
      "\n",
      "Diagnosis Prediction:\n",
      "  → Predicted: MALIGNANT\n",
      "  → Confidence: 100.00%\n",
      "  → Actual:    MALIGNANT\n",
      "\n",
      "--- New Patient Case ---\n",
      "mean radius: 14.90\n",
      "mean texture: 22.53\n",
      "mean perimeter: 102.10\n",
      "mean area: 685.00\n",
      "worst concavity: 0.90\n",
      "worst symmetry: 0.29\n",
      "\n",
      "Diagnosis Prediction:\n",
      "  → Predicted: MALIGNANT\n",
      "  → Confidence: 97.00%\n",
      "  → Actual:    MALIGNANT\n",
      "\n",
      "--- New Patient Case ---\n",
      "mean radius: 10.96\n",
      "mean texture: 17.62\n",
      "mean perimeter: 70.79\n",
      "mean area: 365.60\n",
      "worst concavity: 0.21\n",
      "worst symmetry: 0.23\n",
      "\n",
      "Diagnosis Prediction:\n",
      "  → Predicted: BENIGN\n",
      "  → Confidence: 100.00%\n",
      "  → Actual:    BENIGN\n",
      "\n",
      "--- New Patient Case ---\n",
      "mean radius: 11.69\n",
      "mean texture: 24.44\n",
      "mean perimeter: 76.37\n",
      "mean area: 406.40\n",
      "worst concavity: 0.14\n",
      "worst symmetry: 0.28\n",
      "\n",
      "Diagnosis Prediction:\n",
      "  → Predicted: BENIGN\n",
      "  → Confidence: 96.00%\n",
      "  → Actual:    BENIGN\n",
      "\n",
      "--- New Patient Case ---\n",
      "mean radius: 11.61\n",
      "mean texture: 16.02\n",
      "mean perimeter: 75.46\n",
      "mean area: 408.20\n",
      "worst concavity: 0.23\n",
      "worst symmetry: 0.28\n",
      "\n",
      "Diagnosis Prediction:\n",
      "  → Predicted: BENIGN\n",
      "  → Confidence: 100.00%\n",
      "  → Actual:    BENIGN\n",
      "\n",
      "--- New Patient Case ---\n",
      "mean radius: 9.74\n",
      "mean texture: 15.67\n",
      "mean perimeter: 61.50\n",
      "mean area: 289.90\n",
      "worst concavity: 0.04\n",
      "worst symmetry: 0.28\n",
      "\n",
      "Diagnosis Prediction:\n",
      "  → Predicted: BENIGN\n",
      "  → Confidence: 100.00%\n",
      "  → Actual:    BENIGN\n",
      "\n",
      "--- New Patient Case ---\n",
      "mean radius: 10.60\n",
      "mean texture: 18.95\n",
      "mean perimeter: 69.28\n",
      "mean area: 346.40\n",
      "worst concavity: 0.19\n",
      "worst symmetry: 0.29\n",
      "\n",
      "Diagnosis Prediction:\n",
      "  → Predicted: BENIGN\n",
      "  → Confidence: 99.00%\n",
      "  → Actual:    BENIGN\n",
      "\n",
      "--- New Patient Case ---\n",
      "mean radius: 13.88\n",
      "mean texture: 16.16\n",
      "mean perimeter: 88.37\n",
      "mean area: 596.60\n",
      "worst concavity: 0.11\n",
      "worst symmetry: 0.25\n",
      "\n",
      "Diagnosis Prediction:\n",
      "  → Predicted: BENIGN\n",
      "  → Confidence: 100.00%\n",
      "  → Actual:    BENIGN\n",
      "\n",
      "--- New Patient Case ---\n",
      "mean radius: 14.22\n",
      "mean texture: 27.85\n",
      "mean perimeter: 92.55\n",
      "mean area: 623.90\n",
      "worst concavity: 0.31\n",
      "worst symmetry: 0.19\n",
      "\n",
      "Diagnosis Prediction:\n",
      "  → Predicted: BENIGN\n",
      "  → Confidence: 90.00%\n",
      "  → Actual:    BENIGN\n",
      "\n",
      "--- New Patient Case ---\n",
      "mean radius: 11.84\n",
      "mean texture: 18.94\n",
      "mean perimeter: 75.51\n",
      "mean area: 428.00\n",
      "worst concavity: 0.15\n",
      "worst symmetry: 0.25\n",
      "\n",
      "Diagnosis Prediction:\n",
      "  → Predicted: BENIGN\n",
      "  → Confidence: 100.00%\n",
      "  → Actual:    BENIGN\n",
      "\n",
      "--- New Patient Case ---\n",
      "mean radius: 11.45\n",
      "mean texture: 20.97\n",
      "mean perimeter: 73.81\n",
      "mean area: 401.50\n",
      "worst concavity: 0.18\n",
      "worst symmetry: 0.28\n",
      "\n",
      "Diagnosis Prediction:\n",
      "  → Predicted: BENIGN\n",
      "  → Confidence: 99.00%\n",
      "  → Actual:    BENIGN\n",
      "\n",
      "--- New Patient Case ---\n",
      "mean radius: 20.20\n",
      "mean texture: 26.83\n",
      "mean perimeter: 133.70\n",
      "mean area: 1234.00\n",
      "worst concavity: 0.37\n",
      "worst symmetry: 0.33\n",
      "\n",
      "Diagnosis Prediction:\n",
      "  → Predicted: MALIGNANT\n",
      "  → Confidence: 100.00%\n",
      "  → Actual:    MALIGNANT\n",
      "\n",
      "--- New Patient Case ---\n",
      "mean radius: 14.61\n",
      "mean texture: 15.69\n",
      "mean perimeter: 92.68\n",
      "mean area: 664.90\n",
      "worst concavity: 0.05\n",
      "worst symmetry: 0.25\n",
      "\n",
      "Diagnosis Prediction:\n",
      "  → Predicted: BENIGN\n",
      "  → Confidence: 99.00%\n",
      "  → Actual:    BENIGN\n",
      "\n",
      "--- New Patient Case ---\n",
      "mean radius: 12.45\n",
      "mean texture: 15.70\n",
      "mean perimeter: 82.57\n",
      "mean area: 477.10\n",
      "worst concavity: 0.54\n",
      "worst symmetry: 0.40\n",
      "\n",
      "Diagnosis Prediction:\n",
      "  → Predicted: MALIGNANT\n",
      "  → Confidence: 89.00%\n",
      "  → Actual:    MALIGNANT\n",
      "\n",
      "--- New Patient Case ---\n",
      "mean radius: 14.29\n",
      "mean texture: 16.82\n",
      "mean perimeter: 90.30\n",
      "mean area: 632.60\n",
      "worst concavity: 0.04\n",
      "worst symmetry: 0.25\n",
      "\n",
      "Diagnosis Prediction:\n",
      "  → Predicted: BENIGN\n",
      "  → Confidence: 99.00%\n",
      "  → Actual:    BENIGN\n",
      "\n",
      "--- New Patient Case ---\n",
      "mean radius: 9.88\n",
      "mean texture: 17.27\n",
      "mean perimeter: 62.92\n",
      "mean area: 295.40\n",
      "worst concavity: 0.06\n",
      "worst symmetry: 0.30\n",
      "\n",
      "Diagnosis Prediction:\n",
      "  → Predicted: BENIGN\n",
      "  → Confidence: 100.00%\n",
      "  → Actual:    BENIGN\n",
      "\n",
      "--- New Patient Case ---\n",
      "mean radius: 12.39\n",
      "mean texture: 17.48\n",
      "mean perimeter: 80.64\n",
      "mean area: 462.90\n",
      "worst concavity: 0.32\n",
      "worst symmetry: 0.28\n",
      "\n",
      "Diagnosis Prediction:\n",
      "  → Predicted: BENIGN\n",
      "  → Confidence: 99.00%\n",
      "  → Actual:    BENIGN\n",
      "\n",
      "--- New Patient Case ---\n",
      "mean radius: 12.95\n",
      "mean texture: 16.02\n",
      "mean perimeter: 83.14\n",
      "mean area: 513.70\n",
      "worst concavity: 0.22\n",
      "worst symmetry: 0.34\n",
      "\n",
      "Diagnosis Prediction:\n",
      "  → Predicted: BENIGN\n",
      "  → Confidence: 100.00%\n",
      "  → Actual:    BENIGN\n",
      "\n",
      "--- New Patient Case ---\n",
      "mean radius: 9.61\n",
      "mean texture: 16.84\n",
      "mean perimeter: 61.64\n",
      "mean area: 280.50\n",
      "worst concavity: 0.43\n",
      "worst symmetry: 0.30\n",
      "\n",
      "Diagnosis Prediction:\n",
      "  → Predicted: BENIGN\n",
      "  → Confidence: 99.00%\n",
      "  → Actual:    BENIGN\n",
      "\n",
      "--- New Patient Case ---\n",
      "mean radius: 11.85\n",
      "mean texture: 17.46\n",
      "mean perimeter: 75.54\n",
      "mean area: 432.70\n",
      "worst concavity: 0.13\n",
      "worst symmetry: 0.31\n",
      "\n",
      "Diagnosis Prediction:\n",
      "  → Predicted: BENIGN\n",
      "  → Confidence: 100.00%\n",
      "  → Actual:    BENIGN\n",
      "\n",
      "--- New Patient Case ---\n",
      "mean radius: 13.40\n",
      "mean texture: 16.95\n",
      "mean perimeter: 85.48\n",
      "mean area: 552.40\n",
      "worst concavity: 0.14\n",
      "worst symmetry: 0.27\n",
      "\n",
      "Diagnosis Prediction:\n",
      "  → Predicted: BENIGN\n",
      "  → Confidence: 100.00%\n",
      "  → Actual:    BENIGN\n",
      "\n",
      "--- New Patient Case ---\n",
      "mean radius: 17.46\n",
      "mean texture: 39.28\n",
      "mean perimeter: 113.40\n",
      "mean area: 920.60\n",
      "worst concavity: 0.32\n",
      "worst symmetry: 0.29\n",
      "\n",
      "Diagnosis Prediction:\n",
      "  → Predicted: MALIGNANT\n",
      "  → Confidence: 100.00%\n",
      "  → Actual:    MALIGNANT\n",
      "\n",
      "--- New Patient Case ---\n",
      "mean radius: 9.78\n",
      "mean texture: 16.99\n",
      "mean perimeter: 62.50\n",
      "mean area: 290.20\n",
      "worst concavity: 0.13\n",
      "worst symmetry: 0.25\n",
      "\n",
      "Diagnosis Prediction:\n",
      "  → Predicted: BENIGN\n",
      "  → Confidence: 100.00%\n",
      "  → Actual:    BENIGN\n",
      "\n",
      "--- New Patient Case ---\n",
      "mean radius: 9.42\n",
      "mean texture: 27.88\n",
      "mean perimeter: 59.26\n",
      "mean area: 271.30\n",
      "worst concavity: 0.00\n",
      "worst symmetry: 0.25\n",
      "\n",
      "Diagnosis Prediction:\n",
      "  → Predicted: BENIGN\n",
      "  → Confidence: 100.00%\n",
      "  → Actual:    BENIGN\n",
      "\n",
      "--- New Patient Case ---\n",
      "mean radius: 22.27\n",
      "mean texture: 19.67\n",
      "mean perimeter: 152.80\n",
      "mean area: 1509.00\n",
      "worst concavity: 0.96\n",
      "worst symmetry: 0.41\n",
      "\n",
      "Diagnosis Prediction:\n",
      "  → Predicted: MALIGNANT\n",
      "  → Confidence: 100.00%\n",
      "  → Actual:    MALIGNANT\n",
      "\n",
      "--- New Patient Case ---\n",
      "mean radius: 18.03\n",
      "mean texture: 16.85\n",
      "mean perimeter: 117.50\n",
      "mean area: 990.00\n",
      "worst concavity: 0.43\n",
      "worst symmetry: 0.28\n",
      "\n",
      "Diagnosis Prediction:\n",
      "  → Predicted: MALIGNANT\n",
      "  → Confidence: 99.00%\n",
      "  → Actual:    MALIGNANT\n",
      "\n",
      "--- New Patient Case ---\n",
      "mean radius: 12.27\n",
      "mean texture: 17.92\n",
      "mean perimeter: 78.41\n",
      "mean area: 466.10\n",
      "worst concavity: 0.14\n",
      "worst symmetry: 0.35\n",
      "\n",
      "Diagnosis Prediction:\n",
      "  → Predicted: BENIGN\n",
      "  → Confidence: 100.00%\n",
      "  → Actual:    BENIGN\n",
      "\n",
      "--- New Patient Case ---\n",
      "mean radius: 9.74\n",
      "mean texture: 15.67\n",
      "mean perimeter: 61.50\n",
      "mean area: 289.90\n",
      "worst concavity: 0.04\n",
      "worst symmetry: 0.28\n",
      "\n",
      "Diagnosis Prediction:\n",
      "  → Predicted: BENIGN\n",
      "  → Confidence: 100.00%\n",
      "  → Actual:    BENIGN\n",
      "\n",
      "--- New Patient Case ---\n",
      "mean radius: 16.03\n",
      "mean texture: 15.51\n",
      "mean perimeter: 105.80\n",
      "mean area: 793.20\n",
      "worst concavity: 0.50\n",
      "worst symmetry: 0.30\n",
      "\n",
      "Diagnosis Prediction:\n",
      "  → Predicted: MALIGNANT\n",
      "  → Confidence: 99.00%\n",
      "  → Actual:    MALIGNANT\n",
      "\n",
      "--- New Patient Case ---\n",
      "mean radius: 13.73\n",
      "mean texture: 22.61\n",
      "mean perimeter: 93.60\n",
      "mean area: 578.30\n",
      "worst concavity: 0.69\n",
      "worst symmetry: 0.36\n",
      "\n",
      "Diagnosis Prediction:\n",
      "  → Predicted: MALIGNANT\n",
      "  → Confidence: 96.00%\n",
      "  → Actual:    MALIGNANT\n",
      "\n",
      "--- New Patient Case ---\n",
      "mean radius: 11.80\n",
      "mean texture: 16.58\n",
      "mean perimeter: 78.99\n",
      "mean area: 432.00\n",
      "worst concavity: 0.45\n",
      "worst symmetry: 0.58\n",
      "\n",
      "Diagnosis Prediction:\n",
      "  → Predicted: MALIGNANT\n",
      "  → Confidence: 86.00%\n",
      "  → Actual:    MALIGNANT\n",
      "\n",
      "--- New Patient Case ---\n",
      "mean radius: 13.87\n",
      "mean texture: 16.21\n",
      "mean perimeter: 88.52\n",
      "mean area: 593.70\n",
      "worst concavity: 0.05\n",
      "worst symmetry: 0.24\n",
      "\n",
      "Diagnosis Prediction:\n",
      "  → Predicted: BENIGN\n",
      "  → Confidence: 100.00%\n",
      "  → Actual:    BENIGN\n",
      "\n",
      "--- New Patient Case ---\n",
      "mean radius: 13.64\n",
      "mean texture: 15.60\n",
      "mean perimeter: 87.38\n",
      "mean area: 575.30\n",
      "worst concavity: 0.15\n",
      "worst symmetry: 0.25\n",
      "\n",
      "Diagnosis Prediction:\n",
      "  → Predicted: BENIGN\n",
      "  → Confidence: 100.00%\n",
      "  → Actual:    BENIGN\n",
      "\n",
      "--- New Patient Case ---\n",
      "mean radius: 21.09\n",
      "mean texture: 26.57\n",
      "mean perimeter: 142.70\n",
      "mean area: 1311.00\n",
      "worst concavity: 0.68\n",
      "worst symmetry: 0.41\n",
      "\n",
      "Diagnosis Prediction:\n",
      "  → Predicted: MALIGNANT\n",
      "  → Confidence: 100.00%\n",
      "  → Actual:    MALIGNANT\n",
      "\n",
      "--- New Patient Case ---\n",
      "mean radius: 13.05\n",
      "mean texture: 19.31\n",
      "mean perimeter: 82.61\n",
      "mean area: 527.20\n",
      "worst concavity: 0.00\n",
      "worst symmetry: 0.24\n",
      "\n",
      "Diagnosis Prediction:\n",
      "  → Predicted: BENIGN\n",
      "  → Confidence: 100.00%\n",
      "  → Actual:    BENIGN\n",
      "\n",
      "--- New Patient Case ---\n",
      "mean radius: 13.05\n",
      "mean texture: 19.31\n",
      "mean perimeter: 82.61\n",
      "mean area: 527.20\n",
      "worst concavity: 0.00\n",
      "worst symmetry: 0.24\n",
      "\n",
      "Diagnosis Prediction:\n",
      "  → Predicted: BENIGN\n",
      "  → Confidence: 100.00%\n",
      "  → Actual:    BENIGN\n",
      "\n",
      "--- New Patient Case ---\n",
      "mean radius: 12.68\n",
      "mean texture: 23.84\n",
      "mean perimeter: 82.69\n",
      "mean area: 499.00\n",
      "worst concavity: 0.40\n",
      "worst symmetry: 0.34\n",
      "\n",
      "Diagnosis Prediction:\n",
      "  → Predicted: MALIGNANT\n",
      "  → Confidence: 99.00%\n",
      "  → Actual:    MALIGNANT\n",
      "\n",
      "--- New Patient Case ---\n",
      "mean radius: 20.18\n",
      "mean texture: 23.97\n",
      "mean perimeter: 143.70\n",
      "mean area: 1245.00\n",
      "worst concavity: 0.77\n",
      "worst symmetry: 0.54\n",
      "\n",
      "Diagnosis Prediction:\n",
      "  → Predicted: MALIGNANT\n",
      "  → Confidence: 100.00%\n",
      "  → Actual:    MALIGNANT\n",
      "\n",
      "--- New Patient Case ---\n",
      "mean radius: 13.21\n",
      "mean texture: 25.25\n",
      "mean perimeter: 84.10\n",
      "mean area: 537.90\n",
      "worst concavity: 0.14\n",
      "worst symmetry: 0.24\n",
      "\n",
      "Diagnosis Prediction:\n",
      "  → Predicted: BENIGN\n",
      "  → Confidence: 98.00%\n",
      "  → Actual:    BENIGN\n",
      "\n",
      "--- New Patient Case ---\n",
      "mean radius: 16.03\n",
      "mean texture: 15.51\n",
      "mean perimeter: 105.80\n",
      "mean area: 793.20\n",
      "worst concavity: 0.50\n",
      "worst symmetry: 0.30\n",
      "\n",
      "Diagnosis Prediction:\n",
      "  → Predicted: MALIGNANT\n",
      "  → Confidence: 99.00%\n",
      "  → Actual:    MALIGNANT\n",
      "\n",
      "--- New Patient Case ---\n",
      "mean radius: 13.03\n",
      "mean texture: 18.42\n",
      "mean perimeter: 82.61\n",
      "mean area: 523.80\n",
      "worst concavity: 0.05\n",
      "worst symmetry: 0.20\n",
      "\n",
      "Diagnosis Prediction:\n",
      "  → Predicted: BENIGN\n",
      "  → Confidence: 99.00%\n",
      "  → Actual:    BENIGN\n",
      "\n",
      "--- New Patient Case ---\n",
      "mean radius: 12.72\n",
      "mean texture: 17.67\n",
      "mean perimeter: 80.98\n",
      "mean area: 501.30\n",
      "worst concavity: 0.03\n",
      "worst symmetry: 0.22\n",
      "\n",
      "Diagnosis Prediction:\n",
      "  → Predicted: BENIGN\n",
      "  → Confidence: 100.00%\n",
      "  → Actual:    BENIGN\n",
      "\n",
      "--- New Patient Case ---\n",
      "mean radius: 12.46\n",
      "mean texture: 19.89\n",
      "mean perimeter: 80.43\n",
      "mean area: 471.30\n",
      "worst concavity: 0.19\n",
      "worst symmetry: 0.27\n",
      "\n",
      "Diagnosis Prediction:\n",
      "  → Predicted: BENIGN\n",
      "  → Confidence: 100.00%\n",
      "  → Actual:    BENIGN\n",
      "\n",
      "--- New Patient Case ---\n",
      "mean radius: 8.73\n",
      "mean texture: 16.84\n",
      "mean perimeter: 55.27\n",
      "mean area: 234.30\n",
      "worst concavity: 0.00\n",
      "worst symmetry: 0.24\n",
      "\n",
      "Diagnosis Prediction:\n",
      "  → Predicted: BENIGN\n",
      "  → Confidence: 100.00%\n",
      "  → Actual:    BENIGN\n",
      "\n",
      "--- New Patient Case ---\n",
      "mean radius: 15.28\n",
      "mean texture: 22.41\n",
      "mean perimeter: 98.92\n",
      "mean area: 710.60\n",
      "worst concavity: 0.36\n",
      "worst symmetry: 0.32\n",
      "\n",
      "Diagnosis Prediction:\n",
      "  → Predicted: MALIGNANT\n",
      "  → Confidence: 91.00%\n",
      "  → Actual:    MALIGNANT\n",
      "\n",
      "--- New Patient Case ---\n",
      "mean radius: 14.62\n",
      "mean texture: 24.02\n",
      "mean perimeter: 94.57\n",
      "mean area: 662.70\n",
      "worst concavity: 0.09\n",
      "worst symmetry: 0.25\n",
      "\n",
      "Diagnosis Prediction:\n",
      "  → Predicted: BENIGN\n",
      "  → Confidence: 98.00%\n",
      "  → Actual:    BENIGN\n",
      "\n",
      "--- New Patient Case ---\n",
      "mean radius: 17.85\n",
      "mean texture: 13.23\n",
      "mean perimeter: 114.60\n",
      "mean area: 992.10\n",
      "worst concavity: 0.10\n",
      "worst symmetry: 0.18\n",
      "\n",
      "Diagnosis Prediction:\n",
      "  → Predicted: BENIGN\n",
      "  → Confidence: 72.00%\n",
      "  → Actual:    BENIGN\n",
      "\n",
      "--- New Patient Case ---\n",
      "mean radius: 11.41\n",
      "mean texture: 14.92\n",
      "mean perimeter: 73.53\n",
      "mean area: 402.00\n",
      "worst concavity: 0.16\n",
      "worst symmetry: 0.18\n",
      "\n",
      "Diagnosis Prediction:\n",
      "  → Predicted: BENIGN\n",
      "  → Confidence: 100.00%\n",
      "  → Actual:    BENIGN\n",
      "\n",
      "--- New Patient Case ---\n",
      "mean radius: 10.25\n",
      "mean texture: 16.18\n",
      "mean perimeter: 66.52\n",
      "mean area: 324.20\n",
      "worst concavity: 0.19\n",
      "worst symmetry: 0.26\n",
      "\n",
      "Diagnosis Prediction:\n",
      "  → Predicted: BENIGN\n",
      "  → Confidence: 100.00%\n",
      "  → Actual:    BENIGN\n",
      "\n",
      "--- New Patient Case ---\n",
      "mean radius: 19.68\n",
      "mean texture: 21.68\n",
      "mean perimeter: 129.90\n",
      "mean area: 1194.00\n",
      "worst concavity: 0.47\n",
      "worst symmetry: 0.40\n",
      "\n",
      "Diagnosis Prediction:\n",
      "  → Predicted: MALIGNANT\n",
      "  → Confidence: 100.00%\n",
      "  → Actual:    MALIGNANT\n",
      "\n",
      "--- New Patient Case ---\n",
      "mean radius: 10.71\n",
      "mean texture: 20.39\n",
      "mean perimeter: 69.50\n",
      "mean area: 344.90\n",
      "worst concavity: 0.25\n",
      "worst symmetry: 0.26\n",
      "\n",
      "Diagnosis Prediction:\n",
      "  → Predicted: BENIGN\n",
      "  → Confidence: 100.00%\n",
      "  → Actual:    BENIGN\n",
      "\n",
      "--- New Patient Case ---\n",
      "mean radius: 14.71\n",
      "mean texture: 21.59\n",
      "mean perimeter: 95.55\n",
      "mean area: 656.90\n",
      "worst concavity: 0.36\n",
      "worst symmetry: 0.37\n",
      "\n",
      "Diagnosis Prediction:\n",
      "  → Predicted: MALIGNANT\n",
      "  → Confidence: 99.00%\n",
      "  → Actual:    MALIGNANT\n",
      "\n",
      "--- New Patient Case ---\n",
      "mean radius: 14.87\n",
      "mean texture: 16.67\n",
      "mean perimeter: 98.64\n",
      "mean area: 682.50\n",
      "worst concavity: 0.47\n",
      "worst symmetry: 0.36\n",
      "\n",
      "Diagnosis Prediction:\n",
      "  → Predicted: MALIGNANT\n",
      "  → Confidence: 100.00%\n",
      "  → Actual:    MALIGNANT\n",
      "\n",
      "--- New Patient Case ---\n",
      "mean radius: 18.94\n",
      "mean texture: 21.31\n",
      "mean perimeter: 123.60\n",
      "mean area: 1130.00\n",
      "worst concavity: 0.27\n",
      "worst symmetry: 0.26\n",
      "\n",
      "--- New Patient Case ---\n",
      "mean radius: 14.42\n",
      "mean texture: 19.77\n",
      "mean perimeter: 94.48\n",
      "mean area: 642.50\n",
      "worst concavity: 0.32\n",
      "worst symmetry: 0.27\n",
      "\n",
      "Diagnosis Prediction:\n",
      "  → Predicted: MALIGNANT\n",
      "  → Confidence: 90.00%\n",
      "  → Actual:    MALIGNANT\n",
      "\n",
      "--- New Patient Case ---\n",
      "mean radius: 16.24\n",
      "mean texture: 18.77\n",
      "mean perimeter: 108.80\n",
      "mean area: 805.10\n",
      "worst concavity: 0.50\n",
      "worst symmetry: 0.28\n",
      "\n",
      "Diagnosis Prediction:\n",
      "  → Predicted: MALIGNANT\n",
      "  → Confidence: 99.00%\n",
      "  → Actual:    MALIGNANT\n",
      "\n",
      "--- New Patient Case ---\n",
      "mean radius: 12.25\n",
      "mean texture: 17.94\n",
      "mean perimeter: 78.27\n",
      "mean area: 460.30\n",
      "worst concavity: 0.19\n",
      "worst symmetry: 0.31\n",
      "\n",
      "Diagnosis Prediction:\n",
      "  → Predicted: BENIGN\n",
      "  → Confidence: 100.00%\n",
      "  → Actual:    BENIGN\n",
      "\n",
      "--- New Patient Case ---\n",
      "mean radius: 19.17\n",
      "mean texture: 24.80\n",
      "mean perimeter: 132.40\n",
      "mean area: 1123.00\n",
      "worst concavity: 0.36\n",
      "worst symmetry: 0.32\n",
      "\n",
      "Diagnosis Prediction:\n",
      "  → Predicted: MALIGNANT\n",
      "  → Confidence: 98.00%\n",
      "  → Actual:    MALIGNANT\n",
      "\n",
      "--- New Patient Case ---\n",
      "mean radius: 11.57\n",
      "mean texture: 19.04\n",
      "mean perimeter: 74.20\n",
      "mean area: 409.70\n",
      "worst concavity: 0.26\n",
      "worst symmetry: 0.30\n",
      "\n",
      "Diagnosis Prediction:\n",
      "  → Predicted: BENIGN\n",
      "  → Confidence: 100.00%\n",
      "  → Actual:    BENIGN\n",
      "\n",
      "--- New Patient Case ---\n",
      "mean radius: 11.43\n",
      "mean texture: 17.31\n",
      "mean perimeter: 73.66\n",
      "mean area: 398.00\n",
      "worst concavity: 0.08\n",
      "worst symmetry: 0.26\n",
      "\n",
      "Diagnosis Prediction:\n",
      "  → Predicted: BENIGN\n",
      "  → Confidence: 100.00%\n",
      "  → Actual:    BENIGN\n",
      "\n",
      "--- New Patient Case ---\n",
      "mean radius: 13.87\n",
      "mean texture: 16.21\n",
      "mean perimeter: 88.52\n",
      "mean area: 593.70\n",
      "worst concavity: 0.05\n",
      "worst symmetry: 0.24\n",
      "\n",
      "Diagnosis Prediction:\n",
      "  → Predicted: BENIGN\n",
      "  → Confidence: 100.00%\n",
      "  → Actual:    BENIGN\n",
      "\n",
      "--- New Patient Case ---\n",
      "mean radius: 20.55\n",
      "mean texture: 20.86\n",
      "mean perimeter: 137.80\n",
      "mean area: 1308.00\n",
      "worst concavity: 0.44\n",
      "worst symmetry: 0.31\n",
      "\n",
      "Diagnosis Prediction:\n",
      "  → Predicted: MALIGNANT\n",
      "  → Confidence: 100.00%\n",
      "  → Actual:    MALIGNANT\n",
      "\n",
      "--- New Patient Case ---\n",
      "mean radius: 16.65\n",
      "mean texture: 21.38\n",
      "mean perimeter: 110.00\n",
      "mean area: 904.60\n",
      "worst concavity: 0.47\n",
      "worst symmetry: 0.36\n",
      "\n",
      "Diagnosis Prediction:\n",
      "  → Predicted: MALIGNANT\n",
      "  → Confidence: 100.00%\n",
      "  → Actual:    MALIGNANT\n",
      "\n",
      "--- New Patient Case ---\n",
      "mean radius: 15.53\n",
      "mean texture: 33.56\n",
      "mean perimeter: 103.70\n",
      "mean area: 744.90\n",
      "worst concavity: 0.57\n",
      "worst symmetry: 0.35\n",
      "\n",
      "Diagnosis Prediction:\n",
      "  → Predicted: MALIGNANT\n",
      "  → Confidence: 100.00%\n",
      "  → Actual:    MALIGNANT\n",
      "\n",
      "--- New Patient Case ---\n",
      "mean radius: 11.69\n",
      "mean texture: 24.44\n",
      "mean perimeter: 76.37\n",
      "mean area: 406.40\n",
      "worst concavity: 0.14\n",
      "worst symmetry: 0.28\n",
      "\n",
      "Diagnosis Prediction:\n",
      "  → Predicted: BENIGN\n",
      "  → Confidence: 96.00%\n",
      "  → Actual:    BENIGN\n",
      "\n",
      "--- New Patient Case ---\n",
      "mean radius: 20.34\n",
      "mean texture: 21.51\n",
      "mean perimeter: 135.90\n",
      "mean area: 1264.00\n",
      "worst concavity: 0.53\n",
      "worst symmetry: 0.56\n",
      "\n",
      "Diagnosis Prediction:\n",
      "  → Predicted: MALIGNANT\n",
      "  → Confidence: 100.00%\n",
      "  → Actual:    MALIGNANT\n",
      "\n",
      "--- New Patient Case ---\n",
      "mean radius: 11.51\n",
      "mean texture: 23.93\n",
      "mean perimeter: 74.52\n",
      "mean area: 403.50\n",
      "worst concavity: 0.36\n",
      "worst symmetry: 0.21\n",
      "\n",
      "Diagnosis Prediction:\n",
      "  → Predicted: BENIGN\n",
      "  → Confidence: 94.00%\n",
      "  → Actual:    BENIGN\n",
      "\n",
      "--- New Patient Case ---\n",
      "mean radius: 14.22\n",
      "mean texture: 23.12\n",
      "mean perimeter: 94.37\n",
      "mean area: 609.90\n",
      "worst concavity: 0.85\n",
      "worst symmetry: 0.52\n",
      "\n",
      "Diagnosis Prediction:\n",
      "  → Predicted: MALIGNANT\n",
      "  → Confidence: 96.00%\n",
      "  → Actual:    MALIGNANT\n",
      "\n",
      "--- New Patient Case ---\n",
      "mean radius: 17.95\n",
      "mean texture: 20.01\n",
      "mean perimeter: 114.20\n",
      "mean area: 982.00\n",
      "worst concavity: 0.22\n",
      "worst symmetry: 0.49\n",
      "\n",
      "Diagnosis Prediction:\n",
      "  → Predicted: MALIGNANT\n",
      "  → Confidence: 96.00%\n",
      "  → Actual:    MALIGNANT\n",
      "\n",
      "--- New Patient Case ---\n",
      "mean radius: 12.87\n",
      "mean texture: 19.54\n",
      "mean perimeter: 82.67\n",
      "mean area: 509.20\n",
      "worst concavity: 0.07\n",
      "worst symmetry: 0.33\n",
      "\n",
      "Diagnosis Prediction:\n",
      "  → Predicted: BENIGN\n",
      "  → Confidence: 100.00%\n",
      "  → Actual:    BENIGN\n",
      "\n",
      "--- New Patient Case ---\n",
      "mean radius: 13.08\n",
      "mean texture: 15.71\n",
      "mean perimeter: 85.63\n",
      "mean area: 520.00\n",
      "worst concavity: 0.19\n",
      "worst symmetry: 0.32\n",
      "\n",
      "Diagnosis Prediction:\n",
      "  → Predicted: BENIGN\n",
      "  → Confidence: 100.00%\n",
      "  → Actual:    BENIGN\n",
      "\n",
      "--- New Patient Case ---\n",
      "mean radius: 13.64\n",
      "mean texture: 16.34\n",
      "mean perimeter: 87.21\n",
      "mean area: 571.80\n",
      "worst concavity: 0.10\n",
      "worst symmetry: 0.23\n",
      "\n",
      "Diagnosis Prediction:\n",
      "  → Predicted: BENIGN\n",
      "  → Confidence: 100.00%\n",
      "  → Actual:    BENIGN\n",
      "\n",
      "--- New Patient Case ---\n",
      "mean radius: 12.49\n",
      "mean texture: 16.85\n",
      "mean perimeter: 79.19\n",
      "mean area: 481.60\n",
      "worst concavity: 0.02\n",
      "worst symmetry: 0.19\n",
      "\n",
      "Diagnosis Prediction:\n",
      "  → Predicted: BENIGN\n",
      "  → Confidence: 100.00%\n",
      "  → Actual:    BENIGN\n",
      "\n",
      "--- New Patient Case ---\n",
      "mean radius: 12.36\n",
      "mean texture: 18.54\n",
      "mean perimeter: 79.01\n",
      "mean area: 466.70\n",
      "worst concavity: 0.19\n",
      "worst symmetry: 0.30\n",
      "\n",
      "Diagnosis Prediction:\n",
      "  → Predicted: BENIGN\n",
      "  → Confidence: 99.00%\n",
      "  → Actual:    BENIGN\n",
      "\n",
      "--- New Patient Case ---\n",
      "mean radius: 17.19\n",
      "mean texture: 22.07\n",
      "mean perimeter: 111.60\n",
      "mean area: 928.30\n",
      "worst concavity: 0.39\n",
      "worst symmetry: 0.32\n",
      "\n",
      "Diagnosis Prediction:\n",
      "  → Predicted: MALIGNANT\n",
      "  → Confidence: 100.00%\n",
      "  → Actual:    MALIGNANT\n",
      "\n",
      "--- New Patient Case ---\n",
      "mean radius: 16.25\n",
      "mean texture: 19.51\n",
      "mean perimeter: 109.80\n",
      "mean area: 815.80\n",
      "worst concavity: 0.59\n",
      "worst symmetry: 0.33\n",
      "\n",
      "Diagnosis Prediction:\n",
      "  → Predicted: MALIGNANT\n",
      "  → Confidence: 99.00%\n",
      "  → Actual:    MALIGNANT\n",
      "\n",
      "--- New Patient Case ---\n",
      "mean radius: 14.59\n",
      "mean texture: 22.68\n",
      "mean perimeter: 96.39\n",
      "mean area: 657.10\n",
      "worst concavity: 0.37\n",
      "worst symmetry: 0.23\n",
      "\n",
      "Diagnosis Prediction:\n",
      "  → Predicted: BENIGN\n",
      "  → Confidence: 95.00%\n",
      "  → Actual:    BENIGN\n",
      "\n",
      "--- New Patient Case ---\n",
      "mean radius: 11.25\n",
      "mean texture: 14.78\n",
      "mean perimeter: 71.38\n",
      "mean area: 390.00\n",
      "worst concavity: 0.01\n",
      "worst symmetry: 0.28\n",
      "\n",
      "Diagnosis Prediction:\n",
      "  → Predicted: BENIGN\n",
      "  → Confidence: 100.00%\n",
      "  → Actual:    BENIGN\n",
      "\n",
      "--- New Patient Case ---\n",
      "mean radius: 11.89\n",
      "mean texture: 21.17\n",
      "mean perimeter: 76.39\n",
      "mean area: 433.80\n",
      "worst concavity: 0.12\n",
      "worst symmetry: 0.31\n",
      "\n",
      "Diagnosis Prediction:\n",
      "  → Predicted: BENIGN\n",
      "  → Confidence: 100.00%\n",
      "  → Actual:    BENIGN\n",
      "\n",
      "--- New Patient Case ---\n",
      "mean radius: 16.35\n",
      "mean texture: 23.29\n",
      "mean perimeter: 109.00\n",
      "mean area: 840.40\n",
      "worst concavity: 0.71\n",
      "worst symmetry: 0.48\n",
      "\n",
      "Diagnosis Prediction:\n",
      "  → Predicted: MALIGNANT\n",
      "  → Confidence: 100.00%\n",
      "  → Actual:    MALIGNANT\n",
      "\n",
      "--- New Patient Case ---\n",
      "mean radius: 11.54\n",
      "mean texture: 14.44\n",
      "mean perimeter: 74.65\n",
      "mean area: 402.90\n",
      "worst concavity: 0.18\n",
      "worst symmetry: 0.23\n",
      "\n",
      "Diagnosis Prediction:\n",
      "  → Predicted: BENIGN\n",
      "  → Confidence: 100.00%\n",
      "  → Actual:    BENIGN\n",
      "\n",
      "--- New Patient Case ---\n",
      "mean radius: 16.50\n",
      "mean texture: 18.29\n",
      "mean perimeter: 106.60\n",
      "mean area: 838.10\n",
      "worst concavity: 0.17\n",
      "worst symmetry: 0.24\n",
      "\n",
      "Diagnosis Prediction:\n",
      "  → Predicted: BENIGN\n",
      "  → Confidence: 76.00%\n",
      "  → Actual:    BENIGN\n",
      "\n",
      "--- New Patient Case ---\n",
      "mean radius: 19.40\n",
      "mean texture: 18.18\n",
      "mean perimeter: 127.20\n",
      "mean area: 1145.00\n",
      "worst concavity: 0.43\n",
      "worst symmetry: 0.36\n",
      "\n",
      "Diagnosis Prediction:\n",
      "  → Predicted: MALIGNANT\n",
      "  → Confidence: 100.00%\n",
      "  → Actual:    MALIGNANT\n",
      "\n",
      "--- New Patient Case ---\n",
      "mean radius: 11.54\n",
      "mean texture: 10.72\n",
      "mean perimeter: 73.73\n",
      "mean area: 409.10\n",
      "worst concavity: 0.08\n",
      "worst symmetry: 0.34\n",
      "\n",
      "Diagnosis Prediction:\n",
      "  → Predicted: BENIGN\n",
      "  → Confidence: 100.00%\n",
      "  → Actual:    BENIGN\n",
      "\n",
      "--- New Patient Case ---\n",
      "mean radius: 13.96\n",
      "mean texture: 17.05\n",
      "mean perimeter: 91.43\n",
      "mean area: 602.40\n",
      "worst concavity: 0.32\n",
      "worst symmetry: 0.31\n",
      "\n",
      "Diagnosis Prediction:\n",
      "  → Predicted: MALIGNANT\n",
      "  → Confidence: 81.00%\n",
      "  → Actual:    MALIGNANT\n",
      "\n",
      "--- New Patient Case ---\n",
      "mean radius: 13.53\n",
      "mean texture: 10.94\n",
      "mean perimeter: 87.91\n",
      "mean area: 559.20\n",
      "worst concavity: 0.09\n",
      "worst symmetry: 0.27\n",
      "\n",
      "Diagnosis Prediction:\n",
      "  → Predicted: BENIGN\n",
      "  → Confidence: 98.00%\n",
      "  → Actual:    BENIGN\n",
      "\n",
      "--- New Patient Case ---\n",
      "mean radius: 15.75\n",
      "mean texture: 20.25\n",
      "mean perimeter: 102.60\n",
      "mean area: 761.30\n",
      "worst concavity: 0.40\n",
      "worst symmetry: 0.40\n",
      "\n",
      "Diagnosis Prediction:\n",
      "  → Predicted: MALIGNANT\n",
      "  → Confidence: 100.00%\n",
      "  → Actual:    MALIGNANT\n",
      "\n",
      "--- New Patient Case ---\n",
      "mean radius: 10.44\n",
      "mean texture: 15.46\n",
      "mean perimeter: 66.62\n",
      "mean area: 329.60\n",
      "worst concavity: 0.03\n",
      "worst symmetry: 0.26\n",
      "\n",
      "Diagnosis Prediction:\n",
      "  → Predicted: BENIGN\n",
      "  → Confidence: 100.00%\n",
      "  → Actual:    BENIGN\n",
      "\n",
      "--- New Patient Case ---\n",
      "mean radius: 20.18\n",
      "mean texture: 23.97\n",
      "mean perimeter: 143.70\n",
      "mean area: 1245.00\n",
      "worst concavity: 0.77\n",
      "worst symmetry: 0.54\n",
      "\n",
      "Diagnosis Prediction:\n",
      "  → Predicted: MALIGNANT\n",
      "  → Confidence: 100.00%\n",
      "  → Actual:    MALIGNANT\n",
      "\n",
      "--- New Patient Case ---\n",
      "mean radius: 13.80\n",
      "mean texture: 15.79\n",
      "mean perimeter: 90.43\n",
      "mean area: 584.10\n",
      "worst concavity: 0.28\n",
      "worst symmetry: 0.26\n",
      "\n",
      "Diagnosis Prediction:\n",
      "  → Predicted: MALIGNANT\n",
      "  → Confidence: 71.00%\n",
      "  → Actual:    MALIGNANT\n",
      "\n",
      "--- New Patient Case ---\n",
      "mean radius: 24.25\n",
      "mean texture: 20.20\n",
      "mean perimeter: 166.20\n",
      "mean area: 1761.00\n",
      "worst concavity: 0.58\n",
      "worst symmetry: 0.32\n",
      "\n",
      "Diagnosis Prediction:\n",
      "  → Predicted: MALIGNANT\n",
      "  → Confidence: 100.00%\n",
      "  → Actual:    MALIGNANT\n",
      "\n",
      "--- New Patient Case ---\n",
      "mean radius: 18.05\n",
      "mean texture: 16.15\n",
      "mean perimeter: 120.20\n",
      "mean area: 1006.00\n",
      "worst concavity: 0.38\n",
      "worst symmetry: 0.38\n",
      "\n",
      "Diagnosis Prediction:\n",
      "  → Predicted: MALIGNANT\n",
      "  → Confidence: 100.00%\n",
      "  → Actual:    MALIGNANT\n",
      "\n",
      "--- New Patient Case ---\n",
      "mean radius: 17.14\n",
      "mean texture: 16.40\n",
      "mean perimeter: 116.00\n",
      "mean area: 912.70\n",
      "worst concavity: 0.39\n",
      "worst symmetry: 0.41\n",
      "\n",
      "Diagnosis Prediction:\n",
      "  → Predicted: MALIGNANT\n",
      "  → Confidence: 99.00%\n",
      "  → Actual:    MALIGNANT\n",
      "\n",
      "--- New Patient Case ---\n",
      "mean radius: 13.90\n",
      "mean texture: 16.62\n",
      "mean perimeter: 88.97\n",
      "mean area: 599.40\n",
      "worst concavity: 0.14\n",
      "worst symmetry: 0.27\n",
      "\n",
      "--- New Patient Case ---\n",
      "mean radius: 11.28\n",
      "mean texture: 13.39\n",
      "mean perimeter: 73.00\n",
      "mean area: 384.80\n",
      "worst concavity: 0.09\n",
      "worst symmetry: 0.21\n",
      "\n",
      "Diagnosis Prediction:\n",
      "  → Predicted: BENIGN\n",
      "  → Confidence: 99.00%\n",
      "  → Actual:    BENIGN\n",
      "\n",
      "--- New Patient Case ---\n",
      "mean radius: 13.90\n",
      "mean texture: 16.62\n",
      "mean perimeter: 88.97\n",
      "mean area: 599.40\n",
      "worst concavity: 0.14\n",
      "worst symmetry: 0.27\n",
      "\n",
      "Diagnosis Prediction:\n",
      "  → Predicted: BENIGN\n",
      "  → Confidence: 100.00%\n",
      "  → Actual:    BENIGN\n",
      "\n",
      "Session log saved to: diagnosis_log.csv\n"
     ]
    }
   ],
   "source": [
    "import csv\n",
    "\n",
    "def sample_and_diagnose_with_logging(model, X, y, feature_names, log_path=\"diagnosis_log.csv\"):\n",
    "    log_fields = [\n",
    "        'index',\n",
    "        'predicted_label',\n",
    "        'actual_label',\n",
    "        'confidence',\n",
    "    ] + [feature_names[i] for i in feature_indices]\n",
    "\n",
    "    log_data = []\n",
    "\n",
    "    while True:\n",
    "        index = random.randint(0, len(X) - 1)\n",
    "        sample = X[index]\n",
    "        label = y[index]\n",
    "\n",
    "        print(\"\\n--- New Patient Case ---\")\n",
    "        for i in feature_indices:\n",
    "            print(f\"{feature_names[i]}: {sample[i]:.2f}\")\n",
    "        \n",
    "        confirm = input(\"\\nRun diagnosis? (y/n): \").strip().lower()\n",
    "        if confirm != 'y':\n",
    "            cont = input(\"Skip to next case? (y/n): \").strip().lower()\n",
    "            if cont != 'y':\n",
    "                print(\"\\nSession ended.\")\n",
    "                break\n",
    "            else:\n",
    "                continue\n",
    "\n",
    "        pred = model.predict(sample.reshape(1, -1))[0]\n",
    "        prob = model.predict_proba(sample.reshape(1, -1))[0]\n",
    "        confidence = np.max(prob)\n",
    "\n",
    "        label_pred = cancer.target_names[pred]\n",
    "        label_actual = cancer.target_names[label]\n",
    "\n",
    "        print(\"\\nDiagnosis Prediction:\")\n",
    "        print(f\"  → Predicted: {label_pred.upper()}\")\n",
    "        print(f\"  → Confidence: {confidence:.2%}\")\n",
    "        print(f\"  → Actual:    {label_actual.upper()}\")\n",
    "\n",
    "        # Log entry\n",
    "        entry = {\n",
    "            'index': index,\n",
    "            'predicted_label': label_pred,\n",
    "            'actual_label': label_actual,\n",
    "            'confidence': round(confidence, 4)\n",
    "        }\n",
    "        for i in feature_indices:\n",
    "            entry[feature_names[i]] = round(sample[i], 3)\n",
    "        log_data.append(entry)\n",
    "\n",
    "        cont = input(\"\\nRun another case? (y/n): \").strip().lower()\n",
    "        if cont != 'y':\n",
    "            break\n",
    "\n",
    "    # Save log at end\n",
    "    with open(log_path, mode='w', newline='') as f:\n",
    "        writer = csv.DictWriter(f, fieldnames=log_fields)\n",
    "        writer.writeheader()\n",
    "        writer.writerows(log_data)\n",
    "\n",
    "    print(f\"\\nSession log saved to: {log_path}\")\n",
    "\n",
    "# Run with logging enabled\n",
    "sample_and_diagnose_with_logging(clf, cancer.data, cancer.target, cancer.feature_names)"
   ]
  },
  {
   "cell_type": "markdown",
   "id": "bf19a8cd-9cde-4ff7-b4a4-5d81402702fa",
   "metadata": {},
   "source": [
    "### Notes:\n",
    "\n",
    "* Log is written to `diagnosis_log.csv` in the current directory\n",
    "* Columns: index, predicted/actual, confidence, plus select features\n",
    "* Can later be loaded into pandas for analysis or model debugging"
   ]
  },
  {
   "cell_type": "markdown",
   "id": "fe26d803-3afe-431d-9f65-787d247ffdd2",
   "metadata": {},
   "source": [
    "**Alright. Phase 1 (Interactive Diagnostic Prototype) is complete.**\n",
    "Now we step into **Phase 2**: Analysis and Evaluation.\n",
    "\n",
    "\n",
    "## STEP 6: Evaluate Model Performance on Entire Dataset\n",
    "\n",
    "\n",
    "### 🎯 Objective:\n",
    "\n",
    "Quantify model performance beyond training accuracy using standard metrics:\n",
    "\n",
    "* Confusion matrix\n",
    "* Classification report (precision, recall, F1)\n",
    "* Visual overview of performance per class\n",
    "\n",
    "This will tell us:\n",
    "\n",
    "* How well the model distinguishes between **malignant** and **benign**\n",
    "* Whether it's biased toward one class\n",
    "* If any tuning is needed before deployment\n",
    "\n",
    "---\n",
    "\n",
    "### Code Block: Model Evaluation\n",
    "\n",
    "### Output (example):\n",
    "\n",
    "```\n",
    "Classification Report:\n",
    "\n",
    "              precision    recall  f1-score   support\n",
    "\n",
    "   malignant       1.00      1.00      1.00       212\n",
    "      benign       1.00      1.00      1.00       357\n",
    "\n",
    "    accuracy                           1.00       569\n",
    "   macro avg       1.00      1.00      1.00       569\n",
    "weighted avg       1.00      1.00      1.00       569\n",
    "```\n",
    "\n",
    "### Notes:\n",
    "\n",
    "* This is a **prototype trained on full data**, so metrics are unrealistically perfect\n",
    "* Next step would be **train/test splitting** or **cross-validation**\n",
    "* Still useful to check confusion matrix: shows how predictions are distributed"
   ]
  },
  {
   "cell_type": "code",
   "execution_count": 6,
   "id": "230d585e-1ab5-444d-bf5c-4a0eabd537b8",
   "metadata": {},
   "outputs": [
    {
     "data": {
      "image/png": "[encoded data removed]",
      "text/plain": [
       "<Figure size 600x400 with 2 Axes>"
      ]
     },
     "metadata": {},
     "output_type": "display_data"
    },
    {
     "name": "stdout",
     "output_type": "stream",
     "text": [
      "Classification Report:\n",
      "\n",
      "              precision    recall  f1-score   support\n",
      "\n",
      "   malignant       1.00      1.00      1.00       212\n",
      "      benign       1.00      1.00      1.00       357\n",
      "\n",
      "    accuracy                           1.00       569\n",
      "   macro avg       1.00      1.00      1.00       569\n",
      "weighted avg       1.00      1.00      1.00       569\n",
      "\n"
     ]
    }
   ],
   "source": [
    "from sklearn.metrics import classification_report, confusion_matrix\n",
    "import matplotlib.pyplot as plt\n",
    "import seaborn as sns\n",
    "\n",
    "# Predict on full dataset (we trained on all of it, no split)\n",
    "y_pred = clf.predict(cancer.data)\n",
    "y_true = cancer.target\n",
    "\n",
    "# Confusion matrix\n",
    "cm = confusion_matrix(y_true, y_pred)\n",
    "labels = cancer.target_names\n",
    "\n",
    "# Visualize confusion matrix\n",
    "plt.figure(figsize=(6, 4))\n",
    "sns.heatmap(cm, annot=True, fmt='d', cmap='Blues', xticklabels=labels, yticklabels=labels)\n",
    "plt.xlabel('Predicted')\n",
    "plt.ylabel('Actual')\n",
    "plt.title('Confusion Matrix - Breast Cancer Classifier')\n",
    "plt.show()\n",
    "\n",
    "# Print classification metrics\n",
    "print(\"Classification Report:\\n\")\n",
    "print(classification_report(y_true, y_pred, target_names=labels))"
   ]
  },
  {
   "cell_type": "markdown",
   "id": "0f75e903-4302-4def-bfe3-e533e95f3aa4",
   "metadata": {},
   "source": [
    "## STEP 7: Interactive, Next-Gen Visual Diagnostics\n",
    "\n",
    "\n",
    "\n",
    "### Objective:\n",
    "\n",
    "Visualize model predictions with **rich, immersive, interactive plots** using modern Python libraries that feel *like a data cockpit*, not a science fair.\n",
    "\n",
    "\n",
    "### Tools We're Using:\n",
    "\n",
    "| Tool       | Purpose                            |\n",
    "| ---------- | ---------------------------------- |\n",
    "| `plotly`   | High-performance interactive plots |\n",
    "| `pandas`   | Data prep and filtering            |\n",
    "| `sklearn`  | Model evaluation metrics           |\n",
    "| `colorama` | Terminal color tweaks              |\n",
    "\n",
    "\n",
    "### Install if Needed:\n",
    "\n",
    "```bash\n",
    "pip install plotly pandas scikit-learn\n",
    "```\n",
    "\n",
    "\n",
    "## 🔬 7A: Interactive Confidence vs Feature Visualization\n",
    "\n",
    "We’ll create a **bubble plot** showing:\n",
    "\n",
    "* X = `mean radius`\n",
    "* Y = `mean perimeter`\n",
    "* Bubble size = model **confidence**\n",
    "* Color = predicted class (malignant/benign)\n",
    "\n",
    "\n",
    "\n",
    "### Code Block: Bubble Plot of Model Certainty\n"
   ]
  },
  {
   "cell_type": "code",
   "execution_count": 7,
   "id": "ed490ad3-f31b-4670-90e4-2c1788e002b5",
   "metadata": {},
   "outputs": [
    {
     "data": {
      "application/vnd.plotly.v1+json": {
       "config": {
        "plotlyServerURL": "https://plot.ly"
       },
       "data": [
        {
         "customdata": [
          [
           0.96,
           1001,
           0.1622
          ],
          [
           0.99,
           1326,
           0.1238
          ],
          [
           1,
           1203,
           0.1444
          ],
          [
           0.92,
           386.1,
           0.2098
          ],
          [
           0.98,
           1297,
           0.1374
          ],
          [
           0.89,
           477.1,
           0.1791
          ],
          [
           1,
           1040,
           0.1442
          ],
          [
           0.96,
           577.9,
           0.1654
          ],
          [
           0.96,
           519.8,
           0.1703
          ],
          [
           0.94,
           475.9,
           0.1853
          ],
          [
           0.87,
           797.8,
           0.1181
          ],
          [
           1,
           781,
           0.1396
          ],
          [
           0.98,
           1123,
           0.1037
          ],
          [
           0.87,
           782.7,
           0.1131
          ],
          [
           0.96,
           578.3,
           0.1651
          ],
          [
           1,
           658.8,
           0.1678
          ],
          [
           0.97,
           684.5,
           0.1464
          ],
          [
           1,
           798.8,
           0.1789
          ],
          [
           1,
           1260,
           0.1512
          ],
          [
           0.95,
           704.4,
           0.139
          ],
          [
           0.99,
           1404,
           0.1401
          ],
          [
           1,
           904.6,
           0.1805
          ],
          [
           0.99,
           912.7,
           0.1545
          ],
          [
           0.98,
           644.8,
           0.1525
          ],
          [
           1,
           1094,
           0.1338
          ],
          [
           1,
           732.4,
           0.1641
          ],
          [
           0.98,
           955.1,
           0.1255
          ],
          [
           1,
           1088,
           0.1491
          ],
          [
           0.95,
           440.6,
           0.1637
          ],
          [
           1,
           899.3,
           0.1634
          ],
          [
           1,
           1162,
           0.1509
          ],
          [
           1,
           807.2,
           0.1446
          ],
          [
           1,
           869.5,
           0.1563
          ],
          [
           0.95,
           633,
           0.1446
          ],
          [
           0.77,
           698.8,
           0.09387
          ],
          [
           0.83,
           559.2,
           0.161
          ],
          [
           0.62,
           563,
           0.1094
          ],
          [
           0.73,
           371.1,
           0.1909
          ],
          [
           1,
           1104,
           0.1247
          ],
          [
           0.98,
           545.2,
           0.153
          ],
          [
           0.82,
           531.5,
           0.1503
          ],
          [
           1,
           1076,
           0.1679
          ],
          [
           0.95,
           534.6,
           0.1786
          ],
          [
           0.98,
           1033,
           0.128
          ],
          [
           0.93,
           712.8,
           0.1389
          ],
          [
           1,
           1152,
           0.1624
          ],
          [
           0.99,
           656.9,
           0.1368
          ],
          [
           0.99,
           645.7,
           0.164
          ],
          [
           0.99,
           499,
           0.1851
          ],
          [
           0.97,
           668.3,
           0.1648
          ],
          [
           1,
           1130,
           0.1193
          ],
          [
           1,
           929.4,
           0.1585
          ],
          [
           0.71,
           584.1,
           0.1411
          ],
          [
           1,
           817.7,
           0.15
          ],
          [
           1,
           1006,
           0.1478
          ],
          [
           1,
           1245,
           0.1639
          ],
          [
           1,
           1878,
           0.1573
          ],
          [
           0.99,
           1132,
           0.1392
          ],
          [
           0.99,
           1075,
           0.1398
          ],
          [
           0.7,
           648.2,
           0.1306
          ],
          [
           1,
           1076,
           0.1249
          ],
          [
           0.83,
           728.2,
           0.1257
          ],
          [
           1,
           705.6,
           0.1551
          ],
          [
           1,
           1264,
           0.119
          ],
          [
           0.9,
           642.5,
           0.1431
          ],
          [
           0.83,
           582.7,
           0.1265
          ],
          [
           0.92,
           530.2,
           0.1862
          ],
          [
           1,
           1509,
           0.1701
          ],
          [
           1,
           682.5,
           0.1878
          ],
          [
           1,
           782.6,
           0.1855
          ],
          [
           0.96,
           982,
           0.1072
          ],
          [
           1,
           1077,
           0.1503
          ],
          [
           1,
           1761,
           0.1696
          ],
          [
           0.87,
           572.6,
           0.1471
          ],
          [
           1,
           1138,
           0.1021
          ],
          [
           1,
           1192,
           0.1275
          ],
          [
           1,
           748.9,
           0.1546
          ],
          [
           0.99,
           809.8,
           0.1395
          ],
          [
           1,
           1075,
           0.1465
          ],
          [
           0.59,
           506.3,
           0.1419
          ],
          [
           0.98,
           678.1,
           0.1411
          ],
          [
           0.99,
           813,
           0.1314
          ],
          [
           0.86,
           432,
           0.1385
          ],
          [
           1,
           963.7,
           0.1418
          ],
          [
           0.99,
           1157,
           0.1124
          ],
          [
           1,
           1214,
           0.1438
          ],
          [
           1,
           1686,
           0.1228
          ],
          [
           0.98,
           886.3,
           0.1168
          ],
          [
           1,
           984.6,
           0.1376
          ],
          [
           0.87,
           565.4,
           0.1401
          ],
          [
           0.93,
           736.9,
           0.1531
          ],
          [
           1,
           832.9,
           0.1415
          ],
          [
           1,
           2250,
           0.1472
          ],
          [
           1,
           1311,
           0.1491
          ],
          [
           0.98,
           766.6,
           0.1414
          ],
          [
           0.91,
           710.6,
           0.1301
          ],
          [
           0.92,
           1041,
           0.1234
          ],
          [
           0.96,
           609.9,
           0.1533
          ],
          [
           0.79,
           477.4,
           0.1785
          ],
          [
           0.97,
           671.4,
           0.1316
          ],
          [
           0.92,
           588.9,
           0.1737
          ],
          [
           0.93,
           1024,
           0.08822
          ],
          [
           1,
           1148,
           0.1322
          ],
          [
           0.96,
           642.7,
           0.1552
          ],
          [
           1,
           951.6,
           0.1381
          ],
          [
           1,
           1685,
           0.1536
          ],
          [
           1,
           597.8,
           0.2226
          ],
          [
           0.86,
           716.6,
           0.1491
          ],
          [
           0.91,
           904.3,
           0.1111
          ],
          [
           1,
           1290,
           0.1178
          ],
          [
           0.98,
           2499,
           0.1142
          ],
          [
           0.94,
           948,
           0.1243
          ],
          [
           0.97,
           610.7,
           0.1559
          ],
          [
           0.89,
           578.9,
           0.146
          ],
          [
           1,
           1230,
           0.1353
          ],
          [
           1,
           1223,
           0.1408
          ],
          [
           1,
           761.3,
           0.1552
          ],
          [
           0.97,
           503.2,
           0.1777
          ],
          [
           0.99,
           895,
           0.1703
          ],
          [
           1,
           1319,
           0.1223
          ],
          [
           1,
           1670,
           0.1481
          ],
          [
           1,
           1306,
           0.1228
          ],
          [
           1,
           920.6,
           0.1365
          ],
          [
           1,
           1155,
           0.1463
          ],
          [
           1,
           1364,
           0.1211
          ],
          [
           1,
           1206,
           0.171
          ],
          [
           1,
           928.2,
           0.1416
          ],
          [
           1,
           1169,
           0.1497
          ],
          [
           0.81,
           602.4,
           0.1512
          ],
          [
           1,
           1207,
           0.1281
          ],
          [
           0.99,
           713.3,
           0.1765
          ],
          [
           0.99,
           773.5,
           0.1504
          ],
          [
           1,
           744.9,
           0.1883
          ],
          [
           1,
           1288,
           0.1522
          ],
          [
           0.88,
           933.1,
           0.124
          ],
          [
           0.99,
           947.8,
           0.1134
          ],
          [
           0.86,
           758.6,
           0.1084
          ],
          [
           1,
           928.3,
           0.1558
          ],
          [
           1,
           1419,
           0.1401
          ],
          [
           1,
           1491,
           0.1272
          ],
          [
           0.91,
           998.9,
           0.1315
          ],
          [
           0.94,
           1102,
           0.1243
          ],
          [
           1,
           1138,
           0.1782
          ],
          [
           1,
           1145,
           0.1518
          ],
          [
           0.99,
           805.1,
           0.1365
          ],
          [
           0.69,
           431.1,
           0.1137
          ],
          [
           1,
           1217,
           0.1495
          ],
          [
           1,
           1247,
           0.1347
          ],
          [
           1,
           1027,
           0.1434
          ],
          [
           0.99,
           1274,
           0.1054
          ],
          [
           1,
           1264,
           0.1592
          ],
          [
           1,
           813.7,
           0.159
          ],
          [
           0.95,
           826.8,
           0.1426
          ],
          [
           0.99,
           793.2,
           0.1435
          ],
          [
           1,
           918.6,
           0.1449
          ],
          [
           1,
           1092,
           0.1498
          ],
          [
           1,
           1747,
           0.1515
          ],
          [
           1,
           1194,
           0.1218
          ],
          [
           1,
           758.6,
           0.155
          ],
          [
           1,
           2010,
           0.153
          ],
          [
           1,
           716.6,
           0.166
          ],
          [
           1,
           1293,
           0.1327
          ],
          [
           1,
           1234,
           0.1278
          ],
          [
           1,
           1546,
           0.1363
          ],
          [
           1,
           1482,
           0.1294
          ],
          [
           1,
           840.4,
           0.1415
          ],
          [
           0.99,
           1386,
           0.1192
          ],
          [
           1,
           1335,
           0.1562
          ],
          [
           0.88,
           361.6,
           0.2184
          ],
          [
           0.69,
           664.7,
           0.1312
          ],
          [
           0.98,
           1174,
           0.1251
          ],
          [
           1,
           744.7,
           0.1681
          ],
          [
           1,
           1407,
           0.1502
          ],
          [
           1,
           994,
           0.1873
          ],
          [
           1,
           991.7,
           0.1482
          ],
          [
           0.81,
           719.5,
           0.1148
          ],
          [
           1,
           803.1,
           0.1517
          ],
          [
           0.97,
           685,
           0.1419
          ],
          [
           1,
           1250,
           0.1665
          ],
          [
           1,
           1110,
           0.139
          ],
          [
           0.97,
           599.5,
           0.1613
          ],
          [
           0.99,
           928.8,
           0.1436
          ],
          [
           0.99,
           990,
           0.1263
          ],
          [
           1,
           981.6,
           0.1401
          ],
          [
           1,
           1384,
           0.1368
          ],
          [
           1,
           1191,
           0.1528
          ],
          [
           1,
           930.9,
           0.16
          ],
          [
           1,
           2501,
           0.1357
          ],
          [
           1,
           980.5,
           0.1207
          ],
          [
           0.99,
           815.8,
           0.1377
          ],
          [
           1,
           1167,
           0.1514
          ],
          [
           0.94,
           857.6,
           0.1009
          ],
          [
           1,
           1007,
           0.1309
          ],
          [
           1,
           1068,
           0.1412
          ],
          [
           1,
           1320,
           0.1464
          ],
          [
           0.93,
           595.9,
           0.1794
          ],
          [
           1,
           1682,
           0.1199
          ],
          [
           0.98,
           731.3,
           0.1732
          ],
          [
           0.99,
           556.7,
           0.1574
          ],
          [
           0.84,
           701.9,
           0.1246
          ],
          [
           1,
           1052,
           0.1492
          ],
          [
           1,
           1214,
           0.1417
          ],
          [
           1,
           1841,
           0.1342
          ],
          [
           1,
           1299,
           0.1097
          ],
          [
           1,
           1308,
           0.1268
          ],
          [
           0.87,
           629.8,
           0.138
          ],
          [
           0.98,
           716.9,
           0.1417
          ],
          [
           1,
           1347,
           0.1407
          ],
          [
           1,
           1479,
           0.141
          ],
          [
           1,
           1261,
           0.1166
          ],
          [
           1,
           858.1,
           0.1139
          ],
          [
           1,
           1265,
           0.165
          ]
         ],
         "hovertemplate": "Predicted Diagnosis=malignant<br>actual=malignant<br>mean radius=%{x}<br>mean perimeter=%{y}<br>confidence=%{customdata[0]}<br>mean area=%{customdata[1]}<br>worst smoothness=%{customdata[2]}<extra></extra>",
         "legendgroup": "malignant, malignant",
         "marker": {
          "color": "#636efa",
          "line": {
           "color": "DarkSlateGrey",
           "width": 1
          },
          "size": [
           0.96,
           0.99,
           1,
           0.92,
           0.98,
           0.89,
           1,
           0.96,
           0.96,
           0.94,
           0.87,
           1,
           0.98,
           0.87,
           0.96,
           1,
           0.97,
           1,
           1,
           0.95,
           0.99,
           1,
           0.99,
           0.98,
           1,
           1,
           0.98,
           1,
           0.95,
           1,
           1,
           1,
           1,
           0.95,
           0.77,
           0.83,
           0.62,
           0.73,
           1,
           0.98,
           0.82,
           1,
           0.95,
           0.98,
           0.93,
           1,
           0.99,
           0.99,
           0.99,
           0.97,
           1,
           1,
           0.71,
           1,
           1,
           1,
           1,
           0.99,
           0.99,
           0.7,
           1,
           0.83,
           1,
           1,
           0.9,
           0.83,
           0.92,
           1,
           1,
           1,
           0.96,
           1,
           1,
           0.87,
           1,
           1,
           1,
           0.99,
           1,
           0.59,
           0.98,
           0.99,
           0.86,
           1,
           0.99,
           1,
           1,
           0.98,
           1,
           0.87,
           0.93,
           1,
           1,
           1,
           0.98,
           0.91,
           0.92,
           0.96,
           0.79,
           0.97,
           0.92,
           0.93,
           1,
           0.96,
           1,
           1,
           1,
           0.86,
           0.91,
           1,
           0.98,
           0.94,
           0.97,
           0.89,
           1,
           1,
           1,
           0.97,
           0.99,
           1,
           1,
           1,
           1,
           1,
           1,
           1,
           1,
           1,
           0.81,
           1,
           0.99,
           0.99,
           1,
           1,
           0.88,
           0.99,
           0.86,
           1,
           1,
           1,
           0.91,
           0.94,
           1,
           1,
           0.99,
           0.69,
           1,
           1,
           1,
           0.99,
           1,
           1,
           0.95,
           0.99,
           1,
           1,
           1,
           1,
           1,
           1,
           1,
           1,
           1,
           1,
           1,
           1,
           0.99,
           1,
           0.88,
           0.69,
           0.98,
           1,
           1,
           1,
           1,
           0.81,
           1,
           0.97,
           1,
           1,
           0.97,
           0.99,
           0.99,
           1,
           1,
           1,
           1,
           1,
           1,
           0.99,
           1,
           0.94,
           1,
           1,
           1,
           0.93,
           1,
           0.98,
           0.99,
           0.84,
           1,
           1,
           1,
           1,
           1,
           0.87,
           0.98,
           1,
           1,
           1,
           1,
           1
          ],
          "sizemode": "area",
          "sizeref": 0.0025,
          "symbol": "circle"
         },
         "mode": "markers",
         "name": "malignant, malignant",
         "orientation": "v",
         "showlegend": true,
         "type": "scatter",
         "x": [
          17.99,
          20.57,
          19.69,
          11.42,
          20.29,
          12.45,
          18.25,
          13.71,
          13,
          12.46,
          16.02,
          15.78,
          19.17,
          15.85,
          13.73,
          14.54,
          14.68,
          16.13,
          19.81,
          15.34,
          21.16,
          16.65,
          17.14,
          14.58,
          18.61,
          15.3,
          17.57,
          18.63,
          11.84,
          17.02,
          19.27,
          16.13,
          16.74,
          14.25,
          14.99,
          13.48,
          13.44,
          10.95,
          19.07,
          13.28,
          13.17,
          18.65,
          13.17,
          18.22,
          15.1,
          19.21,
          14.71,
          14.25,
          12.68,
          14.78,
          18.94,
          17.2,
          13.8,
          16.07,
          18.05,
          20.18,
          25.22,
          19.1,
          18.46,
          14.48,
          19.02,
          15.37,
          15.06,
          20.26,
          14.42,
          13.61,
          13.11,
          22.27,
          14.87,
          15.78,
          17.95,
          18.66,
          24.25,
          13.61,
          19,
          19.79,
          15.46,
          16.16,
          18.45,
          12.77,
          14.95,
          16.11,
          11.8,
          17.68,
          19.19,
          19.59,
          23.27,
          16.78,
          17.47,
          13.43,
          15.46,
          16.46,
          27.22,
          21.09,
          15.7,
          15.28,
          18.31,
          14.22,
          12.34,
          14.86,
          13.77,
          18.08,
          19.18,
          14.45,
          17.54,
          23.29,
          13.81,
          15.12,
          17.01,
          20.58,
          28.11,
          17.42,
          14.19,
          13.86,
          19.8,
          19.53,
          15.75,
          12.83,
          17.05,
          20.51,
          23.21,
          20.48,
          17.46,
          19.4,
          20.94,
          19.73,
          17.3,
          19.45,
          13.96,
          19.55,
          15.32,
          15.66,
          15.53,
          20.31,
          17.35,
          17.29,
          15.61,
          17.19,
          20.73,
          21.75,
          17.93,
          18.81,
          19.16,
          19.4,
          16.24,
          11.76,
          19.53,
          20.09,
          18.22,
          20.16,
          20.34,
          16.27,
          16.26,
          16.03,
          17.06,
          18.77,
          23.51,
          19.68,
          15.75,
          25.73,
          15.08,
          20.44,
          20.2,
          21.71,
          22.01,
          16.35,
          21.37,
          20.64,
          11.08,
          14.6,
          19.55,
          15.49,
          21.61,
          17.91,
          17.99,
          15.13,
          15.5,
          14.9,
          20.18,
          18.82,
          13.98,
          17.27,
          18.03,
          17.75,
          21.1,
          19.59,
          17.08,
          27.42,
          17.6,
          16.25,
          19.44,
          16.69,
          18.01,
          18.49,
          20.59,
          13.82,
          23.09,
          15.46,
          13.4,
          15.05,
          18.31,
          19.89,
          24.63,
          20.47,
          20.55,
          14.27,
          15.22,
          20.92,
          21.56,
          20.13,
          16.6,
          20.6
         ],
         "xaxis": "x",
         "y": [
          122.8,
          132.9,
          130,
          77.58,
          135.1,
          82.57,
          119.6,
          90.2,
          87.5,
          83.97,
          102.7,
          103.6,
          132.4,
          103.7,
          93.6,
          96.73,
          94.74,
          108.1,
          130,
          102.5,
          137.2,
          110,
          116,
          97.41,
          122.1,
          102.4,
          115,
          124.8,
          77.93,
          112.8,
          127.9,
          107,
          110.1,
          93.63,
          95.54,
          88.4,
          86.18,
          71.9,
          128.3,
          87.32,
          85.42,
          123.7,
          85.98,
          120.3,
          97.26,
          125.5,
          95.55,
          96.42,
          82.69,
          97.4,
          123.6,
          114.2,
          90.43,
          104.1,
          120.2,
          143.7,
          171.5,
          129.1,
          121.1,
          94.25,
          122,
          100.2,
          100.3,
          132.4,
          94.48,
          88.05,
          87.21,
          152.8,
          98.64,
          105.7,
          114.2,
          121.4,
          166.2,
          87.76,
          123.4,
          130.4,
          101.7,
          106.2,
          120.2,
          81.72,
          96.85,
          105.1,
          78.99,
          117.4,
          126.3,
          130.7,
          152.1,
          109.3,
          116.1,
          85.84,
          102.5,
          109.3,
          182.1,
          142.7,
          101.2,
          98.92,
          118.6,
          94.37,
          81.15,
          100.4,
          90.63,
          117.4,
          127.5,
          94.49,
          115.1,
          158.9,
          91.56,
          98.78,
          109.7,
          134.7,
          188.5,
          114.5,
          92.87,
          90.96,
          129.7,
          128,
          102.6,
          85.26,
          113.4,
          134.4,
          153.5,
          132.5,
          113.4,
          129.1,
          138.9,
          130.7,
          113,
          126.5,
          91.43,
          133.6,
          103.2,
          110.2,
          103.7,
          132.9,
          111,
          114.4,
          100,
          111.6,
          135.7,
          147.3,
          115.2,
          120.9,
          126.2,
          127.2,
          108.8,
          75,
          129.5,
          134.7,
          118.7,
          131.1,
          135.9,
          106.9,
          107.5,
          105.8,
          111.8,
          122.9,
          155.1,
          129.9,
          107.1,
          174.2,
          98,
          133.8,
          133.7,
          140.9,
          147.2,
          109,
          141.3,
          134.8,
          73.3,
          93.97,
          128.9,
          102.4,
          144.4,
          124.4,
          117.8,
          96.71,
          102.9,
          102.1,
          133.8,
          123.7,
          91.12,
          112.4,
          117.5,
          117.3,
          138.1,
          127.7,
          111.2,
          186.9,
          119,
          109.8,
          128.1,
          107.1,
          118.4,
          121.3,
          137.8,
          92.33,
          152.1,
          103.8,
          88.64,
          97.26,
          120.8,
          130.5,
          165.5,
          134.7,
          137.8,
          93.77,
          103.4,
          143,
          142,
          131.2,
          108.3,
          140.1
         ],
         "yaxis": "y"
        },
        {
         "customdata": [
          [
           0.99,
           566.3,
           0.144
          ],
          [
           1,
           520,
           0.1312
          ],
          [
           1,
           273.9,
           0.1324
          ],
          [
           0.99,
           523.8,
           0.09701
          ],
          [
           1,
           201.9,
           0.1297
          ],
          [
           1,
           449.3,
           0.1494
          ],
          [
           0.97,
           561,
           0.1162
          ],
          [
           1,
           427.9,
           0.1085
          ],
          [
           1,
           571.8,
           0.1089
          ],
          [
           1,
           437.6,
           0.1144
          ],
          [
           1,
           409,
           0.1249
          ],
          [
           1,
           527.2,
           0.1021
          ],
          [
           1,
           224.5,
           0.1733
          ],
          [
           1,
           311.9,
           0.1275
          ],
          [
           1,
           221.8,
           0.1639
          ],
          [
           1,
           260.9,
           0.09836
          ],
          [
           0.99,
           269.4,
           0.1548
          ],
          [
           1,
           394.1,
           0.129
          ],
          [
           0.92,
           250.5,
           0.1482
          ],
          [
           0.99,
           502.5,
           0.1296
          ],
          [
           1,
           244,
           0.1207
          ],
          [
           1,
           470.9,
           0.1176
          ],
          [
           0.98,
           559.2,
           0.1451
          ],
          [
           1,
           506.3,
           0.1289
          ],
          [
           0.99,
           401.5,
           0.1557
          ],
          [
           0.7,
           520,
           0.1536
          ],
          [
           1,
           443.3,
           0.1377
          ],
          [
           0.99,
           466.1,
           0.1304
          ],
          [
           0.85,
           651.9,
           0.1277
          ],
          [
           0.98,
           662.7,
           0.1115
          ],
          [
           0.95,
           551.7,
           0.1006
          ],
          [
           1,
           555.1,
           0.1339
          ],
          [
           0.98,
           451.1,
           0.114
          ],
          [
           1,
           294.5,
           0.1316
          ],
          [
           1,
           412.6,
           0.1431
          ],
          [
           1,
           143.5,
           0.1584
          ],
          [
           0.99,
           458.7,
           0.1123
          ],
          [
           1,
           298.3,
           0.1559
          ],
          [
           1,
           336.1,
           0.1219
          ],
          [
           1,
           412.5,
           0.1688
          ],
          [
           0.99,
           466.7,
           0.1184
          ],
          [
           1,
           396.5,
           0.1699
          ],
          [
           1,
           290.2,
           0.1467
          ],
          [
           0.97,
           480.4,
           0.1287
          ],
          [
           0.74,
           629.9,
           0.08949
          ],
          [
           1,
           334.2,
           0.13
          ],
          [
           1,
           230.9,
           0.1724
          ],
          [
           1,
           438.6,
           0.15
          ],
          [
           0.99,
           245.2,
           0.1179
          ],
          [
           1,
           403.3,
           0.1548
          ],
          [
           0.94,
           640.7,
           0.1313
          ],
          [
           1,
           553.5,
           0.1025
          ],
          [
           1,
           588.7,
           0.1157
          ],
          [
           0.84,
           674.5,
           0.1386
          ],
          [
           1,
           455.8,
           0.1427
          ],
          [
           0.86,
           761.7,
           0.1223
          ],
          [
           0.98,
           423.6,
           0.1271
          ],
          [
           1,
           399.8,
           0.119
          ],
          [
           0.99,
           384.8,
           0.1367
          ],
          [
           1,
           288.5,
           0.1234
          ],
          [
           1,
           398,
           0.1413
          ],
          [
           1,
           512.2,
           0.1312
          ],
          [
           1,
           355.3,
           0.1076
          ],
          [
           1,
           432.8,
           0.1424
          ],
          [
           0.97,
           689.5,
           0.0997
          ],
          [
           0.73,
           640.1,
           0.1316
          ],
          [
           1,
           585,
           0.09711
          ],
          [
           1,
           519.4,
           0.1297
          ],
          [
           0.94,
           203.9,
           0.163
          ],
          [
           0.92,
           300.2,
           0.1292
          ],
          [
           1,
           381.9,
           0.1341
          ],
          [
           1,
           538.9,
           0.1478
          ],
          [
           1,
           460.3,
           0.1217
          ],
          [
           0.76,
           880.2,
           0.08774
          ],
          [
           1,
           448.6,
           0.1275
          ],
          [
           1,
           366.8,
           0.1171
          ],
          [
           1,
           419.8,
           0.1358
          ],
          [
           0.99,
           464.5,
           0.1452
          ],
          [
           0.98,
           690.2,
           0.1045
          ],
          [
           1,
           357.6,
           0.1436
          ],
          [
           1,
           685.9,
           0.1216
          ],
          [
           1,
           464.1,
           0.1385
          ],
          [
           1,
           372.7,
           0.1216
          ],
          [
           1,
           349.6,
           0.1076
          ],
          [
           1,
           227.2,
           0.1162
          ],
          [
           1,
           302.4,
           0.1301
          ],
          [
           0.96,
           526.4,
           0.08125
          ],
          [
           1,
           508.8,
           0.1162
          ],
          [
           1,
           402,
           0.1121
          ],
          [
           1,
           317.5,
           0.1521
          ],
          [
           1,
           420.3,
           0.1323
          ],
          [
           1,
           428.9,
           0.1356
          ],
          [
           1,
           463.7,
           0.1096
          ],
          [
           0.86,
           507.4,
           0.09388
          ],
          [
           0.99,
           288.1,
           0.07117
          ],
          [
           1,
           516.4,
           0.1097
          ],
          [
           1,
           461,
           0.1429
          ],
          [
           1,
           481.9,
           0.1426
          ],
          [
           1,
           295.4,
           0.1415
          ],
          [
           0.92,
           529.4,
           0.1349
          ],
          [
           0.81,
           725.5,
           0.1222
          ],
          [
           1,
           428,
           0.128
          ],
          [
           1,
           432.2,
           0.1405
          ],
          [
           1,
           321.2,
           0.09527
          ],
          [
           1,
           568.9,
           0.1311
          ],
          [
           1,
           561.3,
           0.1376
          ],
          [
           1,
           313.1,
           0.1406
          ],
          [
           1,
           546.4,
           0.1276
          ],
          [
           0.86,
           641.2,
           0.1297
          ],
          [
           1,
           329.6,
           0.1341
          ],
          [
           0.92,
           684.5,
           0.1136
          ],
          [
           0.94,
           496.4,
           0.1227
          ],
          [
           0.99,
           395.7,
           0.09203
          ],
          [
           1,
           386.8,
           0.09994
          ],
          [
           1,
           279.6,
           0.1504
          ],
          [
           1,
           603.4,
           0.1287
          ],
          [
           0.9,
           623.9,
           0.1081
          ],
          [
           1,
           575.3,
           0.1278
          ],
          [
           0.99,
           476.5,
           0.1037
          ],
          [
           0.93,
           389.4,
           0.1347
          ],
          [
           0.98,
           590,
           0.09368
          ],
          [
           1,
           337.7,
           0.1515
          ],
          [
           1,
           541.6,
           0.1101
          ],
          [
           0.91,
           512.2,
           0.1254
          ],
          [
           0.98,
           347,
           0.1499
          ],
          [
           1,
           406.3,
           0.1389
          ],
          [
           1,
           407.4,
           0.1183
          ],
          [
           0.99,
           346.4,
           0.1213
          ],
          [
           0.99,
           561,
           0.1005
          ],
          [
           1,
           512.2,
           0.1256
          ],
          [
           1,
           344.9,
           0.1335
          ],
          [
           0.99,
           632.6,
           0.08567
          ],
          [
           1,
           388,
           0.1358
          ],
          [
           1,
           289.9,
           0.1467
          ],
          [
           0.97,
           435.6,
           0.1359
          ],
          [
           1,
           396.6,
           0.1259
          ],
          [
           1,
           572.3,
           0.105
          ],
          [
           1,
           587.4,
           0.1185
          ],
          [
           0.96,
           427.3,
           0.1036
          ],
          [
           1,
           516.6,
           0.09926
          ],
          [
           1,
           489,
           0.1038
          ],
          [
           1,
           441,
           0.1116
          ],
          [
           1,
           515.9,
           0.09616
          ],
          [
           0.99,
           394.1,
           0.1028
          ],
          [
           1,
           396,
           0.1118
          ],
          [
           0.89,
           651,
           0.09983
          ],
          [
           0.9,
           687.3,
           0.1313
          ],
          [
           1,
           513.7,
           0.1483
          ],
          [
           1,
           432.7,
           0.1369
          ],
          [
           1,
           492.1,
           0.1298
          ],
          [
           1,
           582.7,
           0.117
          ],
          [
           1,
           363.7,
           0.09312
          ],
          [
           0.99,
           633.1,
           0.09445
          ],
          [
           1,
           334.2,
           0.1143
          ],
          [
           1,
           471.3,
           0.105
          ],
          [
           1,
           334.3,
           0.1413
          ],
          [
           1,
           403.1,
           0.1144
          ],
          [
           1,
           417.2,
           0.09545
          ],
          [
           1,
           537.3,
           0.1128
          ],
          [
           1,
           246.3,
           0.09861
          ],
          [
           0.99,
           566.2,
           0.09023
          ],
          [
           1,
           530.6,
           0.1016
          ],
          [
           1,
           418.7,
           0.1223
          ],
          [
           0.99,
           664.9,
           0.1011
          ],
          [
           1,
           504.1,
           0.1194
          ],
          [
           1,
           409.1,
           0.1092
          ],
          [
           1,
           221.2,
           0.1347
          ],
          [
           1,
           481.6,
           0.1104
          ],
          [
           0.99,
           461.4,
           0.1001
          ],
          [
           0.97,
           244.5,
           0.1221
          ],
          [
           1,
           477.3,
           0.08409
          ],
          [
           1,
           324.2,
           0.1402
          ],
          [
           1,
           504.8,
           0.1547
          ],
          [
           1,
           457.9,
           0.1256
          ],
          [
           1,
           489.9,
           0.1384
          ],
          [
           1,
           616.5,
           0.1281
          ],
          [
           1,
           446,
           0.1013
          ],
          [
           1,
           514,
           0.1288
          ],
          [
           1,
           387.3,
           0.1424
          ],
          [
           1,
           390,
           0.1166
          ],
          [
           1,
           464.4,
           0.1222
          ],
          [
           1,
           514.3,
           0.1142
          ],
          [
           1,
           310.8,
           0.1402
          ],
          [
           0.82,
           641.2,
           0.1294
          ],
          [
           0.99,
           280.5,
           0.1233
          ],
          [
           0.99,
           373.9,
           0.1418
          ],
          [
           1,
           420.3,
           0.146
          ],
          [
           1,
           321.6,
           0.136
          ],
          [
           1,
           445.3,
           0.1289
          ],
          [
           0.91,
           668.7,
           0.122
          ],
          [
           1,
           402.7,
           0.1531
          ],
          [
           1,
           426.7,
           0.1293
          ],
          [
           1,
           421,
           0.09958
          ],
          [
           1,
           384.6,
           0.08864
          ],
          [
           1,
           485.8,
           0.1096
          ],
          [
           0.95,
           512,
           0.1343
          ],
          [
           1,
           593.7,
           0.1153
          ],
          [
           0.99,
           241,
           0.1015
          ],
          [
           1,
           278.6,
           0.1333
          ],
          [
           0.98,
           491.9,
           0.09293
          ],
          [
           1,
           546.1,
           0.114
          ],
          [
           1,
           496.6,
           0.1298
          ],
          [
           0.76,
           838.1,
           0.1338
          ],
          [
           1,
           552.4,
           0.1213
          ],
          [
           1,
           458.4,
           0.1368
          ],
          [
           0.92,
           711.8,
           0.1126
          ],
          [
           1,
           579.1,
           0.1105
          ],
          [
           0.83,
           788.5,
           0.1235
          ],
          [
           0.88,
           338.3,
           0.1143
          ],
          [
           0.98,
           562.1,
           0.1108
          ],
          [
           0.99,
           580.6,
           0.1275
          ],
          [
           0.99,
           386.3,
           0.161
          ],
          [
           1,
           372.7,
           0.1095
          ],
          [
           1,
           447.8,
           0.08799
          ],
          [
           0.99,
           462.9,
           0.1427
          ],
          [
           1,
           541.8,
           0.1166
          ],
          [
           1,
           462,
           0.1026
          ],
          [
           1,
           596.6,
           0.08484
          ],
          [
           1,
           392,
           0.1102
          ],
          [
           1,
           321.6,
           0.1343
          ],
          [
           1,
           234.3,
           0.146
          ],
          [
           1,
           446.2,
           0.1432
          ],
          [
           1,
           609.1,
           0.1066
          ],
          [
           0.82,
           558.1,
           0.1428
          ],
          [
           0.99,
           508.3,
           0.09534
          ],
          [
           0.99,
           378.2,
           0.112
          ],
          [
           0.99,
           431.9,
           0.1244
          ],
          [
           1,
           442.7,
           0.1374
          ],
          [
           1,
           525.2,
           0.09329
          ],
          [
           0.99,
           507.6,
           0.1172
          ],
          [
           1,
           469.1,
           0.1048
          ],
          [
           1,
           370,
           0.1363
          ],
          [
           0.73,
           800,
           0.1206
          ],
          [
           1,
           514.5,
           0.09402
          ],
          [
           1,
           466.1,
           0.124
          ],
          [
           0.97,
           399.8,
           0.1453
          ],
          [
           1,
           373.2,
           0.1369
          ],
          [
           1,
           268.8,
           0.1086
          ],
          [
           0.86,
           693.7,
           0.1077
          ],
          [
           1,
           433.8,
           0.1426
          ],
          [
           1,
           271.2,
           0.1526
          ],
          [
           1,
           495,
           0.1314
          ],
          [
           1,
           380.3,
           0.1282
          ],
          [
           1,
           409.7,
           0.1249
          ],
          [
           0.76,
           656.1,
           0.1312
          ],
          [
           1,
           408.2,
           0.1415
          ],
          [
           0.91,
           575.3,
           0.1147
          ],
          [
           0.94,
           289.7,
           0.1398
          ],
          [
           1,
           307.3,
           0.1126
          ],
          [
           1,
           333.6,
           0.1327
          ],
          [
           1,
           359.9,
           0.1303
          ],
          [
           1,
           381.1,
           0.103
          ],
          [
           1,
           501.3,
           0.1068
          ],
          [
           1,
           467.8,
           0.145
          ],
          [
           0.99,
           673.7,
           0.1218
          ],
          [
           1,
           509.2,
           0.1214
          ],
          [
           0.99,
           611.2,
           0.1195
          ],
          [
           1,
           592.6,
           0.1118
          ],
          [
           1,
           606.5,
           0.1034
          ],
          [
           0.91,
           371.5,
           0.1391
          ],
          [
           1,
           585.9,
           0.1072
          ],
          [
           1,
           340.9,
           0.09794
          ],
          [
           1,
           441.3,
           0.1311
          ],
          [
           0.97,
           674.8,
           0.1226
          ],
          [
           0.94,
           659.7,
           0.1089
          ],
          [
           1,
           432,
           0.09457
          ],
          [
           1,
           442.5,
           0.1208
          ],
          [
           0.97,
           644.2,
           0.1347
          ],
          [
           1,
           492.9,
           0.1225
          ],
          [
           0.98,
           557.2,
           0.1172
          ],
          [
           0.98,
           415.1,
           0.1406
          ],
          [
           0.98,
           537.9,
           0.1289
          ],
          [
           1,
           520.2,
           0.1218
          ],
          [
           1,
           290.9,
           0.111
          ],
          [
           1,
           646.1,
           0.1017
          ],
          [
           1,
           412.7,
           0.1342
          ],
          [
           1,
           537.3,
           0.1282
          ],
          [
           0.91,
           542.9,
           0.1201
          ],
          [
           0.97,
           536.9,
           0.1351
          ],
          [
           1,
           286.3,
           0.1388
          ],
          [
           0.82,
           408.8,
           0.178
          ],
          [
           1,
           289.1,
           0.1234
          ],
          [
           0.96,
           449.9,
           0.1041
          ],
          [
           0.91,
           686.9,
           0.1065
          ],
          [
           0.99,
           465.4,
           0.09422
          ],
          [
           1,
           358.9,
           0.1332
          ],
          [
           0.99,
           506.9,
           0.1326
          ],
          [
           0.9,
           618.4,
           0.1153
          ],
          [
           1,
           599.4,
           0.09384
          ],
          [
           1,
           404.9,
           0.1352
          ],
          [
           1,
           455.3,
           0.1208
          ],
          [
           0.97,
           602.9,
           0.1064
          ],
          [
           0.97,
           546.3,
           0.1393
          ],
          [
           0.99,
           571.1,
           0.1199
          ],
          [
           0.74,
           747.2,
           0.1541
          ],
          [
           0.92,
           476.7,
           0.1175
          ],
          [
           0.97,
           666,
           0.1142
          ],
          [
           1,
           420.5,
           0.1526
          ],
          [
           0.99,
           466.5,
           0.1256
          ],
          [
           0.72,
           992.1,
           0.09862
          ],
          [
           1,
           477.3,
           0.09439
          ],
          [
           0.97,
           538.7,
           0.1118
          ],
          [
           0.96,
           680.9,
           0.1216
          ],
          [
           0.9,
           485.6,
           0.1533
          ],
          [
           1,
           480.1,
           0.1276
          ],
          [
           0.87,
           689.4,
           0.1135
          ],
          [
           1,
           476.3,
           0.158
          ],
          [
           0.94,
           248.7,
           0.1902
          ],
          [
           0.94,
           272.5,
           0.2006
          ],
          [
           0.99,
           453.1,
           0.1402
          ],
          [
           0.99,
           366.5,
           0.1662
          ],
          [
           0.91,
           819.8,
           0.1354
          ],
          [
           1,
           426,
           0.1073
          ],
          [
           0.99,
           680.7,
           0.1139
          ],
          [
           0.94,
           658.8,
           0.1223
          ],
          [
           1,
           391.2,
           0.1483
          ],
          [
           0.99,
           493.1,
           0.1456
          ],
          [
           1,
           493.8,
           0.1475
          ],
          [
           0.99,
           257.8,
           0.185
          ],
          [
           1,
           388.1,
           0.1108
          ],
          [
           1,
           571,
           0.1425
          ],
          [
           0.99,
           293.2,
           0.1419
          ],
          [
           1,
           221.3,
           0.1641
          ],
          [
           0.88,
           551.1,
           0.1624
          ],
          [
           0.99,
           468.5,
           0.1292
          ],
          [
           0.94,
           594.2,
           0.1394
          ],
          [
           1,
           445.2,
           0.1521
          ],
          [
           1,
           422.9,
           0.1349
          ],
          [
           1,
           416.2,
           0.155
          ],
          [
           1,
           575.5,
           0.1264
          ],
          [
           1,
           365.6,
           0.1428
          ],
          [
           0.96,
           406.4,
           0.1768
          ],
          [
           1,
           178.8,
           0.1256
          ],
          [
           0.99,
           170.4,
           0.1596
          ],
          [
           1,
           402.9,
           0.1345
          ],
          [
           0.82,
           656.4,
           0.134
          ],
          [
           0.86,
           668.6,
           0.106
          ],
          [
           0.97,
           538.4,
           0.1072
          ],
          [
           1,
           584.8,
           0.1264
          ],
          [
           0.99,
           573.2,
           0.1216
          ],
          [
           1,
           324.9,
           0.1285
          ],
          [
           1,
           320.8,
           0.1461
          ],
          [
           1,
           285.7,
           0.1199
          ],
          [
           1,
           361.6,
           0.1204
          ],
          [
           1,
           360.5,
           0.1001
          ],
          [
           1,
           378.4,
           0.1087
          ],
          [
           1,
           507.9,
           0.1234
          ],
          [
           1,
           264,
           0.1103
          ],
          [
           0.98,
           514.3,
           0.1227
          ],
          [
           0.96,
           321.4,
           0.1384
          ],
          [
           1,
           311.7,
           0.1265
          ],
          [
           1,
           271.3,
           0.1073
          ],
          [
           0.95,
           657.1,
           0.1026
          ],
          [
           0.94,
           403.5,
           0.1298
          ],
          [
           0.96,
           600.4,
           0.1241
          ],
          [
           0.98,
           386,
           0.09267
          ],
          [
           1,
           181,
           0.08996
          ]
         ],
         "hovertemplate": "Predicted Diagnosis=benign<br>actual=benign<br>mean radius=%{x}<br>mean perimeter=%{y}<br>confidence=%{customdata[0]}<br>mean area=%{customdata[1]}<br>worst smoothness=%{customdata[2]}<extra></extra>",
         "legendgroup": "benign, benign",
         "marker": {
          "color": "#EF553B",
          "line": {
           "color": "DarkSlateGrey",
           "width": 1
          },
          "size": [
           0.99,
           1,
           1,
           0.99,
           1,
           1,
           0.97,
           1,
           1,
           1,
           1,
           1,
           1,
           1,
           1,
           1,
           0.99,
           1,
           0.92,
           0.99,
           1,
           1,
           0.98,
           1,
           0.99,
           0.7,
           1,
           0.99,
           0.85,
           0.98,
           0.95,
           1,
           0.98,
           1,
           1,
           1,
           0.99,
           1,
           1,
           1,
           0.99,
           1,
           1,
           0.97,
           0.74,
           1,
           1,
           1,
           0.99,
           1,
           0.94,
           1,
           1,
           0.84,
           1,
           0.86,
           0.98,
           1,
           0.99,
           1,
           1,
           1,
           1,
           1,
           0.97,
           0.73,
           1,
           1,
           0.94,
           0.92,
           1,
           1,
           1,
           0.76,
           1,
           1,
           1,
           0.99,
           0.98,
           1,
           1,
           1,
           1,
           1,
           1,
           1,
           0.96,
           1,
           1,
           1,
           1,
           1,
           1,
           0.86,
           0.99,
           1,
           1,
           1,
           1,
           0.92,
           0.81,
           1,
           1,
           1,
           1,
           1,
           1,
           1,
           0.86,
           1,
           0.92,
           0.94,
           0.99,
           1,
           1,
           1,
           0.9,
           1,
           0.99,
           0.93,
           0.98,
           1,
           1,
           0.91,
           0.98,
           1,
           1,
           0.99,
           0.99,
           1,
           1,
           0.99,
           1,
           1,
           0.97,
           1,
           1,
           1,
           0.96,
           1,
           1,
           1,
           1,
           0.99,
           1,
           0.89,
           0.9,
           1,
           1,
           1,
           1,
           1,
           0.99,
           1,
           1,
           1,
           1,
           1,
           1,
           1,
           0.99,
           1,
           1,
           0.99,
           1,
           1,
           1,
           1,
           0.99,
           0.97,
           1,
           1,
           1,
           1,
           1,
           1,
           1,
           1,
           1,
           1,
           1,
           1,
           1,
           0.82,
           0.99,
           0.99,
           1,
           1,
           1,
           0.91,
           1,
           1,
           1,
           1,
           1,
           0.95,
           1,
           0.99,
           1,
           0.98,
           1,
           1,
           0.76,
           1,
           1,
           0.92,
           1,
           0.83,
           0.88,
           0.98,
           0.99,
           0.99,
           1,
           1,
           0.99,
           1,
           1,
           1,
           1,
           1,
           1,
           1,
           1,
           0.82,
           0.99,
           0.99,
           0.99,
           1,
           1,
           0.99,
           1,
           1,
           0.73,
           1,
           1,
           0.97,
           1,
           1,
           0.86,
           1,
           1,
           1,
           1,
           1,
           0.76,
           1,
           0.91,
           0.94,
           1,
           1,
           1,
           1,
           1,
           1,
           0.99,
           1,
           0.99,
           1,
           1,
           0.91,
           1,
           1,
           1,
           0.97,
           0.94,
           1,
           1,
           0.97,
           1,
           0.98,
           0.98,
           0.98,
           1,
           1,
           1,
           1,
           1,
           0.91,
           0.97,
           1,
           0.82,
           1,
           0.96,
           0.91,
           0.99,
           1,
           0.99,
           0.9,
           1,
           1,
           1,
           0.97,
           0.97,
           0.99,
           0.74,
           0.92,
           0.97,
           1,
           0.99,
           0.72,
           1,
           0.97,
           0.96,
           0.9,
           1,
           0.87,
           1,
           0.94,
           0.94,
           0.99,
           0.99,
           0.91,
           1,
           0.99,
           0.94,
           1,
           0.99,
           1,
           0.99,
           1,
           1,
           0.99,
           1,
           0.88,
           0.99,
           0.94,
           1,
           1,
           1,
           1,
           1,
           0.96,
           1,
           0.99,
           1,
           0.82,
           0.86,
           0.97,
           1,
           0.99,
           1,
           1,
           1,
           1,
           1,
           1,
           1,
           1,
           0.98,
           0.96,
           1,
           1,
           0.95,
           0.94,
           0.96,
           0.98,
           1
          ],
          "sizemode": "area",
          "sizeref": 0.0025,
          "symbol": "diamond"
         },
         "mode": "markers",
         "name": "benign, benign",
         "orientation": "v",
         "showlegend": true,
         "type": "scatter",
         "x": [
          13.54,
          13.08,
          9.504,
          13.03,
          8.196,
          12.05,
          13.49,
          11.76,
          13.64,
          11.94,
          11.52,
          13.05,
          8.618,
          10.17,
          8.598,
          9.173,
          9.465,
          11.31,
          9.029,
          12.78,
          8.888,
          12.31,
          13.53,
          12.86,
          11.45,
          13.34,
          12,
          12.36,
          14.64,
          14.62,
          13.27,
          13.45,
          12.18,
          9.787,
          11.6,
          6.981,
          12.18,
          9.876,
          10.49,
          11.64,
          12.36,
          11.34,
          9.777,
          12.63,
          14.26,
          10.51,
          8.726,
          11.93,
          8.95,
          11.41,
          14.5,
          13.37,
          13.85,
          15.1,
          12.19,
          15.71,
          11.71,
          11.43,
          11.28,
          9.738,
          11.43,
          12.9,
          10.75,
          11.9,
          14.95,
          14.44,
          13.74,
          13,
          8.219,
          9.731,
          11.15,
          13.15,
          12.25,
          16.84,
          12.06,
          10.9,
          11.75,
          12.34,
          14.97,
          10.8,
          14.97,
          12.32,
          11.08,
          10.66,
          8.671,
          9.904,
          13.01,
          12.81,
          11.41,
          10.08,
          11.71,
          11.81,
          12.3,
          12.77,
          9.72,
          12.91,
          12.23,
          12.47,
          9.876,
          13.11,
          15.27,
          11.84,
          11.89,
          10.2,
          13.65,
          13.56,
          10.18,
          13.27,
          14.34,
          10.44,
          15,
          12.62,
          11.32,
          11.22,
          9.567,
          14.03,
          14.22,
          13.64,
          12.42,
          11.3,
          13.75,
          10.48,
          13.2,
          12.89,
          10.65,
          11.52,
          11.5,
          10.6,
          13.59,
          12.87,
          10.71,
          14.29,
          11.29,
          9.742,
          11.89,
          11.33,
          13.59,
          13.85,
          11.74,
          12.89,
          12.58,
          11.94,
          12.89,
          11.26,
          11.37,
          14.41,
          14.96,
          12.95,
          11.85,
          12.72,
          13.77,
          10.91,
          14.26,
          10.51,
          12.46,
          10.49,
          11.46,
          11.6,
          13.2,
          9,
          13.5,
          13.05,
          11.7,
          14.61,
          12.76,
          11.54,
          8.597,
          12.49,
          12.18,
          9.042,
          12.43,
          10.25,
          12.86,
          12.2,
          12.67,
          14.11,
          12.03,
          12.98,
          11.22,
          11.25,
          12.3,
          12.99,
          10.05,
          14.42,
          9.606,
          11.06,
          11.71,
          10.26,
          12.06,
          14.76,
          11.47,
          11.95,
          11.66,
          11.14,
          12.56,
          13.05,
          13.87,
          8.878,
          9.436,
          12.54,
          13.3,
          12.76,
          16.5,
          13.4,
          12.21,
          15.19,
          13.69,
          16.17,
          10.57,
          13.46,
          13.66,
          11.27,
          11.04,
          12.05,
          12.39,
          13.28,
          12.21,
          13.88,
          11.27,
          10.26,
          8.734,
          12.1,
          14.06,
          13.51,
          12.8,
          11.06,
          11.8,
          11.93,
          12.96,
          12.94,
          12.34,
          10.94,
          16.14,
          12.85,
          12.27,
          11.36,
          11.04,
          9.397,
          14.99,
          11.89,
          9.405,
          12.7,
          11.16,
          11.57,
          14.69,
          11.61,
          13.66,
          9.742,
          10.03,
          10.48,
          10.8,
          11.13,
          12.72,
          12.4,
          14.86,
          12.87,
          14.04,
          13.85,
          14.02,
          10.97,
          13.78,
          10.57,
          11.99,
          14.8,
          14.53,
          11.87,
          12,
          14.53,
          12.62,
          13.38,
          11.63,
          13.21,
          13,
          9.755,
          14.4,
          11.6,
          13.17,
          13.24,
          13.14,
          9.668,
          11.62,
          9.667,
          12.04,
          14.92,
          12.27,
          10.88,
          12.83,
          14.2,
          13.9,
          11.49,
          12.16,
          13.9,
          13.47,
          13.7,
          15.73,
          12.45,
          14.64,
          11.68,
          12.25,
          17.85,
          12.46,
          13.16,
          14.87,
          12.65,
          12.47,
          15.04,
          12.54,
          9.268,
          9.676,
          12.22,
          11.06,
          16.3,
          11.74,
          14.81,
          14.58,
          11.34,
          12.88,
          12.75,
          9.295,
          11.26,
          13.71,
          9.847,
          8.571,
          13.46,
          12.34,
          13.94,
          12.07,
          11.75,
          11.67,
          13.68,
          10.96,
          11.69,
          7.729,
          7.691,
          11.54,
          14.47,
          14.74,
          13.21,
          13.87,
          13.62,
          10.32,
          10.26,
          9.683,
          10.82,
          10.86,
          11.13,
          12.77,
          9.333,
          12.88,
          10.29,
          10.16,
          9.423,
          14.59,
          11.51,
          14.05,
          11.2,
          7.76
         ],
         "xaxis": "x",
         "y": [
          87.46,
          85.63,
          60.34,
          82.61,
          51.71,
          78.04,
          86.91,
          74.72,
          87.21,
          75.71,
          73.34,
          82.61,
          54.34,
          64.55,
          54.66,
          59.2,
          60.11,
          71.8,
          58.79,
          81.37,
          58.79,
          79.19,
          87.91,
          83.19,
          73.81,
          86.49,
          76.95,
          79.78,
          95.77,
          94.57,
          84.74,
          86.6,
          77.79,
          62.11,
          74.34,
          43.79,
          77.22,
          63.95,
          67.41,
          75.17,
          79.01,
          72.48,
          62.5,
          82.15,
          97.83,
          68.64,
          55.84,
          76.53,
          58.74,
          73.34,
          94.28,
          86.1,
          88.44,
          99.58,
          79.08,
          102,
          74.72,
          73.06,
          73,
          61.24,
          73.66,
          83.74,
          68.26,
          78.11,
          97.84,
          93.97,
          88.12,
          83.51,
          53.27,
          63.78,
          70.87,
          85.31,
          78.27,
          108.4,
          76.84,
          68.69,
          76.1,
          79.85,
          95.5,
          68.77,
          96.22,
          78.85,
          70.21,
          67.49,
          54.42,
          64.6,
          82.01,
          81.29,
          73.53,
          63.76,
          74.68,
          75.27,
          78.83,
          82.02,
          60.73,
          82.53,
          78.54,
          81.09,
          62.92,
          87.02,
          98.17,
          75.51,
          77.32,
          65.05,
          87.88,
          88.59,
          65.12,
          84.55,
          92.51,
          66.62,
          97.45,
          81.35,
          71.76,
          70.79,
          60.21,
          89.79,
          92.55,
          87.38,
          78.61,
          73.93,
          88.54,
          66.72,
          84.13,
          84.95,
          68.01,
          73.87,
          73.28,
          69.28,
          87.16,
          82.38,
          69.5,
          90.3,
          72.23,
          61.5,
          76.2,
          71.79,
          86.24,
          88.99,
          74.24,
          84.08,
          79.83,
          77.87,
          81.89,
          73.72,
          72.17,
          96.03,
          97.03,
          83.14,
          75.54,
          81.78,
          88.06,
          69.14,
          91.22,
          66.85,
          80.43,
          66.86,
          73.59,
          74.23,
          84.07,
          56.36,
          85.69,
          82.71,
          74.33,
          92.68,
          82.29,
          73.73,
          54.09,
          79.19,
          77.25,
          60.07,
          78.6,
          66.52,
          82.82,
          78.01,
          81.25,
          90.03,
          76.09,
          84.52,
          71.94,
          71.38,
          77.88,
          84.08,
          64.41,
          94.15,
          61.64,
          71.49,
          75.03,
          66.2,
          76.66,
          94.87,
          73.02,
          77.23,
          73.7,
          71.24,
          81.92,
          85.09,
          88.52,
          56.74,
          59.82,
          79.42,
          85.24,
          81.87,
          106.6,
          85.48,
          78.31,
          97.65,
          87.84,
          106.3,
          70.15,
          85.89,
          88.27,
          73.16,
          70.67,
          78.75,
          80.64,
          85.79,
          78.78,
          88.37,
          73.38,
          65.75,
          55.27,
          78.07,
          89.75,
          88.1,
          83.05,
          70.31,
          75.26,
          76.14,
          84.18,
          83.18,
          78.29,
          70.39,
          104.3,
          82.63,
          78.41,
          72.49,
          70.92,
          59.75,
          97.53,
          76.39,
          59.6,
          80.88,
          70.95,
          74.2,
          98.22,
          75.46,
          89.46,
          61.93,
          63.19,
          67.49,
          68.79,
          70.47,
          80.98,
          81.47,
          94.89,
          82.67,
          89.78,
          88.68,
          89.59,
          71.73,
          88.37,
          66.82,
          77.61,
          95.88,
          94.25,
          76.83,
          76.77,
          93.86,
          80.62,
          86.34,
          74.87,
          84.1,
          82.61,
          61.68,
          92.25,
          73.88,
          84.28,
          86.87,
          85.98,
          61.06,
          76.38,
          61.49,
          76.85,
          96.45,
          77.42,
          70.41,
          82.89,
          92.41,
          88.97,
          73.99,
          78.29,
          88.73,
          87.32,
          87.76,
          102.8,
          82.85,
          94.21,
          75.49,
          78.18,
          114.6,
          78.83,
          84.06,
          96.12,
          82.69,
          80.45,
          98.73,
          81.25,
          61.49,
          64.12,
          79.47,
          71.25,
          104.7,
          76.31,
          94.66,
          94.29,
          72.76,
          84.45,
          82.51,
          59.96,
          71.3,
          88.73,
          63,
          54.53,
          87.44,
          78.94,
          90.31,
          77.83,
          75.89,
          75.21,
          87.76,
          70.79,
          76.37,
          47.98,
          48.34,
          74.65,
          95.81,
          94.7,
          84.88,
          89.77,
          87.19,
          65.31,
          65.85,
          61.05,
          68.89,
          68.51,
          71.49,
          81.35,
          59.01,
          82.5,
          65.67,
          64.73,
          59.26,
          96.39,
          74.52,
          91.38,
          70.67,
          47.92
         ],
         "yaxis": "y"
        }
       ],
       "layout": {
        "height": 600,
        "legend": {
         "itemsizing": "constant",
         "title": {
          "text": "Predicted Diagnosis, actual"
         },
         "tracegroupgap": 0
        },
        "template": {
         "data": {
          "bar": [
           {
            "error_x": {
             "color": "#2a3f5f"
            },
            "error_y": {
             "color": "#2a3f5f"
            },
            "marker": {
             "line": {
              "color": "#E5ECF6",
              "width": 0.5
             },
             "pattern": {
              "fillmode": "overlay",
              "size": 10,
              "solidity": 0.2
             }
            },
            "type": "bar"
           }
          ],
          "barpolar": [
           {
            "marker": {
             "line": {
              "color": "#E5ECF6",
              "width": 0.5
             },
             "pattern": {
              "fillmode": "overlay",
              "size": 10,
              "solidity": 0.2
             }
            },
            "type": "barpolar"
           }
          ],
          "carpet": [
           {
            "aaxis": {
             "endlinecolor": "#2a3f5f",
             "gridcolor": "white",
             "linecolor": "white",
             "minorgridcolor": "white",
             "startlinecolor": "#2a3f5f"
            },
            "baxis": {
             "endlinecolor": "#2a3f5f",
             "gridcolor": "white",
             "linecolor": "white",
             "minorgridcolor": "white",
             "startlinecolor": "#2a3f5f"
            },
            "type": "carpet"
           }
          ],
          "choropleth": [
           {
            "colorbar": {
             "outlinewidth": 0,
             "ticks": ""
            },
            "type": "choropleth"
           }
          ],
          "contour": [
           {
            "colorbar": {
             "outlinewidth": 0,
             "ticks": ""
            },
            "colorscale": [
             [
              0,
              "#0d0887"
             ],
             [
              0.1111111111111111,
              "#46039f"
             ],
             [
              0.2222222222222222,
              "#7201a8"
             ],
             [
              0.3333333333333333,
              "#9c179e"
             ],
             [
              0.4444444444444444,
              "#bd3786"
             ],
             [
              0.5555555555555556,
              "#d8576b"
             ],
             [
              0.6666666666666666,
              "#ed7953"
             ],
             [
              0.7777777777777778,
              "#fb9f3a"
             ],
             [
              0.8888888888888888,
              "#fdca26"
             ],
             [
              1,
              "#f0f921"
             ]
            ],
            "type": "contour"
           }
          ],
          "contourcarpet": [
           {
            "colorbar": {
             "outlinewidth": 0,
             "ticks": ""
            },
            "type": "contourcarpet"
           }
          ],
          "heatmap": [
           {
            "colorbar": {
             "outlinewidth": 0,
             "ticks": ""
            },
            "colorscale": [
             [
              0,
              "#0d0887"
             ],
             [
              0.1111111111111111,
              "#46039f"
             ],
             [
              0.2222222222222222,
              "#7201a8"
             ],
             [
              0.3333333333333333,
              "#9c179e"
             ],
             [
              0.4444444444444444,
              "#bd3786"
             ],
             [
              0.5555555555555556,
              "#d8576b"
             ],
             [
              0.6666666666666666,
              "#ed7953"
             ],
             [
              0.7777777777777778,
              "#fb9f3a"
             ],
             [
              0.8888888888888888,
              "#fdca26"
             ],
             [
              1,
              "#f0f921"
             ]
            ],
            "type": "heatmap"
           }
          ],
          "heatmapgl": [
           {
            "colorbar": {
             "outlinewidth": 0,
             "ticks": ""
            },
            "colorscale": [
             [
              0,
              "#0d0887"
             ],
             [
              0.1111111111111111,
              "#46039f"
             ],
             [
              0.2222222222222222,
              "#7201a8"
             ],
             [
              0.3333333333333333,
              "#9c179e"
             ],
             [
              0.4444444444444444,
              "#bd3786"
             ],
             [
              0.5555555555555556,
              "#d8576b"
             ],
             [
              0.6666666666666666,
              "#ed7953"
             ],
             [
              0.7777777777777778,
              "#fb9f3a"
             ],
             [
              0.8888888888888888,
              "#fdca26"
             ],
             [
              1,
              "#f0f921"
             ]
            ],
            "type": "heatmapgl"
           }
          ],
          "histogram": [
           {
            "marker": {
             "pattern": {
              "fillmode": "overlay",
              "size": 10,
              "solidity": 0.2
             }
            },
            "type": "histogram"
           }
          ],
          "histogram2d": [
           {
            "colorbar": {
             "outlinewidth": 0,
             "ticks": ""
            },
            "colorscale": [
             [
              0,
              "#0d0887"
             ],
             [
              0.1111111111111111,
              "#46039f"
             ],
             [
              0.2222222222222222,
              "#7201a8"
             ],
             [
              0.3333333333333333,
              "#9c179e"
             ],
             [
              0.4444444444444444,
              "#bd3786"
             ],
             [
              0.5555555555555556,
              "#d8576b"
             ],
             [
              0.6666666666666666,
              "#ed7953"
             ],
             [
              0.7777777777777778,
              "#fb9f3a"
             ],
             [
              0.8888888888888888,
              "#fdca26"
             ],
             [
              1,
              "#f0f921"
             ]
            ],
            "type": "histogram2d"
           }
          ],
          "histogram2dcontour": [
           {
            "colorbar": {
             "outlinewidth": 0,
             "ticks": ""
            },
            "colorscale": [
             [
              0,
              "#0d0887"
             ],
             [
              0.1111111111111111,
              "#46039f"
             ],
             [
              0.2222222222222222,
              "#7201a8"
             ],
             [
              0.3333333333333333,
              "#9c179e"
             ],
             [
              0.4444444444444444,
              "#bd3786"
             ],
             [
              0.5555555555555556,
              "#d8576b"
             ],
             [
              0.6666666666666666,
              "#ed7953"
             ],
             [
              0.7777777777777778,
              "#fb9f3a"
             ],
             [
              0.8888888888888888,
              "#fdca26"
             ],
             [
              1,
              "#f0f921"
             ]
            ],
            "type": "histogram2dcontour"
           }
          ],
          "mesh3d": [
           {
            "colorbar": {
             "outlinewidth": 0,
             "ticks": ""
            },
            "type": "mesh3d"
           }
          ],
          "parcoords": [
           {
            "line": {
             "colorbar": {
              "outlinewidth": 0,
              "ticks": ""
             }
            },
            "type": "parcoords"
           }
          ],
          "pie": [
           {
            "automargin": true,
            "type": "pie"
           }
          ],
          "scatter": [
           {
            "fillpattern": {
             "fillmode": "overlay",
             "size": 10,
             "solidity": 0.2
            },
            "type": "scatter"
           }
          ],
          "scatter3d": [
           {
            "line": {
             "colorbar": {
              "outlinewidth": 0,
              "ticks": ""
             }
            },
            "marker": {
             "colorbar": {
              "outlinewidth": 0,
              "ticks": ""
             }
            },
            "type": "scatter3d"
           }
          ],
          "scattercarpet": [
           {
            "marker": {
             "colorbar": {
              "outlinewidth": 0,
              "ticks": ""
             }
            },
            "type": "scattercarpet"
           }
          ],
          "scattergeo": [
           {
            "marker": {
             "colorbar": {
              "outlinewidth": 0,
              "ticks": ""
             }
            },
            "type": "scattergeo"
           }
          ],
          "scattergl": [
           {
            "marker": {
             "colorbar": {
              "outlinewidth": 0,
              "ticks": ""
             }
            },
            "type": "scattergl"
           }
          ],
          "scattermapbox": [
           {
            "marker": {
             "colorbar": {
              "outlinewidth": 0,
              "ticks": ""
             }
            },
            "type": "scattermapbox"
           }
          ],
          "scatterpolar": [
           {
            "marker": {
             "colorbar": {
              "outlinewidth": 0,
              "ticks": ""
             }
            },
            "type": "scatterpolar"
           }
          ],
          "scatterpolargl": [
           {
            "marker": {
             "colorbar": {
              "outlinewidth": 0,
              "ticks": ""
             }
            },
            "type": "scatterpolargl"
           }
          ],
          "scatterternary": [
           {
            "marker": {
             "colorbar": {
              "outlinewidth": 0,
              "ticks": ""
             }
            },
            "type": "scatterternary"
           }
          ],
          "surface": [
           {
            "colorbar": {
             "outlinewidth": 0,
             "ticks": ""
            },
            "colorscale": [
             [
              0,
              "#0d0887"
             ],
             [
              0.1111111111111111,
              "#46039f"
             ],
             [
              0.2222222222222222,
              "#7201a8"
             ],
             [
              0.3333333333333333,
              "#9c179e"
             ],
             [
              0.4444444444444444,
              "#bd3786"
             ],
             [
              0.5555555555555556,
              "#d8576b"
             ],
             [
              0.6666666666666666,
              "#ed7953"
             ],
             [
              0.7777777777777778,
              "#fb9f3a"
             ],
             [
              0.8888888888888888,
              "#fdca26"
             ],
             [
              1,
              "#f0f921"
             ]
            ],
            "type": "surface"
           }
          ],
          "table": [
           {
            "cells": {
             "fill": {
              "color": "#EBF0F8"
             },
             "line": {
              "color": "white"
             }
            },
            "header": {
             "fill": {
              "color": "#C8D4E3"
             },
             "line": {
              "color": "white"
             }
            },
            "type": "table"
           }
          ]
         },
         "layout": {
          "annotationdefaults": {
           "arrowcolor": "#2a3f5f",
           "arrowhead": 0,
           "arrowwidth": 1
          },
          "autotypenumbers": "strict",
          "coloraxis": {
           "colorbar": {
            "outlinewidth": 0,
            "ticks": ""
           }
          },
          "colorscale": {
           "diverging": [
            [
             0,
             "#8e0152"
            ],
            [
             0.1,
             "#c51b7d"
            ],
            [
             0.2,
             "#de77ae"
            ],
            [
             0.3,
             "#f1b6da"
            ],
            [
             0.4,
             "#fde0ef"
            ],
            [
             0.5,
             "#f7f7f7"
            ],
            [
             0.6,
             "#e6f5d0"
            ],
            [
             0.7,
             "#b8e186"
            ],
            [
             0.8,
             "#7fbc41"
            ],
            [
             0.9,
             "#4d9221"
            ],
            [
             1,
             "#276419"
            ]
           ],
           "sequential": [
            [
             0,
             "#0d0887"
            ],
            [
             0.1111111111111111,
             "#46039f"
            ],
            [
             0.2222222222222222,
             "#7201a8"
            ],
            [
             0.3333333333333333,
             "#9c179e"
            ],
            [
             0.4444444444444444,
             "#bd3786"
            ],
            [
             0.5555555555555556,
             "#d8576b"
            ],
            [
             0.6666666666666666,
             "#ed7953"
            ],
            [
             0.7777777777777778,
             "#fb9f3a"
            ],
            [
             0.8888888888888888,
             "#fdca26"
            ],
            [
             1,
             "#f0f921"
            ]
           ],
           "sequentialminus": [
            [
             0,
             "#0d0887"
            ],
            [
             0.1111111111111111,
             "#46039f"
            ],
            [
             0.2222222222222222,
             "#7201a8"
            ],
            [
             0.3333333333333333,
             "#9c179e"
            ],
            [
             0.4444444444444444,
             "#bd3786"
            ],
            [
             0.5555555555555556,
             "#d8576b"
            ],
            [
             0.6666666666666666,
             "#ed7953"
            ],
            [
             0.7777777777777778,
             "#fb9f3a"
            ],
            [
             0.8888888888888888,
             "#fdca26"
            ],
            [
             1,
             "#f0f921"
            ]
           ]
          },
          "colorway": [
           "#636efa",
           "#EF553B",
           "#00cc96",
           "#ab63fa",
           "#FFA15A",
           "#19d3f3",
           "#FF6692",
           "#B6E880",
           "#FF97FF",
           "#FECB52"
          ],
          "font": {
           "color": "#2a3f5f"
          },
          "geo": {
           "bgcolor": "white",
           "lakecolor": "white",
           "landcolor": "#E5ECF6",
           "showlakes": true,
           "showland": true,
           "subunitcolor": "white"
          },
          "hoverlabel": {
           "align": "left"
          },
          "hovermode": "closest",
          "mapbox": {
           "style": "light"
          },
          "paper_bgcolor": "white",
          "plot_bgcolor": "#E5ECF6",
          "polar": {
           "angularaxis": {
            "gridcolor": "white",
            "linecolor": "white",
            "ticks": ""
           },
           "bgcolor": "#E5ECF6",
           "radialaxis": {
            "gridcolor": "white",
            "linecolor": "white",
            "ticks": ""
           }
          },
          "scene": {
           "xaxis": {
            "backgroundcolor": "#E5ECF6",
            "gridcolor": "white",
            "gridwidth": 2,
            "linecolor": "white",
            "showbackground": true,
            "ticks": "",
            "zerolinecolor": "white"
           },
           "yaxis": {
            "backgroundcolor": "#E5ECF6",
            "gridcolor": "white",
            "gridwidth": 2,
            "linecolor": "white",
            "showbackground": true,
            "ticks": "",
            "zerolinecolor": "white"
           },
           "zaxis": {
            "backgroundcolor": "#E5ECF6",
            "gridcolor": "white",
            "gridwidth": 2,
            "linecolor": "white",
            "showbackground": true,
            "ticks": "",
            "zerolinecolor": "white"
           }
          },
          "shapedefaults": {
           "line": {
            "color": "#2a3f5f"
           }
          },
          "ternary": {
           "aaxis": {
            "gridcolor": "white",
            "linecolor": "white",
            "ticks": ""
           },
           "baxis": {
            "gridcolor": "white",
            "linecolor": "white",
            "ticks": ""
           },
           "bgcolor": "#E5ECF6",
           "caxis": {
            "gridcolor": "white",
            "linecolor": "white",
            "ticks": ""
           }
          },
          "title": {
           "x": 0.05
          },
          "xaxis": {
           "automargin": true,
           "gridcolor": "white",
           "linecolor": "white",
           "ticks": "",
           "title": {
            "standoff": 15
           },
           "zerolinecolor": "white",
           "zerolinewidth": 2
          },
          "yaxis": {
           "automargin": true,
           "gridcolor": "white",
           "linecolor": "white",
           "ticks": "",
           "title": {
            "standoff": 15
           },
           "zerolinecolor": "white",
           "zerolinewidth": 2
          }
         }
        },
        "title": {
         "text": "🧠 Interactive Diagnostic Bubble Plot: Confidence by Case"
        },
        "xaxis": {
         "anchor": "y",
         "domain": [
          0,
          1
         ],
         "title": {
          "text": "mean radius"
         }
        },
        "yaxis": {
         "anchor": "x",
         "domain": [
          0,
          1
         ],
         "title": {
          "text": "mean perimeter"
         }
        }
       }
      }
     },
     "metadata": {},
     "output_type": "display_data"
    }
   ],
   "source": [
    "import plotly.express as px\n",
    "import pandas as pd\n",
    "import numpy as np\n",
    "\n",
    "# Get predictions and confidences\n",
    "X = cancer.data\n",
    "y = cancer.target\n",
    "y_pred = clf.predict(X)\n",
    "y_prob = clf.predict_proba(X)\n",
    "confidences = np.max(y_prob, axis=1)\n",
    "\n",
    "# Construct DataFrame\n",
    "viz_df = pd.DataFrame(X, columns=cancer.feature_names)\n",
    "viz_df['actual'] = [cancer.target_names[i] for i in y]\n",
    "viz_df['predicted'] = [cancer.target_names[i] for i in y_pred]\n",
    "viz_df['confidence'] = confidences\n",
    "\n",
    "# Select key features for visualization\n",
    "fig = px.scatter(\n",
    "    viz_df,\n",
    "    x='mean radius',\n",
    "    y='mean perimeter',\n",
    "    color='predicted',\n",
    "    size='confidence',\n",
    "    symbol='actual',\n",
    "    hover_data=['confidence', 'mean area', 'worst smoothness'],\n",
    "    title=\"🧠 Interactive Diagnostic Bubble Plot: Confidence by Case\",\n",
    "    labels={'predicted': 'Predicted Diagnosis'},\n",
    "    height=600\n",
    ")\n",
    "\n",
    "fig.update_traces(marker=dict(line=dict(width=1, color='DarkSlateGrey')))\n",
    "fig.show()"
   ]
  },
  {
   "cell_type": "markdown",
   "id": "15c4e70b-5f7c-464f-9756-95b8d3f298bf",
   "metadata": {},
   "source": [
    "### What This Plot Shows:\n",
    "\n",
    "* **Disagreement** between actual and predicted (via symbol mismatch)\n",
    "* **Confidence variance** — high vs low trust regions\n",
    "* Instant visual cue if your model's unsure in any region"
   ]
  },
  {
   "cell_type": "markdown",
   "id": "6370102f-5fe2-43fc-9a45-158cbd4611b9",
   "metadata": {},
   "source": [
    "**Let’s go nuclear.**\n",
    "**7B, 7C, 7D**  you’re getting a full-fledged **data war room**:\n",
    "\n",
    "## STEP 7B: Confidence Heatmap Over 2D PCA Projection\n",
    "\n",
    "### Objective:\n",
    "\n",
    "Project high-dimensional features (30) down to **2D using PCA**, then visualize **model confidence** across this plane.\n",
    "\n",
    "\n",
    "### Code Block: PCA + Confidence Heatmap\n"
   ]
  },
  {
   "cell_type": "code",
   "execution_count": 8,
   "id": "b3ac2d0d-0946-470e-93ae-829b942c2c5f",
   "metadata": {},
   "outputs": [
    {
     "data": {
      "application/vnd.plotly.v1+json": {
       "config": {
        "plotlyServerURL": "https://plot.ly"
       },
       "data": [
        {
         "customdata": [
          [
           "malignant",
           "malignant"
          ],
          [
           "malignant",
           "malignant"
          ],
          [
           "malignant",
           "malignant"
          ],
          [
           "malignant",
           "malignant"
          ],
          [
           "malignant",
           "malignant"
          ],
          [
           "malignant",
           "malignant"
          ],
          [
           "malignant",
           "malignant"
          ],
          [
           "malignant",
           "malignant"
          ],
          [
           "malignant",
           "malignant"
          ],
          [
           "malignant",
           "malignant"
          ],
          [
           "malignant",
           "malignant"
          ],
          [
           "malignant",
           "malignant"
          ],
          [
           "malignant",
           "malignant"
          ],
          [
           "malignant",
           "malignant"
          ],
          [
           "malignant",
           "malignant"
          ],
          [
           "malignant",
           "malignant"
          ],
          [
           "malignant",
           "malignant"
          ],
          [
           "malignant",
           "malignant"
          ],
          [
           "malignant",
           "malignant"
          ],
          [
           "malignant",
           "malignant"
          ],
          [
           "malignant",
           "malignant"
          ],
          [
           "malignant",
           "malignant"
          ],
          [
           "malignant",
           "malignant"
          ],
          [
           "malignant",
           "malignant"
          ],
          [
           "malignant",
           "malignant"
          ],
          [
           "malignant",
           "malignant"
          ],
          [
           "malignant",
           "malignant"
          ],
          [
           "malignant",
           "malignant"
          ],
          [
           "malignant",
           "malignant"
          ],
          [
           "malignant",
           "malignant"
          ],
          [
           "malignant",
           "malignant"
          ],
          [
           "malignant",
           "malignant"
          ],
          [
           "malignant",
           "malignant"
          ],
          [
           "malignant",
           "malignant"
          ],
          [
           "malignant",
           "malignant"
          ],
          [
           "malignant",
           "malignant"
          ],
          [
           "malignant",
           "malignant"
          ],
          [
           "malignant",
           "malignant"
          ],
          [
           "malignant",
           "malignant"
          ],
          [
           "malignant",
           "malignant"
          ],
          [
           "malignant",
           "malignant"
          ],
          [
           "malignant",
           "malignant"
          ],
          [
           "malignant",
           "malignant"
          ],
          [
           "malignant",
           "malignant"
          ],
          [
           "malignant",
           "malignant"
          ],
          [
           "malignant",
           "malignant"
          ],
          [
           "malignant",
           "malignant"
          ],
          [
           "malignant",
           "malignant"
          ],
          [
           "malignant",
           "malignant"
          ],
          [
           "malignant",
           "malignant"
          ],
          [
           "malignant",
           "malignant"
          ],
          [
           "malignant",
           "malignant"
          ],
          [
           "malignant",
           "malignant"
          ],
          [
           "malignant",
           "malignant"
          ],
          [
           "malignant",
           "malignant"
          ],
          [
           "malignant",
           "malignant"
          ],
          [
           "malignant",
           "malignant"
          ],
          [
           "malignant",
           "malignant"
          ],
          [
           "malignant",
           "malignant"
          ],
          [
           "malignant",
           "malignant"
          ],
          [
           "malignant",
           "malignant"
          ],
          [
           "malignant",
           "malignant"
          ],
          [
           "malignant",
           "malignant"
          ],
          [
           "malignant",
           "malignant"
          ],
          [
           "malignant",
           "malignant"
          ],
          [
           "malignant",
           "malignant"
          ],
          [
           "malignant",
           "malignant"
          ],
          [
           "malignant",
           "malignant"
          ],
          [
           "malignant",
           "malignant"
          ],
          [
           "malignant",
           "malignant"
          ],
          [
           "malignant",
           "malignant"
          ],
          [
           "malignant",
           "malignant"
          ],
          [
           "malignant",
           "malignant"
          ],
          [
           "malignant",
           "malignant"
          ],
          [
           "malignant",
           "malignant"
          ],
          [
           "malignant",
           "malignant"
          ],
          [
           "malignant",
           "malignant"
          ],
          [
           "malignant",
           "malignant"
          ],
          [
           "malignant",
           "malignant"
          ],
          [
           "malignant",
           "malignant"
          ],
          [
           "malignant",
           "malignant"
          ],
          [
           "malignant",
           "malignant"
          ],
          [
           "malignant",
           "malignant"
          ],
          [
           "malignant",
           "malignant"
          ],
          [
           "malignant",
           "malignant"
          ],
          [
           "malignant",
           "malignant"
          ],
          [
           "malignant",
           "malignant"
          ],
          [
           "malignant",
           "malignant"
          ],
          [
           "malignant",
           "malignant"
          ],
          [
           "malignant",
           "malignant"
          ],
          [
           "malignant",
           "malignant"
          ],
          [
           "malignant",
           "malignant"
          ],
          [
           "malignant",
           "malignant"
          ],
          [
           "malignant",
           "malignant"
          ],
          [
           "malignant",
           "malignant"
          ],
          [
           "malignant",
           "malignant"
          ],
          [
           "malignant",
           "malignant"
          ],
          [
           "malignant",
           "malignant"
          ],
          [
           "malignant",
           "malignant"
          ],
          [
           "malignant",
           "malignant"
          ],
          [
           "malignant",
           "malignant"
          ],
          [
           "malignant",
           "malignant"
          ],
          [
           "malignant",
           "malignant"
          ],
          [
           "malignant",
           "malignant"
          ],
          [
           "malignant",
           "malignant"
          ],
          [
           "malignant",
           "malignant"
          ],
          [
           "malignant",
           "malignant"
          ],
          [
           "malignant",
           "malignant"
          ],
          [
           "malignant",
           "malignant"
          ],
          [
           "malignant",
           "malignant"
          ],
          [
           "malignant",
           "malignant"
          ],
          [
           "malignant",
           "malignant"
          ],
          [
           "malignant",
           "malignant"
          ],
          [
           "malignant",
           "malignant"
          ],
          [
           "malignant",
           "malignant"
          ],
          [
           "malignant",
           "malignant"
          ],
          [
           "malignant",
           "malignant"
          ],
          [
           "malignant",
           "malignant"
          ],
          [
           "malignant",
           "malignant"
          ],
          [
           "malignant",
           "malignant"
          ],
          [
           "malignant",
           "malignant"
          ],
          [
           "malignant",
           "malignant"
          ],
          [
           "malignant",
           "malignant"
          ],
          [
           "malignant",
           "malignant"
          ],
          [
           "malignant",
           "malignant"
          ],
          [
           "malignant",
           "malignant"
          ],
          [
           "malignant",
           "malignant"
          ],
          [
           "malignant",
           "malignant"
          ],
          [
           "malignant",
           "malignant"
          ],
          [
           "malignant",
           "malignant"
          ],
          [
           "malignant",
           "malignant"
          ],
          [
           "malignant",
           "malignant"
          ],
          [
           "malignant",
           "malignant"
          ],
          [
           "malignant",
           "malignant"
          ],
          [
           "malignant",
           "malignant"
          ],
          [
           "malignant",
           "malignant"
          ],
          [
           "malignant",
           "malignant"
          ],
          [
           "malignant",
           "malignant"
          ],
          [
           "malignant",
           "malignant"
          ],
          [
           "malignant",
           "malignant"
          ],
          [
           "malignant",
           "malignant"
          ],
          [
           "malignant",
           "malignant"
          ],
          [
           "malignant",
           "malignant"
          ],
          [
           "malignant",
           "malignant"
          ],
          [
           "malignant",
           "malignant"
          ],
          [
           "malignant",
           "malignant"
          ],
          [
           "malignant",
           "malignant"
          ],
          [
           "malignant",
           "malignant"
          ],
          [
           "malignant",
           "malignant"
          ],
          [
           "malignant",
           "malignant"
          ],
          [
           "malignant",
           "malignant"
          ],
          [
           "malignant",
           "malignant"
          ],
          [
           "malignant",
           "malignant"
          ],
          [
           "malignant",
           "malignant"
          ],
          [
           "malignant",
           "malignant"
          ],
          [
           "malignant",
           "malignant"
          ],
          [
           "malignant",
           "malignant"
          ],
          [
           "malignant",
           "malignant"
          ],
          [
           "malignant",
           "malignant"
          ],
          [
           "malignant",
           "malignant"
          ],
          [
           "malignant",
           "malignant"
          ],
          [
           "malignant",
           "malignant"
          ],
          [
           "malignant",
           "malignant"
          ],
          [
           "malignant",
           "malignant"
          ],
          [
           "malignant",
           "malignant"
          ],
          [
           "malignant",
           "malignant"
          ],
          [
           "malignant",
           "malignant"
          ],
          [
           "malignant",
           "malignant"
          ],
          [
           "malignant",
           "malignant"
          ],
          [
           "malignant",
           "malignant"
          ],
          [
           "malignant",
           "malignant"
          ],
          [
           "malignant",
           "malignant"
          ],
          [
           "malignant",
           "malignant"
          ],
          [
           "malignant",
           "malignant"
          ],
          [
           "malignant",
           "malignant"
          ],
          [
           "malignant",
           "malignant"
          ],
          [
           "malignant",
           "malignant"
          ],
          [
           "malignant",
           "malignant"
          ],
          [
           "malignant",
           "malignant"
          ],
          [
           "malignant",
           "malignant"
          ],
          [
           "malignant",
           "malignant"
          ],
          [
           "malignant",
           "malignant"
          ],
          [
           "malignant",
           "malignant"
          ],
          [
           "malignant",
           "malignant"
          ],
          [
           "malignant",
           "malignant"
          ],
          [
           "malignant",
           "malignant"
          ],
          [
           "malignant",
           "malignant"
          ],
          [
           "malignant",
           "malignant"
          ],
          [
           "malignant",
           "malignant"
          ],
          [
           "malignant",
           "malignant"
          ],
          [
           "malignant",
           "malignant"
          ],
          [
           "malignant",
           "malignant"
          ],
          [
           "malignant",
           "malignant"
          ],
          [
           "malignant",
           "malignant"
          ],
          [
           "malignant",
           "malignant"
          ],
          [
           "malignant",
           "malignant"
          ],
          [
           "malignant",
           "malignant"
          ],
          [
           "malignant",
           "malignant"
          ],
          [
           "malignant",
           "malignant"
          ],
          [
           "malignant",
           "malignant"
          ],
          [
           "malignant",
           "malignant"
          ],
          [
           "malignant",
           "malignant"
          ],
          [
           "malignant",
           "malignant"
          ],
          [
           "malignant",
           "malignant"
          ],
          [
           "malignant",
           "malignant"
          ],
          [
           "malignant",
           "malignant"
          ],
          [
           "malignant",
           "malignant"
          ],
          [
           "malignant",
           "malignant"
          ],
          [
           "malignant",
           "malignant"
          ],
          [
           "malignant",
           "malignant"
          ],
          [
           "malignant",
           "malignant"
          ],
          [
           "malignant",
           "malignant"
          ]
         ],
         "hovertemplate": "predicted=%{customdata[0]}<br>PCA1=%{x}<br>PCA2=%{y}<br>actual=%{customdata[1]}<br>confidence=%{marker.color}<extra></extra>",
         "legendgroup": "malignant",
         "marker": {
          "color": [
           0.96,
           0.99,
           1,
           0.92,
           0.98,
           0.89,
           1,
           0.96,
           0.96,
           0.94,
           0.87,
           1,
           0.98,
           0.87,
           0.96,
           1,
           0.97,
           1,
           1,
           0.95,
           0.99,
           1,
           0.99,
           0.98,
           1,
           1,
           0.98,
           1,
           0.95,
           1,
           1,
           1,
           1,
           0.95,
           0.77,
           0.83,
           0.62,
           0.73,
           1,
           0.98,
           0.82,
           1,
           0.95,
           0.98,
           0.93,
           1,
           0.99,
           0.99,
           0.99,
           0.97,
           1,
           1,
           0.71,
           1,
           1,
           1,
           1,
           0.99,
           0.99,
           0.7,
           1,
           0.83,
           1,
           1,
           0.9,
           0.83,
           0.92,
           1,
           1,
           1,
           0.96,
           1,
           1,
           0.87,
           1,
           1,
           1,
           0.99,
           1,
           0.59,
           0.98,
           0.99,
           0.86,
           1,
           0.99,
           1,
           1,
           0.98,
           1,
           0.87,
           0.93,
           1,
           1,
           1,
           0.98,
           0.91,
           0.92,
           0.96,
           0.79,
           0.97,
           0.92,
           0.93,
           1,
           0.96,
           1,
           1,
           1,
           0.86,
           0.91,
           1,
           0.98,
           0.94,
           0.97,
           0.89,
           1,
           1,
           1,
           0.97,
           0.99,
           1,
           1,
           1,
           1,
           1,
           1,
           1,
           1,
           1,
           0.81,
           1,
           0.99,
           0.99,
           1,
           1,
           0.88,
           0.99,
           0.86,
           1,
           1,
           1,
           0.91,
           0.94,
           1,
           1,
           0.99,
           0.69,
           1,
           1,
           1,
           0.99,
           1,
           1,
           0.95,
           0.99,
           1,
           1,
           1,
           1,
           1,
           1,
           1,
           1,
           1,
           1,
           1,
           1,
           0.99,
           1,
           0.88,
           0.69,
           0.98,
           1,
           1,
           1,
           1,
           0.81,
           1,
           0.97,
           1,
           1,
           0.97,
           0.99,
           0.99,
           1,
           1,
           1,
           1,
           1,
           1,
           0.99,
           1,
           0.94,
           1,
           1,
           1,
           0.93,
           1,
           0.98,
           0.99,
           0.84,
           1,
           1,
           1,
           1,
           1,
           0.87,
           0.98,
           1,
           1,
           1,
           1,
           1
          ],
          "coloraxis": "coloraxis",
          "symbol": "circle"
         },
         "mode": "markers",
         "name": "malignant",
         "orientation": "v",
         "showlegend": true,
         "type": "scatter",
         "x": [
          1160.1425737041372,
          1269.1224431936494,
          995.7938889594561,
          -407.1808025313537,
          930.3411801543014,
          -211.59125901232858,
          821.2108998864408,
          -25.089977583608288,
          -191.2928344265215,
          -238.29286318083655,
          304.6878180615429,
          424.36112828037744,
          634.5143351580107,
          63.042690634630844,
          -196.44120953852143,
          56.00468283228042,
          235.85811954240262,
          447.3927796639043,
          1615.0934525928114,
          112.56045884124092,
          1873.733116004882,
          1273.730656589877,
          634.8797685243496,
          8.591841257438091,
          677.7845259117667,
          373.71988149392155,
          453.67808881432643,
          903.9812789509606,
          -103.68931153801611,
          524.9452025118676,
          1062.1715855602606,
          404.3859342192011,
          410.0497559248324,
          -80.65779457655549,
          -128.97315587393803,
          -170.24572278092296,
          -127.99476077774762,
          -462.0280076927261,
          897.0274270790962,
          -34.37520146039674,
          -184.70736262610944,
          807.5645732939265,
          -166.75718349978058,
          576.3603078504775,
          157.40407893822498,
          1342.138565456154,
          90.99894938374155,
          64.4083862104585,
          -74.27680463298475,
          45.17542967541522,
          1092.4010478406904,
          828.5811984980517,
          -95.55636164961163,
          379.60238651966324,
          811.3900045303528,
          946.8658579311718,
          2077.40593868491,
          606.824326559795,
          838.2360335394151,
          -64.46308433683885,
          854.6137988360956,
          -4.737083209297225,
          150.75303730593214,
          1062.2037615492736,
          -53.105552826605845,
          -15.097025311118841,
          -110.47836154087008,
          1716.4192215531161,
          198.25072141969622,
          402.2178698307655,
          495.88690069594736,
          793.4673048111408,
          1604.7984048131102,
          -70.65063465659887,
          815.3241590523205,
          885.9992730856384,
          284.9481321352141,
          332.7756876288488,
          826.1321270650717,
          -272.44396523760236,
          93.69534279103277,
          385.44959125734863,
          -363.46053521136446,
          523.8767669136264,
          790.6213915469878,
          1448.4283594106182,
          1839.368885704842,
          446.20267567310134,
          842.4144495601727,
          50.48770751130405,
          232.51516353307466,
          178.68853567170572,
          2828.2414387277436,
          1376.3923121108492,
          390.1991571556591,
          107.05828016411397,
          652.5821051266246,
          -124.35086617549484,
          -187.83080167427522,
          -73.13316190951446,
          -96.16242189359957,
          490.8180293591747,
          947.8732192115651,
          132.41975071964248,
          461.2178121662855,
          1482.6088555027636,
          204.41859879786307,
          124.67005378541808,
          412.94292285312645,
          997.0514718261711,
          2366.700707611161,
          273.6382714478325,
          -81.93358584577027,
          -151.62188772894217,
          1267.95996610663,
          1662.8153479705798,
          232.61571898193847,
          -228.32773556943766,
          388.50433778473644,
          1194.0117341257487,
          2296.4799883834003,
          1083.9297489648793,
          589.7968322817044,
          719.90638010762,
          1338.898450960577,
          1188.5326991475804,
          433.72977470035335,
          1201.4375791286611,
          -73.88624475122401,
          1184.9305126899048,
          73.35754373991108,
          363.6071584156971,
          178.6064950289267,
          1153.074365908008,
          433.284770892496,
          509.6796726392099,
          145.36968319644006,
          617.2429672389703,
          2584.8281423407743,
          1726.0947626575817,
          554.7930597266497,
          535.8523047873841,
          973.891550599401,
          894.4191397975628,
          206.70012261493957,
          -395.5124487113652,
          1299.2324588263104,
          1010.0107137458217,
          710.4537911042548,
          987.0231110934164,
          1222.2125243045311,
          288.84442894554286,
          171.3254116149874,
          233.81932738839623,
          551.6560219816533,
          1078.0479395447478,
          2304.217592991744,
          845.9471416340359,
          84.93189007765409,
          2721.000901457775,
          178.4934156216459,
          1102.1770929451932,
          980.5214691150436,
          2404.942290109097,
          1586.1282923594144,
          340.2523758083819,
          939.3997207932618,
          1265.8824979303927,
          -471.8672476624738,
          -99.76975919064682,
          641.4979257530451,
          457.68725888591575,
          1418.9768840819193,
          539.3990893771486,
          576.2095875976404,
          77.3496363145689,
          826.2111420647175,
          -24.86579130177779,
          821.5897280605309,
          857.3901811100623,
          -39.120972620560906,
          488.37622843925647,
          525.7068877957113,
          646.0462246717882,
          1356.4599399015115,
          741.384890426335,
          803.7161116078016,
          3867.1780530834826,
          648.8111183691624,
          134.50326121385774,
          1002.1485046192979,
          278.67941798714696,
          652.2445284166552,
          832.6097733851402,
          1099.4868885071464,
          -109.46470092465051,
          2166.1851650417752,
          64.59651212882682,
          -81.75387140521832,
          98.35553603957374,
          731.3671966675383,
          946.295946455356,
          2127.0180931289324,
          991.3787299309206,
          1135.5819475137077,
          -143.99456732377053,
          61.94079861105979,
          1167.1369776033066,
          1414.1266836031496,
          1045.0188544396437,
          314.5017561800187,
          1124.8581153057103
         ],
         "xaxis": "x",
         "y": [
          -293.9175436373914,
          15.63018184340065,
          39.15674324394652,
          -67.38031982267498,
          189.3407415780383,
          -79.87744625773063,
          -47.14966994165544,
          -74.18601460628645,
          -42.12648962431003,
          -65.38650691770317,
          -17.72505983739309,
          -109.22029973153334,
          167.20543573639063,
          111.67757566869048,
          29.657934246091486,
          -29.148348577334303,
          -108.42564295979118,
          -102.15156644218104,
          -270.33335105734193,
          -9.160553988383413,
          -260.1960553330185,
          -479.32141873753426,
          -79.93167625015703,
          -16.984420544966113,
          104.82466196501738,
          -135.33476275217663,
          77.39995467565646,
          -38.910187661319014,
          -187.68532430520384,
          -31.227626601502493,
          -50.240148877472365,
          -67.07954492366324,
          2.8641318972829453,
          23.363527333296304,
          132.60688701385513,
          -9.054875298496398,
          -30.687498226414505,
          -52.80258738773191,
          -15.172052511055838,
          -107.6727614964113,
          -33.08065885234792,
          4.271380335250953,
          -40.01468420854947,
          95.45172422415371,
          -28.156747521710386,
          -231.1482700055976,
          -52.664248730219825,
          -48.46995593403454,
          -137.5430707409068,
          -11.522659024919122,
          -105.03575927178136,
          -180.66786869609848,
          -25.01734282996675,
          -38.201422784690536,
          -77.41738010023067,
          120.57415109579017,
          173.51833851336127,
          191.92337035603825,
          -15.474407770643637,
          31.64126625150149,
          -25.184530650140317,
          88.70351580664357,
          -31.26636051903266,
          69.83217009921935,
          17.596386926345204,
          -75.33594625017889,
          -78.76476106140214,
          -36.54873435960532,
          -87.51014142473424,
          -93.714701432431,
          82.41878561287095,
          14.432702278102639,
          328.66757000996597,
          -54.0974415610875,
          72.15386433938716,
          91.8335747601511,
          -62.392014515933205,
          -20.219026487325564,
          -8.92460367554736,
          -9.516460123705045,
          -26.591725389152003,
          -47.3833262045178,
          -40.668458679377125,
          46.053748749596,
          111.27201099143142,
          -223.24078061153327,
          91.2888973407386,
          1.22499207446414,
          -122.19219673494294,
          -135.39552776009396,
          -44.38499742376416,
          100.33921825866719,
          151.24856843565593,
          -65.75980251102911,
          -106.22410488920889,
          -0.38219656601643237,
          55.34526803924507,
          23.02558975975208,
          -94.08380087375619,
          64.28037584636928,
          -18.049561115744893,
          135.7539365479167,
          2.6675467954334096,
          -95.3795705298865,
          67.93643511305609,
          307.41711401921066,
          -190.38327716201508,
          -3.634179216071587,
          42.592979693472216,
          141.2159699945379,
          739.6209180076603,
          178.22700539380602,
          -1.7803102361373107,
          2.880152250681718,
          -93.60121265430892,
          -343.27903718299854,
          -16.6088238510181,
          -39.08896593040009,
          45.54736514334476,
          53.17521251508401,
          -203.09928103637077,
          105.65976229726499,
          -46.6624330850058,
          149.65220843841036,
          20.7293503694238,
          -74.6744344344782,
          56.66964781728194,
          -126.87795668487763,
          -16.35872885341547,
          -70.0696079452963,
          25.598230003416234,
          -76.68936918107698,
          -3.326698977656676,
          41.070525935438326,
          62.77798687419403,
          35.90133597117145,
          32.50065098014829,
          -54.543081630022144,
          -671.532262568459,
          -64.80927334505971,
          66.0453444356292,
          197.9758750155926,
          -24.58846666883204,
          31.33096076907961,
          50.762720823852675,
          -21.66200179958095,
          -127.45438813368436,
          83.91113586609842,
          4.6116990168596885,
          126.62998854856696,
          -27.803585621465515,
          11.239600798359817,
          98.38313932174239,
          20.255707455109587,
          -24.06430799396685,
          -141.2503388181744,
          -117.53510923305785,
          119.0009967952455,
          71.36345366895492,
          -62.73629346049619,
          -35.04702502698133,
          78.98759046638722,
          85.4975242354154,
          -412.3091426120403,
          8.948258947752365,
          11.23889586264643,
          285.8529642056891,
          28.63915600999698,
          -57.72276127029743,
          71.94993836165486,
          219.95620029454616,
          -171.3428401971309,
          20.357178880666766,
          70.83058340827733,
          45.166396182850946,
          28.790579047365526,
          -322.90151641720286,
          51.02005269639693,
          198.67610182869626,
          14.62934678182532,
          -41.60496714966901,
          24.944066060879095,
          73.27576144272999,
          -9.448464861418827,
          30.99942454570305,
          178.11106480329798,
          -162.09869022306265,
          -171.01743974415632,
          -9.678224988120803,
          107.45721821070376,
          -7.99819996818033,
          67.77140994922021,
          18.509404115101773,
          -19.683788956562495,
          112.59742081599299,
          -2.2292689584268146,
          -108.42261504115862,
          50.65087436281158,
          -65.15700805083011,
          -4.575815812082283,
          22.000256147012564,
          81.05050905999661,
          100.28766870237621,
          154.52676659735258,
          77.07462712079518,
          57.604678712222466,
          35.26480218351543,
          105.596679125153,
          110.22249212513199,
          77.05758852133062,
          47.55352518489599,
          34.129224970157566
         ],
         "yaxis": "y"
        },
        {
         "customdata": [
          [
           "benign",
           "benign"
          ],
          [
           "benign",
           "benign"
          ],
          [
           "benign",
           "benign"
          ],
          [
           "benign",
           "benign"
          ],
          [
           "benign",
           "benign"
          ],
          [
           "benign",
           "benign"
          ],
          [
           "benign",
           "benign"
          ],
          [
           "benign",
           "benign"
          ],
          [
           "benign",
           "benign"
          ],
          [
           "benign",
           "benign"
          ],
          [
           "benign",
           "benign"
          ],
          [
           "benign",
           "benign"
          ],
          [
           "benign",
           "benign"
          ],
          [
           "benign",
           "benign"
          ],
          [
           "benign",
           "benign"
          ],
          [
           "benign",
           "benign"
          ],
          [
           "benign",
           "benign"
          ],
          [
           "benign",
           "benign"
          ],
          [
           "benign",
           "benign"
          ],
          [
           "benign",
           "benign"
          ],
          [
           "benign",
           "benign"
          ],
          [
           "benign",
           "benign"
          ],
          [
           "benign",
           "benign"
          ],
          [
           "benign",
           "benign"
          ],
          [
           "benign",
           "benign"
          ],
          [
           "benign",
           "benign"
          ],
          [
           "benign",
           "benign"
          ],
          [
           "benign",
           "benign"
          ],
          [
           "benign",
           "benign"
          ],
          [
           "benign",
           "benign"
          ],
          [
           "benign",
           "benign"
          ],
          [
           "benign",
           "benign"
          ],
          [
           "benign",
           "benign"
          ],
          [
           "benign",
           "benign"
          ],
          [
           "benign",
           "benign"
          ],
          [
           "benign",
           "benign"
          ],
          [
           "benign",
           "benign"
          ],
          [
           "benign",
           "benign"
          ],
          [
           "benign",
           "benign"
          ],
          [
           "benign",
           "benign"
          ],
          [
           "benign",
           "benign"
          ],
          [
           "benign",
           "benign"
          ],
          [
           "benign",
           "benign"
          ],
          [
           "benign",
           "benign"
          ],
          [
           "benign",
           "benign"
          ],
          [
           "benign",
           "benign"
          ],
          [
           "benign",
           "benign"
          ],
          [
           "benign",
           "benign"
          ],
          [
           "benign",
           "benign"
          ],
          [
           "benign",
           "benign"
          ],
          [
           "benign",
           "benign"
          ],
          [
           "benign",
           "benign"
          ],
          [
           "benign",
           "benign"
          ],
          [
           "benign",
           "benign"
          ],
          [
           "benign",
           "benign"
          ],
          [
           "benign",
           "benign"
          ],
          [
           "benign",
           "benign"
          ],
          [
           "benign",
           "benign"
          ],
          [
           "benign",
           "benign"
          ],
          [
           "benign",
           "benign"
          ],
          [
           "benign",
           "benign"
          ],
          [
           "benign",
           "benign"
          ],
          [
           "benign",
           "benign"
          ],
          [
           "benign",
           "benign"
          ],
          [
           "benign",
           "benign"
          ],
          [
           "benign",
           "benign"
          ],
          [
           "benign",
           "benign"
          ],
          [
           "benign",
           "benign"
          ],
          [
           "benign",
           "benign"
          ],
          [
           "benign",
           "benign"
          ],
          [
           "benign",
           "benign"
          ],
          [
           "benign",
           "benign"
          ],
          [
           "benign",
           "benign"
          ],
          [
           "benign",
           "benign"
          ],
          [
           "benign",
           "benign"
          ],
          [
           "benign",
           "benign"
          ],
          [
           "benign",
           "benign"
          ],
          [
           "benign",
           "benign"
          ],
          [
           "benign",
           "benign"
          ],
          [
           "benign",
           "benign"
          ],
          [
           "benign",
           "benign"
          ],
          [
           "benign",
           "benign"
          ],
          [
           "benign",
           "benign"
          ],
          [
           "benign",
           "benign"
          ],
          [
           "benign",
           "benign"
          ],
          [
           "benign",
           "benign"
          ],
          [
           "benign",
           "benign"
          ],
          [
           "benign",
           "benign"
          ],
          [
           "benign",
           "benign"
          ],
          [
           "benign",
           "benign"
          ],
          [
           "benign",
           "benign"
          ],
          [
           "benign",
           "benign"
          ],
          [
           "benign",
           "benign"
          ],
          [
           "benign",
           "benign"
          ],
          [
           "benign",
           "benign"
          ],
          [
           "benign",
           "benign"
          ],
          [
           "benign",
           "benign"
          ],
          [
           "benign",
           "benign"
          ],
          [
           "benign",
           "benign"
          ],
          [
           "benign",
           "benign"
          ],
          [
           "benign",
           "benign"
          ],
          [
           "benign",
           "benign"
          ],
          [
           "benign",
           "benign"
          ],
          [
           "benign",
           "benign"
          ],
          [
           "benign",
           "benign"
          ],
          [
           "benign",
           "benign"
          ],
          [
           "benign",
           "benign"
          ],
          [
           "benign",
           "benign"
          ],
          [
           "benign",
           "benign"
          ],
          [
           "benign",
           "benign"
          ],
          [
           "benign",
           "benign"
          ],
          [
           "benign",
           "benign"
          ],
          [
           "benign",
           "benign"
          ],
          [
           "benign",
           "benign"
          ],
          [
           "benign",
           "benign"
          ],
          [
           "benign",
           "benign"
          ],
          [
           "benign",
           "benign"
          ],
          [
           "benign",
           "benign"
          ],
          [
           "benign",
           "benign"
          ],
          [
           "benign",
           "benign"
          ],
          [
           "benign",
           "benign"
          ],
          [
           "benign",
           "benign"
          ],
          [
           "benign",
           "benign"
          ],
          [
           "benign",
           "benign"
          ],
          [
           "benign",
           "benign"
          ],
          [
           "benign",
           "benign"
          ],
          [
           "benign",
           "benign"
          ],
          [
           "benign",
           "benign"
          ],
          [
           "benign",
           "benign"
          ],
          [
           "benign",
           "benign"
          ],
          [
           "benign",
           "benign"
          ],
          [
           "benign",
           "benign"
          ],
          [
           "benign",
           "benign"
          ],
          [
           "benign",
           "benign"
          ],
          [
           "benign",
           "benign"
          ],
          [
           "benign",
           "benign"
          ],
          [
           "benign",
           "benign"
          ],
          [
           "benign",
           "benign"
          ],
          [
           "benign",
           "benign"
          ],
          [
           "benign",
           "benign"
          ],
          [
           "benign",
           "benign"
          ],
          [
           "benign",
           "benign"
          ],
          [
           "benign",
           "benign"
          ],
          [
           "benign",
           "benign"
          ],
          [
           "benign",
           "benign"
          ],
          [
           "benign",
           "benign"
          ],
          [
           "benign",
           "benign"
          ],
          [
           "benign",
           "benign"
          ],
          [
           "benign",
           "benign"
          ],
          [
           "benign",
           "benign"
          ],
          [
           "benign",
           "benign"
          ],
          [
           "benign",
           "benign"
          ],
          [
           "benign",
           "benign"
          ],
          [
           "benign",
           "benign"
          ],
          [
           "benign",
           "benign"
          ],
          [
           "benign",
           "benign"
          ],
          [
           "benign",
           "benign"
          ],
          [
           "benign",
           "benign"
          ],
          [
           "benign",
           "benign"
          ],
          [
           "benign",
           "benign"
          ],
          [
           "benign",
           "benign"
          ],
          [
           "benign",
           "benign"
          ],
          [
           "benign",
           "benign"
          ],
          [
           "benign",
           "benign"
          ],
          [
           "benign",
           "benign"
          ],
          [
           "benign",
           "benign"
          ],
          [
           "benign",
           "benign"
          ],
          [
           "benign",
           "benign"
          ],
          [
           "benign",
           "benign"
          ],
          [
           "benign",
           "benign"
          ],
          [
           "benign",
           "benign"
          ],
          [
           "benign",
           "benign"
          ],
          [
           "benign",
           "benign"
          ],
          [
           "benign",
           "benign"
          ],
          [
           "benign",
           "benign"
          ],
          [
           "benign",
           "benign"
          ],
          [
           "benign",
           "benign"
          ],
          [
           "benign",
           "benign"
          ],
          [
           "benign",
           "benign"
          ],
          [
           "benign",
           "benign"
          ],
          [
           "benign",
           "benign"
          ],
          [
           "benign",
           "benign"
          ],
          [
           "benign",
           "benign"
          ],
          [
           "benign",
           "benign"
          ],
          [
           "benign",
           "benign"
          ],
          [
           "benign",
           "benign"
          ],
          [
           "benign",
           "benign"
          ],
          [
           "benign",
           "benign"
          ],
          [
           "benign",
           "benign"
          ],
          [
           "benign",
           "benign"
          ],
          [
           "benign",
           "benign"
          ],
          [
           "benign",
           "benign"
          ],
          [
           "benign",
           "benign"
          ],
          [
           "benign",
           "benign"
          ],
          [
           "benign",
           "benign"
          ],
          [
           "benign",
           "benign"
          ],
          [
           "benign",
           "benign"
          ],
          [
           "benign",
           "benign"
          ],
          [
           "benign",
           "benign"
          ],
          [
           "benign",
           "benign"
          ],
          [
           "benign",
           "benign"
          ],
          [
           "benign",
           "benign"
          ],
          [
           "benign",
           "benign"
          ],
          [
           "benign",
           "benign"
          ],
          [
           "benign",
           "benign"
          ],
          [
           "benign",
           "benign"
          ],
          [
           "benign",
           "benign"
          ],
          [
           "benign",
           "benign"
          ],
          [
           "benign",
           "benign"
          ],
          [
           "benign",
           "benign"
          ],
          [
           "benign",
           "benign"
          ],
          [
           "benign",
           "benign"
          ],
          [
           "benign",
           "benign"
          ],
          [
           "benign",
           "benign"
          ],
          [
           "benign",
           "benign"
          ],
          [
           "benign",
           "benign"
          ],
          [
           "benign",
           "benign"
          ],
          [
           "benign",
           "benign"
          ],
          [
           "benign",
           "benign"
          ],
          [
           "benign",
           "benign"
          ],
          [
           "benign",
           "benign"
          ],
          [
           "benign",
           "benign"
          ],
          [
           "benign",
           "benign"
          ],
          [
           "benign",
           "benign"
          ],
          [
           "benign",
           "benign"
          ],
          [
           "benign",
           "benign"
          ],
          [
           "benign",
           "benign"
          ],
          [
           "benign",
           "benign"
          ],
          [
           "benign",
           "benign"
          ],
          [
           "benign",
           "benign"
          ],
          [
           "benign",
           "benign"
          ],
          [
           "benign",
           "benign"
          ],
          [
           "benign",
           "benign"
          ],
          [
           "benign",
           "benign"
          ],
          [
           "benign",
           "benign"
          ],
          [
           "benign",
           "benign"
          ],
          [
           "benign",
           "benign"
          ],
          [
           "benign",
           "benign"
          ],
          [
           "benign",
           "benign"
          ],
          [
           "benign",
           "benign"
          ],
          [
           "benign",
           "benign"
          ],
          [
           "benign",
           "benign"
          ],
          [
           "benign",
           "benign"
          ],
          [
           "benign",
           "benign"
          ],
          [
           "benign",
           "benign"
          ],
          [
           "benign",
           "benign"
          ],
          [
           "benign",
           "benign"
          ],
          [
           "benign",
           "benign"
          ],
          [
           "benign",
           "benign"
          ],
          [
           "benign",
           "benign"
          ],
          [
           "benign",
           "benign"
          ],
          [
           "benign",
           "benign"
          ],
          [
           "benign",
           "benign"
          ],
          [
           "benign",
           "benign"
          ],
          [
           "benign",
           "benign"
          ],
          [
           "benign",
           "benign"
          ],
          [
           "benign",
           "benign"
          ],
          [
           "benign",
           "benign"
          ],
          [
           "benign",
           "benign"
          ],
          [
           "benign",
           "benign"
          ],
          [
           "benign",
           "benign"
          ],
          [
           "benign",
           "benign"
          ],
          [
           "benign",
           "benign"
          ],
          [
           "benign",
           "benign"
          ],
          [
           "benign",
           "benign"
          ],
          [
           "benign",
           "benign"
          ],
          [
           "benign",
           "benign"
          ],
          [
           "benign",
           "benign"
          ],
          [
           "benign",
           "benign"
          ],
          [
           "benign",
           "benign"
          ],
          [
           "benign",
           "benign"
          ],
          [
           "benign",
           "benign"
          ],
          [
           "benign",
           "benign"
          ],
          [
           "benign",
           "benign"
          ],
          [
           "benign",
           "benign"
          ],
          [
           "benign",
           "benign"
          ],
          [
           "benign",
           "benign"
          ],
          [
           "benign",
           "benign"
          ],
          [
           "benign",
           "benign"
          ],
          [
           "benign",
           "benign"
          ],
          [
           "benign",
           "benign"
          ],
          [
           "benign",
           "benign"
          ],
          [
           "benign",
           "benign"
          ],
          [
           "benign",
           "benign"
          ],
          [
           "benign",
           "benign"
          ],
          [
           "benign",
           "benign"
          ],
          [
           "benign",
           "benign"
          ],
          [
           "benign",
           "benign"
          ],
          [
           "benign",
           "benign"
          ],
          [
           "benign",
           "benign"
          ],
          [
           "benign",
           "benign"
          ],
          [
           "benign",
           "benign"
          ],
          [
           "benign",
           "benign"
          ],
          [
           "benign",
           "benign"
          ],
          [
           "benign",
           "benign"
          ],
          [
           "benign",
           "benign"
          ],
          [
           "benign",
           "benign"
          ],
          [
           "benign",
           "benign"
          ],
          [
           "benign",
           "benign"
          ],
          [
           "benign",
           "benign"
          ],
          [
           "benign",
           "benign"
          ],
          [
           "benign",
           "benign"
          ],
          [
           "benign",
           "benign"
          ],
          [
           "benign",
           "benign"
          ],
          [
           "benign",
           "benign"
          ],
          [
           "benign",
           "benign"
          ],
          [
           "benign",
           "benign"
          ],
          [
           "benign",
           "benign"
          ],
          [
           "benign",
           "benign"
          ],
          [
           "benign",
           "benign"
          ],
          [
           "benign",
           "benign"
          ],
          [
           "benign",
           "benign"
          ],
          [
           "benign",
           "benign"
          ],
          [
           "benign",
           "benign"
          ],
          [
           "benign",
           "benign"
          ],
          [
           "benign",
           "benign"
          ],
          [
           "benign",
           "benign"
          ],
          [
           "benign",
           "benign"
          ],
          [
           "benign",
           "benign"
          ],
          [
           "benign",
           "benign"
          ],
          [
           "benign",
           "benign"
          ],
          [
           "benign",
           "benign"
          ],
          [
           "benign",
           "benign"
          ],
          [
           "benign",
           "benign"
          ],
          [
           "benign",
           "benign"
          ],
          [
           "benign",
           "benign"
          ],
          [
           "benign",
           "benign"
          ],
          [
           "benign",
           "benign"
          ],
          [
           "benign",
           "benign"
          ],
          [
           "benign",
           "benign"
          ],
          [
           "benign",
           "benign"
          ],
          [
           "benign",
           "benign"
          ],
          [
           "benign",
           "benign"
          ],
          [
           "benign",
           "benign"
          ],
          [
           "benign",
           "benign"
          ],
          [
           "benign",
           "benign"
          ],
          [
           "benign",
           "benign"
          ],
          [
           "benign",
           "benign"
          ],
          [
           "benign",
           "benign"
          ],
          [
           "benign",
           "benign"
          ],
          [
           "benign",
           "benign"
          ],
          [
           "benign",
           "benign"
          ],
          [
           "benign",
           "benign"
          ],
          [
           "benign",
           "benign"
          ],
          [
           "benign",
           "benign"
          ],
          [
           "benign",
           "benign"
          ],
          [
           "benign",
           "benign"
          ],
          [
           "benign",
           "benign"
          ],
          [
           "benign",
           "benign"
          ],
          [
           "benign",
           "benign"
          ],
          [
           "benign",
           "benign"
          ],
          [
           "benign",
           "benign"
          ],
          [
           "benign",
           "benign"
          ],
          [
           "benign",
           "benign"
          ],
          [
           "benign",
           "benign"
          ],
          [
           "benign",
           "benign"
          ],
          [
           "benign",
           "benign"
          ]
         ],
         "hovertemplate": "predicted=%{customdata[0]}<br>PCA1=%{x}<br>PCA2=%{y}<br>actual=%{customdata[1]}<br>confidence=%{marker.color}<extra></extra>",
         "legendgroup": "benign",
         "marker": {
          "color": [
           0.99,
           1,
           1,
           0.99,
           1,
           1,
           0.97,
           1,
           1,
           1,
           1,
           1,
           1,
           1,
           1,
           1,
           0.99,
           1,
           0.92,
           0.99,
           1,
           1,
           0.98,
           1,
           0.99,
           0.7,
           1,
           0.99,
           0.85,
           0.98,
           0.95,
           1,
           0.98,
           1,
           1,
           1,
           0.99,
           1,
           1,
           1,
           0.99,
           1,
           1,
           0.97,
           0.74,
           1,
           1,
           1,
           0.99,
           1,
           0.94,
           1,
           1,
           0.84,
           1,
           0.86,
           0.98,
           1,
           0.99,
           1,
           1,
           1,
           1,
           1,
           0.97,
           0.73,
           1,
           1,
           0.94,
           0.92,
           1,
           1,
           1,
           0.76,
           1,
           1,
           1,
           0.99,
           0.98,
           1,
           1,
           1,
           1,
           1,
           1,
           1,
           0.96,
           1,
           1,
           1,
           1,
           1,
           1,
           0.86,
           0.99,
           1,
           1,
           1,
           1,
           0.92,
           0.81,
           1,
           1,
           1,
           1,
           1,
           1,
           1,
           0.86,
           1,
           0.92,
           0.94,
           0.99,
           1,
           1,
           1,
           0.9,
           1,
           0.99,
           0.93,
           0.98,
           1,
           1,
           0.91,
           0.98,
           1,
           1,
           0.99,
           0.99,
           1,
           1,
           0.99,
           1,
           1,
           0.97,
           1,
           1,
           1,
           0.96,
           1,
           1,
           1,
           1,
           0.99,
           1,
           0.89,
           0.9,
           1,
           1,
           1,
           1,
           1,
           0.99,
           1,
           1,
           1,
           1,
           1,
           1,
           1,
           0.99,
           1,
           1,
           0.99,
           1,
           1,
           1,
           1,
           0.99,
           0.97,
           1,
           1,
           1,
           1,
           1,
           1,
           1,
           1,
           1,
           1,
           1,
           1,
           1,
           0.82,
           0.99,
           0.99,
           1,
           1,
           1,
           0.91,
           1,
           1,
           1,
           1,
           1,
           0.95,
           1,
           0.99,
           1,
           0.98,
           1,
           1,
           0.76,
           1,
           1,
           0.92,
           1,
           0.83,
           0.88,
           0.98,
           0.99,
           0.99,
           1,
           1,
           0.99,
           1,
           1,
           1,
           1,
           1,
           1,
           1,
           1,
           0.82,
           0.99,
           0.99,
           0.99,
           1,
           1,
           0.99,
           1,
           1,
           0.73,
           1,
           1,
           0.97,
           1,
           1,
           0.86,
           1,
           1,
           1,
           1,
           1,
           0.76,
           1,
           0.91,
           0.94,
           1,
           1,
           1,
           1,
           1,
           1,
           0.99,
           1,
           0.99,
           1,
           1,
           0.91,
           1,
           1,
           1,
           0.97,
           0.94,
           1,
           1,
           0.97,
           1,
           0.98,
           0.98,
           0.98,
           1,
           1,
           1,
           1,
           1,
           0.91,
           0.97,
           1,
           0.82,
           1,
           0.96,
           0.91,
           0.99,
           1,
           0.99,
           0.9,
           1,
           1,
           1,
           0.97,
           0.97,
           0.99,
           0.74,
           0.92,
           0.97,
           1,
           0.99,
           0.72,
           1,
           0.97,
           0.96,
           0.9,
           1,
           0.87,
           1,
           0.94,
           0.94,
           0.99,
           0.99,
           0.91,
           1,
           0.99,
           0.94,
           1,
           0.99,
           1,
           0.99,
           1,
           1,
           0.99,
           1,
           0.88,
           0.99,
           0.94,
           1,
           1,
           1,
           1,
           1,
           0.96,
           1,
           0.99,
           1,
           0.82,
           0.86,
           0.97,
           1,
           0.99,
           1,
           1,
           1,
           1,
           1,
           1,
           1,
           1,
           0.98,
           0.96,
           1,
           1,
           0.95,
           0.94,
           0.96,
           0.98,
           1
          ],
          "coloraxis": "coloraxis",
          "symbol": "diamond"
         },
         "mode": "markers",
         "name": "benign",
         "orientation": "v",
         "showlegend": true,
         "type": "scatter",
         "x": [
          -191.62104540131702,
          -285.0512749325819,
          -683.5839523267603,
          -355.8778497351394,
          -783.8386677933672,
          -362.69950661037683,
          -205.11174440093066,
          -430.03407980552345,
          -235.89353028364667,
          -416.4695068365346,
          -448.98271920681475,
          -286.145435874516,
          -744.0918348203464,
          -616.7297207155948,
          -745.6008079689054,
          -693.9616993308928,
          -672.3767040120717,
          -490.8795291842771,
          -687.223199156665,
          -358.9818728720236,
          -724.6625829953198,
          -327.2155227212895,
          -285.27811923493573,
          -299.25019585340146,
          -436.50393933071143,
          -298.3626559403284,
          -378.661385859514,
          -360.5001225883077,
          -66.79162714579843,
          -61.942484405277355,
          -96.55625224920323,
          -207.47721223676012,
          -436.37354746181245,
          -628.769295785103,
          -442.1212495320731,
          -863.1423077841998,
          -388.02703929350696,
          -631.2101936674541,
          -575.3755936192503,
          -433.85587473150304,
          -387.25858908008126,
          -445.5942604789748,
          -629.9309318085043,
          -393.49561785953813,
          -159.5500901497412,
          -600.7745424199296,
          -732.3505584692599,
          -367.75230851423544,
          -736.7440057069259,
          -448.93254730341357,
          -123.5245955799785,
          -266.55331986775684,
          -167.74712776328477,
          -90.24696964579482,
          -391.36853397466814,
          91.16660917847798,
          -406.04603269886627,
          -492.118675833245,
          -523.1634568042626,
          -652.2748059610531,
          -457.4491289294823,
          -277.64899905417894,
          -532.8415854308618,
          -433.3320985969116,
          -42.35855196397415,
          -105.4686753472854,
          -169.6293550733235,
          -296.3114453674483,
          -776.0886039540312,
          -611.7500008258814,
          -519.5616007245802,
          -234.88474083909114,
          -373.0137107576379,
          247.07096244346462,
          -406.2090546524861,
          -502.2935649188511,
          -409.97842202451477,
          -379.9908399561032,
          -67.10631802110242,
          -555.406210297891,
          -58.892481654585936,
          -383.86745322071727,
          -562.0950015274669,
          -563.845042049337,
          -755.9676240324945,
          -603.4441352372021,
          -300.7341386109582,
          -342.03887734536204,
          -486.02394291970836,
          -555.7488397526521,
          -430.24809285624394,
          -453.46583669400957,
          -386.0673864017723,
          -333.29835916085403,
          -685.4696420386193,
          -312.6973207016116,
          -308.52588757465094,
          -263.6234357741014,
          -658.2074596830209,
          -272.4127379050758,
          80.26989191608777,
          -405.09296998336254,
          -415.42810887682526,
          -582.354150298568,
          -194.87652215601622,
          -215.20650019339814,
          -611.0931152467033,
          -204.0150932116244,
          -12.781383560113682,
          -585.7551316163452,
          -46.99959732338061,
          -302.94396180222077,
          -502.7210827664536,
          -491.1508939293143,
          -662.8705125024252,
          -168.80290632122444,
          -116.086234803646,
          -210.73336541173,
          -382.9311516771877,
          -487.58233785888194,
          -182.8924617768812,
          -574.5745078930556,
          -298.6507165598589,
          -281.255736975304,
          -524.7691587481012,
          -462.9603339749507,
          -447.2489388606059,
          -550.8155363984234,
          -236.5922188847302,
          -317.4472299846824,
          -564.2881410610977,
          -180.88438597543632,
          -502.15857163585963,
          -640.7234009990427,
          -462.64785555149854,
          -497.118079696222,
          -164.873301879397,
          -216.05488973792092,
          -415.1336490216264,
          -316.32140781140845,
          -357.93574714011845,
          -397.8346403594244,
          -333.4562894261654,
          -514.6765634401735,
          -496.1553891987269,
          -96.62634421349298,
          -44.15070772083823,
          -327.02301880371635,
          -427.17330986291574,
          -365.5121348405114,
          -226.4231325017828,
          -570.885077274613,
          -64.3442992265384,
          -610.8850976794304,
          -377.5103415330161,
          -600.5741323290255,
          -465.9883596595921,
          -470.2960585571876,
          -270.86807822506955,
          -723.5675604827873,
          -202.78422250042058,
          -243.0666378937541,
          -464.330683111691,
          -29.53065115273148,
          -302.9890616388318,
          -482.5002256736716,
          -775.0549461651597,
          -379.35292549838675,
          -416.34825804997195,
          -713.2699224318404,
          -404.8130126541298,
          -592.3004762532133,
          -319.48375000727356,
          -357.81266025543346,
          -348.7658030511915,
          -132.65799495325018,
          -415.4243104970168,
          -284.45188560603583,
          -520.4291766002741,
          -470.842227163797,
          -388.1389498690871,
          -334.95559053631655,
          -605.03529787969,
          -23.014142598477065,
          -647.016431225926,
          -524.4292475705521,
          -434.23447373600413,
          -622.2553363332083,
          -382.0974300273467,
          7.115016552911129,
          -478.8999958266087,
          -447.99886821170014,
          -411.61468871447585,
          -506.41489340111923,
          -373.2918808311439,
          -322.3788491828085,
          -192.01671480854145,
          -710.8782248952132,
          -573.5127559265906,
          -337.6628305986644,
          -279.2641793812062,
          -340.80935912257723,
          204.75700585322124,
          -240.38040179575114,
          -322.0540136194239,
          -24.214580451886377,
          -220.14163969035621,
          52.152936883982875,
          -618.2891774720158,
          -220.45440909325328,
          -231.153055602481,
          -486.64859502946547,
          -518.9772933292968,
          -444.3804169188527,
          -340.0812114917668,
          -279.52955785909717,
          -401.12751899550017,
          -146.89051433372742,
          -505.80813504679395,
          -590.7192808987999,
          -701.731348653349,
          -383.9077624002498,
          -192.91557454146175,
          -226.8353326308645,
          -324.2230543668436,
          -473.75753750098045,
          -389.23025965387603,
          -360.4707429947488,
          -289.4054923126914,
          -334.30660708015967,
          -394.3593424618963,
          -497.86151312854645,
          132.1733624164624,
          -273.66921204543064,
          -330.1642046577409,
          -441.2479520091706,
          -497.8676452459447,
          -698.4528161332664,
          8.28217693748411,
          -421.86366365448634,
          -646.3088544980596,
          -352.5999277240162,
          -505.3248903720065,
          -436.33800916668815,
          -59.15737336682514,
          -475.74290513230494,
          -189.06448918835486,
          -617.1943848015301,
          -613.8294426723072,
          -544.4131556407201,
          -488.8048817883508,
          -537.1739759434417,
          -331.993063727095,
          -410.1868409974155,
          -79.18892835592953,
          -293.17033459184427,
          -134.66989029550848,
          -145.25073033042202,
          -190.16493638232078,
          -493.6908431246834,
          -185.14524706278553,
          -604.8229707900962,
          -425.6335122026004,
          -34.32414152475303,
          -41.02131851779495,
          -436.19258451877,
          -416.9411526274059,
          -117.87133456199467,
          -296.96896401312983,
          -200.88095262801664,
          -427.1058702626384,
          -273.8215572468306,
          -286.5887660875725,
          -644.9288874515328,
          -130.33436709115165,
          -457.0541585966398,
          -227.4110273001262,
          -183.92813510474866,
          -225.39549834611796,
          -620.8721713220817,
          -429.7482088914853,
          -615.058977049885,
          -373.8722989601065,
          38.13055424947993,
          -373.8933343971422,
          -538.1164417147544,
          -313.28262000875554,
          -63.49267252198956,
          -168.34386689538644,
          -484.4815413845703,
          -389.80895261190005,
          -70.46296606003375,
          -246.2585927694331,
          -210.51342079112362,
          24.43470655384158,
          -349.09183780386434,
          -37.629074123163036,
          -405.35320295917415,
          -319.37250712338914,
          457.33940619919053,
          -389.69452806044046,
          -259.6417096611358,
          -70.23449408452052,
          -300.0301102587314,
          -325.9289822642925,
          -2.306756774543146,
          -374.935084229063,
          -708.652366071141,
          -672.591115097528,
          -418.6532942410521,
          -552.9796632000752,
          125.26154655195546,
          -468.3356432322114,
          -90.54705820824609,
          -13.882991760754066,
          -482.14902699966717,
          -260.0526251147828,
          -303.492555686571,
          -681.5836410378656,
          -520.8085196022859,
          -196.89352231137127,
          -620.5612042917483,
          -745.0221205013275,
          -192.43066999052883,
          -368.5778409815166,
          -225.5234694689682,
          -392.9290180727072,
          -401.67438814317575,
          -407.5358312812273,
          -134.10339182550445,
          -556.6167977980712,
          -465.8665376817312,
          -790.3132418220578,
          -815.9802671358993,
          -493.6479325799569,
          -60.78251167859844,
          -39.662071920960216,
          -276.25786326089155,
          -201.25407841457843,
          -171.84116898755326,
          -597.2254139066795,
          -623.0764928227629,
          -635.0640424502503,
          -473.47275214963406,
          -554.7642704495922,
          -524.6600562154313,
          -322.05434227949036,
          -704.9670336773061,
          -317.9263375671426,
          -622.2145362259755,
          -636.0462558586823,
          -670.6770269811245,
          -125.24513573335446,
          -479.33570688597194,
          -177.24281595537616,
          -518.011863081586,
          -771.5276218767492
         ],
         "xaxis": "x",
         "y": [
          12.259177667474688,
          14.557361895063963,
          -32.57612601586604,
          61.535566174249055,
          -56.82655599146756,
          -21.215395240793512,
          13.940287250909705,
          -5.319685089486853,
          45.1306052076736,
          -2.57068803030549,
          -16.141200147235324,
          23.933298243736658,
          -54.30082746794811,
          -27.7352453151274,
          -56.16454295227394,
          -41.22118759129539,
          -44.88246240781744,
          -8.46032004072282,
          -57.79596750506565,
          38.71049115429773,
          -42.22810515325584,
          -17.59424779440326,
          61.3464750354355,
          7.078303393126035,
          -32.450334486380854,
          22.672177339165984,
          -18.840995654301608,
          -2.8285668663890533,
          37.836772576455644,
          46.67275027715942,
          -62.354696432820894,
          8.710406583717628,
          25.753837824691914,
          -41.65559211625201,
          -16.25739917039172,
          -77.39952056671942,
          4.613189883849344,
          -35.824817221167706,
          -24.8922214323714,
          -21.210520607555083,
          13.499559802925148,
          -33.179140781450215,
          -45.66881436269947,
          34.15477393471542,
          68.20417402097468,
          -11.691616018207185,
          -53.754869067192345,
          -30.68792326318153,
          -33.80955098902594,
          -23.22263269399737,
          58.30163904145104,
          42.263065146388044,
          23.655732562940386,
          78.61442512268223,
          3.8337641432148786,
          69.69070588009302,
          -24.617348747872583,
          -1.0894672287917757,
          0.8733328162741572,
          -34.63870445686648,
          -23.897089425221765,
          0.8769783427211877,
          -28.434757015243804,
          2.7697495837786477,
          66.69742405975899,
          46.56100982505521,
          20.523077075566675,
          21.176185601906,
          -59.073378114048026,
          -43.85212648840765,
          -5.354182412171028,
          6.375290024775637,
          -2.3597730818294167,
          114.29591562801374,
          3.9832222628746194,
          -33.53432416736018,
          -26.302284250568533,
          7.1192617413322665,
          81.31249367554798,
          -12.222872729046856,
          71.76859982003833,
          8.911869351413628,
          9.808525488641862,
          -16.186735396886903,
          -43.841094205853146,
          -47.20851629827022,
          30.927455172670932,
          35.94391615707988,
          -1.7537113134614088,
          -58.6793616128688,
          -14.406183038559732,
          9.496864328483397,
          9.761665383917688,
          30.34363499464797,
          -14.722242109877854,
          26.82288547259236,
          -40.27791178597708,
          -42.76855264657577,
          -22.91607621978916,
          17.94658072398761,
          33.451773348023096,
          -20.742181170325992,
          -9.195412209894556,
          -38.21530734281663,
          17.094854852049124,
          20.866930740903427,
          -30.543169484818492,
          -3.686248706613,
          -7.5951997049956645,
          -26.66118502446777,
          63.13510946736264,
          -2.5768441943789355,
          0.15779414594396712,
          -17.225724244347305,
          -38.72301745925229,
          41.601138176588705,
          33.9351906711195,
          34.39792974618322,
          22.28950211071421,
          -15.619326187954726,
          35.223181484248556,
          -23.654243618701287,
          47.56792963719761,
          3.451978882137027,
          -43.287198782620806,
          -10.932203697812852,
          -18.883881817396613,
          -27.39891107054612,
          33.418778765445126,
          24.844421134600367,
          -21.259892018724173,
          82.62404026102504,
          -8.767657527956686,
          -39.89149519996714,
          24.510715599346014,
          -1.7391369208836807,
          2.6825450855869235,
          51.67881812990743,
          -14.609542309206745,
          29.778595975945052,
          22.31270160984684,
          -9.414852459864534,
          38.694463263913235,
          6.92702809784079,
          -3.006708204161228,
          56.147207967099405,
          64.59926529007706,
          32.504517402108746,
          -1.9538394945255249,
          30.500407558545305,
          52.29901035079098,
          4.281056806920148,
          12.896652290811858,
          -5.745246677883912,
          13.964653470814582,
          -12.3314728109317,
          -12.618854698544467,
          6.160132052246638,
          25.877913745582674,
          -41.16817565792438,
          18.57140743909865,
          1.8113204053458105,
          4.0443956965872445,
          29.229752749958237,
          7.023243848846761,
          3.970648387192796,
          -39.07941269799234,
          26.28631291221336,
          25.194242718072758,
          -48.44546089489703,
          37.428737966602995,
          -28.60091973870685,
          17.557839411541394,
          -14.167255068496544,
          17.807915475697015,
          35.09663399155821,
          6.569583563226416,
          7.4161939446029805,
          1.6432495839843142,
          -25.481561313728193,
          11.381618677574053,
          37.981141919203,
          -36.95291377646856,
          -1.9145921764204985,
          -47.12542571995871,
          -11.803778721816272,
          -11.635228088023851,
          -13.532815793468856,
          -14.423929542979394,
          11.86803264601123,
          -5.782675266323054,
          4.479181210205795,
          -24.702551822187203,
          -9.527172321336025,
          28.442667942142037,
          28.122162110001398,
          44.29091435374937,
          -54.05302173728302,
          -93.44911858135393,
          13.603108833073804,
          41.5181484124337,
          20.728759896814537,
          90.21172538535495,
          24.96807422423521,
          -35.33922089826763,
          80.77795295957705,
          44.1996130599598,
          124.55117035160723,
          3.4935001693057046,
          24.165514539157584,
          52.56296298877709,
          -19.861394949352913,
          -16.573427638415097,
          26.305793652185145,
          -18.814042020893837,
          36.72480785055805,
          17.062983145894208,
          20.388088995579366,
          -1.3589690744269376,
          -32.99985090699707,
          -67.73170087810846,
          -11.905534974295477,
          62.573018622443726,
          23.875102860186985,
          25.065914786650183,
          -37.674291676762564,
          -25.52449552003756,
          -30.532394181885536,
          23.345471493702775,
          29.560629889315607,
          21.52568095267702,
          -32.007797455243065,
          89.36472057651827,
          1.8292241895423444,
          -21.296952574903486,
          -32.135443423845686,
          -28.827235276085887,
          -29.991105075798203,
          40.248907044676855,
          -3.600945380196066,
          -58.21306207238943,
          26.09555692620509,
          -15.815993122572337,
          -23.007910541542913,
          38.710744253360474,
          -0.8491743125547799,
          21.171275823260743,
          -53.2272110874427,
          -36.08727272272519,
          -46.54315517856279,
          -49.738637184461105,
          4.071926861791553,
          21.100847001681302,
          29.410370227317912,
          69.74141685635527,
          7.068710749296713,
          30.523915024944813,
          14.9582651777244,
          58.19443084387092,
          -32.796791339850515,
          31.467969393188042,
          -1.9407421451928144,
          7.489608710310435,
          43.65001697706427,
          30.108465550648532,
          3.045139536408655,
          3.214886029159061,
          58.96001150203949,
          -10.440447987169051,
          7.045430597051819,
          -22.323864525287476,
          28.276811789906873,
          15.449772975618771,
          -36.56033666840334,
          68.15347825973615,
          -7.285455349740047,
          -0.5028891064311551,
          -19.40288898135198,
          -1.4661046666000885,
          -56.002276750664954,
          -27.50701439015795,
          -56.189823837723424,
          -12.997158021366843,
          14.014796421157072,
          4.624157164660929,
          -21.06841632086949,
          16.054610115737262,
          -4.0798588309185675,
          36.4380669010217,
          0.4195570835852891,
          2.076005472208024,
          -18.560096612434492,
          21.653073229598277,
          29.118560782807975,
          92.96041872312438,
          3.5387958851999173,
          35.23655913921925,
          -28.820549365858213,
          -27.68526209113506,
          117.6746038961177,
          28.048725029779888,
          21.104887672498634,
          72.6516195183518,
          -16.597658873052353,
          -7.778530152606251,
          42.17315533562555,
          17.870071550926227,
          -46.309969761561234,
          -40.410246552317346,
          16.975835019552918,
          -3.106955447264326,
          116.51010173723571,
          15.365046805320688,
          84.7029371430126,
          13.242216100411554,
          -17.043362658162337,
          -31.3150415960704,
          -4.545995500773003,
          -52.401063409886206,
          2.302135137348742,
          21.10308011841302,
          -48.09379428942328,
          -57.43169133066612,
          -5.308366188529277,
          4.341581125302852,
          66.51805817157808,
          -7.666123856860352,
          -28.1147380739545,
          -33.11642143181531,
          -12.278802022487952,
          -2.126579896101603,
          -8.713392671853924,
          -79.81649145669992,
          -74.33641814294543,
          3.9309706240230184,
          38.56071307375262,
          39.814822043061895,
          30.421930318014432,
          39.81824002705574,
          8.35606068224699,
          -25.31029977179078,
          -14.523247389090656,
          -48.234602997709146,
          -56.55340725626722,
          -9.017131455012787,
          -6.280799591256169,
          22.37405543651755,
          -31.301244805436497,
          27.36940911561419,
          -14.274316865596546,
          -17.043600214342817,
          -43.206959359839985,
          78.42343252500794,
          -4.377873489550609,
          43.72314321602968,
          -1.5308547244247421,
          -88.64310636345407
         ],
         "yaxis": "y"
        }
       ],
       "layout": {
        "coloraxis": {
         "colorbar": {
          "title": {
           "text": "confidence"
          }
         },
         "colorscale": [
          [
           0,
           "#30123b"
          ],
          [
           0.07142857142857142,
           "#4145ab"
          ],
          [
           0.14285714285714285,
           "#4675ed"
          ],
          [
           0.21428571428571427,
           "#39a2fc"
          ],
          [
           0.2857142857142857,
           "#1bcfd4"
          ],
          [
           0.35714285714285715,
           "#24eca6"
          ],
          [
           0.42857142857142855,
           "#61fc6c"
          ],
          [
           0.5,
           "#a4fc3b"
          ],
          [
           0.5714285714285714,
           "#d1e834"
          ],
          [
           0.6428571428571429,
           "#f3c63a"
          ],
          [
           0.7142857142857143,
           "#fe9b2d"
          ],
          [
           0.7857142857142857,
           "#f36315"
          ],
          [
           0.8571428571428571,
           "#d93806"
          ],
          [
           0.9285714285714286,
           "#b11901"
          ],
          [
           1,
           "#7a0402"
          ]
         ]
        },
        "height": 600,
        "legend": {
         "title": {
          "text": "predicted"
         },
         "tracegroupgap": 0
        },
        "template": {
         "data": {
          "bar": [
           {
            "error_x": {
             "color": "#2a3f5f"
            },
            "error_y": {
             "color": "#2a3f5f"
            },
            "marker": {
             "line": {
              "color": "#E5ECF6",
              "width": 0.5
             },
             "pattern": {
              "fillmode": "overlay",
              "size": 10,
              "solidity": 0.2
             }
            },
            "type": "bar"
           }
          ],
          "barpolar": [
           {
            "marker": {
             "line": {
              "color": "#E5ECF6",
              "width": 0.5
             },
             "pattern": {
              "fillmode": "overlay",
              "size": 10,
              "solidity": 0.2
             }
            },
            "type": "barpolar"
           }
          ],
          "carpet": [
           {
            "aaxis": {
             "endlinecolor": "#2a3f5f",
             "gridcolor": "white",
             "linecolor": "white",
             "minorgridcolor": "white",
             "startlinecolor": "#2a3f5f"
            },
            "baxis": {
             "endlinecolor": "#2a3f5f",
             "gridcolor": "white",
             "linecolor": "white",
             "minorgridcolor": "white",
             "startlinecolor": "#2a3f5f"
            },
            "type": "carpet"
           }
          ],
          "choropleth": [
           {
            "colorbar": {
             "outlinewidth": 0,
             "ticks": ""
            },
            "type": "choropleth"
           }
          ],
          "contour": [
           {
            "colorbar": {
             "outlinewidth": 0,
             "ticks": ""
            },
            "colorscale": [
             [
              0,
              "#0d0887"
             ],
             [
              0.1111111111111111,
              "#46039f"
             ],
             [
              0.2222222222222222,
              "#7201a8"
             ],
             [
              0.3333333333333333,
              "#9c179e"
             ],
             [
              0.4444444444444444,
              "#bd3786"
             ],
             [
              0.5555555555555556,
              "#d8576b"
             ],
             [
              0.6666666666666666,
              "#ed7953"
             ],
             [
              0.7777777777777778,
              "#fb9f3a"
             ],
             [
              0.8888888888888888,
              "#fdca26"
             ],
             [
              1,
              "#f0f921"
             ]
            ],
            "type": "contour"
           }
          ],
          "contourcarpet": [
           {
            "colorbar": {
             "outlinewidth": 0,
             "ticks": ""
            },
            "type": "contourcarpet"
           }
          ],
          "heatmap": [
           {
            "colorbar": {
             "outlinewidth": 0,
             "ticks": ""
            },
            "colorscale": [
             [
              0,
              "#0d0887"
             ],
             [
              0.1111111111111111,
              "#46039f"
             ],
             [
              0.2222222222222222,
              "#7201a8"
             ],
             [
              0.3333333333333333,
              "#9c179e"
             ],
             [
              0.4444444444444444,
              "#bd3786"
             ],
             [
              0.5555555555555556,
              "#d8576b"
             ],
             [
              0.6666666666666666,
              "#ed7953"
             ],
             [
              0.7777777777777778,
              "#fb9f3a"
             ],
             [
              0.8888888888888888,
              "#fdca26"
             ],
             [
              1,
              "#f0f921"
             ]
            ],
            "type": "heatmap"
           }
          ],
          "heatmapgl": [
           {
            "colorbar": {
             "outlinewidth": 0,
             "ticks": ""
            },
            "colorscale": [
             [
              0,
              "#0d0887"
             ],
             [
              0.1111111111111111,
              "#46039f"
             ],
             [
              0.2222222222222222,
              "#7201a8"
             ],
             [
              0.3333333333333333,
              "#9c179e"
             ],
             [
              0.4444444444444444,
              "#bd3786"
             ],
             [
              0.5555555555555556,
              "#d8576b"
             ],
             [
              0.6666666666666666,
              "#ed7953"
             ],
             [
              0.7777777777777778,
              "#fb9f3a"
             ],
             [
              0.8888888888888888,
              "#fdca26"
             ],
             [
              1,
              "#f0f921"
             ]
            ],
            "type": "heatmapgl"
           }
          ],
          "histogram": [
           {
            "marker": {
             "pattern": {
              "fillmode": "overlay",
              "size": 10,
              "solidity": 0.2
             }
            },
            "type": "histogram"
           }
          ],
          "histogram2d": [
           {
            "colorbar": {
             "outlinewidth": 0,
             "ticks": ""
            },
            "colorscale": [
             [
              0,
              "#0d0887"
             ],
             [
              0.1111111111111111,
              "#46039f"
             ],
             [
              0.2222222222222222,
              "#7201a8"
             ],
             [
              0.3333333333333333,
              "#9c179e"
             ],
             [
              0.4444444444444444,
              "#bd3786"
             ],
             [
              0.5555555555555556,
              "#d8576b"
             ],
             [
              0.6666666666666666,
              "#ed7953"
             ],
             [
              0.7777777777777778,
              "#fb9f3a"
             ],
             [
              0.8888888888888888,
              "#fdca26"
             ],
             [
              1,
              "#f0f921"
             ]
            ],
            "type": "histogram2d"
           }
          ],
          "histogram2dcontour": [
           {
            "colorbar": {
             "outlinewidth": 0,
             "ticks": ""
            },
            "colorscale": [
             [
              0,
              "#0d0887"
             ],
             [
              0.1111111111111111,
              "#46039f"
             ],
             [
              0.2222222222222222,
              "#7201a8"
             ],
             [
              0.3333333333333333,
              "#9c179e"
             ],
             [
              0.4444444444444444,
              "#bd3786"
             ],
             [
              0.5555555555555556,
              "#d8576b"
             ],
             [
              0.6666666666666666,
              "#ed7953"
             ],
             [
              0.7777777777777778,
              "#fb9f3a"
             ],
             [
              0.8888888888888888,
              "#fdca26"
             ],
             [
              1,
              "#f0f921"
             ]
            ],
            "type": "histogram2dcontour"
           }
          ],
          "mesh3d": [
           {
            "colorbar": {
             "outlinewidth": 0,
             "ticks": ""
            },
            "type": "mesh3d"
           }
          ],
          "parcoords": [
           {
            "line": {
             "colorbar": {
              "outlinewidth": 0,
              "ticks": ""
             }
            },
            "type": "parcoords"
           }
          ],
          "pie": [
           {
            "automargin": true,
            "type": "pie"
           }
          ],
          "scatter": [
           {
            "fillpattern": {
             "fillmode": "overlay",
             "size": 10,
             "solidity": 0.2
            },
            "type": "scatter"
           }
          ],
          "scatter3d": [
           {
            "line": {
             "colorbar": {
              "outlinewidth": 0,
              "ticks": ""
             }
            },
            "marker": {
             "colorbar": {
              "outlinewidth": 0,
              "ticks": ""
             }
            },
            "type": "scatter3d"
           }
          ],
          "scattercarpet": [
           {
            "marker": {
             "colorbar": {
              "outlinewidth": 0,
              "ticks": ""
             }
            },
            "type": "scattercarpet"
           }
          ],
          "scattergeo": [
           {
            "marker": {
             "colorbar": {
              "outlinewidth": 0,
              "ticks": ""
             }
            },
            "type": "scattergeo"
           }
          ],
          "scattergl": [
           {
            "marker": {
             "colorbar": {
              "outlinewidth": 0,
              "ticks": ""
             }
            },
            "type": "scattergl"
           }
          ],
          "scattermapbox": [
           {
            "marker": {
             "colorbar": {
              "outlinewidth": 0,
              "ticks": ""
             }
            },
            "type": "scattermapbox"
           }
          ],
          "scatterpolar": [
           {
            "marker": {
             "colorbar": {
              "outlinewidth": 0,
              "ticks": ""
             }
            },
            "type": "scatterpolar"
           }
          ],
          "scatterpolargl": [
           {
            "marker": {
             "colorbar": {
              "outlinewidth": 0,
              "ticks": ""
             }
            },
            "type": "scatterpolargl"
           }
          ],
          "scatterternary": [
           {
            "marker": {
             "colorbar": {
              "outlinewidth": 0,
              "ticks": ""
             }
            },
            "type": "scatterternary"
           }
          ],
          "surface": [
           {
            "colorbar": {
             "outlinewidth": 0,
             "ticks": ""
            },
            "colorscale": [
             [
              0,
              "#0d0887"
             ],
             [
              0.1111111111111111,
              "#46039f"
             ],
             [
              0.2222222222222222,
              "#7201a8"
             ],
             [
              0.3333333333333333,
              "#9c179e"
             ],
             [
              0.4444444444444444,
              "#bd3786"
             ],
             [
              0.5555555555555556,
              "#d8576b"
             ],
             [
              0.6666666666666666,
              "#ed7953"
             ],
             [
              0.7777777777777778,
              "#fb9f3a"
             ],
             [
              0.8888888888888888,
              "#fdca26"
             ],
             [
              1,
              "#f0f921"
             ]
            ],
            "type": "surface"
           }
          ],
          "table": [
           {
            "cells": {
             "fill": {
              "color": "#EBF0F8"
             },
             "line": {
              "color": "white"
             }
            },
            "header": {
             "fill": {
              "color": "#C8D4E3"
             },
             "line": {
              "color": "white"
             }
            },
            "type": "table"
           }
          ]
         },
         "layout": {
          "annotationdefaults": {
           "arrowcolor": "#2a3f5f",
           "arrowhead": 0,
           "arrowwidth": 1
          },
          "autotypenumbers": "strict",
          "coloraxis": {
           "colorbar": {
            "outlinewidth": 0,
            "ticks": ""
           }
          },
          "colorscale": {
           "diverging": [
            [
             0,
             "#8e0152"
            ],
            [
             0.1,
             "#c51b7d"
            ],
            [
             0.2,
             "#de77ae"
            ],
            [
             0.3,
             "#f1b6da"
            ],
            [
             0.4,
             "#fde0ef"
            ],
            [
             0.5,
             "#f7f7f7"
            ],
            [
             0.6,
             "#e6f5d0"
            ],
            [
             0.7,
             "#b8e186"
            ],
            [
             0.8,
             "#7fbc41"
            ],
            [
             0.9,
             "#4d9221"
            ],
            [
             1,
             "#276419"
            ]
           ],
           "sequential": [
            [
             0,
             "#0d0887"
            ],
            [
             0.1111111111111111,
             "#46039f"
            ],
            [
             0.2222222222222222,
             "#7201a8"
            ],
            [
             0.3333333333333333,
             "#9c179e"
            ],
            [
             0.4444444444444444,
             "#bd3786"
            ],
            [
             0.5555555555555556,
             "#d8576b"
            ],
            [
             0.6666666666666666,
             "#ed7953"
            ],
            [
             0.7777777777777778,
             "#fb9f3a"
            ],
            [
             0.8888888888888888,
             "#fdca26"
            ],
            [
             1,
             "#f0f921"
            ]
           ],
           "sequentialminus": [
            [
             0,
             "#0d0887"
            ],
            [
             0.1111111111111111,
             "#46039f"
            ],
            [
             0.2222222222222222,
             "#7201a8"
            ],
            [
             0.3333333333333333,
             "#9c179e"
            ],
            [
             0.4444444444444444,
             "#bd3786"
            ],
            [
             0.5555555555555556,
             "#d8576b"
            ],
            [
             0.6666666666666666,
             "#ed7953"
            ],
            [
             0.7777777777777778,
             "#fb9f3a"
            ],
            [
             0.8888888888888888,
             "#fdca26"
            ],
            [
             1,
             "#f0f921"
            ]
           ]
          },
          "colorway": [
           "#636efa",
           "#EF553B",
           "#00cc96",
           "#ab63fa",
           "#FFA15A",
           "#19d3f3",
           "#FF6692",
           "#B6E880",
           "#FF97FF",
           "#FECB52"
          ],
          "font": {
           "color": "#2a3f5f"
          },
          "geo": {
           "bgcolor": "white",
           "lakecolor": "white",
           "landcolor": "#E5ECF6",
           "showlakes": true,
           "showland": true,
           "subunitcolor": "white"
          },
          "hoverlabel": {
           "align": "left"
          },
          "hovermode": "closest",
          "mapbox": {
           "style": "light"
          },
          "paper_bgcolor": "white",
          "plot_bgcolor": "#E5ECF6",
          "polar": {
           "angularaxis": {
            "gridcolor": "white",
            "linecolor": "white",
            "ticks": ""
           },
           "bgcolor": "#E5ECF6",
           "radialaxis": {
            "gridcolor": "white",
            "linecolor": "white",
            "ticks": ""
           }
          },
          "scene": {
           "xaxis": {
            "backgroundcolor": "#E5ECF6",
            "gridcolor": "white",
            "gridwidth": 2,
            "linecolor": "white",
            "showbackground": true,
            "ticks": "",
            "zerolinecolor": "white"
           },
           "yaxis": {
            "backgroundcolor": "#E5ECF6",
            "gridcolor": "white",
            "gridwidth": 2,
            "linecolor": "white",
            "showbackground": true,
            "ticks": "",
            "zerolinecolor": "white"
           },
           "zaxis": {
            "backgroundcolor": "#E5ECF6",
            "gridcolor": "white",
            "gridwidth": 2,
            "linecolor": "white",
            "showbackground": true,
            "ticks": "",
            "zerolinecolor": "white"
           }
          },
          "shapedefaults": {
           "line": {
            "color": "#2a3f5f"
           }
          },
          "ternary": {
           "aaxis": {
            "gridcolor": "white",
            "linecolor": "white",
            "ticks": ""
           },
           "baxis": {
            "gridcolor": "white",
            "linecolor": "white",
            "ticks": ""
           },
           "bgcolor": "#E5ECF6",
           "caxis": {
            "gridcolor": "white",
            "linecolor": "white",
            "ticks": ""
           }
          },
          "title": {
           "x": 0.05
          },
          "xaxis": {
           "automargin": true,
           "gridcolor": "white",
           "linecolor": "white",
           "ticks": "",
           "title": {
            "standoff": 15
           },
           "zerolinecolor": "white",
           "zerolinewidth": 2
          },
          "yaxis": {
           "automargin": true,
           "gridcolor": "white",
           "linecolor": "white",
           "ticks": "",
           "title": {
            "standoff": 15
           },
           "zerolinecolor": "white",
           "zerolinewidth": 2
          }
         }
        },
        "title": {
         "text": "🔬 PCA Projection with Model Confidence Heatmap"
        },
        "xaxis": {
         "anchor": "y",
         "domain": [
          0,
          1
         ],
         "title": {
          "text": "PCA1"
         }
        },
        "yaxis": {
         "anchor": "x",
         "domain": [
          0,
          1
         ],
         "title": {
          "text": "PCA2"
         }
        }
       }
      }
     },
     "metadata": {},
     "output_type": "display_data"
    }
   ],
   "source": [
    "from sklearn.decomposition import PCA\n",
    "\n",
    "# Reduce dimensions for visualization\n",
    "pca = PCA(n_components=2)\n",
    "pca_result = pca.fit_transform(cancer.data)\n",
    "\n",
    "# Rebuild DataFrame with PCA coords\n",
    "viz_df['PCA1'] = pca_result[:, 0]\n",
    "viz_df['PCA2'] = pca_result[:, 1]\n",
    "\n",
    "# Plot\n",
    "fig = px.scatter(\n",
    "    viz_df,\n",
    "    x='PCA1',\n",
    "    y='PCA2',\n",
    "    color='confidence',\n",
    "    color_continuous_scale='Turbo',\n",
    "    hover_data=['predicted', 'actual'],\n",
    "    symbol='predicted',\n",
    "    title=\"🔬 PCA Projection with Model Confidence Heatmap\",\n",
    "    height=600\n",
    ")\n",
    "fig.show()"
   ]
  },
  {
   "cell_type": "markdown",
   "id": "d87b9973-67ee-4c88-8e1a-b500ac117c0a",
   "metadata": {
    "jp-MarkdownHeadingCollapsed": true
   },
   "source": [
    "### What This Reveals:\n",
    "\n",
    "* Where your model is **most confident** (hot zones)\n",
    "* Where predictions are **borderline** (cool zones)\n",
    "* If certain **classes cluster** in decision space\n"
   ]
  },
  {
   "cell_type": "markdown",
   "id": "d8d0a41b-7e1e-4f12-b35d-7ca6ca401b43",
   "metadata": {},
   "source": [
    "## STEP 7C: Misclassification Explorer\n",
    "\n",
    "### Objective:\n",
    "\n",
    "Visual filter for all **misclassified samples**, showing where the model **messed up** — with full drill-down of features and confidence.\n",
    "\n",
    "### Code Block: Filter and Explore Misclassifications"
   ]
  },
  {
   "cell_type": "code",
   "execution_count": 9,
   "id": "7ad3c431-8a7c-40a2-acf1-c9820f355b2a",
   "metadata": {},
   "outputs": [
    {
     "data": {
      "application/vnd.plotly.v1+json": {
       "config": {
        "plotlyServerURL": "https://plot.ly"
       },
       "data": [
        {
         "customdata": [],
         "hovertemplate": "mean concavity=%{x}<br>mean smoothness=%{y}<br>mean perimeter=%{marker.size}<br>predicted=%{customdata[0]}<br>actual=%{customdata[1]}<br>confidence=%{marker.color}<extra></extra>",
         "legendgroup": "",
         "marker": {
          "color": [],
          "coloraxis": "coloraxis",
          "line": {
           "color": "DarkRed",
           "width": 1
          },
          "size": [],
          "sizemode": "area",
          "sizeref": null,
          "symbol": "circle"
         },
         "mode": "markers",
         "name": "",
         "orientation": "v",
         "showlegend": false,
         "type": "scatter",
         "x": [],
         "xaxis": "x",
         "y": [],
         "yaxis": "y"
        }
       ],
       "layout": {
        "coloraxis": {
         "colorbar": {
          "title": {
           "text": "confidence"
          }
         },
         "colorscale": [
          [
           0,
           "rgb(255,247,236)"
          ],
          [
           0.125,
           "rgb(254,232,200)"
          ],
          [
           0.25,
           "rgb(253,212,158)"
          ],
          [
           0.375,
           "rgb(253,187,132)"
          ],
          [
           0.5,
           "rgb(252,141,89)"
          ],
          [
           0.625,
           "rgb(239,101,72)"
          ],
          [
           0.75,
           "rgb(215,48,31)"
          ],
          [
           0.875,
           "rgb(179,0,0)"
          ],
          [
           1,
           "rgb(127,0,0)"
          ]
         ]
        },
        "height": 600,
        "legend": {
         "itemsizing": "constant",
         "tracegroupgap": 0
        },
        "template": {
         "data": {
          "bar": [
           {
            "error_x": {
             "color": "#2a3f5f"
            },
            "error_y": {
             "color": "#2a3f5f"
            },
            "marker": {
             "line": {
              "color": "#E5ECF6",
              "width": 0.5
             },
             "pattern": {
              "fillmode": "overlay",
              "size": 10,
              "solidity": 0.2
             }
            },
            "type": "bar"
           }
          ],
          "barpolar": [
           {
            "marker": {
             "line": {
              "color": "#E5ECF6",
              "width": 0.5
             },
             "pattern": {
              "fillmode": "overlay",
              "size": 10,
              "solidity": 0.2
             }
            },
            "type": "barpolar"
           }
          ],
          "carpet": [
           {
            "aaxis": {
             "endlinecolor": "#2a3f5f",
             "gridcolor": "white",
             "linecolor": "white",
             "minorgridcolor": "white",
             "startlinecolor": "#2a3f5f"
            },
            "baxis": {
             "endlinecolor": "#2a3f5f",
             "gridcolor": "white",
             "linecolor": "white",
             "minorgridcolor": "white",
             "startlinecolor": "#2a3f5f"
            },
            "type": "carpet"
           }
          ],
          "choropleth": [
           {
            "colorbar": {
             "outlinewidth": 0,
             "ticks": ""
            },
            "type": "choropleth"
           }
          ],
          "contour": [
           {
            "colorbar": {
             "outlinewidth": 0,
             "ticks": ""
            },
            "colorscale": [
             [
              0,
              "#0d0887"
             ],
             [
              0.1111111111111111,
              "#46039f"
             ],
             [
              0.2222222222222222,
              "#7201a8"
             ],
             [
              0.3333333333333333,
              "#9c179e"
             ],
             [
              0.4444444444444444,
              "#bd3786"
             ],
             [
              0.5555555555555556,
              "#d8576b"
             ],
             [
              0.6666666666666666,
              "#ed7953"
             ],
             [
              0.7777777777777778,
              "#fb9f3a"
             ],
             [
              0.8888888888888888,
              "#fdca26"
             ],
             [
              1,
              "#f0f921"
             ]
            ],
            "type": "contour"
           }
          ],
          "contourcarpet": [
           {
            "colorbar": {
             "outlinewidth": 0,
             "ticks": ""
            },
            "type": "contourcarpet"
           }
          ],
          "heatmap": [
           {
            "colorbar": {
             "outlinewidth": 0,
             "ticks": ""
            },
            "colorscale": [
             [
              0,
              "#0d0887"
             ],
             [
              0.1111111111111111,
              "#46039f"
             ],
             [
              0.2222222222222222,
              "#7201a8"
             ],
             [
              0.3333333333333333,
              "#9c179e"
             ],
             [
              0.4444444444444444,
              "#bd3786"
             ],
             [
              0.5555555555555556,
              "#d8576b"
             ],
             [
              0.6666666666666666,
              "#ed7953"
             ],
             [
              0.7777777777777778,
              "#fb9f3a"
             ],
             [
              0.8888888888888888,
              "#fdca26"
             ],
             [
              1,
              "#f0f921"
             ]
            ],
            "type": "heatmap"
           }
          ],
          "heatmapgl": [
           {
            "colorbar": {
             "outlinewidth": 0,
             "ticks": ""
            },
            "colorscale": [
             [
              0,
              "#0d0887"
             ],
             [
              0.1111111111111111,
              "#46039f"
             ],
             [
              0.2222222222222222,
              "#7201a8"
             ],
             [
              0.3333333333333333,
              "#9c179e"
             ],
             [
              0.4444444444444444,
              "#bd3786"
             ],
             [
              0.5555555555555556,
              "#d8576b"
             ],
             [
              0.6666666666666666,
              "#ed7953"
             ],
             [
              0.7777777777777778,
              "#fb9f3a"
             ],
             [
              0.8888888888888888,
              "#fdca26"
             ],
             [
              1,
              "#f0f921"
             ]
            ],
            "type": "heatmapgl"
           }
          ],
          "histogram": [
           {
            "marker": {
             "pattern": {
              "fillmode": "overlay",
              "size": 10,
              "solidity": 0.2
             }
            },
            "type": "histogram"
           }
          ],
          "histogram2d": [
           {
            "colorbar": {
             "outlinewidth": 0,
             "ticks": ""
            },
            "colorscale": [
             [
              0,
              "#0d0887"
             ],
             [
              0.1111111111111111,
              "#46039f"
             ],
             [
              0.2222222222222222,
              "#7201a8"
             ],
             [
              0.3333333333333333,
              "#9c179e"
             ],
             [
              0.4444444444444444,
              "#bd3786"
             ],
             [
              0.5555555555555556,
              "#d8576b"
             ],
             [
              0.6666666666666666,
              "#ed7953"
             ],
             [
              0.7777777777777778,
              "#fb9f3a"
             ],
             [
              0.8888888888888888,
              "#fdca26"
             ],
             [
              1,
              "#f0f921"
             ]
            ],
            "type": "histogram2d"
           }
          ],
          "histogram2dcontour": [
           {
            "colorbar": {
             "outlinewidth": 0,
             "ticks": ""
            },
            "colorscale": [
             [
              0,
              "#0d0887"
             ],
             [
              0.1111111111111111,
              "#46039f"
             ],
             [
              0.2222222222222222,
              "#7201a8"
             ],
             [
              0.3333333333333333,
              "#9c179e"
             ],
             [
              0.4444444444444444,
              "#bd3786"
             ],
             [
              0.5555555555555556,
              "#d8576b"
             ],
             [
              0.6666666666666666,
              "#ed7953"
             ],
             [
              0.7777777777777778,
              "#fb9f3a"
             ],
             [
              0.8888888888888888,
              "#fdca26"
             ],
             [
              1,
              "#f0f921"
             ]
            ],
            "type": "histogram2dcontour"
           }
          ],
          "mesh3d": [
           {
            "colorbar": {
             "outlinewidth": 0,
             "ticks": ""
            },
            "type": "mesh3d"
           }
          ],
          "parcoords": [
           {
            "line": {
             "colorbar": {
              "outlinewidth": 0,
              "ticks": ""
             }
            },
            "type": "parcoords"
           }
          ],
          "pie": [
           {
            "automargin": true,
            "type": "pie"
           }
          ],
          "scatter": [
           {
            "fillpattern": {
             "fillmode": "overlay",
             "size": 10,
             "solidity": 0.2
            },
            "type": "scatter"
           }
          ],
          "scatter3d": [
           {
            "line": {
             "colorbar": {
              "outlinewidth": 0,
              "ticks": ""
             }
            },
            "marker": {
             "colorbar": {
              "outlinewidth": 0,
              "ticks": ""
             }
            },
            "type": "scatter3d"
           }
          ],
          "scattercarpet": [
           {
            "marker": {
             "colorbar": {
              "outlinewidth": 0,
              "ticks": ""
             }
            },
            "type": "scattercarpet"
           }
          ],
          "scattergeo": [
           {
            "marker": {
             "colorbar": {
              "outlinewidth": 0,
              "ticks": ""
             }
            },
            "type": "scattergeo"
           }
          ],
          "scattergl": [
           {
            "marker": {
             "colorbar": {
              "outlinewidth": 0,
              "ticks": ""
             }
            },
            "type": "scattergl"
           }
          ],
          "scattermapbox": [
           {
            "marker": {
             "colorbar": {
              "outlinewidth": 0,
              "ticks": ""
             }
            },
            "type": "scattermapbox"
           }
          ],
          "scatterpolar": [
           {
            "marker": {
             "colorbar": {
              "outlinewidth": 0,
              "ticks": ""
             }
            },
            "type": "scatterpolar"
           }
          ],
          "scatterpolargl": [
           {
            "marker": {
             "colorbar": {
              "outlinewidth": 0,
              "ticks": ""
             }
            },
            "type": "scatterpolargl"
           }
          ],
          "scatterternary": [
           {
            "marker": {
             "colorbar": {
              "outlinewidth": 0,
              "ticks": ""
             }
            },
            "type": "scatterternary"
           }
          ],
          "surface": [
           {
            "colorbar": {
             "outlinewidth": 0,
             "ticks": ""
            },
            "colorscale": [
             [
              0,
              "#0d0887"
             ],
             [
              0.1111111111111111,
              "#46039f"
             ],
             [
              0.2222222222222222,
              "#7201a8"
             ],
             [
              0.3333333333333333,
              "#9c179e"
             ],
             [
              0.4444444444444444,
              "#bd3786"
             ],
             [
              0.5555555555555556,
              "#d8576b"
             ],
             [
              0.6666666666666666,
              "#ed7953"
             ],
             [
              0.7777777777777778,
              "#fb9f3a"
             ],
             [
              0.8888888888888888,
              "#fdca26"
             ],
             [
              1,
              "#f0f921"
             ]
            ],
            "type": "surface"
           }
          ],
          "table": [
           {
            "cells": {
             "fill": {
              "color": "#EBF0F8"
             },
             "line": {
              "color": "white"
             }
            },
            "header": {
             "fill": {
              "color": "#C8D4E3"
             },
             "line": {
              "color": "white"
             }
            },
            "type": "table"
           }
          ]
         },
         "layout": {
          "annotationdefaults": {
           "arrowcolor": "#2a3f5f",
           "arrowhead": 0,
           "arrowwidth": 1
          },
          "autotypenumbers": "strict",
          "coloraxis": {
           "colorbar": {
            "outlinewidth": 0,
            "ticks": ""
           }
          },
          "colorscale": {
           "diverging": [
            [
             0,
             "#8e0152"
            ],
            [
             0.1,
             "#c51b7d"
            ],
            [
             0.2,
             "#de77ae"
            ],
            [
             0.3,
             "#f1b6da"
            ],
            [
             0.4,
             "#fde0ef"
            ],
            [
             0.5,
             "#f7f7f7"
            ],
            [
             0.6,
             "#e6f5d0"
            ],
            [
             0.7,
             "#b8e186"
            ],
            [
             0.8,
             "#7fbc41"
            ],
            [
             0.9,
             "#4d9221"
            ],
            [
             1,
             "#276419"
            ]
           ],
           "sequential": [
            [
             0,
             "#0d0887"
            ],
            [
             0.1111111111111111,
             "#46039f"
            ],
            [
             0.2222222222222222,
             "#7201a8"
            ],
            [
             0.3333333333333333,
             "#9c179e"
            ],
            [
             0.4444444444444444,
             "#bd3786"
            ],
            [
             0.5555555555555556,
             "#d8576b"
            ],
            [
             0.6666666666666666,
             "#ed7953"
            ],
            [
             0.7777777777777778,
             "#fb9f3a"
            ],
            [
             0.8888888888888888,
             "#fdca26"
            ],
            [
             1,
             "#f0f921"
            ]
           ],
           "sequentialminus": [
            [
             0,
             "#0d0887"
            ],
            [
             0.1111111111111111,
             "#46039f"
            ],
            [
             0.2222222222222222,
             "#7201a8"
            ],
            [
             0.3333333333333333,
             "#9c179e"
            ],
            [
             0.4444444444444444,
             "#bd3786"
            ],
            [
             0.5555555555555556,
             "#d8576b"
            ],
            [
             0.6666666666666666,
             "#ed7953"
            ],
            [
             0.7777777777777778,
             "#fb9f3a"
            ],
            [
             0.8888888888888888,
             "#fdca26"
            ],
            [
             1,
             "#f0f921"
            ]
           ]
          },
          "colorway": [
           "#636efa",
           "#EF553B",
           "#00cc96",
           "#ab63fa",
           "#FFA15A",
           "#19d3f3",
           "#FF6692",
           "#B6E880",
           "#FF97FF",
           "#FECB52"
          ],
          "font": {
           "color": "#2a3f5f"
          },
          "geo": {
           "bgcolor": "white",
           "lakecolor": "white",
           "landcolor": "#E5ECF6",
           "showlakes": true,
           "showland": true,
           "subunitcolor": "white"
          },
          "hoverlabel": {
           "align": "left"
          },
          "hovermode": "closest",
          "mapbox": {
           "style": "light"
          },
          "paper_bgcolor": "white",
          "plot_bgcolor": "#E5ECF6",
          "polar": {
           "angularaxis": {
            "gridcolor": "white",
            "linecolor": "white",
            "ticks": ""
           },
           "bgcolor": "#E5ECF6",
           "radialaxis": {
            "gridcolor": "white",
            "linecolor": "white",
            "ticks": ""
           }
          },
          "scene": {
           "xaxis": {
            "backgroundcolor": "#E5ECF6",
            "gridcolor": "white",
            "gridwidth": 2,
            "linecolor": "white",
            "showbackground": true,
            "ticks": "",
            "zerolinecolor": "white"
           },
           "yaxis": {
            "backgroundcolor": "#E5ECF6",
            "gridcolor": "white",
            "gridwidth": 2,
            "linecolor": "white",
            "showbackground": true,
            "ticks": "",
            "zerolinecolor": "white"
           },
           "zaxis": {
            "backgroundcolor": "#E5ECF6",
            "gridcolor": "white",
            "gridwidth": 2,
            "linecolor": "white",
            "showbackground": true,
            "ticks": "",
            "zerolinecolor": "white"
           }
          },
          "shapedefaults": {
           "line": {
            "color": "#2a3f5f"
           }
          },
          "ternary": {
           "aaxis": {
            "gridcolor": "white",
            "linecolor": "white",
            "ticks": ""
           },
           "baxis": {
            "gridcolor": "white",
            "linecolor": "white",
            "ticks": ""
           },
           "bgcolor": "#E5ECF6",
           "caxis": {
            "gridcolor": "white",
            "linecolor": "white",
            "ticks": ""
           }
          },
          "title": {
           "x": 0.05
          },
          "xaxis": {
           "automargin": true,
           "gridcolor": "white",
           "linecolor": "white",
           "ticks": "",
           "title": {
            "standoff": 15
           },
           "zerolinecolor": "white",
           "zerolinewidth": 2
          },
          "yaxis": {
           "automargin": true,
           "gridcolor": "white",
           "linecolor": "white",
           "ticks": "",
           "title": {
            "standoff": 15
           },
           "zerolinecolor": "white",
           "zerolinewidth": 2
          }
         }
        },
        "title": {
         "text": "❌ Misclassification Explorer: Where Did the Model Fail?"
        },
        "xaxis": {
         "anchor": "y",
         "domain": [
          0,
          1
         ],
         "title": {
          "text": "mean concavity"
         }
        },
        "yaxis": {
         "anchor": "x",
         "domain": [
          0,
          1
         ],
         "title": {
          "text": "mean smoothness"
         }
        }
       }
      }
     },
     "metadata": {},
     "output_type": "display_data"
    }
   ],
   "source": [
    "# Filter misclassified cases\n",
    "wrong_df = viz_df[ viz_df['predicted'] != viz_df['actual'] ].copy()\n",
    "\n",
    "fig = px.scatter(\n",
    "    wrong_df,\n",
    "    x='mean concavity',\n",
    "    y='mean smoothness',\n",
    "    color='confidence',\n",
    "    size='mean perimeter',\n",
    "    hover_data=['predicted', 'actual', 'confidence'],\n",
    "    title=\"❌ Misclassification Explorer: Where Did the Model Fail?\",\n",
    "    color_continuous_scale='OrRd',\n",
    "    height=600\n",
    ")\n",
    "fig.update_traces(marker=dict(line=dict(width=1, color='DarkRed')))\n",
    "fig.show()"
   ]
  },
  {
   "cell_type": "markdown",
   "id": "ec150f54-f180-46f9-8773-9343fdac549b",
   "metadata": {},
   "source": [
    "### What It Shows:\n",
    "\n",
    "* Confidence in **wrong predictions**\n",
    "* Feature patterns of **bad calls**\n",
    "* Possible **bias regions** (e.g., small smoothness but malignant)\n"
   ]
  },
  {
   "cell_type": "markdown",
   "id": "b2a6e270-9631-4954-a620-aa3c9bbc4b37",
   "metadata": {},
   "source": [
    "## STEP 7D: Full Interactive Diagnostic Dashboard\n",
    "\n",
    "Now we glue it together — full interactive dashboard with:\n",
    "\n",
    "* Diagnosis outcome\n",
    "* Prediction vs Actual\n",
    "* Feature radar chart\n",
    "* Confidence slider\n",
    "\n",
    "### Code Block: Streamlit Diagnostic Dashboard (Optional)\n",
    "\n",
    "```bash\n",
    "pip install streamlit\n",
    "```\n",
    "\n",
    "Then create a file: `diagnostic_dashboard.py`\n",
    "\n",
    "```python\n",
    "# diagnostic_dashboard.py\n",
    "import streamlit as st\n",
    "import pandas as pd\n",
    "import numpy as np\n",
    "from sklearn.datasets import load_breast_cancer\n",
    "from sklearn.ensemble import RandomForestClassifier\n",
    "\n",
    "# Load data\n",
    "cancer = load_breast_cancer()\n",
    "X = cancer.data\n",
    "y = cancer.target\n",
    "features = cancer.feature_names\n",
    "target_names = cancer.target_names\n",
    "\n",
    "# Train model\n",
    "clf = RandomForestClassifier(n_estimators=100, random_state=42)\n",
    "clf.fit(X, y)\n",
    "\n",
    "# Streamlit UI\n",
    "st.title(\"🧠 Breast Cancer Diagnostic AI\")\n",
    "index = st.slider(\"Select Patient Index\", 0, len(X)-1, 0)\n",
    "\n",
    "sample = X[index].reshape(1, -1)\n",
    "prediction = clf.predict(sample)[0]\n",
    "probs = clf.predict_proba(sample)[0]\n",
    "confidence = np.max(probs)\n",
    "\n",
    "st.subheader(\"Prediction\")\n",
    "st.write(f\"**Predicted:** {target_names[prediction].upper()}\")\n",
    "st.write(f\"**Confidence:** {confidence:.2%}\")\n",
    "st.write(f\"**Actual:** {target_names[y[index]].upper()}\")\n",
    "\n",
    "st.subheader(\"Feature Radar\")\n",
    "import plotly.graph_objects as go\n",
    "\n",
    "selected_features = ['mean radius', 'mean texture', 'mean perimeter', 'mean area', 'mean smoothness', 'worst concavity']\n",
    "indices = [list(features).index(f) for f in selected_features]\n",
    "\n",
    "fig = go.Figure()\n",
    "\n",
    "fig.add_trace(go.Scatterpolar(\n",
    "    r=[X[index][i] for i in indices],\n",
    "    theta=selected_features,\n",
    "    fill='toself',\n",
    "    name='Patient Features'\n",
    "))\n",
    "\n",
    "fig.update_layout(\n",
    "    polar=dict(radialaxis=dict(visible=True)),\n",
    "    showlegend=False\n",
    ")\n",
    "\n",
    "st.plotly_chart(fig)\n",
    "```\n",
    "\n",
    "```bash\n",
    "streamlit run diagnostic_dashboard.py\n",
    "```"
   ]
  },
  {
   "cell_type": "code",
   "execution_count": 10,
   "id": "820d2202-a21c-4b3a-971f-e81feeaaa5e2",
   "metadata": {},
   "outputs": [
    {
     "data": {
      "text/plain": [
       "['breast_cancer_rf_model.joblib']"
      ]
     },
     "execution_count": 10,
     "metadata": {},
     "output_type": "execute_result"
    }
   ],
   "source": [
    "from joblib import dump\n",
    "\n",
    "# After training your classifier\n",
    "dump(clf, 'breast_cancer_rf_model.joblib')"
   ]
  },
  {
   "cell_type": "code",
   "execution_count": 11,
   "id": "aab07d47-d813-41ca-995a-a853560fb003",
   "metadata": {},
   "outputs": [
    {
     "data": {
      "text/plain": [
       "['breast_cancer_rf_model.joblib']"
      ]
     },
     "execution_count": 11,
     "metadata": {},
     "output_type": "execute_result"
    }
   ],
   "source": [
    "from sklearn.ensemble import RandomForestClassifier\n",
    "from sklearn.datasets import load_breast_cancer\n",
    "from joblib import dump\n",
    "\n",
    "# Load and train\n",
    "data = load_breast_cancer()\n",
    "X, y = data.data, data.target\n",
    "clf = RandomForestClassifier(n_estimators=100, random_state=42)\n",
    "clf.fit(X, y)\n",
    "\n",
    "# Save it\n",
    "dump(clf, 'breast_cancer_rf_model.joblib')"
   ]
  },
  {
   "cell_type": "code",
   "execution_count": null,
   "id": "26d14c6c-dc86-4a93-8eea-a37cb78cba2c",
   "metadata": {},
   "outputs": [],
   "source": []
  },
  {
   "cell_type": "markdown",
   "id": "bf730108",
   "metadata": {},
   "source": [
    "## STEP 8: Immersive 3D Medical Visualizations\n",
    "\n",
    "### Objective:\n",
    "Create cutting-edge 3D visualizations that provide immersive insights into:\n",
    "- **3D Molecular Space**: Dimensionality reduction in 3D\n",
    "- **Confidence Landscapes**: Trust regions in diagnostic space\n",
    "- **Interactive Medical Simulations**: Simulated imaging views\n",
    "\n",
    "### Advanced Visualization Suite:\n",
    "We'll create professional-grade medical visualizations using:\n",
    "- **Plotly 3D**: Interactive 3D scatter plots and surfaces\n",
    "- **PCA/t-SNE**: Advanced dimensionality reduction\n",
    "- **Medical Simulation**: Tissue pattern visualization"
   ]
  },
  {
   "cell_type": "code",
   "execution_count": null,
   "id": "735b144a",
   "metadata": {},
   "outputs": [],
   "source": [
    "# STEP 8A: Create 3D Molecular Diagnostic Space\n",
    "import plotly.graph_objects as go\n",
    "from sklearn.decomposition import PCA\n",
    "import numpy as np\n",
    "\n",
    "# Create 3D PCA projection\n",
    "pca_3d = PCA(n_components=3)\n",
    "coords_3d = pca_3d.fit_transform(cancer.data)\n",
    "\n",
    "# Create 3D scatter plot\n",
    "fig_3d = go.Figure()\n",
    "\n",
    "# Separate traces for each diagnosis\n",
    "for i, diagnosis in enumerate(['malignant', 'benign']):\n",
    "    mask = y == i\n",
    "    color = '#F44336' if diagnosis == 'malignant' else '#4CAF50'\n",
    "    \n",
    "    fig_3d.add_trace(go.Scatter3d(\n",
    "        x=coords_3d[mask, 0],\n",
    "        y=coords_3d[mask, 1], \n",
    "        z=coords_3d[mask, 2],\n",
    "        mode='markers',\n",
    "        name=diagnosis.title(),\n",
    "        marker=dict(\n",
    "            size=8,\n",
    "            color=color,\n",
    "            opacity=0.8,\n",
    "            line=dict(width=2, color='white')\n",
    "        ),\n",
    "        hovertemplate=(\n",
    "            f\"<b>{diagnosis.title()}</b><br>\" +\n",
    "            \"PC1: %{x:.2f}<br>\" +\n",
    "            \"PC2: %{y:.2f}<br>\" +\n",
    "            \"PC3: %{z:.2f}<br>\" +\n",
    "            \"<extra></extra>\"\n",
    "        )\n",
    "    ))\n",
    "\n",
    "fig_3d.update_layout(\n",
    "    title={\n",
    "        'text': '🧬 3D Molecular Diagnostic Space - Interactive Exploration',\n",
    "        'x': 0.5,\n",
    "        'font': {'size': 20}\n",
    "    },\n",
    "    scene=dict(\n",
    "        xaxis_title='Principal Component 1',\n",
    "        yaxis_title='Principal Component 2',\n",
    "        zaxis_title='Principal Component 3',\n",
    "        bgcolor='#f8f9fa',\n",
    "        camera=dict(eye=dict(x=1.5, y=1.5, z=1.5))\n",
    "    ),\n",
    "    height=700,\n",
    "    showlegend=True\n",
    ")\n",
    "\n",
    "fig_3d.show()\n",
    "\n",
    "print(\"🎯 3D Molecular Space Created!\")\n",
    "print(f\"📊 Explained Variance: {pca_3d.explained_variance_ratio_.sum():.1%}\")"
   ]
  },
  {
   "cell_type": "code",
   "execution_count": null,
   "id": "640d5ec9",
   "metadata": {},
   "outputs": [],
   "source": [
    "# STEP 8B: Create 3D Confidence Landscape\n",
    "from plotly.subplots import make_subplots\n",
    "\n",
    "# Get model predictions and confidence scores\n",
    "y_pred = clf.predict(cancer.data)\n",
    "y_prob = clf.predict_proba(cancer.data)\n",
    "confidences = np.max(y_prob, axis=1)\n",
    "\n",
    "# Use 2D PCA for surface plotting\n",
    "pca_2d = PCA(n_components=2)\n",
    "coords_2d = pca_2d.fit_transform(cancer.data)\n",
    "\n",
    "# Create confidence landscape\n",
    "fig_landscape = go.Figure()\n",
    "\n",
    "# Add confidence surface using scatter with size/color mapping\n",
    "fig_landscape.add_trace(go.Scatter3d(\n",
    "    x=coords_2d[:, 0],\n",
    "    y=coords_2d[:, 1],\n",
    "    z=confidences,\n",
    "    mode='markers',\n",
    "    marker=dict(\n",
    "        size=6,\n",
    "        color=confidences,\n",
    "        colorscale='Viridis',\n",
    "        opacity=0.8,\n",
    "        colorbar=dict(title=\"Confidence Level\")\n",
    "    ),\n",
    "    name='Diagnostic Confidence',\n",
    "    hovertemplate=(\n",
    "        \"Confidence: %{z:.1%}<br>\" +\n",
    "        \"Prediction: %{customdata}<br>\" +\n",
    "        \"PC1: %{x:.2f}<br>\" +\n",
    "        \"PC2: %{y:.2f}<br>\" +\n",
    "        \"<extra></extra>\"\n",
    "    ),\n",
    "    customdata=[cancer.target_names[pred] for pred in y_pred]\n",
    "))\n",
    "\n",
    "# Add mesh surface for landscape effect\n",
    "from scipy.interpolate import griddata\n",
    "\n",
    "# Create grid for surface\n",
    "xi = np.linspace(coords_2d[:, 0].min(), coords_2d[:, 0].max(), 50)\n",
    "yi = np.linspace(coords_2d[:, 1].min(), coords_2d[:, 1].max(), 50)\n",
    "Xi, Yi = np.meshgrid(xi, yi)\n",
    "\n",
    "# Interpolate confidence values\n",
    "Zi = griddata((coords_2d[:, 0], coords_2d[:, 1]), confidences, (Xi, Yi), method='cubic')\n",
    "\n",
    "fig_landscape.add_trace(go.Surface(\n",
    "    x=Xi, y=Yi, z=Zi,\n",
    "    colorscale='Viridis',\n",
    "    opacity=0.3,\n",
    "    name='Confidence Surface',\n",
    "    showscale=False\n",
    "))\n",
    "\n",
    "fig_landscape.update_layout(\n",
    "    title='🏔️ 3D Diagnostic Confidence Landscape',\n",
    "    scene=dict(\n",
    "        xaxis_title='Principal Component 1',\n",
    "        yaxis_title='Principal Component 2',\n",
    "        zaxis_title='Model Confidence',\n",
    "        camera=dict(eye=dict(x=1.2, y=1.2, z=1.2))\n",
    "    ),\n",
    "    height=700\n",
    ")\n",
    "\n",
    "fig_landscape.show()\n",
    "\n",
    "print(\"🏔️ Confidence Landscape Generated!\")\n",
    "print(f\"📈 Average Confidence: {confidences.mean():.1%}\")\n",
    "print(f\"📊 Confidence Range: {confidences.min():.1%} - {confidences.max():.1%}\")"
   ]
  },
  {
   "cell_type": "code",
   "execution_count": null,
   "id": "3f5912da",
   "metadata": {},
   "outputs": [],
   "source": [
    "# STEP 8C: Medical Imaging Simulation & Comprehensive Dashboard\n",
    "from plotly.subplots import make_subplots\n",
    "\n",
    "def create_simulated_mammogram(patient_idx):\n",
    "    \"\"\"Create simulated mammogram based on patient features\"\"\"\n",
    "    patient_features = cancer.data[patient_idx]\n",
    "    \n",
    "    # Extract relevant morphological features\n",
    "    radius = patient_features[list(cancer.feature_names).index('mean radius')]\n",
    "    texture = patient_features[list(cancer.feature_names).index('mean texture')]\n",
    "    concavity = patient_features[list(cancer.feature_names).index('worst concavity')]\n",
    "    \n",
    "    # Create tissue background\n",
    "    x = np.linspace(0, 100, 100)\n",
    "    y = np.linspace(0, 100, 100)\n",
    "    X, Y = np.meshgrid(x, y)\n",
    "    \n",
    "    # Simulate tissue density\n",
    "    tissue = np.sin(X/15) * np.cos(Y/15) + np.random.normal(0, 0.1, (100, 100))\n",
    "    \n",
    "    # Add mass based on features\n",
    "    center_x, center_y = 50, 50\n",
    "    mass_radius = min(radius * 2, 25)  # Scale radius\n",
    "    \n",
    "    # Create mass with intensity based on malignancy indicators\n",
    "    mass_intensity = 1.0 + (concavity * 2) + (texture * 0.05)\n",
    "    \n",
    "    for i in range(100):\n",
    "        for j in range(100):\n",
    "            dist = np.sqrt((i - center_x)**2 + (j - center_y)**2)\n",
    "            if dist <= mass_radius:\n",
    "                tissue[i, j] += mass_intensity * np.exp(-dist/mass_radius)\n",
    "    \n",
    "    return tissue\n",
    "\n",
    "# Create comprehensive medical dashboard for a sample patient\n",
    "sample_patient_idx = 0\n",
    "sample_features = cancer.data[sample_patient_idx]\n",
    "sample_prediction = clf.predict(sample_features.reshape(1, -1))[0]\n",
    "sample_confidence = np.max(clf.predict_proba(sample_features.reshape(1, -1)))\n",
    "\n",
    "# Create multi-panel dashboard\n",
    "fig_dashboard = make_subplots(\n",
    "    rows=2, cols=3,\n",
    "    subplot_titles=(\n",
    "        '🎯 Biomarker Radar Profile',\n",
    "        '📊 Feature Comparison', \n",
    "        '📷 Simulated Mammogram',\n",
    "        '🧬 PCA Positioning',\n",
    "        '📈 Confidence Gauge',\n",
    "        '🔍 Risk Assessment'\n",
    "    ),\n",
    "    specs=[\n",
    "        [{\"type\": \"scatterpolar\"}, {\"type\": \"bar\"}, {\"type\": \"heatmap\"}],\n",
    "        [{\"type\": \"scatter\"}, {\"type\": \"indicator\"}, {\"type\": \"pie\"}]\n",
    "    ],\n",
    "    vertical_spacing=0.1,\n",
    "    horizontal_spacing=0.08\n",
    ")\n",
    "\n",
    "# 1. Biomarker radar chart\n",
    "key_features = ['mean radius', 'mean texture', 'mean perimeter', 'mean area', 'worst concavity']\n",
    "feature_indices = [list(cancer.feature_names).index(f) for f in key_features]\n",
    "radar_values = [sample_features[i] for i in feature_indices]\n",
    "\n",
    "fig_dashboard.add_trace(go.Scatterpolar(\n",
    "    r=radar_values,\n",
    "    theta=key_features,\n",
    "    fill='toself',\n",
    "    name='Patient Profile',\n",
    "    line_color='#667eea'\n",
    "), row=1, col=1)\n",
    "\n",
    "# 2. Feature comparison with population\n",
    "pop_means = [cancer.data[:, i].mean() for i in feature_indices]\n",
    "fig_dashboard.add_trace(go.Bar(\n",
    "    x=key_features,\n",
    "    y=pop_means,\n",
    "    name='Population Mean',\n",
    "    marker_color='lightblue'\n",
    "), row=1, col=2)\n",
    "\n",
    "fig_dashboard.add_trace(go.Bar(\n",
    "    x=key_features,\n",
    "    y=radar_values,\n",
    "    name='Patient Values', \n",
    "    marker_color='#667eea'\n",
    "), row=1, col=2)\n",
    "\n",
    "# 3. Simulated mammogram\n",
    "tissue_sim = create_simulated_mammogram(sample_patient_idx)\n",
    "fig_dashboard.add_trace(go.Heatmap(\n",
    "    z=tissue_sim,\n",
    "    colorscale='Greys',\n",
    "    showscale=False,\n",
    "    name='Tissue Simulation'\n",
    "), row=1, col=3)\n",
    "\n",
    "# 4. PCA positioning\n",
    "all_coords = pca_2d.transform(cancer.data)\n",
    "patient_coord = pca_2d.transform(sample_features.reshape(1, -1))\n",
    "\n",
    "# Plot all patients\n",
    "colors = ['#F44336' if pred == 0 else '#4CAF50' for pred in y]\n",
    "fig_dashboard.add_trace(go.Scatter(\n",
    "    x=all_coords[:, 0],\n",
    "    y=all_coords[:, 1],\n",
    "    mode='markers',\n",
    "    marker=dict(color=colors, size=4, opacity=0.6),\n",
    "    name='All Patients',\n",
    "    showlegend=False\n",
    "), row=2, col=1)\n",
    "\n",
    "# Highlight current patient\n",
    "fig_dashboard.add_trace(go.Scatter(\n",
    "    x=patient_coord[:, 0],\n",
    "    y=patient_coord[:, 1],\n",
    "    mode='markers',\n",
    "    marker=dict(color='red', size=15, symbol='star'),\n",
    "    name='Current Patient'\n",
    "), row=2, col=1)\n",
    "\n",
    "# 5. Confidence gauge\n",
    "gauge_color = \"red\" if sample_confidence < 0.7 else \"orange\" if sample_confidence < 0.85 else \"green\"\n",
    "\n",
    "fig_dashboard.add_trace(go.Indicator(\n",
    "    mode=\"gauge+number\",\n",
    "    value=sample_confidence * 100,\n",
    "    domain={'x': [0, 1], 'y': [0, 1]},\n",
    "    title={'text': \"Diagnostic Confidence (%)\"},\n",
    "    gauge={\n",
    "        'axis': {'range': [None, 100]},\n",
    "        'bar': {'color': gauge_color},\n",
    "        'steps': [\n",
    "            {'range': [0, 70], 'color': \"lightgray\"},\n",
    "            {'range': [70, 85], 'color': \"yellow\"},\n",
    "            {'range': [85, 100], 'color': \"lightgreen\"}\n",
    "        ]\n",
    "    }\n",
    "), row=2, col=2)\n",
    "\n",
    "# 6. Risk assessment pie\n",
    "risk_categories = ['Low Risk', 'Medium Risk', 'High Risk']\n",
    "if sample_confidence > 0.9:\n",
    "    risk_values = [80, 15, 5] if sample_prediction == 1 else [5, 25, 70]\n",
    "elif sample_confidence > 0.7:\n",
    "    risk_values = [40, 40, 20] if sample_prediction == 1 else [20, 40, 40]\n",
    "else:\n",
    "    risk_values = [20, 50, 30]\n",
    "\n",
    "fig_dashboard.add_trace(go.Pie(\n",
    "    values=risk_values,\n",
    "    labels=risk_categories,\n",
    "    name='Risk Assessment',\n",
    "    marker_colors=['#4CAF50', '#FF9800', '#F44336']\n",
    "), row=2, col=3)\n",
    "\n",
    "fig_dashboard.update_layout(\n",
    "    height=800,\n",
    "    title_text=f\"🏥 Comprehensive Medical Dashboard - Patient #{sample_patient_idx:03d}\",\n",
    "    showlegend=True\n",
    ")\n",
    "\n",
    "fig_dashboard.show()\n",
    "\n",
    "# Print diagnostic summary\n",
    "diagnosis = cancer.target_names[sample_prediction]\n",
    "actual = cancer.target_names[y[sample_patient_idx]]\n",
    "\n",
    "print(\"\\n\" + \"=\"*60)\n",
    "print(\"🏥 COMPREHENSIVE PATIENT ANALYSIS SUMMARY\")\n",
    "print(\"=\"*60)\n",
    "print(f\"👤 Patient ID: #{sample_patient_idx:03d}\")\n",
    "print(f\"🎯 AI Diagnosis: {diagnosis.upper()}\")\n",
    "print(f\"📊 Actual Diagnosis: {actual.upper()}\")\n",
    "print(f\"✅ Prediction Status: {'CORRECT' if diagnosis == actual else 'MISCLASSIFIED'}\")\n",
    "print(f\"🎯 Confidence Level: {sample_confidence:.1%}\")\n",
    "print(f\"⚠️ Risk Category: {'HIGH' if sample_confidence < 0.7 else 'MEDIUM' if sample_confidence < 0.85 else 'LOW'}\")\n",
    "print(\"\\n📋 Key Biomarkers:\")\n",
    "for feature, value in zip(key_features, radar_values):\n",
    "    print(f\"   • {feature.replace('_', ' ').title()}: {value:.2f}\")\n",
    "print(\"=\"*60)"
   ]
  },
  {
   "cell_type": "markdown",
   "id": "3929acd2",
   "metadata": {},
   "source": [
    "## FINAL STEP: Launch Advanced Medical Dashboard System\n",
    "\n",
    "### 🚀 Deployment Ready!\n",
    "\n",
    "The comprehensive MedAI Advanced Diagnostic Suite is now ready for deployment with:\n",
    "\n",
    "#### 🏥 **Core Features:**\n",
    "- **Interactive 3D Molecular Visualization**\n",
    "- **Real-time Confidence Mapping** \n",
    "- **Medical Imaging Simulation**\n",
    "- **Clinical Risk Assessment**\n",
    "- **Advanced Analytics Hub**\n",
    "- **AI Prediction Laboratory**\n",
    "- **Live Monitoring Center**\n",
    "- **Clinical Report Generation**\n",
    "\n",
    "#### 📁 **File Structure:**\n",
    "```\n",
    "📂 ml_DL/\n",
    "├── 🏥 diagnostic_dashboard.py      # Basic diagnostic interface\n",
    "├── 🚀 enhanced_dashboard.py        # Advanced medical suite\n",
    "├── 🧬 medical_utils.py             # Clinical analysis tools\n",
    "├── 📊 advanced_visualizations.py   # 3D visualization engine\n",
    "├── 🔴 realtime_simulator.py        # Live monitoring system\n",
    "├── 🤖 breast_cancer_rf_model.joblib # Trained AI model\n",
    "├── 📋 requirements.txt             # Dependencies\n",
    "├── ⚙️ setup.bat / setup.sh         # Quick setup scripts\n",
    "└── 📓 ML_DL.ipynb                  # This analysis notebook\n",
    "```\n",
    "\n",
    "#### 🎯 **Quick Start Commands:**\n",
    "\n",
    "**Windows:**\n",
    "```bash\n",
    "# Auto-setup and launch\n",
    "setup.bat\n",
    "\n",
    "# Manual launch\n",
    "streamlit run enhanced_dashboard.py\n",
    "```\n",
    "\n",
    "**Linux/Mac:**\n",
    "```bash\n",
    "# Auto-setup\n",
    "chmod +x setup.sh && ./setup.sh\n",
    "\n",
    "# Manual launch  \n",
    "streamlit run enhanced_dashboard.py\n",
    "```\n",
    "\n",
    "#### 🌐 **Access Points:**\n",
    "- **Enhanced Suite:** http://localhost:8502\n",
    "- **Basic Dashboard:** http://localhost:8501\n",
    "\n",
    "#### 💼 **Professional Features:**\n",
    "- ⚕️ Medical-grade visualizations with real icons\n",
    "- 🧬 3D molecular pattern analysis\n",
    "- 📊 Interactive confidence landscapes\n",
    "- 🎯 AI-powered prediction engine\n",
    "- 🔴 Real-time monitoring simulation\n",
    "- 📋 Clinical report generation\n",
    "- 🏥 Professional medical interface design\n",
    "\n",
    "### Ready for Clinical Research & Educational Use! 🎉"
   ]
  },
  {
   "cell_type": "code",
   "execution_count": null,
   "id": "872b7d14",
   "metadata": {},
   "outputs": [],
   "source": [
    "# FINAL: Launch Enhanced Medical Dashboard\n",
    "import subprocess\n",
    "import sys\n",
    "import os\n",
    "\n",
    "print(\"🏥 MedAI Advanced Diagnostic Suite\")\n",
    "print(\"=\" * 50)\n",
    "\n",
    "# Check if all required files exist\n",
    "required_files = [\n",
    "    'enhanced_dashboard.py',\n",
    "    'medical_utils.py', \n",
    "    'advanced_visualizations.py',\n",
    "    'realtime_simulator.py',\n",
    "    'breast_cancer_rf_model.joblib'\n",
    "]\n",
    "\n",
    "missing_files = []\n",
    "for file in required_files:\n",
    "    if not os.path.exists(file):\n",
    "        missing_files.append(file)\n",
    "\n",
    "if missing_files:\n",
    "    print(\"⚠️ Missing required files:\")\n",
    "    for file in missing_files:\n",
    "        print(f\"   ❌ {file}\")\n",
    "    print(\"\\n💡 Please ensure all files are created and saved.\")\n",
    "else:\n",
    "    print(\"✅ All required files found!\")\n",
    "    print(\"\\n🚀 Ready to launch Enhanced Medical Dashboard!\")\n",
    "    \n",
    "    # Installation check\n",
    "    try:\n",
    "        import streamlit\n",
    "        print(\"✅ Streamlit installed\")\n",
    "    except ImportError:\n",
    "        print(\"❌ Streamlit not found. Installing...\")\n",
    "        subprocess.check_call([sys.executable, \"-m\", \"pip\", \"install\", \"streamlit\"])\n",
    "    \n",
    "    print(\"\\n\" + \"=\" * 50)\n",
    "    print(\"🌟 LAUNCH INSTRUCTIONS:\")\n",
    "    print(\"=\" * 50)\n",
    "    print(\"1. Open terminal in this directory\")\n",
    "    print(\"2. Run: streamlit run enhanced_dashboard.py\")\n",
    "    print(\"3. Or run: streamlit run diagnostic_dashboard.py (basic version)\")\n",
    "    print(\"\\n🌐 Dashboard will open at: http://localhost:8501\")\n",
    "    print(\"\\n📚 Features Available:\")\n",
    "    print(\"   🏥 Patient Analysis with 3D Visualizations\")\n",
    "    print(\"   🧬 Molecular Pattern Analysis\")\n",
    "    print(\"   ⚠️ Risk Assessment Center\") \n",
    "    print(\"   📊 Advanced Analytics Hub\")\n",
    "    print(\"   🎯 AI Prediction Laboratory\")\n",
    "    print(\"   🔴 Live Monitoring Center\")\n",
    "    print(\"   📋 Clinical Report Generation\")\n",
    "    print(\"\\n🎉 DEPLOYMENT COMPLETE! 🎉\")\n",
    "    print(\"=\" * 50)\n",
    "\n",
    "# Optional: Auto-launch if running in appropriate environment\n",
    "try:\n",
    "    if 'COLAB_GPU' not in os.environ and 'JUPYTER_SERVER_ROOT' not in os.environ:\n",
    "        user_input = input(\"\\n🚀 Launch dashboard automatically? (y/n): \").lower().strip()\n",
    "        if user_input == 'y':\n",
    "            print(\"🔄 Launching Enhanced Medical Dashboard...\")\n",
    "            subprocess.Popen([sys.executable, \"-m\", \"streamlit\", \"run\", \"enhanced_dashboard.py\"])\n",
    "            print(\"✅ Dashboard launched! Check your browser.\")\n",
    "except Exception as e:\n",
    "    print(f\"ℹ️ Auto-launch not available: {e}\")\n",
    "    print(\"💡 Please run manually: streamlit run enhanced_dashboard.py\")"
   ]
  }
 ],
 "metadata": {
  "kernelspec": {
   "display_name": "base",
   "language": "python",
   "name": "python3"
  },
  "language_info": {
   "codemirror_mode": {
    "name": "ipython",
    "version": 3
   },
   "file_extension": ".py",
   "mimetype": "text/x-python",
   "name": "python",
   "nbconvert_exporter": "python",
   "pygments_lexer": "ipython3",
   "version": "3.13.5"
  }
 },
 "nbformat": 4,
 "nbformat_minor": 5
}

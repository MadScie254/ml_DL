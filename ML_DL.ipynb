{
 "cells": [
  {
   "cell_type": "markdown",
   "id": "bb0b3e61-f5a9-49eb-abbe-6f680d4c06d1",
   "metadata": {},
   "source": [
    "# Project Metadata & Setup\n",
    "\n",
    "---\n",
    "\n",
    "## **Project Title:** **Early Breast Cancer Diagnosis using Machine Learning (Terminal-Based Prototype)**\n",
    "\n",
    "---\n",
    "\n",
    "### **Objective:**\n",
    "\n",
    "Develop a lightweight, terminal-driven diagnostic prototype that predicts breast tumor malignancy using the built-in Breast Cancer Wisconsin dataset.\n",
    "The goal is to simulate how a clinician or technician might use a fast, interpretable tool, without a full GUI or web app.\n",
    "\n",
    "\n",
    "### **Dataset Description:**\n",
    "\n",
    "* **Name:** Breast Cancer Wisconsin (Diagnostic)\n",
    "* **Source:** `sklearn.datasets.load_breast_cancer()`\n",
    "* **Samples:** 569\n",
    "* **Features:** 30 numerical (e.g. radius, texture, symmetry)\n",
    "* **Target:** Binary classification — `malignant (0)` vs. `benign (1)`\n",
    "\n",
    "\n",
    "\n",
    "### **Stakeholders:**\n",
    "\n",
    "| Stakeholder          | Interest / Use Case                                              |\n",
    "| -------------------- | ---------------------------------------------------------------- |\n",
    "| **Clinicians**       | Fast, interpretable predictions without cloud dependency         |\n",
    "| **Researchers**      | Baseline model to compare with deep learning or ensemble methods |\n",
    "| **Medical Startups** | Prototype backend logic for terminal-based tools                 |\n",
    "| **Educators**        | Teaching ML with meaningful, real-world data                     |\n",
    "\n",
    "\n",
    "### **Key Notes for Revision:**\n",
    "\n",
    "* **No GPU required** — uses efficient `RandomForestClassifier`\n",
    "* **Runs locally** in terminal with zero external dataset download\n",
    "* **Emphasis on simplicity**: ASCII feedback, clean input prompts\n",
    "* **Can be modularized later** into API or UI backend\n",
    "* **We’ll skip test/train splitting** for now — prototype phase only\n",
    "\n",
    "\n",
    "### **Environment Requirements:**\n",
    "\n",
    "| Package    | Use                          |\n",
    "| ---------- | ---------------------------- |\n",
    "| `sklearn`  | Dataset + ML model           |\n",
    "| `pandas`   | Tabular data inspection      |\n",
    "| `colorama` | Terminal coloring (optional) |\n",
    "| `numpy`    | Data handling                |\n",
    "\n",
    "---\n",
    "\n",
    "### Install (if not present):\n",
    "\n",
    "```bash\n",
    "pip install pandas scikit-learn colorama\n",
    "```\n",
    "\n",
    "\n",
    "### Deliverables:\n",
    "\n",
    "* Classifier trained on breast cancer dataset\n",
    "* Real-time terminal prediction system\n",
    "* ASCII output or basic feedback UI for predicted diagnosis\n",
    "* Clean, commented code blocks\n",
    "* Professional markdown formatting with revision comments\n"
   ]
  },
  {
   "cell_type": "code",
   "execution_count": null,
   "id": "41e89c47-db91-4210-a26f-49541aaf757d",
   "metadata": {},
   "outputs": [],
   "source": []
  },
  {
   "cell_type": "code",
   "execution_count": null,
   "id": "94d69fcb-2a69-46c5-b1a9-21be5d49b9de",
   "metadata": {},
   "outputs": [],
   "source": []
  },
  {
   "cell_type": "code",
   "execution_count": null,
   "id": "591e9e2e-fc7a-48e8-92d7-2a26710b8973",
   "metadata": {},
   "outputs": [],
   "source": []
  },
  {
   "cell_type": "code",
   "execution_count": null,
   "id": "8db242e0-5798-4bfa-bb05-e43329af4b5f",
   "metadata": {},
   "outputs": [],
   "source": []
  },
  {
   "cell_type": "code",
   "execution_count": null,
   "id": "98157a2c-15df-4281-ae26-1385892c1f80",
   "metadata": {},
   "outputs": [],
   "source": []
  },
  {
   "cell_type": "code",
   "execution_count": null,
   "id": "2e31341d-7509-4a42-9ea8-79ff060471d5",
   "metadata": {},
   "outputs": [],
   "source": []
  },
  {
   "cell_type": "code",
   "execution_count": null,
   "id": "65d845bf-69ad-4cd1-9c89-41ea897321e9",
   "metadata": {},
   "outputs": [],
   "source": []
  },
  {
   "cell_type": "code",
   "execution_count": null,
   "id": "3811a469-7b4b-4f07-af60-ef75440cce0d",
   "metadata": {},
   "outputs": [],
   "source": []
  },
  {
   "cell_type": "code",
   "execution_count": null,
   "id": "de55fae9-bb1b-4171-9165-2265d6401903",
   "metadata": {},
   "outputs": [],
   "source": []
  },
  {
   "cell_type": "code",
   "execution_count": null,
   "id": "b619ddc2-dec6-4b42-9321-b4e0270f349e",
   "metadata": {},
   "outputs": [],
   "source": []
  },
  {
   "cell_type": "code",
   "execution_count": null,
   "id": "399e82b3-4d43-4d9e-8d5a-edf1a979491a",
   "metadata": {},
   "outputs": [],
   "source": []
  },
  {
   "cell_type": "code",
   "execution_count": null,
   "id": "5207672a-e441-472a-814e-079daa3f0afd",
   "metadata": {},
   "outputs": [],
   "source": []
  },
  {
   "cell_type": "code",
   "execution_count": null,
   "id": "a964602d-adff-4ec0-b247-ff0f939a637d",
   "metadata": {},
   "outputs": [],
   "source": []
  },
  {
   "cell_type": "code",
   "execution_count": null,
   "id": "b5c6dd74-7da1-490b-816b-1eb46fdd3298",
   "metadata": {},
   "outputs": [],
   "source": []
  },
  {
   "cell_type": "code",
   "execution_count": null,
   "id": "386add14-4017-43fc-b916-66338623379d",
   "metadata": {},
   "outputs": [],
   "source": []
  },
  {
   "cell_type": "code",
   "execution_count": null,
   "id": "389bd2af-beaa-484a-9d46-91ebb479906c",
   "metadata": {},
   "outputs": [],
   "source": []
  },
  {
   "cell_type": "code",
   "execution_count": null,
   "id": "c279b33c-b1bb-4656-ba2b-3f6ec5674425",
   "metadata": {},
   "outputs": [],
   "source": []
  },
  {
   "cell_type": "code",
   "execution_count": null,
   "id": "230d585e-1ab5-444d-bf5c-4a0eabd537b8",
   "metadata": {},
   "outputs": [],
   "source": []
  },
  {
   "cell_type": "code",
   "execution_count": null,
   "id": "cabb855d-67cd-4441-8dc9-ccbbf6682e14",
   "metadata": {},
   "outputs": [],
   "source": []
  },
  {
   "cell_type": "code",
   "execution_count": null,
   "id": "ed490ad3-f31b-4670-90e4-2c1788e002b5",
   "metadata": {},
   "outputs": [],
   "source": []
  },
  {
   "cell_type": "code",
   "execution_count": null,
   "id": "7201c417-01a3-41f0-8af9-57feea85611a",
   "metadata": {},
   "outputs": [],
   "source": []
  },
  {
   "cell_type": "code",
   "execution_count": null,
   "id": "f576e43e-2357-424e-a86c-8903651cbd8c",
   "metadata": {},
   "outputs": [],
   "source": []
  },
  {
   "cell_type": "code",
   "execution_count": null,
   "id": "b3ac2d0d-0946-470e-93ae-829b942c2c5f",
   "metadata": {},
   "outputs": [],
   "source": []
  },
  {
   "cell_type": "code",
   "execution_count": null,
   "id": "ac35aa8a-b2db-44f2-bf0c-d6ff454a677c",
   "metadata": {},
   "outputs": [],
   "source": []
  },
  {
   "cell_type": "code",
   "execution_count": null,
   "id": "98c4694e-8595-4cb7-aa02-21e7110232eb",
   "metadata": {},
   "outputs": [],
   "source": []
  },
  {
   "cell_type": "code",
   "execution_count": null,
   "id": "7ad3c431-8a7c-40a2-acf1-c9820f355b2a",
   "metadata": {},
   "outputs": [],
   "source": []
  }
 ],
 "metadata": {
  "kernelspec": {
   "display_name": "Python 3 (ipykernel)",
   "language": "python",
   "name": "python3"
  },
  "language_info": {
   "codemirror_mode": {
    "name": "ipython",
    "version": 3
   },
   "file_extension": ".py",
   "mimetype": "text/x-python",
   "name": "python",
   "nbconvert_exporter": "python",
   "pygments_lexer": "ipython3",
   "version": "3.13.5"
  }
 },
 "nbformat": 4,
 "nbformat_minor": 5
}

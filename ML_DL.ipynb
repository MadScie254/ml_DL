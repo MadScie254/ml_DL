{
 "cells": [
  {
   "cell_type": "markdown",
   "id": "bb0b3e61-f5a9-49eb-abbe-6f680d4c06d1",
   "metadata": {},
   "source": [
    "# Project Metadata & Setup\n",
    "\n",
    "---\n",
    "\n",
    "## **Project Title:** **Early Breast Cancer Diagnosis using Machine Learning (Terminal-Based Prototype)**\n",
    "\n",
    "---\n",
    "\n",
    "### **Objective:**\n",
    "\n",
    "Develop a lightweight, terminal-driven diagnostic prototype that predicts breast tumor malignancy using the built-in Breast Cancer Wisconsin dataset.\n",
    "The goal is to simulate how a clinician or technician might use a fast, interpretable tool, without a full GUI or web app.\n",
    "\n",
    "\n",
    "### **Dataset Description:**\n",
    "\n",
    "* **Name:** Breast Cancer Wisconsin (Diagnostic)\n",
    "* **Source:** `sklearn.datasets.load_breast_cancer()`\n",
    "* **Samples:** 569\n",
    "* **Features:** 30 numerical (e.g. radius, texture, symmetry)\n",
    "* **Target:** Binary classification — `malignant (0)` vs. `benign (1)`\n",
    "\n",
    "\n",
    "\n",
    "### **Stakeholders:**\n",
    "\n",
    "| Stakeholder          | Interest / Use Case                                              |\n",
    "| -------------------- | ---------------------------------------------------------------- |\n",
    "| **Clinicians**       | Fast, interpretable predictions without cloud dependency         |\n",
    "| **Researchers**      | Baseline model to compare with deep learning or ensemble methods |\n",
    "| **Medical Startups** | Prototype backend logic for terminal-based tools                 |\n",
    "| **Educators**        | Teaching ML with meaningful, real-world data                     |\n",
    "\n",
    "\n",
    "### **Key Notes for Revision:**\n",
    "\n",
    "* **No GPU required** — uses efficient `RandomForestClassifier`\n",
    "* **Runs locally** in terminal with zero external dataset download\n",
    "* **Emphasis on simplicity**: ASCII feedback, clean input prompts\n",
    "* **Can be modularized later** into API or UI backend\n",
    "* **We’ll skip test/train splitting** for now — prototype phase only\n",
    "\n",
    "\n",
    "### **Environment Requirements:**\n",
    "\n",
    "| Package    | Use                          |\n",
    "| ---------- | ---------------------------- |\n",
    "| `sklearn`  | Dataset + ML model           |\n",
    "| `pandas`   | Tabular data inspection      |\n",
    "| `colorama` | Terminal coloring (optional) |\n",
    "| `numpy`    | Data handling                |\n",
    "\n",
    "---\n",
    "\n",
    "### Install (if not present):\n",
    "\n",
    "```bash\n",
    "pip install pandas scikit-learn colorama\n",
    "```\n",
    "\n",
    "\n",
    "### Deliverables:\n",
    "\n",
    "* Classifier trained on breast cancer dataset\n",
    "* Real-time terminal prediction system\n",
    "* ASCII output or basic feedback UI for predicted diagnosis\n",
    "* Clean, commented code blocks\n",
    "* Professional markdown formatting with revision comments\n"
   ]
  },
  {
   "cell_type": "markdown",
   "id": "2a9f4d29-50b9-466e-b514-5fccb93e2f96",
   "metadata": {},
   "source": [
    "## STEP 1: Load and Explore the Breast Cancer Dataset\n",
    "\n",
    "\n",
    "### **Objective:**\n",
    "\n",
    "* Load the Breast Cancer Wisconsin dataset directly from `sklearn`\n",
    "* Convert to a `pandas.DataFrame` for readability\n",
    "* Summarize the dataset structure and feature information\n",
    "* Confirm class distribution (very important in medical ML)\n",
    "\n",
    "\n",
    "### **Background Insight for Stakeholders:**\n",
    "\n",
    "* The data represent **digitized characteristics of cell nuclei** from fine-needle aspirates of breast masses.\n",
    "* 30 numerical features are calculated from images (e.g., mean radius, standard error of texture, worst smoothness).\n",
    "* The target is **binary**:\n",
    "\n",
    "  * `0 = malignant` (cancerous)\n",
    "  * `1 = benign` (non-cancerous)\n",
    "\n",
    "\n",
    "### **Code Block: Load + Inspect Data**"
   ]
  },
  {
   "cell_type": "code",
   "execution_count": 12,
   "id": "94d69fcb-2a69-46c5-b1a9-21be5d49b9de",
   "metadata": {},
   "outputs": [
    {
     "name": "stdout",
     "output_type": "stream",
     "text": [
      "🧬 Dataset Dimensions: (569, 32)\n",
      "🔢 Number of Features: 30\n",
      "🎯 Target Labels: [np.str_('malignant'), np.str_('benign')]\n",
      "\n",
      "📊 Class Distribution:\n",
      "target_name\n",
      "benign       357\n",
      "malignant    212\n",
      "Name: count, dtype: int64\n"
     ]
    },
    {
     "data": {
      "text/html": [
       "<div>\n",
       "<style scoped>\n",
       "    .dataframe tbody tr th:only-of-type {\n",
       "        vertical-align: middle;\n",
       "    }\n",
       "\n",
       "    .dataframe tbody tr th {\n",
       "        vertical-align: top;\n",
       "    }\n",
       "\n",
       "    .dataframe thead th {\n",
       "        text-align: right;\n",
       "    }\n",
       "</style>\n",
       "<table border=\"1\" class=\"dataframe\">\n",
       "  <thead>\n",
       "    <tr style=\"text-align: right;\">\n",
       "      <th></th>\n",
       "      <th>mean radius</th>\n",
       "      <th>mean texture</th>\n",
       "      <th>mean perimeter</th>\n",
       "      <th>mean area</th>\n",
       "      <th>mean smoothness</th>\n",
       "      <th>mean compactness</th>\n",
       "      <th>mean concavity</th>\n",
       "      <th>mean concave points</th>\n",
       "      <th>mean symmetry</th>\n",
       "      <th>mean fractal dimension</th>\n",
       "      <th>...</th>\n",
       "      <th>worst perimeter</th>\n",
       "      <th>worst area</th>\n",
       "      <th>worst smoothness</th>\n",
       "      <th>worst compactness</th>\n",
       "      <th>worst concavity</th>\n",
       "      <th>worst concave points</th>\n",
       "      <th>worst symmetry</th>\n",
       "      <th>worst fractal dimension</th>\n",
       "      <th>target</th>\n",
       "      <th>target_name</th>\n",
       "    </tr>\n",
       "  </thead>\n",
       "  <tbody>\n",
       "    <tr>\n",
       "      <th>375</th>\n",
       "      <td>16.17</td>\n",
       "      <td>16.07</td>\n",
       "      <td>106.30</td>\n",
       "      <td>788.5</td>\n",
       "      <td>0.09880</td>\n",
       "      <td>0.14380</td>\n",
       "      <td>0.06651</td>\n",
       "      <td>0.05397</td>\n",
       "      <td>0.1990</td>\n",
       "      <td>0.06572</td>\n",
       "      <td>...</td>\n",
       "      <td>113.10</td>\n",
       "      <td>861.5</td>\n",
       "      <td>0.12350</td>\n",
       "      <td>0.25500</td>\n",
       "      <td>0.21140</td>\n",
       "      <td>0.12510</td>\n",
       "      <td>0.3153</td>\n",
       "      <td>0.08960</td>\n",
       "      <td>1</td>\n",
       "      <td>benign</td>\n",
       "    </tr>\n",
       "    <tr>\n",
       "      <th>270</th>\n",
       "      <td>14.29</td>\n",
       "      <td>16.82</td>\n",
       "      <td>90.30</td>\n",
       "      <td>632.6</td>\n",
       "      <td>0.06429</td>\n",
       "      <td>0.02675</td>\n",
       "      <td>0.00725</td>\n",
       "      <td>0.00625</td>\n",
       "      <td>0.1508</td>\n",
       "      <td>0.05376</td>\n",
       "      <td>...</td>\n",
       "      <td>94.44</td>\n",
       "      <td>684.6</td>\n",
       "      <td>0.08567</td>\n",
       "      <td>0.05036</td>\n",
       "      <td>0.03866</td>\n",
       "      <td>0.03333</td>\n",
       "      <td>0.2458</td>\n",
       "      <td>0.06120</td>\n",
       "      <td>1</td>\n",
       "      <td>benign</td>\n",
       "    </tr>\n",
       "    <tr>\n",
       "      <th>243</th>\n",
       "      <td>13.75</td>\n",
       "      <td>23.77</td>\n",
       "      <td>88.54</td>\n",
       "      <td>590.0</td>\n",
       "      <td>0.08043</td>\n",
       "      <td>0.06807</td>\n",
       "      <td>0.04697</td>\n",
       "      <td>0.02344</td>\n",
       "      <td>0.1773</td>\n",
       "      <td>0.05429</td>\n",
       "      <td>...</td>\n",
       "      <td>98.00</td>\n",
       "      <td>706.0</td>\n",
       "      <td>0.09368</td>\n",
       "      <td>0.14420</td>\n",
       "      <td>0.13590</td>\n",
       "      <td>0.06106</td>\n",
       "      <td>0.2663</td>\n",
       "      <td>0.06321</td>\n",
       "      <td>1</td>\n",
       "      <td>benign</td>\n",
       "    </tr>\n",
       "    <tr>\n",
       "      <th>50</th>\n",
       "      <td>11.76</td>\n",
       "      <td>21.60</td>\n",
       "      <td>74.72</td>\n",
       "      <td>427.9</td>\n",
       "      <td>0.08637</td>\n",
       "      <td>0.04966</td>\n",
       "      <td>0.01657</td>\n",
       "      <td>0.01115</td>\n",
       "      <td>0.1495</td>\n",
       "      <td>0.05888</td>\n",
       "      <td>...</td>\n",
       "      <td>82.98</td>\n",
       "      <td>516.5</td>\n",
       "      <td>0.10850</td>\n",
       "      <td>0.08615</td>\n",
       "      <td>0.05523</td>\n",
       "      <td>0.03715</td>\n",
       "      <td>0.2433</td>\n",
       "      <td>0.06563</td>\n",
       "      <td>1</td>\n",
       "      <td>benign</td>\n",
       "    </tr>\n",
       "    <tr>\n",
       "      <th>328</th>\n",
       "      <td>16.27</td>\n",
       "      <td>20.71</td>\n",
       "      <td>106.90</td>\n",
       "      <td>813.7</td>\n",
       "      <td>0.11690</td>\n",
       "      <td>0.13190</td>\n",
       "      <td>0.14780</td>\n",
       "      <td>0.08488</td>\n",
       "      <td>0.1948</td>\n",
       "      <td>0.06277</td>\n",
       "      <td>...</td>\n",
       "      <td>129.80</td>\n",
       "      <td>1121.0</td>\n",
       "      <td>0.15900</td>\n",
       "      <td>0.29470</td>\n",
       "      <td>0.35970</td>\n",
       "      <td>0.15830</td>\n",
       "      <td>0.3103</td>\n",
       "      <td>0.08200</td>\n",
       "      <td>0</td>\n",
       "      <td>malignant</td>\n",
       "    </tr>\n",
       "  </tbody>\n",
       "</table>\n",
       "<p>5 rows × 32 columns</p>\n",
       "</div>"
      ],
      "text/plain": [
       "     mean radius  mean texture  mean perimeter  mean area  mean smoothness  \\\n",
       "375        16.17         16.07          106.30      788.5          0.09880   \n",
       "270        14.29         16.82           90.30      632.6          0.06429   \n",
       "243        13.75         23.77           88.54      590.0          0.08043   \n",
       "50         11.76         21.60           74.72      427.9          0.08637   \n",
       "328        16.27         20.71          106.90      813.7          0.11690   \n",
       "\n",
       "     mean compactness  mean concavity  mean concave points  mean symmetry  \\\n",
       "375           0.14380         0.06651              0.05397         0.1990   \n",
       "270           0.02675         0.00725              0.00625         0.1508   \n",
       "243           0.06807         0.04697              0.02344         0.1773   \n",
       "50            0.04966         0.01657              0.01115         0.1495   \n",
       "328           0.13190         0.14780              0.08488         0.1948   \n",
       "\n",
       "     mean fractal dimension  ...  worst perimeter  worst area  \\\n",
       "375                 0.06572  ...           113.10       861.5   \n",
       "270                 0.05376  ...            94.44       684.6   \n",
       "243                 0.05429  ...            98.00       706.0   \n",
       "50                  0.05888  ...            82.98       516.5   \n",
       "328                 0.06277  ...           129.80      1121.0   \n",
       "\n",
       "     worst smoothness  worst compactness  worst concavity  \\\n",
       "375           0.12350            0.25500          0.21140   \n",
       "270           0.08567            0.05036          0.03866   \n",
       "243           0.09368            0.14420          0.13590   \n",
       "50            0.10850            0.08615          0.05523   \n",
       "328           0.15900            0.29470          0.35970   \n",
       "\n",
       "     worst concave points  worst symmetry  worst fractal dimension  target  \\\n",
       "375               0.12510          0.3153                  0.08960       1   \n",
       "270               0.03333          0.2458                  0.06120       1   \n",
       "243               0.06106          0.2663                  0.06321       1   \n",
       "50                0.03715          0.2433                  0.06563       1   \n",
       "328               0.15830          0.3103                  0.08200       0   \n",
       "\n",
       "     target_name  \n",
       "375       benign  \n",
       "270       benign  \n",
       "243       benign  \n",
       "50        benign  \n",
       "328    malignant  \n",
       "\n",
       "[5 rows x 32 columns]"
      ]
     },
     "execution_count": 12,
     "metadata": {},
     "output_type": "execute_result"
    }
   ],
   "source": [
    "# STEP 1: Load & Inspect Breast Cancer Dataset\n",
    "from sklearn.datasets import load_breast_cancer\n",
    "import pandas as pd\n",
    "\n",
    "# Load dataset from sklearn\n",
    "cancer = load_breast_cancer()\n",
    "\n",
    "# Convert to pandas DataFrame\n",
    "df = pd.DataFrame(data=cancer.data, columns=cancer.feature_names)\n",
    "\n",
    "# Add target labels\n",
    "df['target'] = cancer.target\n",
    "df['target_name'] = df['target'].map(lambda x: cancer.target_names[x])\n",
    "\n",
    "# Summary outputs\n",
    "print(\"🧬 Dataset Dimensions:\", df.shape)\n",
    "print(\"🔢 Number of Features:\", len(cancer.feature_names))\n",
    "print(\"🎯 Target Labels:\", list(cancer.target_names))\n",
    "print(\"\\n📊 Class Distribution:\")\n",
    "print(df['target_name'].value_counts())\n",
    "\n",
    "# Preview sample records\n",
    "df.sample(5)"
   ]
  },
  {
   "cell_type": "markdown",
   "id": "32b0647d-43b1-4389-9913-ea6eacaa4228",
   "metadata": {},
   "source": [
    "\n",
    "### Notes for Revision:\n",
    "\n",
    "* **Shape:** `(569, 32)` → 569 observations, 30 features + 1 label + 1 label name\n",
    "* **Target imbalance:** More benign than malignant cases → might require stratified validation later\n",
    "* `target_name` column added for human-readability\n",
    "###  Example Output (Typical):"
   ]
  },
  {
   "cell_type": "markdown",
   "id": "c47d510c-6f60-4741-a20b-c5b15f620d38",
   "metadata": {},
   "source": [
    "🧬 Dataset Dimensions: (569, 32)\n",
    "🔢 Number of Features: 30\n",
    "🎯 Target Labels: ['malignant', 'benign']\n",
    "\n",
    "📊 Class Distribution:\n",
    "benign       357\n",
    "malignant    212\n",
    "Name: target_name, dtype: int64\n"
   ]
  },
  {
   "cell_type": "markdown",
   "id": "8bb65380-c65e-4a78-ada3-e4fb9f5af346",
   "metadata": {},
   "source": [
    "## STEP 2: Train the Classifier\n",
    "\n",
    "\n",
    "### Objective:\n",
    "\n",
    "Train a **Random Forest Classifier** on the full dataset.\n",
    "This prototype focuses on prediction responsiveness — no test/train split or cross-validation yet.\n",
    "\n",
    "\n",
    "### Model Choice Justification:\n",
    "\n",
    "| Model                    | Reason for Selection                                                         |\n",
    "| ------------------------ | ---------------------------------------------------------------------------- |\n",
    "| `RandomForestClassifier` | Fast to train, robust to outliers, good with non-linear feature interactions |\n",
    "| `n_estimators=100`       | Balances accuracy and inference speed                                        |\n",
    "| `random_state=42`        | Ensures repeatable results                                                   |\n",
    "\n",
    "This setup fits our terminal-based use case — quick predictions and stable accuracy.\n",
    "\n",
    "\n",
    "### Code Block: Train the Model\n",
    "\n",
    "\n"
   ]
  },
  {
   "cell_type": "code",
   "execution_count": 13,
   "id": "2e31341d-7509-4a42-9ea8-79ff060471d5",
   "metadata": {},
   "outputs": [
    {
     "name": "stdout",
     "output_type": "stream",
     "text": [
      "Training Accuracy: 100.00%\n"
     ]
    }
   ],
   "source": [
    "# STEP 2: Train Random Forest Classifier\n",
    "from sklearn.ensemble import RandomForestClassifier\n",
    "\n",
    "# Prepare feature matrix X and target vector y\n",
    "X = cancer.data\n",
    "y = cancer.target\n",
    "\n",
    "# Initialize classifier\n",
    "clf = RandomForestClassifier(n_estimators=100, random_state=42)\n",
    "\n",
    "# Train on entire dataset (prototype phase)\n",
    "clf.fit(X, y)\n",
    "\n",
    "# Evaluate on training set\n",
    "train_accuracy = clf.score(X, y)\n",
    "print(f\"Training Accuracy: {train_accuracy:.2%}\")"
   ]
  },
  {
   "cell_type": "markdown",
   "id": "5ad68d9f-80e9-49b4-b6e8-e15e6e0ee90d",
   "metadata": {},
   "source": [
    "### Notes for Revision:\n",
    "\n",
    "* `clf.fit(X, y)` trains on all 569 samples\n",
    "* Accuracy may look very high (\\~99%) — acceptable for a prototype, but must validate later with real test data\n",
    "* For a full deployment, we’d use `train_test_split()` and stratified validation folds"
   ]
  },
  {
   "cell_type": "markdown",
   "id": "3e57027a-19ae-4861-a962-524be68d3ebd",
   "metadata": {},
   "source": [
    "## New Scenario:\n",
    "\n",
    "### **“Quick Diagnosis Assistant”**\n",
    "\n",
    "Instead of inputting all 30 features manually, we:\n",
    "\n",
    "* **Randomly sample a case** from the dataset\n",
    "* Display its features to simulate \"incoming patient data\"\n",
    "* Ask the user:\n",
    "  *\"Would you like to diagnose this case?\"*\n",
    "* Then we **predict and show results** using the trained model\n",
    "\n",
    "No typing 30 numbers. Still real. Still sharp. Still interactive.\n",
    "\n",
    "\n",
    "## STEP 3 (Revised): Sample and Diagnose a Case\n",
    "\n",
    "\n",
    "### Objective:\n",
    "\n",
    "* Randomly pull a sample case from the dataset\n",
    "* Show the 5–7 most meaningful features (not all 30)\n",
    "* Let the model predict and show the result\n",
    "* Give option to keep looping or exit"
   ]
  },
  {
   "cell_type": "code",
   "execution_count": 15,
   "id": "2c24c2b1-13ee-4aee-8805-01f09367f3b6",
   "metadata": {},
   "outputs": [
    {
     "name": "stdout",
     "output_type": "stream",
     "text": [
      "\n",
      "--- New Patient Case ---\n",
      "mean radius: 9.90\n",
      "mean texture: 18.06\n",
      "mean perimeter: 64.60\n",
      "mean area: 302.40\n",
      "worst concavity: 0.35\n",
      "worst symmetry: 0.26\n"
     ]
    },
    {
     "name": "stdin",
     "output_type": "stream",
     "text": [
      "\n",
      "Run diagnosis? (y/n):  y\n"
     ]
    },
    {
     "name": "stdout",
     "output_type": "stream",
     "text": [
      "\n",
      "Diagnosis Prediction:\n",
      "  → Predicted: BENIGN\n",
      "  → Actual:    BENIGN\n"
     ]
    },
    {
     "name": "stdin",
     "output_type": "stream",
     "text": [
      "\n",
      "Run another case? (y/n):  y\n"
     ]
    },
    {
     "name": "stdout",
     "output_type": "stream",
     "text": [
      "\n",
      "--- New Patient Case ---\n",
      "mean radius: 10.75\n",
      "mean texture: 14.97\n",
      "mean perimeter: 68.26\n",
      "mean area: 355.30\n",
      "worst concavity: 0.10\n",
      "worst symmetry: 0.23\n"
     ]
    },
    {
     "name": "stdin",
     "output_type": "stream",
     "text": [
      "\n",
      "Run diagnosis? (y/n):  y\n"
     ]
    },
    {
     "name": "stdout",
     "output_type": "stream",
     "text": [
      "\n",
      "Diagnosis Prediction:\n",
      "  → Predicted: BENIGN\n",
      "  → Actual:    BENIGN\n"
     ]
    },
    {
     "name": "stdin",
     "output_type": "stream",
     "text": [
      "\n",
      "Run another case? (y/n):  y\n"
     ]
    },
    {
     "name": "stdout",
     "output_type": "stream",
     "text": [
      "\n",
      "--- New Patient Case ---\n",
      "mean radius: 14.99\n",
      "mean texture: 25.20\n",
      "mean perimeter: 95.54\n",
      "mean area: 698.80\n",
      "worst concavity: 0.02\n",
      "worst symmetry: 0.16\n"
     ]
    },
    {
     "name": "stdin",
     "output_type": "stream",
     "text": [
      "\n",
      "Run diagnosis? (y/n):  y\n"
     ]
    },
    {
     "name": "stdout",
     "output_type": "stream",
     "text": [
      "\n",
      "Diagnosis Prediction:\n",
      "  → Predicted: MALIGNANT\n",
      "  → Actual:    MALIGNANT\n"
     ]
    },
    {
     "name": "stdin",
     "output_type": "stream",
     "text": [
      "\n",
      "Run another case? (y/n):  y\n"
     ]
    },
    {
     "name": "stdout",
     "output_type": "stream",
     "text": [
      "\n",
      "--- New Patient Case ---\n",
      "mean radius: 14.99\n",
      "mean texture: 25.20\n",
      "mean perimeter: 95.54\n",
      "mean area: 698.80\n",
      "worst concavity: 0.02\n",
      "worst symmetry: 0.16\n"
     ]
    },
    {
     "name": "stdin",
     "output_type": "stream",
     "text": [
      "\n",
      "Run diagnosis? (y/n):  y\n"
     ]
    },
    {
     "name": "stdout",
     "output_type": "stream",
     "text": [
      "\n",
      "Diagnosis Prediction:\n",
      "  → Predicted: MALIGNANT\n",
      "  → Actual:    MALIGNANT\n"
     ]
    },
    {
     "name": "stdin",
     "output_type": "stream",
     "text": [
      "\n",
      "Run another case? (y/n):  y\n"
     ]
    },
    {
     "name": "stdout",
     "output_type": "stream",
     "text": [
      "\n",
      "--- New Patient Case ---\n",
      "mean radius: 9.74\n",
      "mean texture: 11.97\n",
      "mean perimeter: 61.24\n",
      "mean area: 288.50\n",
      "worst concavity: 0.00\n",
      "worst symmetry: 0.31\n"
     ]
    },
    {
     "name": "stdin",
     "output_type": "stream",
     "text": [
      "\n",
      "Run diagnosis? (y/n):  y\n"
     ]
    },
    {
     "name": "stdout",
     "output_type": "stream",
     "text": [
      "\n",
      "Diagnosis Prediction:\n",
      "  → Predicted: BENIGN\n",
      "  → Actual:    BENIGN\n"
     ]
    },
    {
     "name": "stdin",
     "output_type": "stream",
     "text": [
      "\n",
      "Run another case? (y/n):  y\n"
     ]
    },
    {
     "name": "stdout",
     "output_type": "stream",
     "text": [
      "\n",
      "--- New Patient Case ---\n",
      "mean radius: 17.19\n",
      "mean texture: 22.07\n",
      "mean perimeter: 111.60\n",
      "mean area: 928.30\n",
      "worst concavity: 0.39\n",
      "worst symmetry: 0.32\n"
     ]
    },
    {
     "name": "stdin",
     "output_type": "stream",
     "text": [
      "\n",
      "Run diagnosis? (y/n):  y\n"
     ]
    },
    {
     "name": "stdout",
     "output_type": "stream",
     "text": [
      "\n",
      "Diagnosis Prediction:\n",
      "  → Predicted: MALIGNANT\n",
      "  → Actual:    MALIGNANT\n"
     ]
    },
    {
     "name": "stdin",
     "output_type": "stream",
     "text": [
      "\n",
      "Run another case? (y/n):  y\n"
     ]
    },
    {
     "name": "stdout",
     "output_type": "stream",
     "text": [
      "\n",
      "--- New Patient Case ---\n",
      "mean radius: 14.44\n",
      "mean texture: 15.18\n",
      "mean perimeter: 93.97\n",
      "mean area: 640.10\n",
      "worst concavity: 0.31\n",
      "worst symmetry: 0.27\n"
     ]
    },
    {
     "name": "stdin",
     "output_type": "stream",
     "text": [
      "\n",
      "Run diagnosis? (y/n):  y\n"
     ]
    },
    {
     "name": "stdout",
     "output_type": "stream",
     "text": [
      "\n",
      "Diagnosis Prediction:\n",
      "  → Predicted: BENIGN\n",
      "  → Actual:    BENIGN\n"
     ]
    },
    {
     "name": "stdin",
     "output_type": "stream",
     "text": [
      "\n",
      "Run another case? (y/n):  y\n"
     ]
    },
    {
     "name": "stdout",
     "output_type": "stream",
     "text": [
      "\n",
      "--- New Patient Case ---\n",
      "mean radius: 12.72\n",
      "mean texture: 13.78\n",
      "mean perimeter: 81.78\n",
      "mean area: 492.10\n",
      "worst concavity: 0.05\n",
      "worst symmetry: 0.24\n"
     ]
    },
    {
     "name": "stdin",
     "output_type": "stream",
     "text": [
      "\n",
      "Run diagnosis? (y/n):  y\n"
     ]
    },
    {
     "name": "stdout",
     "output_type": "stream",
     "text": [
      "\n",
      "Diagnosis Prediction:\n",
      "  → Predicted: BENIGN\n",
      "  → Actual:    BENIGN\n"
     ]
    },
    {
     "name": "stdin",
     "output_type": "stream",
     "text": [
      "\n",
      "Run another case? (y/n):  y\n"
     ]
    },
    {
     "name": "stdout",
     "output_type": "stream",
     "text": [
      "\n",
      "--- New Patient Case ---\n",
      "mean radius: 20.13\n",
      "mean texture: 28.25\n",
      "mean perimeter: 131.20\n",
      "mean area: 1261.00\n",
      "worst concavity: 0.32\n",
      "worst symmetry: 0.26\n"
     ]
    },
    {
     "name": "stdin",
     "output_type": "stream",
     "text": [
      "\n",
      "Run diagnosis? (y/n):  y\n"
     ]
    },
    {
     "name": "stdout",
     "output_type": "stream",
     "text": [
      "\n",
      "Diagnosis Prediction:\n",
      "  → Predicted: MALIGNANT\n",
      "  → Actual:    MALIGNANT\n"
     ]
    },
    {
     "name": "stdin",
     "output_type": "stream",
     "text": [
      "\n",
      "Run another case? (y/n):  y\n"
     ]
    },
    {
     "name": "stdout",
     "output_type": "stream",
     "text": [
      "\n",
      "--- New Patient Case ---\n",
      "mean radius: 20.26\n",
      "mean texture: 23.03\n",
      "mean perimeter: 132.40\n",
      "mean area: 1264.00\n",
      "worst concavity: 0.41\n",
      "worst symmetry: 0.37\n"
     ]
    },
    {
     "name": "stdin",
     "output_type": "stream",
     "text": [
      "\n",
      "Run diagnosis? (y/n):  y\n"
     ]
    },
    {
     "name": "stdout",
     "output_type": "stream",
     "text": [
      "\n",
      "Diagnosis Prediction:\n",
      "  → Predicted: MALIGNANT\n",
      "  → Actual:    MALIGNANT\n"
     ]
    },
    {
     "name": "stdin",
     "output_type": "stream",
     "text": [
      "\n",
      "Run another case? (y/n):  y\n"
     ]
    },
    {
     "name": "stdout",
     "output_type": "stream",
     "text": [
      "\n",
      "--- New Patient Case ---\n",
      "mean radius: 18.46\n",
      "mean texture: 18.52\n",
      "mean perimeter: 121.10\n",
      "mean area: 1075.00\n",
      "worst concavity: 0.32\n",
      "worst symmetry: 0.37\n"
     ]
    },
    {
     "name": "stdin",
     "output_type": "stream",
     "text": [
      "\n",
      "Run diagnosis? (y/n):  y\n"
     ]
    },
    {
     "name": "stdout",
     "output_type": "stream",
     "text": [
      "\n",
      "Diagnosis Prediction:\n",
      "  → Predicted: MALIGNANT\n",
      "  → Actual:    MALIGNANT\n"
     ]
    },
    {
     "name": "stdin",
     "output_type": "stream",
     "text": [
      "\n",
      "Run another case? (y/n):  y\n"
     ]
    },
    {
     "name": "stdout",
     "output_type": "stream",
     "text": [
      "\n",
      "--- New Patient Case ---\n",
      "mean radius: 9.67\n",
      "mean texture: 18.49\n",
      "mean perimeter: 61.49\n",
      "mean area: 289.10\n",
      "worst concavity: 0.13\n",
      "worst symmetry: 0.32\n"
     ]
    },
    {
     "name": "stdin",
     "output_type": "stream",
     "text": [
      "\n",
      "Run diagnosis? (y/n):  y\n"
     ]
    },
    {
     "name": "stdout",
     "output_type": "stream",
     "text": [
      "\n",
      "Diagnosis Prediction:\n",
      "  → Predicted: BENIGN\n",
      "  → Actual:    BENIGN\n"
     ]
    },
    {
     "name": "stdin",
     "output_type": "stream",
     "text": [
      "\n",
      "Run another case? (y/n):  y\n"
     ]
    },
    {
     "name": "stdout",
     "output_type": "stream",
     "text": [
      "\n",
      "--- New Patient Case ---\n",
      "mean radius: 23.27\n",
      "mean texture: 22.04\n",
      "mean perimeter: 152.10\n",
      "mean area: 1686.00\n",
      "worst concavity: 0.39\n",
      "worst symmetry: 0.36\n"
     ]
    },
    {
     "name": "stdin",
     "output_type": "stream",
     "text": [
      "\n",
      "Run diagnosis? (y/n):  y\n"
     ]
    },
    {
     "name": "stdout",
     "output_type": "stream",
     "text": [
      "\n",
      "Diagnosis Prediction:\n",
      "  → Predicted: MALIGNANT\n",
      "  → Actual:    MALIGNANT\n"
     ]
    },
    {
     "name": "stdin",
     "output_type": "stream",
     "text": [
      "\n",
      "Run another case? (y/n):  y\n"
     ]
    },
    {
     "name": "stdout",
     "output_type": "stream",
     "text": [
      "\n",
      "--- New Patient Case ---\n",
      "mean radius: 11.80\n",
      "mean texture: 17.26\n",
      "mean perimeter: 75.26\n",
      "mean area: 431.90\n",
      "worst concavity: 0.14\n",
      "worst symmetry: 0.28\n"
     ]
    },
    {
     "name": "stdin",
     "output_type": "stream",
     "text": [
      "\n",
      "Run diagnosis? (y/n):  y\n"
     ]
    },
    {
     "name": "stdout",
     "output_type": "stream",
     "text": [
      "\n",
      "Diagnosis Prediction:\n",
      "  → Predicted: BENIGN\n",
      "  → Actual:    BENIGN\n"
     ]
    },
    {
     "name": "stdin",
     "output_type": "stream",
     "text": [
      "\n",
      "Run another case? (y/n):  y\n"
     ]
    },
    {
     "name": "stdout",
     "output_type": "stream",
     "text": [
      "\n",
      "--- New Patient Case ---\n",
      "mean radius: 11.29\n",
      "mean texture: 13.04\n",
      "mean perimeter: 72.23\n",
      "mean area: 388.00\n",
      "worst concavity: 0.13\n",
      "worst symmetry: 0.27\n"
     ]
    },
    {
     "name": "stdin",
     "output_type": "stream",
     "text": [
      "\n",
      "Run diagnosis? (y/n):  y\n"
     ]
    },
    {
     "name": "stdout",
     "output_type": "stream",
     "text": [
      "\n",
      "Diagnosis Prediction:\n",
      "  → Predicted: BENIGN\n",
      "  → Actual:    BENIGN\n"
     ]
    },
    {
     "name": "stdin",
     "output_type": "stream",
     "text": [
      "\n",
      "Run another case? (y/n):  y\n"
     ]
    },
    {
     "name": "stdout",
     "output_type": "stream",
     "text": [
      "\n",
      "--- New Patient Case ---\n",
      "mean radius: 12.63\n",
      "mean texture: 20.76\n",
      "mean perimeter: 82.15\n",
      "mean area: 480.40\n",
      "worst concavity: 0.22\n",
      "worst symmetry: 0.22\n"
     ]
    },
    {
     "name": "stdin",
     "output_type": "stream",
     "text": [
      "\n",
      "Run diagnosis? (y/n):  y\n"
     ]
    },
    {
     "name": "stdout",
     "output_type": "stream",
     "text": [
      "\n",
      "Diagnosis Prediction:\n",
      "  → Predicted: BENIGN\n",
      "  → Actual:    BENIGN\n"
     ]
    },
    {
     "name": "stdin",
     "output_type": "stream",
     "text": [
      "\n",
      "Run another case? (y/n):  y\n"
     ]
    },
    {
     "name": "stdout",
     "output_type": "stream",
     "text": [
      "\n",
      "--- New Patient Case ---\n",
      "mean radius: 13.34\n",
      "mean texture: 15.86\n",
      "mean perimeter: 86.49\n",
      "mean area: 520.00\n",
      "worst concavity: 0.49\n",
      "worst symmetry: 0.35\n"
     ]
    },
    {
     "name": "stdin",
     "output_type": "stream",
     "text": [
      "\n",
      "Run diagnosis? (y/n):  y\n"
     ]
    },
    {
     "name": "stdout",
     "output_type": "stream",
     "text": [
      "\n",
      "Diagnosis Prediction:\n",
      "  → Predicted: BENIGN\n",
      "  → Actual:    BENIGN\n"
     ]
    },
    {
     "name": "stdin",
     "output_type": "stream",
     "text": [
      "\n",
      "Run another case? (y/n):  y\n"
     ]
    },
    {
     "name": "stdout",
     "output_type": "stream",
     "text": [
      "\n",
      "--- New Patient Case ---\n",
      "mean radius: 16.84\n",
      "mean texture: 19.46\n",
      "mean perimeter: 108.40\n",
      "mean area: 880.20\n",
      "worst concavity: 0.19\n",
      "worst symmetry: 0.25\n"
     ]
    },
    {
     "name": "stdin",
     "output_type": "stream",
     "text": [
      "\n",
      "Run diagnosis? (y/n):  y\n"
     ]
    },
    {
     "name": "stdout",
     "output_type": "stream",
     "text": [
      "\n",
      "Diagnosis Prediction:\n",
      "  → Predicted: BENIGN\n",
      "  → Actual:    BENIGN\n"
     ]
    },
    {
     "name": "stdin",
     "output_type": "stream",
     "text": [
      "\n",
      "Run another case? (y/n):  y\n"
     ]
    },
    {
     "name": "stdout",
     "output_type": "stream",
     "text": [
      "\n",
      "--- New Patient Case ---\n",
      "mean radius: 9.74\n",
      "mean texture: 11.97\n",
      "mean perimeter: 61.24\n",
      "mean area: 288.50\n",
      "worst concavity: 0.00\n",
      "worst symmetry: 0.31\n"
     ]
    },
    {
     "name": "stdin",
     "output_type": "stream",
     "text": [
      "\n",
      "Run diagnosis? (y/n):  y\n"
     ]
    },
    {
     "name": "stdout",
     "output_type": "stream",
     "text": [
      "\n",
      "Diagnosis Prediction:\n",
      "  → Predicted: BENIGN\n",
      "  → Actual:    BENIGN\n"
     ]
    },
    {
     "name": "stdin",
     "output_type": "stream",
     "text": [
      "\n",
      "Run another case? (y/n):  y\n"
     ]
    },
    {
     "name": "stdout",
     "output_type": "stream",
     "text": [
      "\n",
      "--- New Patient Case ---\n",
      "mean radius: 18.49\n",
      "mean texture: 17.52\n",
      "mean perimeter: 121.30\n",
      "mean area: 1068.00\n",
      "worst concavity: 0.35\n",
      "worst symmetry: 0.25\n"
     ]
    },
    {
     "name": "stdin",
     "output_type": "stream",
     "text": [
      "\n",
      "Run diagnosis? (y/n):  y\n"
     ]
    },
    {
     "name": "stdout",
     "output_type": "stream",
     "text": [
      "\n",
      "Diagnosis Prediction:\n",
      "  → Predicted: MALIGNANT\n",
      "  → Actual:    MALIGNANT\n"
     ]
    },
    {
     "name": "stdin",
     "output_type": "stream",
     "text": [
      "\n",
      "Run another case? (y/n):  y\n"
     ]
    },
    {
     "name": "stdout",
     "output_type": "stream",
     "text": [
      "\n",
      "--- New Patient Case ---\n",
      "mean radius: 15.78\n",
      "mean texture: 22.91\n",
      "mean perimeter: 105.70\n",
      "mean area: 782.60\n",
      "worst concavity: 0.74\n",
      "worst symmetry: 0.33\n"
     ]
    },
    {
     "name": "stdin",
     "output_type": "stream",
     "text": [
      "\n",
      "Run diagnosis? (y/n):  y\n"
     ]
    },
    {
     "name": "stdout",
     "output_type": "stream",
     "text": [
      "\n",
      "Diagnosis Prediction:\n",
      "  → Predicted: MALIGNANT\n",
      "  → Actual:    MALIGNANT\n"
     ]
    },
    {
     "name": "stdin",
     "output_type": "stream",
     "text": [
      "\n",
      "Run another case? (y/n):  y\n"
     ]
    },
    {
     "name": "stdout",
     "output_type": "stream",
     "text": [
      "\n",
      "--- New Patient Case ---\n",
      "mean radius: 20.44\n",
      "mean texture: 21.78\n",
      "mean perimeter: 133.80\n",
      "mean area: 1293.00\n",
      "worst concavity: 0.27\n",
      "worst symmetry: 0.26\n"
     ]
    },
    {
     "name": "stdin",
     "output_type": "stream",
     "text": [
      "\n",
      "Run diagnosis? (y/n):  y\n"
     ]
    },
    {
     "name": "stdout",
     "output_type": "stream",
     "text": [
      "\n",
      "Diagnosis Prediction:\n",
      "  → Predicted: MALIGNANT\n",
      "  → Actual:    MALIGNANT\n"
     ]
    },
    {
     "name": "stdin",
     "output_type": "stream",
     "text": [
      "\n",
      "Run another case? (y/n):  y\n"
     ]
    },
    {
     "name": "stdout",
     "output_type": "stream",
     "text": [
      "\n",
      "--- New Patient Case ---\n",
      "mean radius: 15.50\n",
      "mean texture: 21.08\n",
      "mean perimeter: 102.90\n",
      "mean area: 803.10\n",
      "worst concavity: 0.42\n",
      "worst symmetry: 0.30\n"
     ]
    },
    {
     "name": "stdin",
     "output_type": "stream",
     "text": [
      "\n",
      "Run diagnosis? (y/n):  y\n"
     ]
    },
    {
     "name": "stdout",
     "output_type": "stream",
     "text": [
      "\n",
      "Diagnosis Prediction:\n",
      "  → Predicted: MALIGNANT\n",
      "  → Actual:    MALIGNANT\n"
     ]
    },
    {
     "name": "stdin",
     "output_type": "stream",
     "text": [
      "\n",
      "Run another case? (y/n):  y\n"
     ]
    },
    {
     "name": "stdout",
     "output_type": "stream",
     "text": [
      "\n",
      "--- New Patient Case ---\n",
      "mean radius: 9.40\n",
      "mean texture: 21.70\n",
      "mean perimeter: 59.60\n",
      "mean area: 271.20\n",
      "worst concavity: 0.06\n",
      "worst symmetry: 0.29\n"
     ]
    },
    {
     "name": "stdin",
     "output_type": "stream",
     "text": [
      "\n",
      "Run diagnosis? (y/n):  y\n"
     ]
    },
    {
     "name": "stdout",
     "output_type": "stream",
     "text": [
      "\n",
      "Diagnosis Prediction:\n",
      "  → Predicted: BENIGN\n",
      "  → Actual:    BENIGN\n"
     ]
    },
    {
     "name": "stdin",
     "output_type": "stream",
     "text": [
      "\n",
      "Run another case? (y/n):  y\n"
     ]
    },
    {
     "name": "stdout",
     "output_type": "stream",
     "text": [
      "\n",
      "--- New Patient Case ---\n",
      "mean radius: 13.75\n",
      "mean texture: 23.77\n",
      "mean perimeter: 88.54\n",
      "mean area: 590.00\n",
      "worst concavity: 0.14\n",
      "worst symmetry: 0.27\n"
     ]
    },
    {
     "name": "stdin",
     "output_type": "stream",
     "text": [
      "\n",
      "Run diagnosis? (y/n):  y\n"
     ]
    },
    {
     "name": "stdout",
     "output_type": "stream",
     "text": [
      "\n",
      "Diagnosis Prediction:\n",
      "  → Predicted: BENIGN\n",
      "  → Actual:    BENIGN\n"
     ]
    },
    {
     "name": "stdin",
     "output_type": "stream",
     "text": [
      "\n",
      "Run another case? (y/n):  y\n"
     ]
    },
    {
     "name": "stdout",
     "output_type": "stream",
     "text": [
      "\n",
      "--- New Patient Case ---\n",
      "mean radius: 13.17\n",
      "mean texture: 18.22\n",
      "mean perimeter: 84.28\n",
      "mean area: 537.30\n",
      "worst concavity: 0.19\n",
      "worst symmetry: 0.22\n"
     ]
    },
    {
     "name": "stdin",
     "output_type": "stream",
     "text": [
      "\n",
      "Run diagnosis? (y/n):  y\n"
     ]
    },
    {
     "name": "stdout",
     "output_type": "stream",
     "text": [
      "\n",
      "Diagnosis Prediction:\n",
      "  → Predicted: BENIGN\n",
      "  → Actual:    BENIGN\n"
     ]
    },
    {
     "name": "stdin",
     "output_type": "stream",
     "text": [
      "\n",
      "Run another case? (y/n):  y\n"
     ]
    },
    {
     "name": "stdout",
     "output_type": "stream",
     "text": [
      "\n",
      "--- New Patient Case ---\n",
      "mean radius: 9.40\n",
      "mean texture: 21.70\n",
      "mean perimeter: 59.60\n",
      "mean area: 271.20\n",
      "worst concavity: 0.06\n",
      "worst symmetry: 0.29\n"
     ]
    },
    {
     "name": "stdin",
     "output_type": "stream",
     "text": [
      "\n",
      "Run diagnosis? (y/n):  y\n"
     ]
    },
    {
     "name": "stdout",
     "output_type": "stream",
     "text": [
      "\n",
      "Diagnosis Prediction:\n",
      "  → Predicted: BENIGN\n",
      "  → Actual:    BENIGN\n"
     ]
    },
    {
     "name": "stdin",
     "output_type": "stream",
     "text": [
      "\n",
      "Run another case? (y/n):  y\n"
     ]
    },
    {
     "name": "stdout",
     "output_type": "stream",
     "text": [
      "\n",
      "--- New Patient Case ---\n",
      "mean radius: 11.69\n",
      "mean texture: 24.44\n",
      "mean perimeter: 76.37\n",
      "mean area: 406.40\n",
      "worst concavity: 0.14\n",
      "worst symmetry: 0.28\n"
     ]
    },
    {
     "name": "stdin",
     "output_type": "stream",
     "text": [
      "\n",
      "Run diagnosis? (y/n):  y\n"
     ]
    },
    {
     "name": "stdout",
     "output_type": "stream",
     "text": [
      "\n",
      "Diagnosis Prediction:\n",
      "  → Predicted: BENIGN\n",
      "  → Actual:    BENIGN\n"
     ]
    },
    {
     "name": "stdin",
     "output_type": "stream",
     "text": [
      "\n",
      "Run another case? (y/n):  y\n"
     ]
    },
    {
     "name": "stdout",
     "output_type": "stream",
     "text": [
      "\n",
      "--- New Patient Case ---\n",
      "mean radius: 16.17\n",
      "mean texture: 16.07\n",
      "mean perimeter: 106.30\n",
      "mean area: 788.50\n",
      "worst concavity: 0.21\n",
      "worst symmetry: 0.32\n"
     ]
    },
    {
     "name": "stdin",
     "output_type": "stream",
     "text": [
      "\n",
      "Run diagnosis? (y/n):  y\n"
     ]
    },
    {
     "name": "stdout",
     "output_type": "stream",
     "text": [
      "\n",
      "Diagnosis Prediction:\n",
      "  → Predicted: BENIGN\n",
      "  → Actual:    BENIGN\n"
     ]
    },
    {
     "name": "stdin",
     "output_type": "stream",
     "text": [
      "\n",
      "Run another case? (y/n):  y\n"
     ]
    },
    {
     "name": "stdout",
     "output_type": "stream",
     "text": [
      "\n",
      "--- New Patient Case ---\n",
      "mean radius: 20.58\n",
      "mean texture: 22.14\n",
      "mean perimeter: 134.70\n",
      "mean area: 1290.00\n",
      "worst concavity: 0.39\n",
      "worst symmetry: 0.29\n"
     ]
    },
    {
     "name": "stdin",
     "output_type": "stream",
     "text": [
      "\n",
      "Run diagnosis? (y/n):  y\n"
     ]
    },
    {
     "name": "stdout",
     "output_type": "stream",
     "text": [
      "\n",
      "Diagnosis Prediction:\n",
      "  → Predicted: MALIGNANT\n",
      "  → Actual:    MALIGNANT\n"
     ]
    },
    {
     "name": "stdin",
     "output_type": "stream",
     "text": [
      "\n",
      "Run another case? (y/n):  y\n"
     ]
    },
    {
     "name": "stdout",
     "output_type": "stream",
     "text": [
      "\n",
      "--- New Patient Case ---\n",
      "mean radius: 15.10\n",
      "mean texture: 16.39\n",
      "mean perimeter: 99.58\n",
      "mean area: 674.50\n",
      "worst concavity: 0.20\n",
      "worst symmetry: 0.26\n"
     ]
    },
    {
     "name": "stdin",
     "output_type": "stream",
     "text": [
      "\n",
      "Run diagnosis? (y/n):  y\n"
     ]
    },
    {
     "name": "stdout",
     "output_type": "stream",
     "text": [
      "\n",
      "Diagnosis Prediction:\n",
      "  → Predicted: BENIGN\n",
      "  → Actual:    BENIGN\n"
     ]
    },
    {
     "name": "stdin",
     "output_type": "stream",
     "text": [
      "\n",
      "Run another case? (y/n):  y\n"
     ]
    },
    {
     "name": "stdout",
     "output_type": "stream",
     "text": [
      "\n",
      "--- New Patient Case ---\n",
      "mean radius: 11.13\n",
      "mean texture: 22.44\n",
      "mean perimeter: 71.49\n",
      "mean area: 378.40\n",
      "worst concavity: 0.16\n",
      "worst symmetry: 0.32\n"
     ]
    },
    {
     "name": "stdin",
     "output_type": "stream",
     "text": [
      "\n",
      "Run diagnosis? (y/n):  y\n"
     ]
    },
    {
     "name": "stdout",
     "output_type": "stream",
     "text": [
      "\n",
      "Diagnosis Prediction:\n",
      "  → Predicted: BENIGN\n",
      "  → Actual:    BENIGN\n"
     ]
    },
    {
     "name": "stdin",
     "output_type": "stream",
     "text": [
      "\n",
      "Run another case? (y/n):  y\n"
     ]
    },
    {
     "name": "stdout",
     "output_type": "stream",
     "text": [
      "\n",
      "--- New Patient Case ---\n",
      "mean radius: 13.46\n",
      "mean texture: 18.75\n",
      "mean perimeter: 87.44\n",
      "mean area: 551.10\n",
      "worst concavity: 0.27\n",
      "worst symmetry: 0.35\n"
     ]
    },
    {
     "name": "stdin",
     "output_type": "stream",
     "text": [
      "\n",
      "Run diagnosis? (y/n):  y\n"
     ]
    },
    {
     "name": "stdout",
     "output_type": "stream",
     "text": [
      "\n",
      "Diagnosis Prediction:\n",
      "  → Predicted: BENIGN\n",
      "  → Actual:    BENIGN\n"
     ]
    },
    {
     "name": "stdin",
     "output_type": "stream",
     "text": [
      "\n",
      "Run another case? (y/n):  y\n"
     ]
    },
    {
     "name": "stdout",
     "output_type": "stream",
     "text": [
      "\n",
      "--- New Patient Case ---\n",
      "mean radius: 9.17\n",
      "mean texture: 13.86\n",
      "mean perimeter: 59.20\n",
      "mean area: 260.90\n",
      "worst concavity: 0.14\n",
      "worst symmetry: 0.33\n"
     ]
    },
    {
     "name": "stdin",
     "output_type": "stream",
     "text": [
      "\n",
      "Run diagnosis? (y/n):  y\n"
     ]
    },
    {
     "name": "stdout",
     "output_type": "stream",
     "text": [
      "\n",
      "Diagnosis Prediction:\n",
      "  → Predicted: BENIGN\n",
      "  → Actual:    BENIGN\n"
     ]
    },
    {
     "name": "stdin",
     "output_type": "stream",
     "text": [
      "\n",
      "Run another case? (y/n):  y\n"
     ]
    },
    {
     "name": "stdout",
     "output_type": "stream",
     "text": [
      "\n",
      "--- New Patient Case ---\n",
      "mean radius: 12.22\n",
      "mean texture: 20.04\n",
      "mean perimeter: 79.47\n",
      "mean area: 453.10\n",
      "worst concavity: 0.35\n",
      "worst symmetry: 0.27\n"
     ]
    },
    {
     "name": "stdin",
     "output_type": "stream",
     "text": [
      "\n",
      "Run diagnosis? (y/n):  y\n"
     ]
    },
    {
     "name": "stdout",
     "output_type": "stream",
     "text": [
      "\n",
      "Diagnosis Prediction:\n",
      "  → Predicted: BENIGN\n",
      "  → Actual:    BENIGN\n"
     ]
    },
    {
     "name": "stdin",
     "output_type": "stream",
     "text": [
      "\n",
      "Run another case? (y/n):  y\n"
     ]
    },
    {
     "name": "stdout",
     "output_type": "stream",
     "text": [
      "\n",
      "--- New Patient Case ---\n",
      "mean radius: 12.81\n",
      "mean texture: 13.06\n",
      "mean perimeter: 81.29\n",
      "mean area: 508.80\n",
      "worst concavity: 0.03\n",
      "worst symmetry: 0.18\n"
     ]
    },
    {
     "name": "stdin",
     "output_type": "stream",
     "text": [
      "\n",
      "Run diagnosis? (y/n):  y\n"
     ]
    },
    {
     "name": "stdout",
     "output_type": "stream",
     "text": [
      "\n",
      "Diagnosis Prediction:\n",
      "  → Predicted: BENIGN\n",
      "  → Actual:    BENIGN\n"
     ]
    },
    {
     "name": "stdin",
     "output_type": "stream",
     "text": [
      "\n",
      "Run another case? (y/n):  y\n"
     ]
    },
    {
     "name": "stdout",
     "output_type": "stream",
     "text": [
      "\n",
      "--- New Patient Case ---\n",
      "mean radius: 13.90\n",
      "mean texture: 19.24\n",
      "mean perimeter: 88.73\n",
      "mean area: 602.90\n",
      "worst concavity: 0.17\n",
      "worst symmetry: 0.24\n"
     ]
    },
    {
     "name": "stdin",
     "output_type": "stream",
     "text": [
      "\n",
      "Run diagnosis? (y/n):  y\n"
     ]
    },
    {
     "name": "stdout",
     "output_type": "stream",
     "text": [
      "\n",
      "Diagnosis Prediction:\n",
      "  → Predicted: BENIGN\n",
      "  → Actual:    BENIGN\n"
     ]
    },
    {
     "name": "stdin",
     "output_type": "stream",
     "text": [
      "\n",
      "Run another case? (y/n):  y\n"
     ]
    },
    {
     "name": "stdout",
     "output_type": "stream",
     "text": [
      "\n",
      "--- New Patient Case ---\n",
      "mean radius: 17.93\n",
      "mean texture: 24.48\n",
      "mean perimeter: 115.20\n",
      "mean area: 998.90\n",
      "worst concavity: 0.21\n",
      "worst symmetry: 0.25\n"
     ]
    },
    {
     "name": "stdin",
     "output_type": "stream",
     "text": [
      "\n",
      "Run diagnosis? (y/n):  y\n"
     ]
    },
    {
     "name": "stdout",
     "output_type": "stream",
     "text": [
      "\n",
      "Diagnosis Prediction:\n",
      "  → Predicted: MALIGNANT\n",
      "  → Actual:    MALIGNANT\n"
     ]
    },
    {
     "name": "stdin",
     "output_type": "stream",
     "text": [
      "\n",
      "Run another case? (y/n):  y\n"
     ]
    },
    {
     "name": "stdout",
     "output_type": "stream",
     "text": [
      "\n",
      "--- New Patient Case ---\n",
      "mean radius: 15.78\n",
      "mean texture: 17.89\n",
      "mean perimeter: 103.60\n",
      "mean area: 781.00\n",
      "worst concavity: 0.40\n",
      "worst symmetry: 0.38\n"
     ]
    },
    {
     "name": "stdin",
     "output_type": "stream",
     "text": [
      "\n",
      "Run diagnosis? (y/n):  y\n"
     ]
    },
    {
     "name": "stdout",
     "output_type": "stream",
     "text": [
      "\n",
      "Diagnosis Prediction:\n",
      "  → Predicted: MALIGNANT\n",
      "  → Actual:    MALIGNANT\n"
     ]
    },
    {
     "name": "stdin",
     "output_type": "stream",
     "text": [
      "\n",
      "Run another case? (y/n):  y\n"
     ]
    },
    {
     "name": "stdout",
     "output_type": "stream",
     "text": [
      "\n",
      "--- New Patient Case ---\n",
      "mean radius: 10.65\n",
      "mean texture: 25.22\n",
      "mean perimeter: 68.01\n",
      "mean area: 347.00\n",
      "worst concavity: 0.11\n",
      "worst symmetry: 0.34\n"
     ]
    },
    {
     "name": "stdin",
     "output_type": "stream",
     "text": [
      "\n",
      "Run diagnosis? (y/n):  y\n"
     ]
    },
    {
     "name": "stdout",
     "output_type": "stream",
     "text": [
      "\n",
      "Diagnosis Prediction:\n",
      "  → Predicted: BENIGN\n",
      "  → Actual:    BENIGN\n"
     ]
    },
    {
     "name": "stdin",
     "output_type": "stream",
     "text": [
      "\n",
      "Run another case? (y/n):  y\n"
     ]
    },
    {
     "name": "stdout",
     "output_type": "stream",
     "text": [
      "\n",
      "--- New Patient Case ---\n",
      "mean radius: 12.18\n",
      "mean texture: 20.52\n",
      "mean perimeter: 77.22\n",
      "mean area: 458.70\n",
      "worst concavity: 0.11\n",
      "worst symmetry: 0.27\n"
     ]
    },
    {
     "name": "stdin",
     "output_type": "stream",
     "text": [
      "\n",
      "Run diagnosis? (y/n):  y\n"
     ]
    },
    {
     "name": "stdout",
     "output_type": "stream",
     "text": [
      "\n",
      "Diagnosis Prediction:\n",
      "  → Predicted: BENIGN\n",
      "  → Actual:    BENIGN\n"
     ]
    },
    {
     "name": "stdin",
     "output_type": "stream",
     "text": [
      "\n",
      "Run another case? (y/n):  y\n"
     ]
    },
    {
     "name": "stdout",
     "output_type": "stream",
     "text": [
      "\n",
      "--- New Patient Case ---\n",
      "mean radius: 15.22\n",
      "mean texture: 30.62\n",
      "mean perimeter: 103.40\n",
      "mean area: 716.90\n",
      "worst concavity: 1.17\n",
      "worst symmetry: 0.41\n"
     ]
    },
    {
     "name": "stdin",
     "output_type": "stream",
     "text": [
      "\n",
      "Run diagnosis? (y/n):  y\n"
     ]
    },
    {
     "name": "stdout",
     "output_type": "stream",
     "text": [
      "\n",
      "Diagnosis Prediction:\n",
      "  → Predicted: MALIGNANT\n",
      "  → Actual:    MALIGNANT\n"
     ]
    },
    {
     "name": "stdin",
     "output_type": "stream",
     "text": [
      "\n",
      "Run another case? (y/n):  y\n"
     ]
    },
    {
     "name": "stdout",
     "output_type": "stream",
     "text": [
      "\n",
      "--- New Patient Case ---\n",
      "mean radius: 11.87\n",
      "mean texture: 21.54\n",
      "mean perimeter: 76.83\n",
      "mean area: 432.00\n",
      "worst concavity: 0.32\n",
      "worst symmetry: 0.23\n"
     ]
    },
    {
     "name": "stdin",
     "output_type": "stream",
     "text": [
      "\n",
      "Run diagnosis? (y/n):  y\n"
     ]
    },
    {
     "name": "stdout",
     "output_type": "stream",
     "text": [
      "\n",
      "Diagnosis Prediction:\n",
      "  → Predicted: BENIGN\n",
      "  → Actual:    BENIGN\n"
     ]
    },
    {
     "name": "stdin",
     "output_type": "stream",
     "text": [
      "\n",
      "Run another case? (y/n):  y\n"
     ]
    },
    {
     "name": "stdout",
     "output_type": "stream",
     "text": [
      "\n",
      "--- New Patient Case ---\n",
      "mean radius: 12.04\n",
      "mean texture: 28.14\n",
      "mean perimeter: 76.85\n",
      "mean area: 449.90\n",
      "worst concavity: 0.06\n",
      "worst symmetry: 0.24\n"
     ]
    },
    {
     "name": "stdin",
     "output_type": "stream",
     "text": [
      "\n",
      "Run diagnosis? (y/n):  y\n"
     ]
    },
    {
     "name": "stdout",
     "output_type": "stream",
     "text": [
      "\n",
      "Diagnosis Prediction:\n",
      "  → Predicted: BENIGN\n",
      "  → Actual:    BENIGN\n"
     ]
    },
    {
     "name": "stdin",
     "output_type": "stream",
     "text": [
      "\n",
      "Run another case? (y/n):  y\n"
     ]
    },
    {
     "name": "stdout",
     "output_type": "stream",
     "text": [
      "\n",
      "--- New Patient Case ---\n",
      "mean radius: 11.54\n",
      "mean texture: 14.44\n",
      "mean perimeter: 74.65\n",
      "mean area: 402.90\n",
      "worst concavity: 0.18\n",
      "worst symmetry: 0.23\n"
     ]
    },
    {
     "name": "stdin",
     "output_type": "stream",
     "text": [
      "\n",
      "Run diagnosis? (y/n):  y\n"
     ]
    },
    {
     "name": "stdout",
     "output_type": "stream",
     "text": [
      "\n",
      "Diagnosis Prediction:\n",
      "  → Predicted: BENIGN\n",
      "  → Actual:    BENIGN\n"
     ]
    },
    {
     "name": "stdin",
     "output_type": "stream",
     "text": [
      "\n",
      "Run another case? (y/n):  y\n"
     ]
    },
    {
     "name": "stdout",
     "output_type": "stream",
     "text": [
      "\n",
      "--- New Patient Case ---\n",
      "mean radius: 9.85\n",
      "mean texture: 15.68\n",
      "mean perimeter: 63.00\n",
      "mean area: 293.20\n",
      "worst concavity: 0.08\n",
      "worst symmetry: 0.25\n"
     ]
    },
    {
     "name": "stdin",
     "output_type": "stream",
     "text": [
      "\n",
      "Run diagnosis? (y/n):  y\n"
     ]
    },
    {
     "name": "stdout",
     "output_type": "stream",
     "text": [
      "\n",
      "Diagnosis Prediction:\n",
      "  → Predicted: BENIGN\n",
      "  → Actual:    BENIGN\n"
     ]
    },
    {
     "name": "stdin",
     "output_type": "stream",
     "text": [
      "\n",
      "Run another case? (y/n):  y\n"
     ]
    },
    {
     "name": "stdout",
     "output_type": "stream",
     "text": [
      "\n",
      "--- New Patient Case ---\n",
      "mean radius: 14.11\n",
      "mean texture: 12.88\n",
      "mean perimeter: 90.03\n",
      "mean area: 616.50\n",
      "worst concavity: 0.05\n",
      "worst symmetry: 0.21\n"
     ]
    },
    {
     "name": "stdin",
     "output_type": "stream",
     "text": [
      "\n",
      "Run diagnosis? (y/n):  y\n"
     ]
    },
    {
     "name": "stdout",
     "output_type": "stream",
     "text": [
      "\n",
      "Diagnosis Prediction:\n",
      "  → Predicted: BENIGN\n",
      "  → Actual:    BENIGN\n"
     ]
    },
    {
     "name": "stdin",
     "output_type": "stream",
     "text": [
      "\n",
      "Run another case? (y/n):  y\n"
     ]
    },
    {
     "name": "stdout",
     "output_type": "stream",
     "text": [
      "\n",
      "--- New Patient Case ---\n",
      "mean radius: 12.86\n",
      "mean texture: 13.32\n",
      "mean perimeter: 82.82\n",
      "mean area: 504.80\n",
      "worst concavity: 0.18\n",
      "worst symmetry: 0.24\n"
     ]
    },
    {
     "name": "stdin",
     "output_type": "stream",
     "text": [
      "\n",
      "Run diagnosis? (y/n):  \n",
      "Skip to next case? (y/n):  y\n"
     ]
    },
    {
     "name": "stdout",
     "output_type": "stream",
     "text": [
      "\n",
      "--- New Patient Case ---\n",
      "mean radius: 12.95\n",
      "mean texture: 16.02\n",
      "mean perimeter: 83.14\n",
      "mean area: 513.70\n",
      "worst concavity: 0.22\n",
      "worst symmetry: 0.34\n"
     ]
    },
    {
     "name": "stdin",
     "output_type": "stream",
     "text": [
      "\n",
      "Run diagnosis? (y/n):  y\n"
     ]
    },
    {
     "name": "stdout",
     "output_type": "stream",
     "text": [
      "\n",
      "Diagnosis Prediction:\n",
      "  → Predicted: BENIGN\n",
      "  → Actual:    BENIGN\n"
     ]
    },
    {
     "name": "stdin",
     "output_type": "stream",
     "text": [
      "\n",
      "Run another case? (y/n):  \n"
     ]
    },
    {
     "name": "stdout",
     "output_type": "stream",
     "text": [
      "\n",
      "Session ended.\n"
     ]
    }
   ],
   "source": [
    "# STEP 3 (REVISED): Simulated Patient Diagnosis\n",
    "import numpy as np\n",
    "import random\n",
    "\n",
    "# Define which features to show (select top 6 visually intuitive ones)\n",
    "selected_features = [\n",
    "    'mean radius',\n",
    "    'mean texture',\n",
    "    'mean perimeter',\n",
    "    'mean area',\n",
    "    'worst concavity',\n",
    "    'worst symmetry'\n",
    "]\n",
    "\n",
    "# Get feature indices\n",
    "feature_indices = [list(cancer.feature_names).index(f) for f in selected_features]\n",
    "\n",
    "def sample_and_diagnose(model, X, y, feature_names, n=1):\n",
    "    while True:\n",
    "        index = random.randint(0, len(X) - 1)\n",
    "        sample = X[index]\n",
    "        label = y[index]\n",
    "        \n",
    "        print(\"\\n--- New Patient Case ---\")\n",
    "        for i in feature_indices:\n",
    "            print(f\"{feature_names[i]}: {sample[i]:.2f}\")\n",
    "        \n",
    "        confirm = input(\"\\nRun diagnosis? (y/n): \").strip().lower()\n",
    "        if confirm != 'y':\n",
    "            cont = input(\"Skip to next case? (y/n): \").strip().lower()\n",
    "            if cont != 'y':\n",
    "                print(\"\\nSession ended.\")\n",
    "                break\n",
    "            else:\n",
    "                continue\n",
    "\n",
    "        # Predict\n",
    "        pred = model.predict(sample.reshape(1, -1))[0]\n",
    "        label_actual = cancer.target_names[label]\n",
    "        label_pred = cancer.target_names[pred]\n",
    "        \n",
    "        print(\"\\nDiagnosis Prediction:\")\n",
    "        print(f\"  → Predicted: {label_pred.upper()}\")\n",
    "        print(f\"  → Actual:    {label_actual.upper()}\")\n",
    "        \n",
    "        cont = input(\"\\nRun another case? (y/n): \").strip().lower()\n",
    "        if cont != 'y':\n",
    "            print(\"\\nSession ended.\")\n",
    "            break\n",
    "\n",
    "# Run the simulation\n",
    "sample_and_diagnose(clf, cancer.data, cancer.target, cancer.feature_names)"
   ]
  },
  {
   "cell_type": "markdown",
   "id": "a826cd02-c8bf-42ca-8c1a-467c677dc280",
   "metadata": {},
   "source": [
    "### Code Block: Simulated Case Prediction\n",
    "\n",
    "### Notes:\n",
    "\n",
    "* You review a patient case like a **doctor with a clipboard**\n",
    "* Model handles backend prediction\n",
    "* You decide if it should run or skip\n",
    "* Actual label shown for reference, but this could be hidden in real use"
   ]
  },
  {
   "cell_type": "markdown",
   "id": "afa18dc1-691c-4559-91ff-0a91b004397a",
   "metadata": {},
   "source": [
    "## STEP 4: Add Confidence Scores and Model Certainty\n",
    "\n",
    "### Objective:\n",
    "\n",
    "Display **how confident** the model is in its prediction, not just the class label.\n",
    "\n",
    "This is critical in any clinical or decision-support context — we don’t just want a binary label, we want to know **how certain** the model is.\n",
    "\n",
    "\n",
    "### Tools Used:\n",
    "\n",
    "| Function              | Purpose                              |\n",
    "| --------------------- | ------------------------------------ |\n",
    "| `predict_proba(X)`    | Returns array of class probabilities |\n",
    "| `np.max()`            | Extracts top confidence score        |\n",
    "| `colorama` (optional) | Highlights high/low confidence       |\n",
    "\n",
    "\n",
    "### Code Block: Display Confidence"
   ]
  },
  {
   "cell_type": "code",
   "execution_count": 18,
   "id": "5207672a-e441-472a-814e-079daa3f0afd",
   "metadata": {},
   "outputs": [
    {
     "name": "stdout",
     "output_type": "stream",
     "text": [
      "\n",
      "--- New Patient Case ---\n",
      "mean radius: 13.00\n",
      "mean texture: 20.78\n",
      "mean perimeter: 83.51\n",
      "mean area: 519.40\n",
      "worst concavity: 0.08\n",
      "worst symmetry: 0.32\n"
     ]
    },
    {
     "name": "stdin",
     "output_type": "stream",
     "text": [
      "\n",
      "Run diagnosis? (y/n):  y\n"
     ]
    },
    {
     "name": "stdout",
     "output_type": "stream",
     "text": [
      "\n",
      "Diagnosis Prediction:\n",
      "  → Predicted: BENIGN\n",
      "  → Confidence: \u001b[32m100.00%\u001b[0m\n",
      "  → Actual:    BENIGN\n"
     ]
    },
    {
     "name": "stdin",
     "output_type": "stream",
     "text": [
      "\n",
      "Run another case? (y/n):  y\n"
     ]
    },
    {
     "name": "stdout",
     "output_type": "stream",
     "text": [
      "\n",
      "--- New Patient Case ---\n",
      "mean radius: 12.58\n",
      "mean texture: 18.40\n",
      "mean perimeter: 79.83\n",
      "mean area: 489.00\n",
      "worst concavity: 0.01\n",
      "worst symmetry: 0.25\n"
     ]
    },
    {
     "name": "stdin",
     "output_type": "stream",
     "text": [
      "\n",
      "Run diagnosis? (y/n):  y\n"
     ]
    },
    {
     "name": "stdout",
     "output_type": "stream",
     "text": [
      "\n",
      "Diagnosis Prediction:\n",
      "  → Predicted: BENIGN\n",
      "  → Confidence: \u001b[32m100.00%\u001b[0m\n",
      "  → Actual:    BENIGN\n"
     ]
    },
    {
     "name": "stdin",
     "output_type": "stream",
     "text": [
      "\n",
      "Run another case? (y/n):  y\n"
     ]
    },
    {
     "name": "stdout",
     "output_type": "stream",
     "text": [
      "\n",
      "--- New Patient Case ---\n",
      "mean radius: 12.03\n",
      "mean texture: 17.93\n",
      "mean perimeter: 76.09\n",
      "mean area: 446.00\n",
      "worst concavity: 0.01\n",
      "worst symmetry: 0.22\n"
     ]
    },
    {
     "name": "stdin",
     "output_type": "stream",
     "text": [
      "\n",
      "Run diagnosis? (y/n):  y\n"
     ]
    },
    {
     "name": "stdout",
     "output_type": "stream",
     "text": [
      "\n",
      "Diagnosis Prediction:\n",
      "  → Predicted: BENIGN\n",
      "  → Confidence: \u001b[32m100.00%\u001b[0m\n",
      "  → Actual:    BENIGN\n"
     ]
    },
    {
     "name": "stdin",
     "output_type": "stream",
     "text": [
      "\n",
      "Run another case? (y/n):  y\n"
     ]
    },
    {
     "name": "stdout",
     "output_type": "stream",
     "text": [
      "\n",
      "--- New Patient Case ---\n",
      "mean radius: 12.47\n",
      "mean texture: 18.60\n",
      "mean perimeter: 81.09\n",
      "mean area: 481.90\n",
      "worst concavity: 0.27\n",
      "worst symmetry: 0.30\n"
     ]
    },
    {
     "name": "stdin",
     "output_type": "stream",
     "text": [
      "\n",
      "Run diagnosis? (y/n):  y\n"
     ]
    },
    {
     "name": "stdout",
     "output_type": "stream",
     "text": [
      "\n",
      "Diagnosis Prediction:\n",
      "  → Predicted: BENIGN\n",
      "  → Confidence: \u001b[32m100.00%\u001b[0m\n",
      "  → Actual:    BENIGN\n"
     ]
    },
    {
     "name": "stdin",
     "output_type": "stream",
     "text": [
      "\n",
      "Run another case? (y/n):  y\n"
     ]
    },
    {
     "name": "stdout",
     "output_type": "stream",
     "text": [
      "\n",
      "--- New Patient Case ---\n",
      "mean radius: 12.00\n",
      "mean texture: 28.23\n",
      "mean perimeter: 76.77\n",
      "mean area: 442.50\n",
      "worst concavity: 0.18\n",
      "worst symmetry: 0.24\n"
     ]
    },
    {
     "name": "stdin",
     "output_type": "stream",
     "text": [
      "\n",
      "Run diagnosis? (y/n):  y\n"
     ]
    },
    {
     "name": "stdout",
     "output_type": "stream",
     "text": [
      "\n",
      "Diagnosis Prediction:\n",
      "  → Predicted: BENIGN\n",
      "  → Confidence: \u001b[32m100.00%\u001b[0m\n",
      "  → Actual:    BENIGN\n"
     ]
    },
    {
     "name": "stdin",
     "output_type": "stream",
     "text": [
      "\n",
      "Run another case? (y/n):  y\n"
     ]
    },
    {
     "name": "stdout",
     "output_type": "stream",
     "text": [
      "\n",
      "--- New Patient Case ---\n",
      "mean radius: 19.44\n",
      "mean texture: 18.82\n",
      "mean perimeter: 128.10\n",
      "mean area: 1167.00\n",
      "worst concavity: 0.59\n",
      "worst symmetry: 0.33\n"
     ]
    },
    {
     "name": "stdin",
     "output_type": "stream",
     "text": [
      "\n",
      "Run diagnosis? (y/n):  y\n"
     ]
    },
    {
     "name": "stdout",
     "output_type": "stream",
     "text": [
      "\n",
      "Diagnosis Prediction:\n",
      "  → Predicted: MALIGNANT\n",
      "  → Confidence: \u001b[32m100.00%\u001b[0m\n",
      "  → Actual:    MALIGNANT\n"
     ]
    },
    {
     "name": "stdin",
     "output_type": "stream",
     "text": [
      "\n",
      "Run another case? (y/n):  y\n"
     ]
    },
    {
     "name": "stdout",
     "output_type": "stream",
     "text": [
      "\n",
      "--- New Patient Case ---\n",
      "mean radius: 13.37\n",
      "mean texture: 16.39\n",
      "mean perimeter: 86.10\n",
      "mean area: 553.50\n",
      "worst concavity: 0.33\n",
      "worst symmetry: 0.20\n"
     ]
    },
    {
     "name": "stdin",
     "output_type": "stream",
     "text": [
      "\n",
      "Run diagnosis? (y/n):  y\n"
     ]
    },
    {
     "name": "stdout",
     "output_type": "stream",
     "text": [
      "\n",
      "Diagnosis Prediction:\n",
      "  → Predicted: BENIGN\n",
      "  → Confidence: \u001b[32m100.00%\u001b[0m\n",
      "  → Actual:    BENIGN\n"
     ]
    },
    {
     "name": "stdin",
     "output_type": "stream",
     "text": [
      "\n",
      "Run another case? (y/n):  y\n"
     ]
    },
    {
     "name": "stdout",
     "output_type": "stream",
     "text": [
      "\n",
      "--- New Patient Case ---\n",
      "mean radius: 11.29\n",
      "mean texture: 13.04\n",
      "mean perimeter: 72.23\n",
      "mean area: 388.00\n",
      "worst concavity: 0.13\n",
      "worst symmetry: 0.27\n"
     ]
    },
    {
     "name": "stdin",
     "output_type": "stream",
     "text": [
      "\n",
      "Run diagnosis? (y/n):  y\n"
     ]
    },
    {
     "name": "stdout",
     "output_type": "stream",
     "text": [
      "\n",
      "Diagnosis Prediction:\n",
      "  → Predicted: BENIGN\n",
      "  → Confidence: \u001b[32m100.00%\u001b[0m\n",
      "  → Actual:    BENIGN\n"
     ]
    },
    {
     "name": "stdin",
     "output_type": "stream",
     "text": [
      "\n",
      "Run another case? (y/n):  y\n"
     ]
    },
    {
     "name": "stdout",
     "output_type": "stream",
     "text": [
      "\n",
      "--- New Patient Case ---\n",
      "mean radius: 25.22\n",
      "mean texture: 24.91\n",
      "mean perimeter: 171.50\n",
      "mean area: 1878.00\n",
      "worst concavity: 0.65\n",
      "worst symmetry: 0.24\n"
     ]
    },
    {
     "name": "stdin",
     "output_type": "stream",
     "text": [
      "\n",
      "Run diagnosis? (y/n):  y\n"
     ]
    },
    {
     "name": "stdout",
     "output_type": "stream",
     "text": [
      "\n",
      "Diagnosis Prediction:\n",
      "  → Predicted: MALIGNANT\n",
      "  → Confidence: \u001b[32m100.00%\u001b[0m\n",
      "  → Actual:    MALIGNANT\n"
     ]
    },
    {
     "name": "stdin",
     "output_type": "stream",
     "text": [
      "\n",
      "Run another case? (y/n):  y\n"
     ]
    },
    {
     "name": "stdout",
     "output_type": "stream",
     "text": [
      "\n",
      "--- New Patient Case ---\n",
      "mean radius: 12.75\n",
      "mean texture: 16.70\n",
      "mean perimeter: 82.51\n",
      "mean area: 493.80\n",
      "worst concavity: 0.14\n",
      "worst symmetry: 0.31\n"
     ]
    },
    {
     "name": "stdin",
     "output_type": "stream",
     "text": [
      "\n",
      "Run diagnosis? (y/n):  y\n"
     ]
    },
    {
     "name": "stdout",
     "output_type": "stream",
     "text": [
      "\n",
      "Diagnosis Prediction:\n",
      "  → Predicted: BENIGN\n",
      "  → Confidence: \u001b[32m100.00%\u001b[0m\n",
      "  → Actual:    BENIGN\n"
     ]
    },
    {
     "name": "stdin",
     "output_type": "stream",
     "text": [
      "\n",
      "Run another case? (y/n):  y\n"
     ]
    },
    {
     "name": "stdout",
     "output_type": "stream",
     "text": [
      "\n",
      "--- New Patient Case ---\n",
      "mean radius: 20.16\n",
      "mean texture: 19.66\n",
      "mean perimeter: 131.10\n",
      "mean area: 1274.00\n",
      "worst concavity: 0.26\n",
      "worst symmetry: 0.31\n"
     ]
    },
    {
     "name": "stdin",
     "output_type": "stream",
     "text": [
      "\n",
      "Run diagnosis? (y/n):  y\n"
     ]
    },
    {
     "name": "stdout",
     "output_type": "stream",
     "text": [
      "\n",
      "Diagnosis Prediction:\n",
      "  → Predicted: MALIGNANT\n",
      "  → Confidence: \u001b[32m99.00%\u001b[0m\n",
      "  → Actual:    MALIGNANT\n"
     ]
    },
    {
     "name": "stdin",
     "output_type": "stream",
     "text": [
      "\n",
      "Run another case? (y/n):  y\n"
     ]
    },
    {
     "name": "stdout",
     "output_type": "stream",
     "text": [
      "\n",
      "--- New Patient Case ---\n",
      "mean radius: 11.13\n",
      "mean texture: 16.62\n",
      "mean perimeter: 70.47\n",
      "mean area: 381.10\n",
      "worst concavity: 0.05\n",
      "worst symmetry: 0.24\n"
     ]
    },
    {
     "name": "stdin",
     "output_type": "stream",
     "text": [
      "\n",
      "Run diagnosis? (y/n):  y\n"
     ]
    },
    {
     "name": "stdout",
     "output_type": "stream",
     "text": [
      "\n",
      "Diagnosis Prediction:\n",
      "  → Predicted: BENIGN\n",
      "  → Confidence: \u001b[32m100.00%\u001b[0m\n",
      "  → Actual:    BENIGN\n"
     ]
    },
    {
     "name": "stdin",
     "output_type": "stream",
     "text": [
      "\n",
      "Run another case? (y/n):  y\n"
     ]
    },
    {
     "name": "stdout",
     "output_type": "stream",
     "text": [
      "\n",
      "--- New Patient Case ---\n",
      "mean radius: 14.42\n",
      "mean texture: 16.54\n",
      "mean perimeter: 94.15\n",
      "mean area: 641.20\n",
      "worst concavity: 0.38\n",
      "worst symmetry: 0.31\n"
     ]
    },
    {
     "name": "stdin",
     "output_type": "stream",
     "text": [
      "\n",
      "Run diagnosis? (y/n):  y\n"
     ]
    },
    {
     "name": "stdout",
     "output_type": "stream",
     "text": [
      "\n",
      "Diagnosis Prediction:\n",
      "  → Predicted: BENIGN\n",
      "  → Confidence: \u001b[33m82.00%\u001b[0m\n",
      "  → Actual:    BENIGN\n"
     ]
    },
    {
     "name": "stdin",
     "output_type": "stream",
     "text": [
      "\n",
      "Run another case? (y/n):  y\n"
     ]
    },
    {
     "name": "stdout",
     "output_type": "stream",
     "text": [
      "\n",
      "--- New Patient Case ---\n",
      "mean radius: 15.71\n",
      "mean texture: 13.93\n",
      "mean perimeter: 102.00\n",
      "mean area: 761.70\n",
      "worst concavity: 0.17\n",
      "worst symmetry: 0.27\n"
     ]
    },
    {
     "name": "stdin",
     "output_type": "stream",
     "text": [
      "\n",
      "Run diagnosis? (y/n):  y\n"
     ]
    },
    {
     "name": "stdout",
     "output_type": "stream",
     "text": [
      "\n",
      "Diagnosis Prediction:\n",
      "  → Predicted: BENIGN\n",
      "  → Confidence: \u001b[33m86.00%\u001b[0m\n",
      "  → Actual:    BENIGN\n"
     ]
    },
    {
     "name": "stdin",
     "output_type": "stream",
     "text": [
      "\n",
      "Run another case? (y/n):  y\n"
     ]
    },
    {
     "name": "stdout",
     "output_type": "stream",
     "text": [
      "\n",
      "--- New Patient Case ---\n",
      "mean radius: 16.69\n",
      "mean texture: 20.20\n",
      "mean perimeter: 107.10\n",
      "mean area: 857.60\n",
      "worst concavity: 0.25\n",
      "worst symmetry: 0.47\n"
     ]
    },
    {
     "name": "stdin",
     "output_type": "stream",
     "text": [
      "\n",
      "Run diagnosis? (y/n):  y\n"
     ]
    },
    {
     "name": "stdout",
     "output_type": "stream",
     "text": [
      "\n",
      "Diagnosis Prediction:\n",
      "  → Predicted: MALIGNANT\n",
      "  → Confidence: \u001b[32m94.00%\u001b[0m\n",
      "  → Actual:    MALIGNANT\n"
     ]
    },
    {
     "name": "stdin",
     "output_type": "stream",
     "text": [
      "\n",
      "Run another case? (y/n):  y\n"
     ]
    },
    {
     "name": "stdout",
     "output_type": "stream",
     "text": [
      "\n",
      "--- New Patient Case ---\n",
      "mean radius: 17.99\n",
      "mean texture: 10.38\n",
      "mean perimeter: 122.80\n",
      "mean area: 1001.00\n",
      "worst concavity: 0.71\n",
      "worst symmetry: 0.46\n"
     ]
    },
    {
     "name": "stdin",
     "output_type": "stream",
     "text": [
      "\n",
      "Run diagnosis? (y/n):  y\n"
     ]
    },
    {
     "name": "stdout",
     "output_type": "stream",
     "text": [
      "\n",
      "Diagnosis Prediction:\n",
      "  → Predicted: MALIGNANT\n",
      "  → Confidence: \u001b[32m96.00%\u001b[0m\n",
      "  → Actual:    MALIGNANT\n"
     ]
    },
    {
     "name": "stdin",
     "output_type": "stream",
     "text": [
      "\n",
      "Run another case? (y/n):  y\n"
     ]
    },
    {
     "name": "stdout",
     "output_type": "stream",
     "text": [
      "\n",
      "--- New Patient Case ---\n",
      "mean radius: 11.84\n",
      "mean texture: 18.70\n",
      "mean perimeter: 77.93\n",
      "mean area: 440.60\n",
      "worst concavity: 0.70\n",
      "worst symmetry: 0.48\n"
     ]
    },
    {
     "name": "stdin",
     "output_type": "stream",
     "text": [
      "\n",
      "Run diagnosis? (y/n):  y\n"
     ]
    },
    {
     "name": "stdout",
     "output_type": "stream",
     "text": [
      "\n",
      "Diagnosis Prediction:\n",
      "  → Predicted: MALIGNANT\n",
      "  → Confidence: \u001b[32m95.00%\u001b[0m\n",
      "  → Actual:    MALIGNANT\n"
     ]
    },
    {
     "name": "stdin",
     "output_type": "stream",
     "text": [
      "\n",
      "Run another case? (y/n):  y\n"
     ]
    },
    {
     "name": "stdout",
     "output_type": "stream",
     "text": [
      "\n",
      "--- New Patient Case ---\n",
      "mean radius: 20.26\n",
      "mean texture: 23.03\n",
      "mean perimeter: 132.40\n",
      "mean area: 1264.00\n",
      "worst concavity: 0.41\n",
      "worst symmetry: 0.37\n"
     ]
    },
    {
     "name": "stdin",
     "output_type": "stream",
     "text": [
      "\n",
      "Run diagnosis? (y/n):  y\n"
     ]
    },
    {
     "name": "stdout",
     "output_type": "stream",
     "text": [
      "\n",
      "Diagnosis Prediction:\n",
      "  → Predicted: MALIGNANT\n",
      "  → Confidence: \u001b[32m100.00%\u001b[0m\n",
      "  → Actual:    MALIGNANT\n"
     ]
    },
    {
     "name": "stdin",
     "output_type": "stream",
     "text": [
      "\n",
      "Run another case? (y/n):  y\n"
     ]
    },
    {
     "name": "stdout",
     "output_type": "stream",
     "text": [
      "\n",
      "--- New Patient Case ---\n",
      "mean radius: 12.77\n",
      "mean texture: 29.43\n",
      "mean perimeter: 81.35\n",
      "mean area: 507.90\n",
      "worst concavity: 0.09\n",
      "worst symmetry: 0.24\n"
     ]
    },
    {
     "name": "stdin",
     "output_type": "stream",
     "text": [
      "\n",
      "Run diagnosis? (y/n):  y\n"
     ]
    },
    {
     "name": "stdout",
     "output_type": "stream",
     "text": [
      "\n",
      "Diagnosis Prediction:\n",
      "  → Predicted: BENIGN\n",
      "  → Confidence: \u001b[32m100.00%\u001b[0m\n",
      "  → Actual:    BENIGN\n"
     ]
    },
    {
     "name": "stdin",
     "output_type": "stream",
     "text": [
      "\n",
      "Run another case? (y/n):  y\n"
     ]
    },
    {
     "name": "stdout",
     "output_type": "stream",
     "text": [
      "\n",
      "--- New Patient Case ---\n",
      "mean radius: 19.10\n",
      "mean texture: 26.29\n",
      "mean perimeter: 129.10\n",
      "mean area: 1132.00\n",
      "worst concavity: 0.24\n",
      "worst symmetry: 0.23\n"
     ]
    },
    {
     "name": "stdin",
     "output_type": "stream",
     "text": [
      "\n",
      "Run diagnosis? (y/n):  y\n"
     ]
    },
    {
     "name": "stdout",
     "output_type": "stream",
     "text": [
      "\n",
      "Diagnosis Prediction:\n",
      "  → Predicted: MALIGNANT\n",
      "  → Confidence: \u001b[32m99.00%\u001b[0m\n",
      "  → Actual:    MALIGNANT\n"
     ]
    },
    {
     "name": "stdin",
     "output_type": "stream",
     "text": [
      "\n",
      "Run another case? (y/n):  y\n"
     ]
    },
    {
     "name": "stdout",
     "output_type": "stream",
     "text": [
      "\n",
      "--- New Patient Case ---\n",
      "mean radius: 18.61\n",
      "mean texture: 20.25\n",
      "mean perimeter: 122.10\n",
      "mean area: 1094.00\n",
      "worst concavity: 0.34\n",
      "worst symmetry: 0.23\n"
     ]
    },
    {
     "name": "stdin",
     "output_type": "stream",
     "text": [
      "\n",
      "Run diagnosis? (y/n):  y\n"
     ]
    },
    {
     "name": "stdout",
     "output_type": "stream",
     "text": [
      "\n",
      "Diagnosis Prediction:\n",
      "  → Predicted: MALIGNANT\n",
      "  → Confidence: \u001b[32m100.00%\u001b[0m\n",
      "  → Actual:    MALIGNANT\n"
     ]
    },
    {
     "name": "stdin",
     "output_type": "stream",
     "text": [
      "\n",
      "Run another case? (y/n):  y\n"
     ]
    },
    {
     "name": "stdout",
     "output_type": "stream",
     "text": [
      "\n",
      "--- New Patient Case ---\n",
      "mean radius: 18.05\n",
      "mean texture: 16.15\n",
      "mean perimeter: 120.20\n",
      "mean area: 1006.00\n",
      "worst concavity: 0.38\n",
      "worst symmetry: 0.38\n"
     ]
    },
    {
     "name": "stdin",
     "output_type": "stream",
     "text": [
      "\n",
      "Run diagnosis? (y/n):  y\n"
     ]
    },
    {
     "name": "stdout",
     "output_type": "stream",
     "text": [
      "\n",
      "Diagnosis Prediction:\n",
      "  → Predicted: MALIGNANT\n",
      "  → Confidence: \u001b[32m100.00%\u001b[0m\n",
      "  → Actual:    MALIGNANT\n"
     ]
    },
    {
     "name": "stdin",
     "output_type": "stream",
     "text": [
      "\n",
      "Run another case? (y/n):  y\n"
     ]
    },
    {
     "name": "stdout",
     "output_type": "stream",
     "text": [
      "\n",
      "--- New Patient Case ---\n",
      "mean radius: 12.86\n",
      "mean texture: 18.00\n",
      "mean perimeter: 83.19\n",
      "mean area: 506.30\n",
      "worst concavity: 0.17\n",
      "worst symmetry: 0.28\n"
     ]
    },
    {
     "name": "stdin",
     "output_type": "stream",
     "text": [
      "\n",
      "Run diagnosis? (y/n):  y\n"
     ]
    },
    {
     "name": "stdout",
     "output_type": "stream",
     "text": [
      "\n",
      "Diagnosis Prediction:\n",
      "  → Predicted: BENIGN\n",
      "  → Confidence: \u001b[32m100.00%\u001b[0m\n",
      "  → Actual:    BENIGN\n"
     ]
    },
    {
     "name": "stdin",
     "output_type": "stream",
     "text": [
      "\n",
      "Run another case? (y/n):  y\n"
     ]
    },
    {
     "name": "stdout",
     "output_type": "stream",
     "text": [
      "\n",
      "--- New Patient Case ---\n",
      "mean radius: 13.54\n",
      "mean texture: 14.36\n",
      "mean perimeter: 87.46\n",
      "mean area: 566.30\n",
      "worst concavity: 0.24\n",
      "worst symmetry: 0.30\n"
     ]
    },
    {
     "name": "stdin",
     "output_type": "stream",
     "text": [
      "\n",
      "Run diagnosis? (y/n):  y\n"
     ]
    },
    {
     "name": "stdout",
     "output_type": "stream",
     "text": [
      "\n",
      "Diagnosis Prediction:\n",
      "  → Predicted: BENIGN\n",
      "  → Confidence: \u001b[32m99.00%\u001b[0m\n",
      "  → Actual:    BENIGN\n"
     ]
    },
    {
     "name": "stdin",
     "output_type": "stream",
     "text": [
      "\n",
      "Run another case? (y/n):  y\n"
     ]
    },
    {
     "name": "stdout",
     "output_type": "stream",
     "text": [
      "\n",
      "--- New Patient Case ---\n",
      "mean radius: 8.95\n",
      "mean texture: 15.76\n",
      "mean perimeter: 58.74\n",
      "mean area: 245.20\n",
      "worst concavity: 0.15\n",
      "worst symmetry: 0.17\n"
     ]
    },
    {
     "name": "stdin",
     "output_type": "stream",
     "text": [
      "\n",
      "Run diagnosis? (y/n):  y\n"
     ]
    },
    {
     "name": "stdout",
     "output_type": "stream",
     "text": [
      "\n",
      "Diagnosis Prediction:\n",
      "  → Predicted: BENIGN\n",
      "  → Confidence: \u001b[32m99.00%\u001b[0m\n",
      "  → Actual:    BENIGN\n"
     ]
    },
    {
     "name": "stdin",
     "output_type": "stream",
     "text": [
      "\n",
      "Run another case? (y/n):  y\n"
     ]
    },
    {
     "name": "stdout",
     "output_type": "stream",
     "text": [
      "\n",
      "--- New Patient Case ---\n",
      "mean radius: 13.80\n",
      "mean texture: 15.79\n",
      "mean perimeter: 90.43\n",
      "mean area: 584.10\n",
      "worst concavity: 0.28\n",
      "worst symmetry: 0.26\n"
     ]
    },
    {
     "name": "stdin",
     "output_type": "stream",
     "text": [
      "\n",
      "Run diagnosis? (y/n):  y\n"
     ]
    },
    {
     "name": "stdout",
     "output_type": "stream",
     "text": [
      "\n",
      "Diagnosis Prediction:\n",
      "  → Predicted: MALIGNANT\n",
      "  → Confidence: \u001b[31m71.00%\u001b[0m\n",
      "  → Actual:    MALIGNANT\n"
     ]
    },
    {
     "name": "stdin",
     "output_type": "stream",
     "text": [
      "\n",
      "Run another case? (y/n):  y\n"
     ]
    },
    {
     "name": "stdout",
     "output_type": "stream",
     "text": [
      "\n",
      "--- New Patient Case ---\n",
      "mean radius: 13.73\n",
      "mean texture: 22.61\n",
      "mean perimeter: 93.60\n",
      "mean area: 578.30\n",
      "worst concavity: 0.69\n",
      "worst symmetry: 0.36\n"
     ]
    },
    {
     "name": "stdin",
     "output_type": "stream",
     "text": [
      "\n",
      "Run diagnosis? (y/n):  y\n"
     ]
    },
    {
     "name": "stdout",
     "output_type": "stream",
     "text": [
      "\n",
      "Diagnosis Prediction:\n",
      "  → Predicted: MALIGNANT\n",
      "  → Confidence: \u001b[32m96.00%\u001b[0m\n",
      "  → Actual:    MALIGNANT\n"
     ]
    },
    {
     "name": "stdin",
     "output_type": "stream",
     "text": [
      "\n",
      "Run another case? (y/n):  y\n"
     ]
    },
    {
     "name": "stdout",
     "output_type": "stream",
     "text": [
      "\n",
      "--- New Patient Case ---\n",
      "mean radius: 9.72\n",
      "mean texture: 18.22\n",
      "mean perimeter: 60.73\n",
      "mean area: 288.10\n",
      "worst concavity: 0.00\n",
      "worst symmetry: 0.19\n"
     ]
    },
    {
     "name": "stdin",
     "output_type": "stream",
     "text": [
      "\n",
      "Run diagnosis? (y/n):  y\n"
     ]
    },
    {
     "name": "stdout",
     "output_type": "stream",
     "text": [
      "\n",
      "Diagnosis Prediction:\n",
      "  → Predicted: BENIGN\n",
      "  → Confidence: \u001b[32m99.00%\u001b[0m\n",
      "  → Actual:    BENIGN\n"
     ]
    },
    {
     "name": "stdin",
     "output_type": "stream",
     "text": [
      "\n",
      "Run another case? (y/n):  y\n"
     ]
    },
    {
     "name": "stdout",
     "output_type": "stream",
     "text": [
      "\n",
      "--- New Patient Case ---\n",
      "mean radius: 13.82\n",
      "mean texture: 24.49\n",
      "mean perimeter: 92.33\n",
      "mean area: 595.90\n",
      "worst concavity: 0.34\n",
      "worst symmetry: 0.37\n"
     ]
    },
    {
     "name": "stdin",
     "output_type": "stream",
     "text": [
      "\n",
      "Run diagnosis? (y/n):  y\n"
     ]
    },
    {
     "name": "stdout",
     "output_type": "stream",
     "text": [
      "\n",
      "Diagnosis Prediction:\n",
      "  → Predicted: MALIGNANT\n",
      "  → Confidence: \u001b[32m93.00%\u001b[0m\n",
      "  → Actual:    MALIGNANT\n"
     ]
    },
    {
     "name": "stdin",
     "output_type": "stream",
     "text": [
      "\n",
      "Run another case? (y/n):  y\n"
     ]
    },
    {
     "name": "stdout",
     "output_type": "stream",
     "text": [
      "\n",
      "--- New Patient Case ---\n",
      "mean radius: 11.15\n",
      "mean texture: 13.08\n",
      "mean perimeter: 70.87\n",
      "mean area: 381.90\n",
      "worst concavity: 0.07\n",
      "worst symmetry: 0.29\n"
     ]
    },
    {
     "name": "stdin",
     "output_type": "stream",
     "text": [
      "\n",
      "Run diagnosis? (y/n):  y\n"
     ]
    },
    {
     "name": "stdout",
     "output_type": "stream",
     "text": [
      "\n",
      "Diagnosis Prediction:\n",
      "  → Predicted: BENIGN\n",
      "  → Confidence: \u001b[32m100.00%\u001b[0m\n",
      "  → Actual:    BENIGN\n"
     ]
    },
    {
     "name": "stdin",
     "output_type": "stream",
     "text": [
      "\n",
      "Run another case? (y/n):  y\n"
     ]
    },
    {
     "name": "stdout",
     "output_type": "stream",
     "text": [
      "\n",
      "--- New Patient Case ---\n",
      "mean radius: 17.75\n",
      "mean texture: 28.03\n",
      "mean perimeter: 117.30\n",
      "mean area: 981.60\n",
      "worst concavity: 0.64\n",
      "worst symmetry: 0.30\n"
     ]
    },
    {
     "name": "stdin",
     "output_type": "stream",
     "text": [
      "\n",
      "Run diagnosis? (y/n):  y\n"
     ]
    },
    {
     "name": "stdout",
     "output_type": "stream",
     "text": [
      "\n",
      "Diagnosis Prediction:\n",
      "  → Predicted: MALIGNANT\n",
      "  → Confidence: \u001b[32m100.00%\u001b[0m\n",
      "  → Actual:    MALIGNANT\n"
     ]
    },
    {
     "name": "stdin",
     "output_type": "stream",
     "text": [
      "\n",
      "Run another case? (y/n):  y\n"
     ]
    },
    {
     "name": "stdout",
     "output_type": "stream",
     "text": [
      "\n",
      "--- New Patient Case ---\n",
      "mean radius: 13.05\n",
      "mean texture: 18.59\n",
      "mean perimeter: 85.09\n",
      "mean area: 512.00\n",
      "worst concavity: 0.26\n",
      "worst symmetry: 0.31\n"
     ]
    },
    {
     "name": "stdin",
     "output_type": "stream",
     "text": [
      "\n",
      "Run diagnosis? (y/n):  y\n"
     ]
    },
    {
     "name": "stdout",
     "output_type": "stream",
     "text": [
      "\n",
      "Diagnosis Prediction:\n",
      "  → Predicted: BENIGN\n",
      "  → Confidence: \u001b[32m95.00%\u001b[0m\n",
      "  → Actual:    BENIGN\n"
     ]
    },
    {
     "name": "stdin",
     "output_type": "stream",
     "text": [
      "\n",
      "Run another case? (y/n):  y\n"
     ]
    },
    {
     "name": "stdout",
     "output_type": "stream",
     "text": [
      "\n",
      "--- New Patient Case ---\n",
      "mean radius: 18.66\n",
      "mean texture: 17.12\n",
      "mean perimeter: 121.40\n",
      "mean area: 1077.00\n",
      "worst concavity: 0.33\n",
      "worst symmetry: 0.29\n"
     ]
    },
    {
     "name": "stdin",
     "output_type": "stream",
     "text": [
      "\n",
      "Run diagnosis? (y/n):  y\n"
     ]
    },
    {
     "name": "stdout",
     "output_type": "stream",
     "text": [
      "\n",
      "Diagnosis Prediction:\n",
      "  → Predicted: MALIGNANT\n",
      "  → Confidence: \u001b[32m100.00%\u001b[0m\n",
      "  → Actual:    MALIGNANT\n"
     ]
    },
    {
     "name": "stdin",
     "output_type": "stream",
     "text": [
      "\n",
      "Run another case? (y/n):  y\n"
     ]
    },
    {
     "name": "stdout",
     "output_type": "stream",
     "text": [
      "\n",
      "--- New Patient Case ---\n",
      "mean radius: 14.26\n",
      "mean texture: 18.17\n",
      "mean perimeter: 91.22\n",
      "mean area: 633.10\n",
      "worst concavity: 0.16\n",
      "worst symmetry: 0.26\n"
     ]
    },
    {
     "name": "stdin",
     "output_type": "stream",
     "text": [
      "\n",
      "Run diagnosis? (y/n):  y\n"
     ]
    },
    {
     "name": "stdout",
     "output_type": "stream",
     "text": [
      "\n",
      "Diagnosis Prediction:\n",
      "  → Predicted: BENIGN\n",
      "  → Confidence: \u001b[32m99.00%\u001b[0m\n",
      "  → Actual:    BENIGN\n"
     ]
    },
    {
     "name": "stdin",
     "output_type": "stream",
     "text": [
      "\n",
      "Run another case? (y/n):  y\n"
     ]
    },
    {
     "name": "stdout",
     "output_type": "stream",
     "text": [
      "\n",
      "--- New Patient Case ---\n",
      "mean radius: 11.61\n",
      "mean texture: 16.02\n",
      "mean perimeter: 75.46\n",
      "mean area: 408.20\n",
      "worst concavity: 0.23\n",
      "worst symmetry: 0.28\n"
     ]
    },
    {
     "name": "stdin",
     "output_type": "stream",
     "text": [
      "\n",
      "Run diagnosis? (y/n):  y\n"
     ]
    },
    {
     "name": "stdout",
     "output_type": "stream",
     "text": [
      "\n",
      "Diagnosis Prediction:\n",
      "  → Predicted: BENIGN\n",
      "  → Confidence: \u001b[32m100.00%\u001b[0m\n",
      "  → Actual:    BENIGN\n"
     ]
    },
    {
     "name": "stdin",
     "output_type": "stream",
     "text": [
      "\n",
      "Run another case? (y/n):  y\n"
     ]
    },
    {
     "name": "stdout",
     "output_type": "stream",
     "text": [
      "\n",
      "--- New Patient Case ---\n",
      "mean radius: 12.21\n",
      "mean texture: 18.02\n",
      "mean perimeter: 78.31\n",
      "mean area: 458.40\n",
      "worst concavity: 0.24\n",
      "worst symmetry: 0.32\n"
     ]
    },
    {
     "name": "stdin",
     "output_type": "stream",
     "text": [
      "\n",
      "Run diagnosis? (y/n):  y\n"
     ]
    },
    {
     "name": "stdout",
     "output_type": "stream",
     "text": [
      "\n",
      "Diagnosis Prediction:\n",
      "  → Predicted: BENIGN\n",
      "  → Confidence: \u001b[32m100.00%\u001b[0m\n",
      "  → Actual:    BENIGN\n"
     ]
    },
    {
     "name": "stdin",
     "output_type": "stream",
     "text": [
      "\n",
      "Run another case? (y/n):  y\n"
     ]
    },
    {
     "name": "stdout",
     "output_type": "stream",
     "text": [
      "\n",
      "--- New Patient Case ---\n",
      "mean radius: 12.16\n",
      "mean texture: 18.03\n",
      "mean perimeter: 78.29\n",
      "mean area: 455.30\n",
      "worst concavity: 0.16\n",
      "worst symmetry: 0.24\n"
     ]
    },
    {
     "name": "stdin",
     "output_type": "stream",
     "text": [
      "\n",
      "Run diagnosis? (y/n):  y\n"
     ]
    },
    {
     "name": "stdout",
     "output_type": "stream",
     "text": [
      "\n",
      "Diagnosis Prediction:\n",
      "  → Predicted: BENIGN\n",
      "  → Confidence: \u001b[32m100.00%\u001b[0m\n",
      "  → Actual:    BENIGN\n"
     ]
    },
    {
     "name": "stdin",
     "output_type": "stream",
     "text": [
      "\n",
      "Run another case? (y/n):  y\n"
     ]
    },
    {
     "name": "stdout",
     "output_type": "stream",
     "text": [
      "\n",
      "--- New Patient Case ---\n",
      "mean radius: 13.28\n",
      "mean texture: 13.72\n",
      "mean perimeter: 85.79\n",
      "mean area: 541.80\n",
      "worst concavity: 0.29\n",
      "worst symmetry: 0.27\n"
     ]
    },
    {
     "name": "stdin",
     "output_type": "stream",
     "text": [
      "\n",
      "Run diagnosis? (y/n):  y\n"
     ]
    },
    {
     "name": "stdout",
     "output_type": "stream",
     "text": [
      "\n",
      "Diagnosis Prediction:\n",
      "  → Predicted: BENIGN\n",
      "  → Confidence: \u001b[32m100.00%\u001b[0m\n",
      "  → Actual:    BENIGN\n"
     ]
    },
    {
     "name": "stdin",
     "output_type": "stream",
     "text": [
      "\n",
      "Run another case? (y/n):  y\n"
     ]
    },
    {
     "name": "stdout",
     "output_type": "stream",
     "text": [
      "\n",
      "--- New Patient Case ---\n",
      "mean radius: 20.29\n",
      "mean texture: 14.34\n",
      "mean perimeter: 135.10\n",
      "mean area: 1297.00\n",
      "worst concavity: 0.40\n",
      "worst symmetry: 0.24\n"
     ]
    },
    {
     "name": "stdin",
     "output_type": "stream",
     "text": [
      "\n",
      "Run diagnosis? (y/n):  y\n"
     ]
    },
    {
     "name": "stdout",
     "output_type": "stream",
     "text": [
      "\n",
      "Diagnosis Prediction:\n",
      "  → Predicted: MALIGNANT\n",
      "  → Confidence: \u001b[32m98.00%\u001b[0m\n",
      "  → Actual:    MALIGNANT\n"
     ]
    },
    {
     "name": "stdin",
     "output_type": "stream",
     "text": [
      "\n",
      "Run another case? (y/n):  y\n"
     ]
    },
    {
     "name": "stdout",
     "output_type": "stream",
     "text": [
      "\n",
      "--- New Patient Case ---\n",
      "mean radius: 20.47\n",
      "mean texture: 20.67\n",
      "mean perimeter: 134.70\n",
      "mean area: 1299.00\n",
      "worst concavity: 0.31\n",
      "worst symmetry: 0.32\n"
     ]
    },
    {
     "name": "stdin",
     "output_type": "stream",
     "text": [
      "\n",
      "Run diagnosis? (y/n):  y\n"
     ]
    },
    {
     "name": "stdout",
     "output_type": "stream",
     "text": [
      "\n",
      "Diagnosis Prediction:\n",
      "  → Predicted: MALIGNANT\n",
      "  → Confidence: \u001b[32m100.00%\u001b[0m\n",
      "  → Actual:    MALIGNANT\n"
     ]
    },
    {
     "name": "stdin",
     "output_type": "stream",
     "text": [
      "\n",
      "Run another case? (y/n):  y\n"
     ]
    },
    {
     "name": "stdout",
     "output_type": "stream",
     "text": [
      "\n",
      "--- New Patient Case ---\n",
      "mean radius: 11.37\n",
      "mean texture: 18.89\n",
      "mean perimeter: 72.17\n",
      "mean area: 396.00\n",
      "worst concavity: 0.08\n",
      "worst symmetry: 0.33\n"
     ]
    },
    {
     "name": "stdin",
     "output_type": "stream",
     "text": [
      "\n",
      "Run diagnosis? (y/n):  y\n"
     ]
    },
    {
     "name": "stdout",
     "output_type": "stream",
     "text": [
      "\n",
      "Diagnosis Prediction:\n",
      "  → Predicted: BENIGN\n",
      "  → Confidence: \u001b[32m100.00%\u001b[0m\n",
      "  → Actual:    BENIGN\n"
     ]
    },
    {
     "name": "stdin",
     "output_type": "stream",
     "text": [
      "\n",
      "Run another case? (y/n):  y\n"
     ]
    },
    {
     "name": "stdout",
     "output_type": "stream",
     "text": [
      "\n",
      "--- New Patient Case ---\n",
      "mean radius: 11.51\n",
      "mean texture: 23.93\n",
      "mean perimeter: 74.52\n",
      "mean area: 403.50\n",
      "worst concavity: 0.36\n",
      "worst symmetry: 0.21\n"
     ]
    },
    {
     "name": "stdin",
     "output_type": "stream",
     "text": [
      "\n",
      "Run diagnosis? (y/n):  y\n"
     ]
    },
    {
     "name": "stdout",
     "output_type": "stream",
     "text": [
      "\n",
      "Diagnosis Prediction:\n",
      "  → Predicted: BENIGN\n",
      "  → Confidence: \u001b[32m94.00%\u001b[0m\n",
      "  → Actual:    BENIGN\n"
     ]
    },
    {
     "name": "stdin",
     "output_type": "stream",
     "text": [
      "\n",
      "Run another case? (y/n):  y\n"
     ]
    },
    {
     "name": "stdout",
     "output_type": "stream",
     "text": [
      "\n",
      "--- New Patient Case ---\n",
      "mean radius: 11.76\n",
      "mean texture: 21.60\n",
      "mean perimeter: 74.72\n",
      "mean area: 427.90\n",
      "worst concavity: 0.06\n",
      "worst symmetry: 0.24\n"
     ]
    },
    {
     "name": "stdin",
     "output_type": "stream",
     "text": [
      "\n",
      "Run diagnosis? (y/n):  y\n"
     ]
    },
    {
     "name": "stdout",
     "output_type": "stream",
     "text": [
      "\n",
      "Diagnosis Prediction:\n",
      "  → Predicted: BENIGN\n",
      "  → Confidence: \u001b[32m100.00%\u001b[0m\n",
      "  → Actual:    BENIGN\n"
     ]
    },
    {
     "name": "stdin",
     "output_type": "stream",
     "text": [
      "\n",
      "Run another case? (y/n):  y\n"
     ]
    },
    {
     "name": "stdout",
     "output_type": "stream",
     "text": [
      "\n",
      "--- New Patient Case ---\n",
      "mean radius: 11.99\n",
      "mean texture: 24.89\n",
      "mean perimeter: 77.61\n",
      "mean area: 441.30\n",
      "worst concavity: 0.16\n",
      "worst symmetry: 0.26\n"
     ]
    },
    {
     "name": "stdin",
     "output_type": "stream",
     "text": [
      "\n",
      "Run diagnosis? (y/n):  y\n"
     ]
    },
    {
     "name": "stdout",
     "output_type": "stream",
     "text": [
      "\n",
      "Diagnosis Prediction:\n",
      "  → Predicted: BENIGN\n",
      "  → Confidence: \u001b[32m100.00%\u001b[0m\n",
      "  → Actual:    BENIGN\n"
     ]
    },
    {
     "name": "stdin",
     "output_type": "stream",
     "text": [
      "\n",
      "Run another case? (y/n):  y\n"
     ]
    },
    {
     "name": "stdout",
     "output_type": "stream",
     "text": [
      "\n",
      "--- New Patient Case ---\n",
      "mean radius: 12.76\n",
      "mean texture: 18.84\n",
      "mean perimeter: 81.87\n",
      "mean area: 496.60\n",
      "worst concavity: 0.13\n",
      "worst symmetry: 0.27\n"
     ]
    },
    {
     "name": "stdin",
     "output_type": "stream",
     "text": [
      "\n",
      "Run diagnosis? (y/n):  y\n"
     ]
    },
    {
     "name": "stdout",
     "output_type": "stream",
     "text": [
      "\n",
      "Diagnosis Prediction:\n",
      "  → Predicted: BENIGN\n",
      "  → Confidence: \u001b[32m100.00%\u001b[0m\n",
      "  → Actual:    BENIGN\n"
     ]
    },
    {
     "name": "stdin",
     "output_type": "stream",
     "text": [
      "\n",
      "Run another case? (y/n):  y\n"
     ]
    },
    {
     "name": "stdout",
     "output_type": "stream",
     "text": [
      "\n",
      "--- New Patient Case ---\n",
      "mean radius: 14.96\n",
      "mean texture: 19.10\n",
      "mean perimeter: 97.03\n",
      "mean area: 687.30\n",
      "worst concavity: 0.18\n",
      "worst symmetry: 0.30\n"
     ]
    },
    {
     "name": "stdin",
     "output_type": "stream",
     "text": [
      "\n",
      "Run diagnosis? (y/n):  y\n"
     ]
    },
    {
     "name": "stdout",
     "output_type": "stream",
     "text": [
      "\n",
      "Diagnosis Prediction:\n",
      "  → Predicted: BENIGN\n",
      "  → Confidence: \u001b[32m90.00%\u001b[0m\n",
      "  → Actual:    BENIGN\n"
     ]
    },
    {
     "name": "stdin",
     "output_type": "stream",
     "text": [
      "\n",
      "Run another case? (y/n):  y\n"
     ]
    },
    {
     "name": "stdout",
     "output_type": "stream",
     "text": [
      "\n",
      "--- New Patient Case ---\n",
      "mean radius: 28.11\n",
      "mean texture: 18.47\n",
      "mean perimeter: 188.50\n",
      "mean area: 2499.00\n",
      "worst concavity: 0.32\n",
      "worst symmetry: 0.16\n"
     ]
    },
    {
     "name": "stdin",
     "output_type": "stream",
     "text": [
      "\n",
      "Run diagnosis? (y/n):  yy\n",
      "Skip to next case? (y/n):  y\n"
     ]
    },
    {
     "name": "stdout",
     "output_type": "stream",
     "text": [
      "\n",
      "--- New Patient Case ---\n",
      "mean radius: 16.60\n",
      "mean texture: 28.08\n",
      "mean perimeter: 108.30\n",
      "mean area: 858.10\n",
      "worst concavity: 0.34\n",
      "worst symmetry: 0.22\n"
     ]
    },
    {
     "name": "stdin",
     "output_type": "stream",
     "text": [
      "\n",
      "Run diagnosis? (y/n):  y\n"
     ]
    },
    {
     "name": "stdout",
     "output_type": "stream",
     "text": [
      "\n",
      "Diagnosis Prediction:\n",
      "  → Predicted: MALIGNANT\n",
      "  → Confidence: \u001b[32m100.00%\u001b[0m\n",
      "  → Actual:    MALIGNANT\n"
     ]
    },
    {
     "name": "stdin",
     "output_type": "stream",
     "text": [
      "\n",
      "Run another case? (y/n):  y\n"
     ]
    },
    {
     "name": "stdout",
     "output_type": "stream",
     "text": [
      "\n",
      "--- New Patient Case ---\n",
      "mean radius: 20.57\n",
      "mean texture: 17.77\n",
      "mean perimeter: 132.90\n",
      "mean area: 1326.00\n",
      "worst concavity: 0.24\n",
      "worst symmetry: 0.28\n"
     ]
    },
    {
     "name": "stdin",
     "output_type": "stream",
     "text": [
      "\n",
      "Run diagnosis? (y/n):  y\n"
     ]
    },
    {
     "name": "stdout",
     "output_type": "stream",
     "text": [
      "\n",
      "Diagnosis Prediction:\n",
      "  → Predicted: MALIGNANT\n",
      "  → Confidence: \u001b[32m99.00%\u001b[0m\n",
      "  → Actual:    MALIGNANT\n"
     ]
    },
    {
     "name": "stdin",
     "output_type": "stream",
     "text": [
      "\n",
      "Run another case? (y/n):  y\n"
     ]
    },
    {
     "name": "stdout",
     "output_type": "stream",
     "text": [
      "\n",
      "--- New Patient Case ---\n",
      "mean radius: 9.40\n",
      "mean texture: 21.68\n",
      "mean perimeter: 59.75\n",
      "mean area: 268.80\n",
      "worst concavity: 0.19\n",
      "worst symmetry: 0.24\n"
     ]
    },
    {
     "name": "stdin",
     "output_type": "stream",
     "text": [
      "\n",
      "Run diagnosis? (y/n):  y\n"
     ]
    },
    {
     "name": "stdout",
     "output_type": "stream",
     "text": [
      "\n",
      "Diagnosis Prediction:\n",
      "  → Predicted: BENIGN\n",
      "  → Confidence: \u001b[32m100.00%\u001b[0m\n",
      "  → Actual:    BENIGN\n"
     ]
    },
    {
     "name": "stdin",
     "output_type": "stream",
     "text": [
      "\n",
      "Run another case? (y/n):  y\n"
     ]
    },
    {
     "name": "stdout",
     "output_type": "stream",
     "text": [
      "\n",
      "--- New Patient Case ---\n",
      "mean radius: 11.45\n",
      "mean texture: 20.97\n",
      "mean perimeter: 73.81\n",
      "mean area: 401.50\n",
      "worst concavity: 0.18\n",
      "worst symmetry: 0.28\n"
     ]
    },
    {
     "name": "stdin",
     "output_type": "stream",
     "text": [
      "\n",
      "Run diagnosis? (y/n):  y\n"
     ]
    },
    {
     "name": "stdout",
     "output_type": "stream",
     "text": [
      "\n",
      "Diagnosis Prediction:\n",
      "  → Predicted: BENIGN\n",
      "  → Confidence: \u001b[32m99.00%\u001b[0m\n",
      "  → Actual:    BENIGN\n"
     ]
    },
    {
     "name": "stdin",
     "output_type": "stream",
     "text": [
      "\n",
      "Run another case? (y/n):  y\n"
     ]
    },
    {
     "name": "stdout",
     "output_type": "stream",
     "text": [
      "\n",
      "--- New Patient Case ---\n",
      "mean radius: 16.14\n",
      "mean texture: 14.86\n",
      "mean perimeter: 104.30\n",
      "mean area: 800.00\n",
      "worst concavity: 0.23\n",
      "worst symmetry: 0.28\n"
     ]
    },
    {
     "name": "stdin",
     "output_type": "stream",
     "text": [
      "\n",
      "Run diagnosis? (y/n):  y\n"
     ]
    },
    {
     "name": "stdout",
     "output_type": "stream",
     "text": [
      "\n",
      "Diagnosis Prediction:\n",
      "  → Predicted: BENIGN\n",
      "  → Confidence: \u001b[31m73.00%\u001b[0m\n",
      "  → Actual:    BENIGN\n"
     ]
    },
    {
     "name": "stdin",
     "output_type": "stream",
     "text": [
      "\n",
      "Run another case? (y/n):  y\n"
     ]
    },
    {
     "name": "stdout",
     "output_type": "stream",
     "text": [
      "\n",
      "--- New Patient Case ---\n",
      "mean radius: 14.42\n",
      "mean texture: 19.77\n",
      "mean perimeter: 94.48\n",
      "mean area: 642.50\n",
      "worst concavity: 0.32\n",
      "worst symmetry: 0.27\n"
     ]
    },
    {
     "name": "stdin",
     "output_type": "stream",
     "text": [
      "\n",
      "Run diagnosis? (y/n):  y\n"
     ]
    },
    {
     "name": "stdout",
     "output_type": "stream",
     "text": [
      "\n",
      "Diagnosis Prediction:\n",
      "  → Predicted: MALIGNANT\n",
      "  → Confidence: \u001b[32m90.00%\u001b[0m\n",
      "  → Actual:    MALIGNANT\n"
     ]
    },
    {
     "name": "stdin",
     "output_type": "stream",
     "text": [
      "\n",
      "Run another case? (y/n):  \n"
     ]
    },
    {
     "name": "stdout",
     "output_type": "stream",
     "text": [
      "\n",
      "Session ended.\n"
     ]
    }
   ],
   "source": [
    "from sklearn.metrics import accuracy_score\n",
    "from colorama import Fore, Style\n",
    "\n",
    "def sample_and_diagnose_with_confidence(model, X, y, feature_names, n=1):\n",
    "    while True:\n",
    "        index = random.randint(0, len(X) - 1)\n",
    "        sample = X[index]\n",
    "        label = y[index]\n",
    "        \n",
    "        print(\"\\n--- New Patient Case ---\")\n",
    "        for i in feature_indices:\n",
    "            print(f\"{feature_names[i]}: {sample[i]:.2f}\")\n",
    "        \n",
    "        confirm = input(\"\\nRun diagnosis? (y/n): \").strip().lower()\n",
    "        if confirm != 'y':\n",
    "            cont = input(\"Skip to next case? (y/n): \").strip().lower()\n",
    "            if cont != 'y':\n",
    "                print(\"\\nSession ended.\")\n",
    "                break\n",
    "            else:\n",
    "                continue\n",
    "\n",
    "        # Predict and get probability\n",
    "        pred = model.predict(sample.reshape(1, -1))[0]\n",
    "        prob = model.predict_proba(sample.reshape(1, -1))[0]\n",
    "        confidence = np.max(prob)\n",
    "        \n",
    "        label_actual = cancer.target_names[label]\n",
    "        label_pred = cancer.target_names[pred]\n",
    "\n",
    "        print(\"\\nDiagnosis Prediction:\")\n",
    "        if confidence >= 0.90:\n",
    "            color = Fore.GREEN\n",
    "        elif confidence >= 0.75:\n",
    "            color = Fore.YELLOW\n",
    "        else:\n",
    "            color = Fore.RED\n",
    "\n",
    "        print(f\"  → Predicted: {label_pred.upper()}\")\n",
    "        print(f\"  → Confidence: {color}{confidence:.2%}{Style.RESET_ALL}\")\n",
    "        print(f\"  → Actual:    {label_actual.upper()}\")\n",
    "\n",
    "        cont = input(\"\\nRun another case? (y/n): \").strip().lower()\n",
    "        if cont != 'y':\n",
    "            print(\"\\nSession ended.\")\n",
    "            break\n",
    "\n",
    "# Run enhanced simulation\n",
    "sample_and_diagnose_with_confidence(clf, cancer.data, cancer.target, cancer.feature_names)"
   ]
  },
  {
   "cell_type": "markdown",
   "id": "45317fce-8c51-453a-9503-ba8623439957",
   "metadata": {},
   "source": [
    "### Notes:\n",
    "\n",
    "* Adds `predict_proba()` to show probability\n",
    "* Uses color to **visually flag confidence**:\n",
    "\n",
    "  * Green = strong confidence\n",
    "  * Yellow = moderate\n",
    "  * Red = weak/conflicted\n",
    "* More aligned with how clinicians review uncertainty in diagnostics"
   ]
  },
  {
   "cell_type": "markdown",
   "id": "002f7c2e-156f-487d-8662-7ea6bcaaa84c",
   "metadata": {},
   "source": [
    "**Step 4 complete. Time to close the loop with Step 5 — logging and export.**\n",
    "\n",
    "\n",
    "## STEP 5: Log Predictions for Audit or Review\n",
    "\n",
    "### 🎯 Objective:\n",
    "\n",
    "Record each prediction in a **session log** for review, audit, or retraining.\n",
    "In medical tools, **traceability** is essential — even in prototypes.\n",
    "\n",
    "We'll log:\n",
    "\n",
    "* Sample index\n",
    "* Selected feature values\n",
    "* Predicted class\n",
    "* Actual class\n",
    "* Model confidence\n",
    "\n",
    "The log can be printed live or saved to CSV/JSON for analysis.\n",
    "\n",
    "### Code Block: Logging Predictions\n"
   ]
  },
  {
   "cell_type": "code",
   "execution_count": 21,
   "id": "386add14-4017-43fc-b916-66338623379d",
   "metadata": {},
   "outputs": [
    {
     "name": "stdout",
     "output_type": "stream",
     "text": [
      "\n",
      "--- New Patient Case ---\n",
      "mean radius: 9.85\n",
      "mean texture: 15.68\n",
      "mean perimeter: 63.00\n",
      "mean area: 293.20\n",
      "worst concavity: 0.08\n",
      "worst symmetry: 0.25\n"
     ]
    },
    {
     "name": "stdin",
     "output_type": "stream",
     "text": [
      "\n",
      "Run diagnosis? (y/n):  y\n"
     ]
    },
    {
     "name": "stdout",
     "output_type": "stream",
     "text": [
      "\n",
      "Diagnosis Prediction:\n",
      "  → Predicted: BENIGN\n",
      "  → Confidence: 99.00%\n",
      "  → Actual:    BENIGN\n"
     ]
    },
    {
     "name": "stdin",
     "output_type": "stream",
     "text": [
      "\n",
      "Run another case? (y/n):  y\n"
     ]
    },
    {
     "name": "stdout",
     "output_type": "stream",
     "text": [
      "\n",
      "--- New Patient Case ---\n",
      "mean radius: 19.59\n",
      "mean texture: 25.00\n",
      "mean perimeter: 127.70\n",
      "mean area: 1191.00\n",
      "worst concavity: 0.40\n",
      "worst symmetry: 0.23\n"
     ]
    },
    {
     "name": "stdin",
     "output_type": "stream",
     "text": [
      "\n",
      "Run diagnosis? (y/n):  y\n"
     ]
    },
    {
     "name": "stdout",
     "output_type": "stream",
     "text": [
      "\n",
      "Diagnosis Prediction:\n",
      "  → Predicted: MALIGNANT\n",
      "  → Confidence: 100.00%\n",
      "  → Actual:    MALIGNANT\n"
     ]
    },
    {
     "name": "stdin",
     "output_type": "stream",
     "text": [
      "\n",
      "Run another case? (y/n):  y\n"
     ]
    },
    {
     "name": "stdout",
     "output_type": "stream",
     "text": [
      "\n",
      "--- New Patient Case ---\n",
      "mean radius: 11.14\n",
      "mean texture: 14.07\n",
      "mean perimeter: 71.24\n",
      "mean area: 384.60\n",
      "worst concavity: 0.12\n",
      "worst symmetry: 0.26\n"
     ]
    },
    {
     "name": "stdin",
     "output_type": "stream",
     "text": [
      "\n",
      "Run diagnosis? (y/n):  y\n"
     ]
    },
    {
     "name": "stdout",
     "output_type": "stream",
     "text": [
      "\n",
      "Diagnosis Prediction:\n",
      "  → Predicted: BENIGN\n",
      "  → Confidence: 100.00%\n",
      "  → Actual:    BENIGN\n"
     ]
    },
    {
     "name": "stdin",
     "output_type": "stream",
     "text": [
      "\n",
      "Run another case? (y/n):  y\n"
     ]
    },
    {
     "name": "stdout",
     "output_type": "stream",
     "text": [
      "\n",
      "--- New Patient Case ---\n",
      "mean radius: 12.07\n",
      "mean texture: 13.44\n",
      "mean perimeter: 77.83\n",
      "mean area: 445.20\n",
      "worst concavity: 0.16\n",
      "worst symmetry: 0.28\n"
     ]
    },
    {
     "name": "stdin",
     "output_type": "stream",
     "text": [
      "\n",
      "Run diagnosis? (y/n):  y\n"
     ]
    },
    {
     "name": "stdout",
     "output_type": "stream",
     "text": [
      "\n",
      "Diagnosis Prediction:\n",
      "  → Predicted: BENIGN\n",
      "  → Confidence: 100.00%\n",
      "  → Actual:    BENIGN\n"
     ]
    },
    {
     "name": "stdin",
     "output_type": "stream",
     "text": [
      "\n",
      "Run another case? (y/n):  y\n"
     ]
    },
    {
     "name": "stdout",
     "output_type": "stream",
     "text": [
      "\n",
      "--- New Patient Case ---\n",
      "mean radius: 17.75\n",
      "mean texture: 28.03\n",
      "mean perimeter: 117.30\n",
      "mean area: 981.60\n",
      "worst concavity: 0.64\n",
      "worst symmetry: 0.30\n"
     ]
    },
    {
     "name": "stdin",
     "output_type": "stream",
     "text": [
      "\n",
      "Run diagnosis? (y/n):  y\n"
     ]
    },
    {
     "name": "stdout",
     "output_type": "stream",
     "text": [
      "\n",
      "Diagnosis Prediction:\n",
      "  → Predicted: MALIGNANT\n",
      "  → Confidence: 100.00%\n",
      "  → Actual:    MALIGNANT\n"
     ]
    },
    {
     "name": "stdin",
     "output_type": "stream",
     "text": [
      "\n",
      "Run another case? (y/n):  y\n"
     ]
    },
    {
     "name": "stdout",
     "output_type": "stream",
     "text": [
      "\n",
      "--- New Patient Case ---\n",
      "mean radius: 13.17\n",
      "mean texture: 18.66\n",
      "mean perimeter: 85.98\n",
      "mean area: 534.60\n",
      "worst concavity: 0.50\n",
      "worst symmetry: 0.39\n"
     ]
    },
    {
     "name": "stdin",
     "output_type": "stream",
     "text": [
      "\n",
      "Run diagnosis? (y/n):  y\n"
     ]
    },
    {
     "name": "stdout",
     "output_type": "stream",
     "text": [
      "\n",
      "Diagnosis Prediction:\n",
      "  → Predicted: MALIGNANT\n",
      "  → Confidence: 95.00%\n",
      "  → Actual:    MALIGNANT\n"
     ]
    },
    {
     "name": "stdin",
     "output_type": "stream",
     "text": [
      "\n",
      "Run another case? (y/n):  y\n"
     ]
    },
    {
     "name": "stdout",
     "output_type": "stream",
     "text": [
      "\n",
      "--- New Patient Case ---\n",
      "mean radius: 15.73\n",
      "mean texture: 11.28\n",
      "mean perimeter: 102.80\n",
      "mean area: 747.20\n",
      "worst concavity: 0.40\n",
      "worst symmetry: 0.26\n"
     ]
    },
    {
     "name": "stdin",
     "output_type": "stream",
     "text": [
      "\n",
      "Run diagnosis? (y/n):  y\n"
     ]
    },
    {
     "name": "stdout",
     "output_type": "stream",
     "text": [
      "\n",
      "Diagnosis Prediction:\n",
      "  → Predicted: BENIGN\n",
      "  → Confidence: 74.00%\n",
      "  → Actual:    BENIGN\n"
     ]
    },
    {
     "name": "stdin",
     "output_type": "stream",
     "text": [
      "\n",
      "Run another case? (y/n):  y\n"
     ]
    },
    {
     "name": "stdout",
     "output_type": "stream",
     "text": [
      "\n",
      "--- New Patient Case ---\n",
      "mean radius: 14.87\n",
      "mean texture: 16.67\n",
      "mean perimeter: 98.64\n",
      "mean area: 682.50\n",
      "worst concavity: 0.47\n",
      "worst symmetry: 0.36\n"
     ]
    },
    {
     "name": "stdin",
     "output_type": "stream",
     "text": [
      "\n",
      "Run diagnosis? (y/n):  y\n"
     ]
    },
    {
     "name": "stdout",
     "output_type": "stream",
     "text": [
      "\n",
      "Diagnosis Prediction:\n",
      "  → Predicted: MALIGNANT\n",
      "  → Confidence: 100.00%\n",
      "  → Actual:    MALIGNANT\n"
     ]
    },
    {
     "name": "stdin",
     "output_type": "stream",
     "text": [
      "\n",
      "Run another case? (y/n):  y\n"
     ]
    },
    {
     "name": "stdout",
     "output_type": "stream",
     "text": [
      "\n",
      "--- New Patient Case ---\n",
      "mean radius: 14.80\n",
      "mean texture: 17.66\n",
      "mean perimeter: 95.88\n",
      "mean area: 674.80\n",
      "worst concavity: 0.21\n",
      "worst symmetry: 0.36\n"
     ]
    },
    {
     "name": "stdin",
     "output_type": "stream",
     "text": [
      "\n",
      "Run diagnosis? (y/n):  y\n"
     ]
    },
    {
     "name": "stdout",
     "output_type": "stream",
     "text": [
      "\n",
      "Diagnosis Prediction:\n",
      "  → Predicted: BENIGN\n",
      "  → Confidence: 97.00%\n",
      "  → Actual:    BENIGN\n"
     ]
    },
    {
     "name": "stdin",
     "output_type": "stream",
     "text": [
      "\n",
      "Run another case? (y/n):  y\n"
     ]
    },
    {
     "name": "stdout",
     "output_type": "stream",
     "text": [
      "\n",
      "--- New Patient Case ---\n",
      "mean radius: 18.22\n",
      "mean texture: 18.70\n",
      "mean perimeter: 120.30\n",
      "mean area: 1033.00\n",
      "worst concavity: 0.26\n",
      "worst symmetry: 0.30\n"
     ]
    },
    {
     "name": "stdin",
     "output_type": "stream",
     "text": [
      "\n",
      "Run diagnosis? (y/n):  y\n"
     ]
    },
    {
     "name": "stdout",
     "output_type": "stream",
     "text": [
      "\n",
      "Diagnosis Prediction:\n",
      "  → Predicted: MALIGNANT\n",
      "  → Confidence: 98.00%\n",
      "  → Actual:    MALIGNANT\n"
     ]
    },
    {
     "name": "stdin",
     "output_type": "stream",
     "text": [
      "\n",
      "Run another case? (y/n):  y\n"
     ]
    },
    {
     "name": "stdout",
     "output_type": "stream",
     "text": [
      "\n",
      "--- New Patient Case ---\n",
      "mean radius: 14.53\n",
      "mean texture: 13.98\n",
      "mean perimeter: 93.86\n",
      "mean area: 644.20\n",
      "worst concavity: 0.14\n",
      "worst symmetry: 0.26\n"
     ]
    },
    {
     "name": "stdin",
     "output_type": "stream",
     "text": [
      "\n",
      "Run diagnosis? (y/n):  y\n"
     ]
    },
    {
     "name": "stdout",
     "output_type": "stream",
     "text": [
      "\n",
      "Diagnosis Prediction:\n",
      "  → Predicted: BENIGN\n",
      "  → Confidence: 97.00%\n",
      "  → Actual:    BENIGN\n"
     ]
    },
    {
     "name": "stdin",
     "output_type": "stream",
     "text": [
      "\n",
      "Run another case? (y/n):  y\n"
     ]
    },
    {
     "name": "stdout",
     "output_type": "stream",
     "text": [
      "\n",
      "--- New Patient Case ---\n",
      "mean radius: 13.71\n",
      "mean texture: 20.83\n",
      "mean perimeter: 90.20\n",
      "mean area: 577.90\n",
      "worst concavity: 0.27\n",
      "worst symmetry: 0.32\n"
     ]
    },
    {
     "name": "stdin",
     "output_type": "stream",
     "text": [
      "\n",
      "Run diagnosis? (y/n):  y\n"
     ]
    },
    {
     "name": "stdout",
     "output_type": "stream",
     "text": [
      "\n",
      "Diagnosis Prediction:\n",
      "  → Predicted: MALIGNANT\n",
      "  → Confidence: 96.00%\n",
      "  → Actual:    MALIGNANT\n"
     ]
    },
    {
     "name": "stdin",
     "output_type": "stream",
     "text": [
      "\n",
      "Run another case? (y/n):  y\n"
     ]
    },
    {
     "name": "stdout",
     "output_type": "stream",
     "text": [
      "\n",
      "--- New Patient Case ---\n",
      "mean radius: 10.17\n",
      "mean texture: 14.88\n",
      "mean perimeter: 64.55\n",
      "mean area: 311.90\n",
      "worst concavity: 0.02\n",
      "worst symmetry: 0.36\n"
     ]
    },
    {
     "name": "stdin",
     "output_type": "stream",
     "text": [
      "\n",
      "Run diagnosis? (y/n):  y\n"
     ]
    },
    {
     "name": "stdout",
     "output_type": "stream",
     "text": [
      "\n",
      "Diagnosis Prediction:\n",
      "  → Predicted: BENIGN\n",
      "  → Confidence: 100.00%\n",
      "  → Actual:    BENIGN\n"
     ]
    },
    {
     "name": "stdin",
     "output_type": "stream",
     "text": [
      "\n",
      "Run another case? (y/n):  y\n"
     ]
    },
    {
     "name": "stdout",
     "output_type": "stream",
     "text": [
      "\n",
      "--- New Patient Case ---\n",
      "mean radius: 8.20\n",
      "mean texture: 16.84\n",
      "mean perimeter: 51.71\n",
      "mean area: 201.90\n",
      "worst concavity: 0.07\n",
      "worst symmetry: 0.31\n"
     ]
    },
    {
     "name": "stdin",
     "output_type": "stream",
     "text": [
      "\n",
      "Run diagnosis? (y/n):  y\n"
     ]
    },
    {
     "name": "stdout",
     "output_type": "stream",
     "text": [
      "\n",
      "Diagnosis Prediction:\n",
      "  → Predicted: BENIGN\n",
      "  → Confidence: 100.00%\n",
      "  → Actual:    BENIGN\n"
     ]
    },
    {
     "name": "stdin",
     "output_type": "stream",
     "text": [
      "\n",
      "Run another case? (y/n):  \n"
     ]
    },
    {
     "name": "stdout",
     "output_type": "stream",
     "text": [
      "\n",
      "Session log saved to: diagnosis_log.csv\n"
     ]
    }
   ],
   "source": [
    "import csv\n",
    "\n",
    "def sample_and_diagnose_with_logging(model, X, y, feature_names, log_path=\"diagnosis_log.csv\"):\n",
    "    log_fields = [\n",
    "        'index',\n",
    "        'predicted_label',\n",
    "        'actual_label',\n",
    "        'confidence',\n",
    "    ] + [feature_names[i] for i in feature_indices]\n",
    "\n",
    "    log_data = []\n",
    "\n",
    "    while True:\n",
    "        index = random.randint(0, len(X) - 1)\n",
    "        sample = X[index]\n",
    "        label = y[index]\n",
    "\n",
    "        print(\"\\n--- New Patient Case ---\")\n",
    "        for i in feature_indices:\n",
    "            print(f\"{feature_names[i]}: {sample[i]:.2f}\")\n",
    "        \n",
    "        confirm = input(\"\\nRun diagnosis? (y/n): \").strip().lower()\n",
    "        if confirm != 'y':\n",
    "            cont = input(\"Skip to next case? (y/n): \").strip().lower()\n",
    "            if cont != 'y':\n",
    "                print(\"\\nSession ended.\")\n",
    "                break\n",
    "            else:\n",
    "                continue\n",
    "\n",
    "        pred = model.predict(sample.reshape(1, -1))[0]\n",
    "        prob = model.predict_proba(sample.reshape(1, -1))[0]\n",
    "        confidence = np.max(prob)\n",
    "\n",
    "        label_pred = cancer.target_names[pred]\n",
    "        label_actual = cancer.target_names[label]\n",
    "\n",
    "        print(\"\\nDiagnosis Prediction:\")\n",
    "        print(f\"  → Predicted: {label_pred.upper()}\")\n",
    "        print(f\"  → Confidence: {confidence:.2%}\")\n",
    "        print(f\"  → Actual:    {label_actual.upper()}\")\n",
    "\n",
    "        # Log entry\n",
    "        entry = {\n",
    "            'index': index,\n",
    "            'predicted_label': label_pred,\n",
    "            'actual_label': label_actual,\n",
    "            'confidence': round(confidence, 4)\n",
    "        }\n",
    "        for i in feature_indices:\n",
    "            entry[feature_names[i]] = round(sample[i], 3)\n",
    "        log_data.append(entry)\n",
    "\n",
    "        cont = input(\"\\nRun another case? (y/n): \").strip().lower()\n",
    "        if cont != 'y':\n",
    "            break\n",
    "\n",
    "    # Save log at end\n",
    "    with open(log_path, mode='w', newline='') as f:\n",
    "        writer = csv.DictWriter(f, fieldnames=log_fields)\n",
    "        writer.writeheader()\n",
    "        writer.writerows(log_data)\n",
    "\n",
    "    print(f\"\\nSession log saved to: {log_path}\")\n",
    "\n",
    "# Run with logging enabled\n",
    "sample_and_diagnose_with_logging(clf, cancer.data, cancer.target, cancer.feature_names)"
   ]
  },
  {
   "cell_type": "markdown",
   "id": "bf19a8cd-9cde-4ff7-b4a4-5d81402702fa",
   "metadata": {},
   "source": [
    "### Notes:\n",
    "\n",
    "* Log is written to `diagnosis_log.csv` in the current directory\n",
    "* Columns: index, predicted/actual, confidence, plus select features\n",
    "* Can later be loaded into pandas for analysis or model debugging"
   ]
  },
  {
   "cell_type": "code",
   "execution_count": null,
   "id": "c279b33c-b1bb-4656-ba2b-3f6ec5674425",
   "metadata": {},
   "outputs": [],
   "source": []
  },
  {
   "cell_type": "code",
   "execution_count": null,
   "id": "230d585e-1ab5-444d-bf5c-4a0eabd537b8",
   "metadata": {},
   "outputs": [],
   "source": []
  },
  {
   "cell_type": "code",
   "execution_count": null,
   "id": "cabb855d-67cd-4441-8dc9-ccbbf6682e14",
   "metadata": {},
   "outputs": [],
   "source": []
  },
  {
   "cell_type": "code",
   "execution_count": null,
   "id": "ed490ad3-f31b-4670-90e4-2c1788e002b5",
   "metadata": {},
   "outputs": [],
   "source": []
  },
  {
   "cell_type": "code",
   "execution_count": null,
   "id": "7201c417-01a3-41f0-8af9-57feea85611a",
   "metadata": {},
   "outputs": [],
   "source": []
  },
  {
   "cell_type": "code",
   "execution_count": null,
   "id": "f576e43e-2357-424e-a86c-8903651cbd8c",
   "metadata": {},
   "outputs": [],
   "source": []
  },
  {
   "cell_type": "code",
   "execution_count": null,
   "id": "b3ac2d0d-0946-470e-93ae-829b942c2c5f",
   "metadata": {},
   "outputs": [],
   "source": []
  },
  {
   "cell_type": "code",
   "execution_count": null,
   "id": "ac35aa8a-b2db-44f2-bf0c-d6ff454a677c",
   "metadata": {},
   "outputs": [],
   "source": []
  },
  {
   "cell_type": "code",
   "execution_count": null,
   "id": "98c4694e-8595-4cb7-aa02-21e7110232eb",
   "metadata": {},
   "outputs": [],
   "source": []
  },
  {
   "cell_type": "code",
   "execution_count": null,
   "id": "7ad3c431-8a7c-40a2-acf1-c9820f355b2a",
   "metadata": {},
   "outputs": [],
   "source": []
  }
 ],
 "metadata": {
  "kernelspec": {
   "display_name": "Python 3 (ipykernel)",
   "language": "python",
   "name": "python3"
  },
  "language_info": {
   "codemirror_mode": {
    "name": "ipython",
    "version": 3
   },
   "file_extension": ".py",
   "mimetype": "text/x-python",
   "name": "python",
   "nbconvert_exporter": "python",
   "pygments_lexer": "ipython3",
   "version": "3.13.5"
  }
 },
 "nbformat": 4,
 "nbformat_minor": 5
}

{
 "cells": [
  {
   "cell_type": "markdown",
   "id": "bb0b3e61-f5a9-49eb-abbe-6f680d4c06d1",
   "metadata": {},
   "source": [
    "# Project Metadata & Setup\n",
    "\n",
    "---\n",
    "\n",
    "## **Project Title:** **Early Breast Cancer Diagnosis using Machine Learning (Terminal-Based Prototype)**\n",
    "\n",
    "---\n",
    "\n",
    "### **Objective:**\n",
    "\n",
    "Develop a lightweight, terminal-driven diagnostic prototype that predicts breast tumor malignancy using the built-in Breast Cancer Wisconsin dataset.\n",
    "The goal is to simulate how a clinician or technician might use a fast, interpretable tool, without a full GUI or web app.\n",
    "\n",
    "\n",
    "### **Dataset Description:**\n",
    "\n",
    "* **Name:** Breast Cancer Wisconsin (Diagnostic)\n",
    "* **Source:** `sklearn.datasets.load_breast_cancer()`\n",
    "* **Samples:** 569\n",
    "* **Features:** 30 numerical (e.g. radius, texture, symmetry)\n",
    "* **Target:** Binary classification — `malignant (0)` vs. `benign (1)`\n",
    "\n",
    "\n",
    "\n",
    "### **Stakeholders:**\n",
    "\n",
    "| Stakeholder          | Interest / Use Case                                              |\n",
    "| -------------------- | ---------------------------------------------------------------- |\n",
    "| **Clinicians**       | Fast, interpretable predictions without cloud dependency         |\n",
    "| **Researchers**      | Baseline model to compare with deep learning or ensemble methods |\n",
    "| **Medical Startups** | Prototype backend logic for terminal-based tools                 |\n",
    "| **Educators**        | Teaching ML with meaningful, real-world data                     |\n",
    "\n",
    "\n",
    "### **Key Notes for Revision:**\n",
    "\n",
    "* **No GPU required** — uses efficient `RandomForestClassifier`\n",
    "* **Runs locally** in terminal with zero external dataset download\n",
    "* **Emphasis on simplicity**: ASCII feedback, clean input prompts\n",
    "* **Can be modularized later** into API or UI backend\n",
    "* **We’ll skip test/train splitting** for now — prototype phase only\n",
    "\n",
    "\n",
    "### **Environment Requirements:**\n",
    "\n",
    "| Package    | Use                          |\n",
    "| ---------- | ---------------------------- |\n",
    "| `sklearn`  | Dataset + ML model           |\n",
    "| `pandas`   | Tabular data inspection      |\n",
    "| `colorama` | Terminal coloring (optional) |\n",
    "| `numpy`    | Data handling                |\n",
    "\n",
    "---\n",
    "\n",
    "### Install (if not present):\n",
    "\n",
    "```bash\n",
    "pip install pandas scikit-learn colorama\n",
    "```\n",
    "\n",
    "\n",
    "### Deliverables:\n",
    "\n",
    "* Classifier trained on breast cancer dataset\n",
    "* Real-time terminal prediction system\n",
    "* ASCII output or basic feedback UI for predicted diagnosis\n",
    "* Clean, commented code blocks\n",
    "* Professional markdown formatting with revision comments\n"
   ]
  },
  {
   "cell_type": "markdown",
   "id": "2a9f4d29-50b9-466e-b514-5fccb93e2f96",
   "metadata": {},
   "source": [
    "## STEP 1: Load and Explore the Breast Cancer Dataset\n",
    "\n",
    "\n",
    "### **Objective:**\n",
    "\n",
    "* Load the Breast Cancer Wisconsin dataset directly from `sklearn`\n",
    "* Convert to a `pandas.DataFrame` for readability\n",
    "* Summarize the dataset structure and feature information\n",
    "* Confirm class distribution (very important in medical ML)\n",
    "\n",
    "\n",
    "### **Background Insight for Stakeholders:**\n",
    "\n",
    "* The data represent **digitized characteristics of cell nuclei** from fine-needle aspirates of breast masses.\n",
    "* 30 numerical features are calculated from images (e.g., mean radius, standard error of texture, worst smoothness).\n",
    "* The target is **binary**:\n",
    "\n",
    "  * `0 = malignant` (cancerous)\n",
    "  * `1 = benign` (non-cancerous)\n",
    "\n",
    "\n",
    "### **Code Block: Load + Inspect Data**"
   ]
  },
  {
   "cell_type": "code",
   "execution_count": 7,
   "id": "94d69fcb-2a69-46c5-b1a9-21be5d49b9de",
   "metadata": {},
   "outputs": [
    {
     "name": "stdout",
     "output_type": "stream",
     "text": [
      "🧬 Dataset Dimensions: (569, 32)\n",
      "🔢 Number of Features: 30\n",
      "🎯 Target Labels: [np.str_('malignant'), np.str_('benign')]\n",
      "\n",
      "📊 Class Distribution:\n",
      "target_name\n",
      "benign       357\n",
      "malignant    212\n",
      "Name: count, dtype: int64\n"
     ]
    },
    {
     "data": {
      "text/html": [
       "<div>\n",
       "<style scoped>\n",
       "    .dataframe tbody tr th:only-of-type {\n",
       "        vertical-align: middle;\n",
       "    }\n",
       "\n",
       "    .dataframe tbody tr th {\n",
       "        vertical-align: top;\n",
       "    }\n",
       "\n",
       "    .dataframe thead th {\n",
       "        text-align: right;\n",
       "    }\n",
       "</style>\n",
       "<table border=\"1\" class=\"dataframe\">\n",
       "  <thead>\n",
       "    <tr style=\"text-align: right;\">\n",
       "      <th></th>\n",
       "      <th>mean radius</th>\n",
       "      <th>mean texture</th>\n",
       "      <th>mean perimeter</th>\n",
       "      <th>mean area</th>\n",
       "      <th>mean smoothness</th>\n",
       "      <th>mean compactness</th>\n",
       "      <th>mean concavity</th>\n",
       "      <th>mean concave points</th>\n",
       "      <th>mean symmetry</th>\n",
       "      <th>mean fractal dimension</th>\n",
       "      <th>...</th>\n",
       "      <th>worst perimeter</th>\n",
       "      <th>worst area</th>\n",
       "      <th>worst smoothness</th>\n",
       "      <th>worst compactness</th>\n",
       "      <th>worst concavity</th>\n",
       "      <th>worst concave points</th>\n",
       "      <th>worst symmetry</th>\n",
       "      <th>worst fractal dimension</th>\n",
       "      <th>target</th>\n",
       "      <th>target_name</th>\n",
       "    </tr>\n",
       "  </thead>\n",
       "  <tbody>\n",
       "    <tr>\n",
       "      <th>162</th>\n",
       "      <td>19.590</td>\n",
       "      <td>18.15</td>\n",
       "      <td>130.70</td>\n",
       "      <td>1214.0</td>\n",
       "      <td>0.11200</td>\n",
       "      <td>0.16660</td>\n",
       "      <td>0.25080</td>\n",
       "      <td>0.12860</td>\n",
       "      <td>0.2027</td>\n",
       "      <td>0.06082</td>\n",
       "      <td>...</td>\n",
       "      <td>174.90</td>\n",
       "      <td>2232.0</td>\n",
       "      <td>0.14380</td>\n",
       "      <td>0.38460</td>\n",
       "      <td>0.6810</td>\n",
       "      <td>0.22470</td>\n",
       "      <td>0.3643</td>\n",
       "      <td>0.09223</td>\n",
       "      <td>0</td>\n",
       "      <td>malignant</td>\n",
       "    </tr>\n",
       "    <tr>\n",
       "      <th>491</th>\n",
       "      <td>17.850</td>\n",
       "      <td>13.23</td>\n",
       "      <td>114.60</td>\n",
       "      <td>992.1</td>\n",
       "      <td>0.07838</td>\n",
       "      <td>0.06217</td>\n",
       "      <td>0.04445</td>\n",
       "      <td>0.04178</td>\n",
       "      <td>0.1220</td>\n",
       "      <td>0.05243</td>\n",
       "      <td>...</td>\n",
       "      <td>127.10</td>\n",
       "      <td>1210.0</td>\n",
       "      <td>0.09862</td>\n",
       "      <td>0.09976</td>\n",
       "      <td>0.1048</td>\n",
       "      <td>0.08341</td>\n",
       "      <td>0.1783</td>\n",
       "      <td>0.05871</td>\n",
       "      <td>1</td>\n",
       "      <td>benign</td>\n",
       "    </tr>\n",
       "    <tr>\n",
       "      <th>291</th>\n",
       "      <td>14.960</td>\n",
       "      <td>19.10</td>\n",
       "      <td>97.03</td>\n",
       "      <td>687.3</td>\n",
       "      <td>0.08992</td>\n",
       "      <td>0.09823</td>\n",
       "      <td>0.05940</td>\n",
       "      <td>0.04819</td>\n",
       "      <td>0.1879</td>\n",
       "      <td>0.05852</td>\n",
       "      <td>...</td>\n",
       "      <td>109.10</td>\n",
       "      <td>809.8</td>\n",
       "      <td>0.13130</td>\n",
       "      <td>0.30300</td>\n",
       "      <td>0.1804</td>\n",
       "      <td>0.14890</td>\n",
       "      <td>0.2962</td>\n",
       "      <td>0.08472</td>\n",
       "      <td>1</td>\n",
       "      <td>benign</td>\n",
       "    </tr>\n",
       "    <tr>\n",
       "      <th>176</th>\n",
       "      <td>9.904</td>\n",
       "      <td>18.06</td>\n",
       "      <td>64.60</td>\n",
       "      <td>302.4</td>\n",
       "      <td>0.09699</td>\n",
       "      <td>0.12940</td>\n",
       "      <td>0.13070</td>\n",
       "      <td>0.03716</td>\n",
       "      <td>0.1669</td>\n",
       "      <td>0.08116</td>\n",
       "      <td>...</td>\n",
       "      <td>73.07</td>\n",
       "      <td>390.2</td>\n",
       "      <td>0.13010</td>\n",
       "      <td>0.29500</td>\n",
       "      <td>0.3486</td>\n",
       "      <td>0.09910</td>\n",
       "      <td>0.2614</td>\n",
       "      <td>0.11620</td>\n",
       "      <td>1</td>\n",
       "      <td>benign</td>\n",
       "    </tr>\n",
       "    <tr>\n",
       "      <th>91</th>\n",
       "      <td>15.370</td>\n",
       "      <td>22.76</td>\n",
       "      <td>100.20</td>\n",
       "      <td>728.2</td>\n",
       "      <td>0.09200</td>\n",
       "      <td>0.10360</td>\n",
       "      <td>0.11220</td>\n",
       "      <td>0.07483</td>\n",
       "      <td>0.1717</td>\n",
       "      <td>0.06097</td>\n",
       "      <td>...</td>\n",
       "      <td>107.50</td>\n",
       "      <td>830.9</td>\n",
       "      <td>0.12570</td>\n",
       "      <td>0.19970</td>\n",
       "      <td>0.2846</td>\n",
       "      <td>0.14760</td>\n",
       "      <td>0.2556</td>\n",
       "      <td>0.06828</td>\n",
       "      <td>0</td>\n",
       "      <td>malignant</td>\n",
       "    </tr>\n",
       "  </tbody>\n",
       "</table>\n",
       "<p>5 rows × 32 columns</p>\n",
       "</div>"
      ],
      "text/plain": [
       "     mean radius  mean texture  mean perimeter  mean area  mean smoothness  \\\n",
       "162       19.590         18.15          130.70     1214.0          0.11200   \n",
       "491       17.850         13.23          114.60      992.1          0.07838   \n",
       "291       14.960         19.10           97.03      687.3          0.08992   \n",
       "176        9.904         18.06           64.60      302.4          0.09699   \n",
       "91        15.370         22.76          100.20      728.2          0.09200   \n",
       "\n",
       "     mean compactness  mean concavity  mean concave points  mean symmetry  \\\n",
       "162           0.16660         0.25080              0.12860         0.2027   \n",
       "491           0.06217         0.04445              0.04178         0.1220   \n",
       "291           0.09823         0.05940              0.04819         0.1879   \n",
       "176           0.12940         0.13070              0.03716         0.1669   \n",
       "91            0.10360         0.11220              0.07483         0.1717   \n",
       "\n",
       "     mean fractal dimension  ...  worst perimeter  worst area  \\\n",
       "162                 0.06082  ...           174.90      2232.0   \n",
       "491                 0.05243  ...           127.10      1210.0   \n",
       "291                 0.05852  ...           109.10       809.8   \n",
       "176                 0.08116  ...            73.07       390.2   \n",
       "91                  0.06097  ...           107.50       830.9   \n",
       "\n",
       "     worst smoothness  worst compactness  worst concavity  \\\n",
       "162           0.14380            0.38460           0.6810   \n",
       "491           0.09862            0.09976           0.1048   \n",
       "291           0.13130            0.30300           0.1804   \n",
       "176           0.13010            0.29500           0.3486   \n",
       "91            0.12570            0.19970           0.2846   \n",
       "\n",
       "     worst concave points  worst symmetry  worst fractal dimension  target  \\\n",
       "162               0.22470          0.3643                  0.09223       0   \n",
       "491               0.08341          0.1783                  0.05871       1   \n",
       "291               0.14890          0.2962                  0.08472       1   \n",
       "176               0.09910          0.2614                  0.11620       1   \n",
       "91                0.14760          0.2556                  0.06828       0   \n",
       "\n",
       "     target_name  \n",
       "162    malignant  \n",
       "491       benign  \n",
       "291       benign  \n",
       "176       benign  \n",
       "91     malignant  \n",
       "\n",
       "[5 rows x 32 columns]"
      ]
     },
     "execution_count": 7,
     "metadata": {},
     "output_type": "execute_result"
    }
   ],
   "source": [
    "# STEP 1: Load & Inspect Breast Cancer Dataset\n",
    "from sklearn.datasets import load_breast_cancer\n",
    "import pandas as pd\n",
    "\n",
    "# Load dataset from sklearn\n",
    "cancer = load_breast_cancer()\n",
    "\n",
    "# Convert to pandas DataFrame\n",
    "df = pd.DataFrame(data=cancer.data, columns=cancer.feature_names)\n",
    "\n",
    "# Add target labels\n",
    "df['target'] = cancer.target\n",
    "df['target_name'] = df['target'].map(lambda x: cancer.target_names[x])\n",
    "\n",
    "# Summary outputs\n",
    "print(\"🧬 Dataset Dimensions:\", df.shape)\n",
    "print(\"🔢 Number of Features:\", len(cancer.feature_names))\n",
    "print(\"🎯 Target Labels:\", list(cancer.target_names))\n",
    "print(\"\\n📊 Class Distribution:\")\n",
    "print(df['target_name'].value_counts())\n",
    "\n",
    "# Preview sample records\n",
    "df.sample(5)"
   ]
  },
  {
   "cell_type": "markdown",
   "id": "32b0647d-43b1-4389-9913-ea6eacaa4228",
   "metadata": {},
   "source": [
    "\n",
    "### Notes for Revision:\n",
    "\n",
    "* **Shape:** `(569, 32)` → 569 observations, 30 features + 1 label + 1 label name\n",
    "* **Target imbalance:** More benign than malignant cases → might require stratified validation later\n",
    "* `target_name` column added for human-readability\n",
    "###  Example Output (Typical):"
   ]
  },
  {
   "cell_type": "markdown",
   "id": "c47d510c-6f60-4741-a20b-c5b15f620d38",
   "metadata": {},
   "source": [
    "🧬 Dataset Dimensions: (569, 32)\n",
    "🔢 Number of Features: 30\n",
    "🎯 Target Labels: ['malignant', 'benign']\n",
    "\n",
    "📊 Class Distribution:\n",
    "benign       357\n",
    "malignant    212\n",
    "Name: target_name, dtype: int64\n"
   ]
  },
  {
   "cell_type": "markdown",
   "id": "8bb65380-c65e-4a78-ada3-e4fb9f5af346",
   "metadata": {},
   "source": [
    "## STEP 2: Train the Classifier\n",
    "\n",
    "\n",
    "### Objective:\n",
    "\n",
    "Train a **Random Forest Classifier** on the full dataset.\n",
    "This prototype focuses on prediction responsiveness — no test/train split or cross-validation yet.\n",
    "\n",
    "\n",
    "### Model Choice Justification:\n",
    "\n",
    "| Model                    | Reason for Selection                                                         |\n",
    "| ------------------------ | ---------------------------------------------------------------------------- |\n",
    "| `RandomForestClassifier` | Fast to train, robust to outliers, good with non-linear feature interactions |\n",
    "| `n_estimators=100`       | Balances accuracy and inference speed                                        |\n",
    "| `random_state=42`        | Ensures repeatable results                                                   |\n",
    "\n",
    "This setup fits our terminal-based use case — quick predictions and stable accuracy.\n",
    "\n",
    "\n",
    "### Code Block: Train the Model\n",
    "\n",
    "\n"
   ]
  },
  {
   "cell_type": "code",
   "execution_count": 8,
   "id": "2e31341d-7509-4a42-9ea8-79ff060471d5",
   "metadata": {},
   "outputs": [
    {
     "name": "stdout",
     "output_type": "stream",
     "text": [
      "Training Accuracy: 100.00%\n"
     ]
    }
   ],
   "source": [
    "# STEP 2: Train Random Forest Classifier\n",
    "from sklearn.ensemble import RandomForestClassifier\n",
    "\n",
    "# Prepare feature matrix X and target vector y\n",
    "X = cancer.data\n",
    "y = cancer.target\n",
    "\n",
    "# Initialize classifier\n",
    "clf = RandomForestClassifier(n_estimators=100, random_state=42)\n",
    "\n",
    "# Train on entire dataset (prototype phase)\n",
    "clf.fit(X, y)\n",
    "\n",
    "# Evaluate on training set\n",
    "train_accuracy = clf.score(X, y)\n",
    "print(f\"Training Accuracy: {train_accuracy:.2%}\")"
   ]
  },
  {
   "cell_type": "markdown",
   "id": "5ad68d9f-80e9-49b4-b6e8-e15e6e0ee90d",
   "metadata": {},
   "source": [
    "### Notes for Revision:\n",
    "\n",
    "* `clf.fit(X, y)` trains on all 569 samples\n",
    "* Accuracy may look very high (\\~99%) — acceptable for a prototype, but must validate later with real test data\n",
    "* For a full deployment, we’d use `train_test_split()` and stratified validation folds"
   ]
  },
  {
   "cell_type": "markdown",
   "id": "3e57027a-19ae-4861-a962-524be68d3ebd",
   "metadata": {},
   "source": [
    "## New Scenario:\n",
    "\n",
    "### **“Quick Diagnosis Assistant”**\n",
    "\n",
    "Instead of inputting all 30 features manually, we:\n",
    "\n",
    "* **Randomly sample a case** from the dataset\n",
    "* Display its features to simulate \"incoming patient data\"\n",
    "* Ask the user:\n",
    "  *\"Would you like to diagnose this case?\"*\n",
    "* Then we **predict and show results** using the trained model\n",
    "\n",
    "No typing 30 numbers. Still real. Still sharp. Still interactive.\n",
    "\n",
    "\n",
    "## STEP 3 (Revised): Sample and Diagnose a Case\n",
    "\n",
    "\n",
    "### Objective:\n",
    "\n",
    "* Randomly pull a sample case from the dataset\n",
    "* Show the 5–7 most meaningful features (not all 30)\n",
    "* Let the model predict and show the result\n",
    "* Give option to keep looping or exit"
   ]
  },
  {
   "cell_type": "code",
   "execution_count": 9,
   "id": "2c24c2b1-13ee-4aee-8805-01f09367f3b6",
   "metadata": {},
   "outputs": [
    {
     "name": "stdout",
     "output_type": "stream",
     "text": [
      "\n",
      "--- New Patient Case ---\n",
      "mean radius: 19.53\n",
      "mean texture: 32.47\n",
      "mean perimeter: 128.00\n",
      "mean area: 1223.00\n",
      "worst concavity: 0.40\n",
      "worst symmetry: 0.27\n"
     ]
    },
    {
     "name": "stdin",
     "output_type": "stream",
     "text": [
      "\n",
      "Run diagnosis? (y/n):  y\n"
     ]
    },
    {
     "name": "stdout",
     "output_type": "stream",
     "text": [
      "\n",
      "Diagnosis Prediction:\n",
      "  → Predicted: MALIGNANT\n",
      "  → Actual:    MALIGNANT\n"
     ]
    },
    {
     "name": "stdin",
     "output_type": "stream",
     "text": [
      "\n",
      "Run another case? (y/n):  y\n"
     ]
    },
    {
     "name": "stdout",
     "output_type": "stream",
     "text": [
      "\n",
      "--- New Patient Case ---\n",
      "mean radius: 15.73\n",
      "mean texture: 11.28\n",
      "mean perimeter: 102.80\n",
      "mean area: 747.20\n",
      "worst concavity: 0.40\n",
      "worst symmetry: 0.26\n"
     ]
    },
    {
     "name": "stdin",
     "output_type": "stream",
     "text": [
      "\n",
      "Run diagnosis? (y/n):  y\n"
     ]
    },
    {
     "name": "stdout",
     "output_type": "stream",
     "text": [
      "\n",
      "Diagnosis Prediction:\n",
      "  → Predicted: BENIGN\n",
      "  → Actual:    BENIGN\n"
     ]
    },
    {
     "name": "stdin",
     "output_type": "stream",
     "text": [
      "\n",
      "Run another case? (y/n):  y\n"
     ]
    },
    {
     "name": "stdout",
     "output_type": "stream",
     "text": [
      "\n",
      "--- New Patient Case ---\n",
      "mean radius: 13.59\n",
      "mean texture: 21.84\n",
      "mean perimeter: 87.16\n",
      "mean area: 561.00\n",
      "worst concavity: 0.15\n",
      "worst symmetry: 0.24\n"
     ]
    },
    {
     "name": "stdin",
     "output_type": "stream",
     "text": [
      "\n",
      "Run diagnosis? (y/n):  y\n"
     ]
    },
    {
     "name": "stdout",
     "output_type": "stream",
     "text": [
      "\n",
      "Diagnosis Prediction:\n",
      "  → Predicted: BENIGN\n",
      "  → Actual:    BENIGN\n"
     ]
    },
    {
     "name": "stdin",
     "output_type": "stream",
     "text": [
      "\n",
      "Run another case? (y/n):  y\n"
     ]
    },
    {
     "name": "stdout",
     "output_type": "stream",
     "text": [
      "\n",
      "--- New Patient Case ---\n",
      "mean radius: 12.30\n",
      "mean texture: 19.02\n",
      "mean perimeter: 77.88\n",
      "mean area: 464.40\n",
      "worst concavity: 0.04\n",
      "worst symmetry: 0.26\n"
     ]
    },
    {
     "name": "stdin",
     "output_type": "stream",
     "text": [
      "\n",
      "Run diagnosis? (y/n):  y\n"
     ]
    },
    {
     "name": "stdout",
     "output_type": "stream",
     "text": [
      "\n",
      "Diagnosis Prediction:\n",
      "  → Predicted: BENIGN\n",
      "  → Actual:    BENIGN\n"
     ]
    },
    {
     "name": "stdin",
     "output_type": "stream",
     "text": [
      "\n",
      "Run another case? (y/n):  y\n"
     ]
    },
    {
     "name": "stdout",
     "output_type": "stream",
     "text": [
      "\n",
      "--- New Patient Case ---\n",
      "mean radius: 11.94\n",
      "mean texture: 18.24\n",
      "mean perimeter: 75.71\n",
      "mean area: 437.60\n",
      "worst concavity: 0.09\n",
      "worst symmetry: 0.28\n"
     ]
    },
    {
     "name": "stdin",
     "output_type": "stream",
     "text": [
      "\n",
      "Run diagnosis? (y/n):  y\n"
     ]
    },
    {
     "name": "stdout",
     "output_type": "stream",
     "text": [
      "\n",
      "Diagnosis Prediction:\n",
      "  → Predicted: BENIGN\n",
      "  → Actual:    BENIGN\n"
     ]
    },
    {
     "name": "stdin",
     "output_type": "stream",
     "text": [
      "\n",
      "Run another case? (y/n):  y\n"
     ]
    },
    {
     "name": "stdout",
     "output_type": "stream",
     "text": [
      "\n",
      "--- New Patient Case ---\n",
      "mean radius: 15.78\n",
      "mean texture: 17.89\n",
      "mean perimeter: 103.60\n",
      "mean area: 781.00\n",
      "worst concavity: 0.40\n",
      "worst symmetry: 0.38\n"
     ]
    },
    {
     "name": "stdin",
     "output_type": "stream",
     "text": [
      "\n",
      "Run diagnosis? (y/n):  y\n"
     ]
    },
    {
     "name": "stdout",
     "output_type": "stream",
     "text": [
      "\n",
      "Diagnosis Prediction:\n",
      "  → Predicted: MALIGNANT\n",
      "  → Actual:    MALIGNANT\n"
     ]
    },
    {
     "name": "stdin",
     "output_type": "stream",
     "text": [
      "\n",
      "Run another case? (y/n):  \n"
     ]
    },
    {
     "name": "stdout",
     "output_type": "stream",
     "text": [
      "\n",
      "Session ended.\n"
     ]
    }
   ],
   "source": [
    "# STEP 3 (REVISED): Simulated Patient Diagnosis\n",
    "import numpy as np\n",
    "import random\n",
    "\n",
    "# Define which features to show (select top 6 visually intuitive ones)\n",
    "selected_features = [\n",
    "    'mean radius',\n",
    "    'mean texture',\n",
    "    'mean perimeter',\n",
    "    'mean area',\n",
    "    'worst concavity',\n",
    "    'worst symmetry'\n",
    "]\n",
    "\n",
    "# Get feature indices\n",
    "feature_indices = [list(cancer.feature_names).index(f) for f in selected_features]\n",
    "\n",
    "def sample_and_diagnose(model, X, y, feature_names, n=1):\n",
    "    while True:\n",
    "        index = random.randint(0, len(X) - 1)\n",
    "        sample = X[index]\n",
    "        label = y[index]\n",
    "        \n",
    "        print(\"\\n--- New Patient Case ---\")\n",
    "        for i in feature_indices:\n",
    "            print(f\"{feature_names[i]}: {sample[i]:.2f}\")\n",
    "        \n",
    "        confirm = input(\"\\nRun diagnosis? (y/n): \").strip().lower()\n",
    "        if confirm != 'y':\n",
    "            cont = input(\"Skip to next case? (y/n): \").strip().lower()\n",
    "            if cont != 'y':\n",
    "                print(\"\\nSession ended.\")\n",
    "                break\n",
    "            else:\n",
    "                continue\n",
    "\n",
    "        # Predict\n",
    "        pred = model.predict(sample.reshape(1, -1))[0]\n",
    "        label_actual = cancer.target_names[label]\n",
    "        label_pred = cancer.target_names[pred]\n",
    "        \n",
    "        print(\"\\nDiagnosis Prediction:\")\n",
    "        print(f\"  → Predicted: {label_pred.upper()}\")\n",
    "        print(f\"  → Actual:    {label_actual.upper()}\")\n",
    "        \n",
    "        cont = input(\"\\nRun another case? (y/n): \").strip().lower()\n",
    "        if cont != 'y':\n",
    "            print(\"\\nSession ended.\")\n",
    "            break\n",
    "\n",
    "# Run the simulation\n",
    "sample_and_diagnose(clf, cancer.data, cancer.target, cancer.feature_names)"
   ]
  },
  {
   "cell_type": "markdown",
   "id": "a826cd02-c8bf-42ca-8c1a-467c677dc280",
   "metadata": {},
   "source": [
    "### Code Block: Simulated Case Prediction\n",
    "\n",
    "### Notes:\n",
    "\n",
    "* You review a patient case like a **doctor with a clipboard**\n",
    "* Model handles backend prediction\n",
    "* You decide if it should run or skip\n",
    "* Actual label shown for reference, but this could be hidden in real use"
   ]
  },
  {
   "cell_type": "markdown",
   "id": "afa18dc1-691c-4559-91ff-0a91b004397a",
   "metadata": {},
   "source": [
    "## STEP 4: Add Confidence Scores and Model Certainty\n",
    "\n",
    "### Objective:\n",
    "\n",
    "Display **how confident** the model is in its prediction, not just the class label.\n",
    "\n",
    "This is critical in any clinical or decision-support context — we don’t just want a binary label, we want to know **how certain** the model is.\n",
    "\n",
    "\n",
    "### Tools Used:\n",
    "\n",
    "| Function              | Purpose                              |\n",
    "| --------------------- | ------------------------------------ |\n",
    "| `predict_proba(X)`    | Returns array of class probabilities |\n",
    "| `np.max()`            | Extracts top confidence score        |\n",
    "| `colorama` (optional) | Highlights high/low confidence       |\n",
    "\n",
    "\n",
    "### Code Block: Display Confidence"
   ]
  },
  {
   "cell_type": "code",
   "execution_count": 10,
   "id": "5207672a-e441-472a-814e-079daa3f0afd",
   "metadata": {},
   "outputs": [
    {
     "name": "stdout",
     "output_type": "stream",
     "text": [
      "\n",
      "--- New Patient Case ---\n",
      "mean radius: 13.17\n",
      "mean texture: 18.22\n",
      "mean perimeter: 84.28\n",
      "mean area: 537.30\n",
      "worst concavity: 0.19\n",
      "worst symmetry: 0.22\n"
     ]
    },
    {
     "name": "stdin",
     "output_type": "stream",
     "text": [
      "\n",
      "Run diagnosis? (y/n):  y\n"
     ]
    },
    {
     "name": "stdout",
     "output_type": "stream",
     "text": [
      "\n",
      "Diagnosis Prediction:\n",
      "  → Predicted: BENIGN\n",
      "  → Confidence: \u001b[32m100.00%\u001b[0m\n",
      "  → Actual:    BENIGN\n"
     ]
    },
    {
     "name": "stdin",
     "output_type": "stream",
     "text": [
      "\n",
      "Run another case? (y/n):  y\n"
     ]
    },
    {
     "name": "stdout",
     "output_type": "stream",
     "text": [
      "\n",
      "--- New Patient Case ---\n",
      "mean radius: 11.63\n",
      "mean texture: 29.29\n",
      "mean perimeter: 74.87\n",
      "mean area: 415.10\n",
      "worst concavity: 0.29\n",
      "worst symmetry: 0.29\n"
     ]
    },
    {
     "name": "stdin",
     "output_type": "stream",
     "text": [
      "\n",
      "Run diagnosis? (y/n):  y\n"
     ]
    },
    {
     "name": "stdout",
     "output_type": "stream",
     "text": [
      "\n",
      "Diagnosis Prediction:\n",
      "  → Predicted: BENIGN\n",
      "  → Confidence: \u001b[32m98.00%\u001b[0m\n",
      "  → Actual:    BENIGN\n"
     ]
    },
    {
     "name": "stdin",
     "output_type": "stream",
     "text": [
      "\n",
      "Run another case? (y/n):  y\n"
     ]
    },
    {
     "name": "stdout",
     "output_type": "stream",
     "text": [
      "\n",
      "--- New Patient Case ---\n",
      "mean radius: 11.13\n",
      "mean texture: 16.62\n",
      "mean perimeter: 70.47\n",
      "mean area: 381.10\n",
      "worst concavity: 0.05\n",
      "worst symmetry: 0.24\n"
     ]
    },
    {
     "name": "stdin",
     "output_type": "stream",
     "text": [
      "\n",
      "Run diagnosis? (y/n):  y\n"
     ]
    },
    {
     "name": "stdout",
     "output_type": "stream",
     "text": [
      "\n",
      "Diagnosis Prediction:\n",
      "  → Predicted: BENIGN\n",
      "  → Confidence: \u001b[32m100.00%\u001b[0m\n",
      "  → Actual:    BENIGN\n"
     ]
    },
    {
     "name": "stdin",
     "output_type": "stream",
     "text": [
      "\n",
      "Run another case? (y/n):  y\n"
     ]
    },
    {
     "name": "stdout",
     "output_type": "stream",
     "text": [
      "\n",
      "--- New Patient Case ---\n",
      "mean radius: 12.45\n",
      "mean texture: 16.41\n",
      "mean perimeter: 82.85\n",
      "mean area: 476.70\n",
      "worst concavity: 0.49\n",
      "worst symmetry: 0.32\n"
     ]
    },
    {
     "name": "stdin",
     "output_type": "stream",
     "text": [
      "\n",
      "Run diagnosis? (y/n):  y\n"
     ]
    },
    {
     "name": "stdout",
     "output_type": "stream",
     "text": [
      "\n",
      "Diagnosis Prediction:\n",
      "  → Predicted: BENIGN\n",
      "  → Confidence: \u001b[32m92.00%\u001b[0m\n",
      "  → Actual:    BENIGN\n"
     ]
    },
    {
     "name": "stdin",
     "output_type": "stream",
     "text": [
      "\n",
      "Run another case? (y/n):  y\n"
     ]
    },
    {
     "name": "stdout",
     "output_type": "stream",
     "text": [
      "\n",
      "--- New Patient Case ---\n",
      "mean radius: 12.70\n",
      "mean texture: 12.17\n",
      "mean perimeter: 80.88\n",
      "mean area: 495.00\n",
      "worst concavity: 0.09\n",
      "worst symmetry: 0.28\n"
     ]
    },
    {
     "name": "stdin",
     "output_type": "stream",
     "text": [
      "\n",
      "Run diagnosis? (y/n):  y\n"
     ]
    },
    {
     "name": "stdout",
     "output_type": "stream",
     "text": [
      "\n",
      "Diagnosis Prediction:\n",
      "  → Predicted: BENIGN\n",
      "  → Confidence: \u001b[32m100.00%\u001b[0m\n",
      "  → Actual:    BENIGN\n"
     ]
    },
    {
     "name": "stdin",
     "output_type": "stream",
     "text": [
      "\n",
      "Run another case? (y/n):  y\n"
     ]
    },
    {
     "name": "stdout",
     "output_type": "stream",
     "text": [
      "\n",
      "--- New Patient Case ---\n",
      "mean radius: 11.99\n",
      "mean texture: 24.89\n",
      "mean perimeter: 77.61\n",
      "mean area: 441.30\n",
      "worst concavity: 0.16\n",
      "worst symmetry: 0.26\n"
     ]
    },
    {
     "name": "stdin",
     "output_type": "stream",
     "text": [
      "\n",
      "Run diagnosis? (y/n):  y\n"
     ]
    },
    {
     "name": "stdout",
     "output_type": "stream",
     "text": [
      "\n",
      "Diagnosis Prediction:\n",
      "  → Predicted: BENIGN\n",
      "  → Confidence: \u001b[32m100.00%\u001b[0m\n",
      "  → Actual:    BENIGN\n"
     ]
    },
    {
     "name": "stdin",
     "output_type": "stream",
     "text": [
      "\n",
      "Run another case? (y/n):  y\n"
     ]
    },
    {
     "name": "stdout",
     "output_type": "stream",
     "text": [
      "\n",
      "--- New Patient Case ---\n",
      "mean radius: 17.14\n",
      "mean texture: 16.40\n",
      "mean perimeter: 116.00\n",
      "mean area: 912.70\n",
      "worst concavity: 0.39\n",
      "worst symmetry: 0.41\n"
     ]
    },
    {
     "name": "stdin",
     "output_type": "stream",
     "text": [
      "\n",
      "Run diagnosis? (y/n):  y\n"
     ]
    },
    {
     "name": "stdout",
     "output_type": "stream",
     "text": [
      "\n",
      "Diagnosis Prediction:\n",
      "  → Predicted: MALIGNANT\n",
      "  → Confidence: \u001b[32m99.00%\u001b[0m\n",
      "  → Actual:    MALIGNANT\n"
     ]
    },
    {
     "name": "stdin",
     "output_type": "stream",
     "text": [
      "\n",
      "Run another case? (y/n):  y\n"
     ]
    },
    {
     "name": "stdout",
     "output_type": "stream",
     "text": [
      "\n",
      "--- New Patient Case ---\n",
      "mean radius: 11.74\n",
      "mean texture: 14.02\n",
      "mean perimeter: 74.24\n",
      "mean area: 427.30\n",
      "worst concavity: 0.07\n",
      "worst symmetry: 0.31\n"
     ]
    },
    {
     "name": "stdin",
     "output_type": "stream",
     "text": [
      "\n",
      "Run diagnosis? (y/n):  y\n"
     ]
    },
    {
     "name": "stdout",
     "output_type": "stream",
     "text": [
      "\n",
      "Diagnosis Prediction:\n",
      "  → Predicted: BENIGN\n",
      "  → Confidence: \u001b[32m96.00%\u001b[0m\n",
      "  → Actual:    BENIGN\n"
     ]
    },
    {
     "name": "stdin",
     "output_type": "stream",
     "text": [
      "\n",
      "Run another case? (y/n):  y\n"
     ]
    },
    {
     "name": "stdout",
     "output_type": "stream",
     "text": [
      "\n",
      "--- New Patient Case ---\n",
      "mean radius: 27.22\n",
      "mean texture: 21.87\n",
      "mean perimeter: 182.10\n",
      "mean area: 2250.00\n",
      "worst concavity: 0.53\n",
      "worst symmetry: 0.29\n"
     ]
    },
    {
     "name": "stdin",
     "output_type": "stream",
     "text": [
      "\n",
      "Run diagnosis? (y/n):  y\n"
     ]
    },
    {
     "name": "stdout",
     "output_type": "stream",
     "text": [
      "\n",
      "Diagnosis Prediction:\n",
      "  → Predicted: MALIGNANT\n",
      "  → Confidence: \u001b[32m100.00%\u001b[0m\n",
      "  → Actual:    MALIGNANT\n"
     ]
    },
    {
     "name": "stdin",
     "output_type": "stream",
     "text": [
      "\n",
      "Run another case? (y/n):  y\n"
     ]
    },
    {
     "name": "stdout",
     "output_type": "stream",
     "text": [
      "\n",
      "--- New Patient Case ---\n",
      "mean radius: 13.64\n",
      "mean texture: 15.60\n",
      "mean perimeter: 87.38\n",
      "mean area: 575.30\n",
      "worst concavity: 0.15\n",
      "worst symmetry: 0.25\n"
     ]
    },
    {
     "name": "stdin",
     "output_type": "stream",
     "text": [
      "\n",
      "Run diagnosis? (y/n):  y\n"
     ]
    },
    {
     "name": "stdout",
     "output_type": "stream",
     "text": [
      "\n",
      "Diagnosis Prediction:\n",
      "  → Predicted: BENIGN\n",
      "  → Confidence: \u001b[32m100.00%\u001b[0m\n",
      "  → Actual:    BENIGN\n"
     ]
    },
    {
     "name": "stdin",
     "output_type": "stream",
     "text": [
      "\n",
      "Run another case? (y/n):  y\n"
     ]
    },
    {
     "name": "stdout",
     "output_type": "stream",
     "text": [
      "\n",
      "--- New Patient Case ---\n",
      "mean radius: 12.67\n",
      "mean texture: 17.30\n",
      "mean perimeter: 81.25\n",
      "mean area: 489.90\n",
      "worst concavity: 0.10\n",
      "worst symmetry: 0.27\n"
     ]
    },
    {
     "name": "stdin",
     "output_type": "stream",
     "text": [
      "\n",
      "Run diagnosis? (y/n):  y\n"
     ]
    },
    {
     "name": "stdout",
     "output_type": "stream",
     "text": [
      "\n",
      "Diagnosis Prediction:\n",
      "  → Predicted: BENIGN\n",
      "  → Confidence: \u001b[32m100.00%\u001b[0m\n",
      "  → Actual:    BENIGN\n"
     ]
    },
    {
     "name": "stdin",
     "output_type": "stream",
     "text": [
      "\n",
      "Run another case? (y/n):  y\n"
     ]
    },
    {
     "name": "stdout",
     "output_type": "stream",
     "text": [
      "\n",
      "--- New Patient Case ---\n",
      "mean radius: 14.44\n",
      "mean texture: 15.18\n",
      "mean perimeter: 93.97\n",
      "mean area: 640.10\n",
      "worst concavity: 0.31\n",
      "worst symmetry: 0.27\n"
     ]
    },
    {
     "name": "stdin",
     "output_type": "stream",
     "text": [
      "\n",
      "Run diagnosis? (y/n):  y\n"
     ]
    },
    {
     "name": "stdout",
     "output_type": "stream",
     "text": [
      "\n",
      "Diagnosis Prediction:\n",
      "  → Predicted: BENIGN\n",
      "  → Confidence: \u001b[31m73.00%\u001b[0m\n",
      "  → Actual:    BENIGN\n"
     ]
    },
    {
     "name": "stdin",
     "output_type": "stream",
     "text": [
      "\n",
      "Run another case? (y/n):  y\n"
     ]
    },
    {
     "name": "stdout",
     "output_type": "stream",
     "text": [
      "\n",
      "--- New Patient Case ---\n",
      "mean radius: 12.95\n",
      "mean texture: 16.02\n",
      "mean perimeter: 83.14\n",
      "mean area: 513.70\n",
      "worst concavity: 0.22\n",
      "worst symmetry: 0.34\n"
     ]
    },
    {
     "name": "stdin",
     "output_type": "stream",
     "text": [
      "\n",
      "Run diagnosis? (y/n):  y\n"
     ]
    },
    {
     "name": "stdout",
     "output_type": "stream",
     "text": [
      "\n",
      "Diagnosis Prediction:\n",
      "  → Predicted: BENIGN\n",
      "  → Confidence: \u001b[32m100.00%\u001b[0m\n",
      "  → Actual:    BENIGN\n"
     ]
    },
    {
     "name": "stdin",
     "output_type": "stream",
     "text": [
      "\n",
      "Run another case? (y/n):  y\n"
     ]
    },
    {
     "name": "stdout",
     "output_type": "stream",
     "text": [
      "\n",
      "--- New Patient Case ---\n",
      "mean radius: 16.46\n",
      "mean texture: 20.11\n",
      "mean perimeter: 109.30\n",
      "mean area: 832.90\n",
      "worst concavity: 0.59\n",
      "worst symmetry: 0.31\n"
     ]
    },
    {
     "name": "stdin",
     "output_type": "stream",
     "text": [
      "\n",
      "Run diagnosis? (y/n):  y\n"
     ]
    },
    {
     "name": "stdout",
     "output_type": "stream",
     "text": [
      "\n",
      "Diagnosis Prediction:\n",
      "  → Predicted: MALIGNANT\n",
      "  → Confidence: \u001b[32m100.00%\u001b[0m\n",
      "  → Actual:    MALIGNANT\n"
     ]
    },
    {
     "name": "stdin",
     "output_type": "stream",
     "text": [
      "\n",
      "Run another case? (y/n):  y\n"
     ]
    },
    {
     "name": "stdout",
     "output_type": "stream",
     "text": [
      "\n",
      "--- New Patient Case ---\n",
      "mean radius: 13.40\n",
      "mean texture: 20.52\n",
      "mean perimeter: 88.64\n",
      "mean area: 556.70\n",
      "worst concavity: 0.51\n",
      "worst symmetry: 0.36\n"
     ]
    },
    {
     "name": "stdin",
     "output_type": "stream",
     "text": [
      "\n",
      "Run diagnosis? (y/n):  y\n"
     ]
    },
    {
     "name": "stdout",
     "output_type": "stream",
     "text": [
      "\n",
      "Diagnosis Prediction:\n",
      "  → Predicted: MALIGNANT\n",
      "  → Confidence: \u001b[32m99.00%\u001b[0m\n",
      "  → Actual:    MALIGNANT\n"
     ]
    },
    {
     "name": "stdin",
     "output_type": "stream",
     "text": [
      "\n",
      "Run another case? (y/n):  y\n"
     ]
    },
    {
     "name": "stdout",
     "output_type": "stream",
     "text": [
      "\n",
      "--- New Patient Case ---\n",
      "mean radius: 15.78\n",
      "mean texture: 22.91\n",
      "mean perimeter: 105.70\n",
      "mean area: 782.60\n",
      "worst concavity: 0.74\n",
      "worst symmetry: 0.33\n"
     ]
    },
    {
     "name": "stdin",
     "output_type": "stream",
     "text": [
      "\n",
      "Run diagnosis? (y/n):  n\n",
      "Skip to next case? (y/n):  n\n"
     ]
    },
    {
     "name": "stdout",
     "output_type": "stream",
     "text": [
      "\n",
      "Session ended.\n"
     ]
    }
   ],
   "source": [
    "from sklearn.metrics import accuracy_score\n",
    "from colorama import Fore, Style\n",
    "\n",
    "def sample_and_diagnose_with_confidence(model, X, y, feature_names, n=1):\n",
    "    while True:\n",
    "        index = random.randint(0, len(X) - 1)\n",
    "        sample = X[index]\n",
    "        label = y[index]\n",
    "        \n",
    "        print(\"\\n--- New Patient Case ---\")\n",
    "        for i in feature_indices:\n",
    "            print(f\"{feature_names[i]}: {sample[i]:.2f}\")\n",
    "        \n",
    "        confirm = input(\"\\nRun diagnosis? (y/n): \").strip().lower()\n",
    "        if confirm != 'y':\n",
    "            cont = input(\"Skip to next case? (y/n): \").strip().lower()\n",
    "            if cont != 'y':\n",
    "                print(\"\\nSession ended.\")\n",
    "                break\n",
    "            else:\n",
    "                continue\n",
    "\n",
    "        # Predict and get probability\n",
    "        pred = model.predict(sample.reshape(1, -1))[0]\n",
    "        prob = model.predict_proba(sample.reshape(1, -1))[0]\n",
    "        confidence = np.max(prob)\n",
    "        \n",
    "        label_actual = cancer.target_names[label]\n",
    "        label_pred = cancer.target_names[pred]\n",
    "\n",
    "        print(\"\\nDiagnosis Prediction:\")\n",
    "        if confidence >= 0.90:\n",
    "            color = Fore.GREEN\n",
    "        elif confidence >= 0.75:\n",
    "            color = Fore.YELLOW\n",
    "        else:\n",
    "            color = Fore.RED\n",
    "\n",
    "        print(f\"  → Predicted: {label_pred.upper()}\")\n",
    "        print(f\"  → Confidence: {color}{confidence:.2%}{Style.RESET_ALL}\")\n",
    "        print(f\"  → Actual:    {label_actual.upper()}\")\n",
    "\n",
    "        cont = input(\"\\nRun another case? (y/n): \").strip().lower()\n",
    "        if cont != 'y':\n",
    "            print(\"\\nSession ended.\")\n",
    "            break\n",
    "\n",
    "# Run enhanced simulation\n",
    "sample_and_diagnose_with_confidence(clf, cancer.data, cancer.target, cancer.feature_names)"
   ]
  },
  {
   "cell_type": "markdown",
   "id": "45317fce-8c51-453a-9503-ba8623439957",
   "metadata": {},
   "source": [
    "### Notes:\n",
    "\n",
    "* Adds `predict_proba()` to show probability\n",
    "* Uses color to **visually flag confidence**:\n",
    "\n",
    "  * Green = strong confidence\n",
    "  * Yellow = moderate\n",
    "  * Red = weak/conflicted\n",
    "* More aligned with how clinicians review uncertainty in diagnostics"
   ]
  },
  {
   "cell_type": "code",
   "execution_count": null,
   "id": "b5c6dd74-7da1-490b-816b-1eb46fdd3298",
   "metadata": {},
   "outputs": [],
   "source": []
  },
  {
   "cell_type": "code",
   "execution_count": null,
   "id": "386add14-4017-43fc-b916-66338623379d",
   "metadata": {},
   "outputs": [],
   "source": []
  },
  {
   "cell_type": "code",
   "execution_count": null,
   "id": "389bd2af-beaa-484a-9d46-91ebb479906c",
   "metadata": {},
   "outputs": [],
   "source": []
  },
  {
   "cell_type": "code",
   "execution_count": null,
   "id": "c279b33c-b1bb-4656-ba2b-3f6ec5674425",
   "metadata": {},
   "outputs": [],
   "source": []
  },
  {
   "cell_type": "code",
   "execution_count": null,
   "id": "230d585e-1ab5-444d-bf5c-4a0eabd537b8",
   "metadata": {},
   "outputs": [],
   "source": []
  },
  {
   "cell_type": "code",
   "execution_count": null,
   "id": "cabb855d-67cd-4441-8dc9-ccbbf6682e14",
   "metadata": {},
   "outputs": [],
   "source": []
  },
  {
   "cell_type": "code",
   "execution_count": null,
   "id": "ed490ad3-f31b-4670-90e4-2c1788e002b5",
   "metadata": {},
   "outputs": [],
   "source": []
  },
  {
   "cell_type": "code",
   "execution_count": null,
   "id": "7201c417-01a3-41f0-8af9-57feea85611a",
   "metadata": {},
   "outputs": [],
   "source": []
  },
  {
   "cell_type": "code",
   "execution_count": null,
   "id": "f576e43e-2357-424e-a86c-8903651cbd8c",
   "metadata": {},
   "outputs": [],
   "source": []
  },
  {
   "cell_type": "code",
   "execution_count": null,
   "id": "b3ac2d0d-0946-470e-93ae-829b942c2c5f",
   "metadata": {},
   "outputs": [],
   "source": []
  },
  {
   "cell_type": "code",
   "execution_count": null,
   "id": "ac35aa8a-b2db-44f2-bf0c-d6ff454a677c",
   "metadata": {},
   "outputs": [],
   "source": []
  },
  {
   "cell_type": "code",
   "execution_count": null,
   "id": "98c4694e-8595-4cb7-aa02-21e7110232eb",
   "metadata": {},
   "outputs": [],
   "source": []
  },
  {
   "cell_type": "code",
   "execution_count": null,
   "id": "7ad3c431-8a7c-40a2-acf1-c9820f355b2a",
   "metadata": {},
   "outputs": [],
   "source": []
  }
 ],
 "metadata": {
  "kernelspec": {
   "display_name": "Python 3 (ipykernel)",
   "language": "python",
   "name": "python3"
  },
  "language_info": {
   "codemirror_mode": {
    "name": "ipython",
    "version": 3
   },
   "file_extension": ".py",
   "mimetype": "text/x-python",
   "name": "python",
   "nbconvert_exporter": "python",
   "pygments_lexer": "ipython3",
   "version": "3.13.5"
  }
 },
 "nbformat": 4,
 "nbformat_minor": 5
}
